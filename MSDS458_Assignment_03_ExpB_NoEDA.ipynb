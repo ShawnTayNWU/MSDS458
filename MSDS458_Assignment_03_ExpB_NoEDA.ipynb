{
  "nbformat": 4,
  "nbformat_minor": 0,
  "metadata": {
    "accelerator": "GPU",
    "colab": {
      "name": "MSDS458_Assignment_03_ExpB_NoEDA.ipynb",
      "provenance": [],
      "collapsed_sections": [],
      "machine_shape": "hm"
    },
    "kernelspec": {
      "display_name": "Python 3",
      "language": "python",
      "name": "python3"
    },
    "language_info": {
      "codemirror_mode": {
        "name": "ipython",
        "version": 3
      },
      "file_extension": ".py",
      "mimetype": "text/x-python",
      "name": "python",
      "nbconvert_exporter": "python",
      "pygments_lexer": "ipython3",
      "version": "3.6.9"
    },
    "toc": {
      "base_numbering": 1,
      "nav_menu": {},
      "number_sections": false,
      "sideBar": true,
      "skip_h1_title": false,
      "title_cell": "Table of Contents",
      "title_sidebar": "Contents",
      "toc_cell": false,
      "toc_position": {},
      "toc_section_display": true,
      "toc_window_display": false
    }
  },
  "cells": [
    {
      "cell_type": "code",
      "metadata": {
        "id": "BdT3-h5rU6qS"
      },
      "source": [
        ""
      ],
      "execution_count": 66,
      "outputs": []
    },
    {
      "cell_type": "markdown",
      "metadata": {
        "id": "Cfh9kVB-rpjo"
      },
      "source": [
        "<img src=\"https://github.com/djp840/MSDS_458_Public/blob/master/images/NorthwesternHeader.png?raw=1\">"
      ]
    },
    {
      "cell_type": "markdown",
      "metadata": {
        "id": "pRAx1f1ir1St"
      },
      "source": [
        "## MSDS458 Research Assignment 3"
      ]
    },
    {
      "cell_type": "markdown",
      "metadata": {
        "id": "jQnyR1_aFk-t"
      },
      "source": [
        "### Analyze AG_NEWS_SUBSET Data <br>\n",
        "\n",
        "AG is a collection of more than 1 million news articles. News articles have been gathered from more than 2000 news sources by ComeToMyHead in more than 1 year of activity. ComeToMyHead is an academic news search engine which has been running since July, 2004. The dataset is provided by the academic comunity for research purposes in data mining (clustering, classification, etc), information retrieval (ranking, search, etc), xml, data compression, data streaming, and any other non-commercial activity.<br> \n",
        "\n",
        "For more information, please refer to the link http://www.di.unipi.it/~gulli/AG_corpus_of_news_articles.html<br> \n",
        "\n",
        "\n",
        "The AG's news topic classification dataset is constructed by choosing 4 largest classes (**World**, **Sports**, **Business**, and **Sci/Tech**) from the original corpus. Each class contains 30,000 training samples and 1,900 testing samples. The total number of training samples is 120,000 and testing 7,600.<br>\n",
        "\n",
        "Homepage: https://arxiv.org/abs/1509.01626<br>\n",
        "\n",
        "Source code: tfds.text.AGNewsSubset\n",
        "\n",
        "Versions:\n",
        "\n",
        "1.0.0 (default): No release notes.\n",
        "Download size: 11.24 MiB\n",
        "\n",
        "Dataset size: 35.79 MiB"
      ]
    },
    {
      "cell_type": "markdown",
      "metadata": {
        "id": "oGBlk-2-NaCn"
      },
      "source": [
        "<div class=\"alert alert-block alert-success\">\n",
        "    <b>More Technical</b>: Throughout the notebook. This types of boxes provide more technical details and extra references about what you are seeing. They contain helpful tips, but you can safely skip them the first time you run through the code.\n",
        "</div>"
      ]
    },
    {
      "cell_type": "markdown",
      "metadata": {
        "id": "t-Jjr3rNr5PR"
      },
      "source": [
        "## Import packages "
      ]
    },
    {
      "cell_type": "code",
      "metadata": {
        "id": "mbrX9qUZvfs1"
      },
      "source": [
        "import datetime\n",
        "from packaging import version\n",
        "from collections import Counter\n",
        "import numpy as np\n",
        "import pandas as pd\n",
        "import time\n",
        "\n",
        "import matplotlib.pyplot as plt\n",
        "import matplotlib as mpl\n",
        "import seaborn as sns\n",
        "\n",
        "from sklearn.metrics import confusion_matrix, classification_report\n",
        "from sklearn.preprocessing import StandardScaler\n",
        "from sklearn.decomposition import PCA\n",
        "from sklearn.manifold import TSNE\n",
        "from sklearn.ensemble import RandomForestClassifier\n",
        "from sklearn.metrics import mean_squared_error as MSE\n",
        "from sklearn.metrics import accuracy_score\n",
        "\n",
        "import tensorflow as tf\n",
        "from tensorflow import keras\n",
        "import tensorflow_datasets as tfds\n",
        "\n",
        "from timeit import default_timer as timer #import a timer\n",
        "from datetime import datetime"
      ],
      "execution_count": 67,
      "outputs": []
    },
    {
      "cell_type": "code",
      "metadata": {
        "id": "Rn-mj2I3yRRJ"
      },
      "source": [
        "#tf.get_logger().setLevel('INFO')"
      ],
      "execution_count": 68,
      "outputs": []
    },
    {
      "cell_type": "code",
      "metadata": {
        "id": "q0H8HuzHrWwN"
      },
      "source": [
        "%matplotlib inline\n",
        "np.set_printoptions(precision=3, suppress=True)"
      ],
      "execution_count": 69,
      "outputs": []
    },
    {
      "cell_type": "markdown",
      "metadata": {
        "id": "iKucNfkrsqrP"
      },
      "source": [
        "### Verify TensorFlow Version and Keras Version"
      ]
    },
    {
      "cell_type": "code",
      "metadata": {
        "colab": {
          "base_uri": "https://localhost:8080/"
        },
        "id": "g_BoGg9JrWzj",
        "outputId": "2b8a08db-7ca8-418a-a698-00ee9ba88a7f"
      },
      "source": [
        "print(\"This notebook requires TensorFlow 2.0 or above\")\n",
        "print(\"TensorFlow version: \", tf.__version__)\n",
        "assert version.parse(tf.__version__).release[0] >=2"
      ],
      "execution_count": 70,
      "outputs": [
        {
          "output_type": "stream",
          "name": "stdout",
          "text": [
            "This notebook requires TensorFlow 2.0 or above\n",
            "TensorFlow version:  2.6.0\n"
          ]
        }
      ]
    },
    {
      "cell_type": "code",
      "metadata": {
        "colab": {
          "base_uri": "https://localhost:8080/"
        },
        "id": "U_bLWHP4rW3b",
        "outputId": "b1214ced-28c8-41db-e84f-33d31b20af7d"
      },
      "source": [
        "print(\"Keras version: \", keras.__version__)"
      ],
      "execution_count": 71,
      "outputs": [
        {
          "output_type": "stream",
          "name": "stdout",
          "text": [
            "Keras version:  2.6.0\n"
          ]
        }
      ]
    },
    {
      "cell_type": "markdown",
      "metadata": {
        "id": "gv2IpLXlRHcK"
      },
      "source": [
        "### Functions For Research Assignment "
      ]
    },
    {
      "cell_type": "code",
      "metadata": {
        "id": "_5frSUHrRHcL"
      },
      "source": [
        "def print_validation_report(test_labels, predictions):\n",
        "    print(\"Classification Report\")\n",
        "    print(classification_report(test_labels, predictions))\n",
        "    print('Accuracy Score: {}'.format(accuracy_score(test_labels, predictions)))\n",
        "    print('Root Mean Square Error: {}'.format(np.sqrt(MSE(test_labels, predictions)))) "
      ],
      "execution_count": 72,
      "outputs": []
    },
    {
      "cell_type": "code",
      "metadata": {
        "id": "u7LaqA0hRHcO"
      },
      "source": [
        "def plot_confusion_matrix(y_true, y_pred):\n",
        "    mtx = confusion_matrix(y_true, y_pred)\n",
        "    fig, ax = plt.subplots(figsize=(8,8))\n",
        "    sns.heatmap(mtx, annot=True, fmt='d', linewidths=.75,  cbar=False, ax=ax,cmap='Blues',linecolor='white')\n",
        "    #  square=True,\n",
        "    plt.ylabel('true label')\n",
        "    plt.xlabel('predicted label')"
      ],
      "execution_count": 73,
      "outputs": []
    },
    {
      "cell_type": "code",
      "metadata": {
        "id": "RcicfaY7RHcQ"
      },
      "source": [
        "def plot_graphs(history, metric):\n",
        "  plt.plot(history.history[metric])\n",
        "  plt.plot(history.history['val_'+metric], '')\n",
        "  plt.xlabel(\"Epochs\")\n",
        "  plt.ylabel(metric)\n",
        "  plt.legend([metric, 'val_'+metric])"
      ],
      "execution_count": 74,
      "outputs": []
    },
    {
      "cell_type": "markdown",
      "metadata": {
        "id": "-mFyXjJmtJ3E"
      },
      "source": [
        "### Mount Google Drive to Colab Environment"
      ]
    },
    {
      "cell_type": "code",
      "metadata": {
        "id": "CXm3H81YrW8-"
      },
      "source": [
        "#from google.colab import drive\n",
        "#drive.mount('/content/gdrive')"
      ],
      "execution_count": 75,
      "outputs": []
    },
    {
      "cell_type": "markdown",
      "metadata": {
        "id": "X6s4xhh5ysp6"
      },
      "source": [
        "###  TensorFlow Datasets Information<br>\n",
        "<div class=\"alert alert-block alert-info\">\n",
        "    <b> ag_news_subset</b><br>\n",
        "    See https://www.tensorflow.org/datasets/catalog/ag_news_subset\n",
        "    </div>"
      ]
    },
    {
      "cell_type": "markdown",
      "metadata": {
        "id": "cL3ewSkAF4yF"
      },
      "source": [
        "Get all the words in the documents (as well as the number of words in each document) by using the encoder to get the indices associated with each token and then translating the indices to tokens. But first we need to get the \"unpadded\" new articles so that we can get their length."
      ]
    },
    {
      "cell_type": "code",
      "metadata": {
        "colab": {
          "base_uri": "https://localhost:8080/"
        },
        "id": "VNj2HSxNtTNS",
        "scrolled": false,
        "outputId": "7cf16b95-ee63-4f7c-fc75-e8ce6e12bb4a"
      },
      "source": [
        "#register  ag_news_subset so that tfds.load doesn't generate a checksum (mismatch) error\n",
        "!python -m tensorflow_datasets.scripts.download_and_prepare --register_checksums --datasets=ag_news_subset\n",
        "\n",
        "# https://www.tensorflow.org/datasets/splits\n",
        "# The full `train` and `test` splits, interleaved together.\n",
        "ri = tfds.core.ReadInstruction('train') + tfds.core.ReadInstruction('test')\n",
        "dataset_all, info = tfds.load('ag_news_subset', with_info=True,  split=ri, as_supervised=True)"
      ],
      "execution_count": 76,
      "outputs": [
        {
          "output_type": "stream",
          "name": "stdout",
          "text": [
            "2021-11-05 14:20:24.157391: I tensorflow/stream_executor/cuda/cuda_gpu_executor.cc:937] successful NUMA node read from SysFS had negative value (-1), but there must be at least one NUMA node, so returning NUMA node zero\n",
            "2021-11-05 14:20:24.165652: I tensorflow/stream_executor/cuda/cuda_gpu_executor.cc:937] successful NUMA node read from SysFS had negative value (-1), but there must be at least one NUMA node, so returning NUMA node zero\n",
            "2021-11-05 14:20:24.166257: I tensorflow/stream_executor/cuda/cuda_gpu_executor.cc:937] successful NUMA node read from SysFS had negative value (-1), but there must be at least one NUMA node, so returning NUMA node zero\n",
            "I1105 14:20:24.166911 140488906356608 download_and_prepare.py:200] Running download_and_prepare for dataset(s):\n",
            "ag_news_subset\n",
            "I1105 14:20:24.167621 140488906356608 dataset_info.py:361] Load dataset info from /root/tensorflow_datasets/ag_news_subset/1.0.0\n",
            "I1105 14:20:24.168826 140488906356608 download_and_prepare.py:138] download_and_prepare for dataset ag_news_subset/1.0.0...\n",
            "I1105 14:20:24.169026 140488906356608 dataset_builder.py:299] Reusing dataset ag_news_subset (/root/tensorflow_datasets/ag_news_subset/1.0.0)\n",
            "\u001b[1mname: \"ag_news_subset\"\n",
            "description: \"AG is a collection of more than 1 million news articles.\\nNews articles have been gathered from more than 2000  news sources by ComeToMyHead in more than 1 year of activity.\\nComeToMyHead is an academic news search engine which has been running since July, 2004.\\nThe dataset is provided by the academic comunity for research purposes in data mining (clustering, classification, etc),\\ninformation retrieval (ranking, search, etc), xml, data compression, data streaming,\\nand any other non-commercial activity.\\nFor more information, please refer to the link http://www.di.unipi.it/~gulli/AG_corpus_of_news_articles.html .\\n\\nThe AG\\'s news topic classification dataset is constructed by Xiang Zhang (xiang.zhang@nyu.edu) from the dataset above.\\nIt is used as a text classification benchmark in the following paper:\\nXiang Zhang, Junbo Zhao, Yann LeCun. Character-level Convolutional Networks for Text Classification. Advances in Neural Information Processing Systems 28 (NIPS 2015).\\n\\nThe AG\\'s news topic classification dataset is constructed by choosing 4 largest classes from the original corpus.\\nEach class contains 30,000 training samples and 1,900 testing samples.\\nThe total number of training samples is 120,000 and testing 7,600.\"\n",
            "citation: \"@misc{zhang2015characterlevel,\\n    title={Character-level Convolutional Networks for Text Classification},\\n    author={Xiang Zhang and Junbo Zhao and Yann LeCun},\\n    year={2015},\\n    eprint={1509.01626},\\n    archivePrefix={arXiv},\\n    primaryClass={cs.LG}\\n}\"\n",
            "location {\n",
            "  urls: \"https://arxiv.org/abs/1509.01626\"\n",
            "}\n",
            "splits {\n",
            "  name: \"test\"\n",
            "  shard_lengths: 7600\n",
            "  num_bytes: 2226751\n",
            "}\n",
            "splits {\n",
            "  name: \"train\"\n",
            "  shard_lengths: 120000\n",
            "  num_bytes: 35301386\n",
            "}\n",
            "supervised_keys {\n",
            "  input: \"description\"\n",
            "  output: \"label\"\n",
            "}\n",
            "version: \"1.0.0\"\n",
            "download_size: 11784327\n",
            "\u001b[0m\n"
          ]
        }
      ]
    },
    {
      "cell_type": "markdown",
      "metadata": {
        "id": "Bzs2FWbQIf5m"
      },
      "source": [
        "###  Exploratory Analysis AG News Subset"
      ]
    },
    {
      "cell_type": "markdown",
      "metadata": {
        "id": "m7514-j4I4B-"
      },
      "source": [
        "**Get information about the ag_news_subset dataset. We combined the training and test data for a total of 127,600 news articles.**"
      ]
    },
    {
      "cell_type": "code",
      "metadata": {
        "colab": {
          "base_uri": "https://localhost:8080/"
        },
        "id": "eJNcnZbRtTQ2",
        "outputId": "88501580-010c-46ae-cdba-c04970a39f10"
      },
      "source": [
        "print(info)"
      ],
      "execution_count": 77,
      "outputs": [
        {
          "output_type": "stream",
          "name": "stdout",
          "text": [
            "tfds.core.DatasetInfo(\n",
            "    name='ag_news_subset',\n",
            "    version=1.0.0,\n",
            "    description='AG is a collection of more than 1 million news articles.\n",
            "News articles have been gathered from more than 2000  news sources by ComeToMyHead in more than 1 year of activity.\n",
            "ComeToMyHead is an academic news search engine which has been running since July, 2004.\n",
            "The dataset is provided by the academic comunity for research purposes in data mining (clustering, classification, etc),\n",
            "information retrieval (ranking, search, etc), xml, data compression, data streaming,\n",
            "and any other non-commercial activity.\n",
            "For more information, please refer to the link http://www.di.unipi.it/~gulli/AG_corpus_of_news_articles.html .\n",
            "\n",
            "The AG's news topic classification dataset is constructed by Xiang Zhang (xiang.zhang@nyu.edu) from the dataset above.\n",
            "It is used as a text classification benchmark in the following paper:\n",
            "Xiang Zhang, Junbo Zhao, Yann LeCun. Character-level Convolutional Networks for Text Classification. Advances in Neural Information Processing Systems 28 (NIPS 2015).\n",
            "\n",
            "The AG's news topic classification dataset is constructed by choosing 4 largest classes from the original corpus.\n",
            "Each class contains 30,000 training samples and 1,900 testing samples.\n",
            "The total number of training samples is 120,000 and testing 7,600.',\n",
            "    homepage='https://arxiv.org/abs/1509.01626',\n",
            "    features=FeaturesDict({\n",
            "        'description': Text(shape=(), dtype=tf.string),\n",
            "        'label': ClassLabel(shape=(), dtype=tf.int64, num_classes=4),\n",
            "        'title': Text(shape=(), dtype=tf.string),\n",
            "    }),\n",
            "    total_num_examples=127600,\n",
            "    splits={\n",
            "        'test': 7600,\n",
            "        'train': 120000,\n",
            "    },\n",
            "    supervised_keys=('description', 'label'),\n",
            "    citation=\"\"\"@misc{zhang2015characterlevel,\n",
            "        title={Character-level Convolutional Networks for Text Classification},\n",
            "        author={Xiang Zhang and Junbo Zhao and Yann LeCun},\n",
            "        year={2015},\n",
            "        eprint={1509.01626},\n",
            "        archivePrefix={arXiv},\n",
            "        primaryClass={cs.LG}\n",
            "    }\"\"\",\n",
            "    redistribution_info=,\n",
            ")\n",
            "\n"
          ]
        }
      ]
    },
    {
      "cell_type": "code",
      "metadata": {
        "colab": {
          "base_uri": "https://localhost:8080/",
          "height": 235
        },
        "id": "w6GaSzMRqrIR",
        "outputId": "271f0dbe-bcb7-4d84-b12a-693e0b137879"
      },
      "source": [
        "tfds.as_dataframe(dataset_all.take(10),info)"
      ],
      "execution_count": 78,
      "outputs": [
        {
          "output_type": "execute_result",
          "data": {
            "text/html": [
              "<style  type=\"text/css\" >\n",
              "</style><table id=\"T_846abc6c_3e43_11ec_9367_0242ac1c0002\" ><thead>    <tr>        <th class=\"blank level0\" ></th>        <th class=\"col_heading level0 col0\" >description</th>        <th class=\"col_heading level0 col1\" >label</th>    </tr></thead><tbody>\n",
              "                <tr>\n",
              "                        <th id=\"T_846abc6c_3e43_11ec_9367_0242ac1c0002level0_row0\" class=\"row_heading level0 row0\" >0</th>\n",
              "                        <td id=\"T_846abc6c_3e43_11ec_9367_0242ac1c0002row0_col0\" class=\"data row0 col0\" >AMD #39;s new dual-core Opteron chip is designed mainly for corporate computing applications, including databases, Web services, and financial transactions.</td>\n",
              "                        <td id=\"T_846abc6c_3e43_11ec_9367_0242ac1c0002row0_col1\" class=\"data row0 col1\" >3 (Sci/Tech)</td>\n",
              "            </tr>\n",
              "            <tr>\n",
              "                        <th id=\"T_846abc6c_3e43_11ec_9367_0242ac1c0002level0_row1\" class=\"row_heading level0 row1\" >1</th>\n",
              "                        <td id=\"T_846abc6c_3e43_11ec_9367_0242ac1c0002row1_col0\" class=\"data row1 col0\" >Reuters - Major League Baseball\\Monday announced a decision on the appeal filed by Chicago Cubs\\pitcher Kerry Wood regarding a suspension stemming from an\\incident earlier this season.</td>\n",
              "                        <td id=\"T_846abc6c_3e43_11ec_9367_0242ac1c0002row1_col1\" class=\"data row1 col1\" >1 (Sports)</td>\n",
              "            </tr>\n",
              "            <tr>\n",
              "                        <th id=\"T_846abc6c_3e43_11ec_9367_0242ac1c0002level0_row2\" class=\"row_heading level0 row2\" >2</th>\n",
              "                        <td id=\"T_846abc6c_3e43_11ec_9367_0242ac1c0002row2_col0\" class=\"data row2 col0\" >President Bush #39;s quot;revenue-neutral quot; tax reform needs losers to balance its winners, and people claiming the federal deduction for state and local taxes may be in administration planners #39; sights, news reports say.</td>\n",
              "                        <td id=\"T_846abc6c_3e43_11ec_9367_0242ac1c0002row2_col1\" class=\"data row2 col1\" >2 (Business)</td>\n",
              "            </tr>\n",
              "            <tr>\n",
              "                        <th id=\"T_846abc6c_3e43_11ec_9367_0242ac1c0002level0_row3\" class=\"row_heading level0 row3\" >3</th>\n",
              "                        <td id=\"T_846abc6c_3e43_11ec_9367_0242ac1c0002row3_col0\" class=\"data row3 col0\" >Britain will run out of leading scientists unless science education is improved, says Professor Colin Pillinger.</td>\n",
              "                        <td id=\"T_846abc6c_3e43_11ec_9367_0242ac1c0002row3_col1\" class=\"data row3 col1\" >3 (Sci/Tech)</td>\n",
              "            </tr>\n",
              "            <tr>\n",
              "                        <th id=\"T_846abc6c_3e43_11ec_9367_0242ac1c0002level0_row4\" class=\"row_heading level0 row4\" >4</th>\n",
              "                        <td id=\"T_846abc6c_3e43_11ec_9367_0242ac1c0002row4_col0\" class=\"data row4 col0\" >London, England (Sports Network) - England midfielder Steven Gerrard injured his groin late in Thursday #39;s training session, but is hopeful he will be ready for Saturday #39;s World Cup qualifier against Austria.</td>\n",
              "                        <td id=\"T_846abc6c_3e43_11ec_9367_0242ac1c0002row4_col1\" class=\"data row4 col1\" >1 (Sports)</td>\n",
              "            </tr>\n",
              "            <tr>\n",
              "                        <th id=\"T_846abc6c_3e43_11ec_9367_0242ac1c0002level0_row5\" class=\"row_heading level0 row5\" >5</th>\n",
              "                        <td id=\"T_846abc6c_3e43_11ec_9367_0242ac1c0002row5_col0\" class=\"data row5 col0\" >TOKYO - Sony Corp. is banking on the \\$3 billion deal to acquire Hollywood studio Metro-Goldwyn-Mayer Inc...</td>\n",
              "                        <td id=\"T_846abc6c_3e43_11ec_9367_0242ac1c0002row5_col1\" class=\"data row5 col1\" >0 (World)</td>\n",
              "            </tr>\n",
              "            <tr>\n",
              "                        <th id=\"T_846abc6c_3e43_11ec_9367_0242ac1c0002level0_row6\" class=\"row_heading level0 row6\" >6</th>\n",
              "                        <td id=\"T_846abc6c_3e43_11ec_9367_0242ac1c0002row6_col0\" class=\"data row6 col0\" >Giant pandas may well prefer bamboo to laptops, but wireless technology is helping researchers in China in their efforts to protect the engandered animals living in the remote Wolong Nature Reserve.</td>\n",
              "                        <td id=\"T_846abc6c_3e43_11ec_9367_0242ac1c0002row6_col1\" class=\"data row6 col1\" >3 (Sci/Tech)</td>\n",
              "            </tr>\n",
              "            <tr>\n",
              "                        <th id=\"T_846abc6c_3e43_11ec_9367_0242ac1c0002level0_row7\" class=\"row_heading level0 row7\" >7</th>\n",
              "                        <td id=\"T_846abc6c_3e43_11ec_9367_0242ac1c0002row7_col0\" class=\"data row7 col0\" >VILNIUS, Lithuania - Lithuania #39;s main parties formed an alliance to try to keep a Russian-born tycoon and his populist promises out of the government in Sunday #39;s second round of parliamentary elections in this Baltic country.</td>\n",
              "                        <td id=\"T_846abc6c_3e43_11ec_9367_0242ac1c0002row7_col1\" class=\"data row7 col1\" >0 (World)</td>\n",
              "            </tr>\n",
              "            <tr>\n",
              "                        <th id=\"T_846abc6c_3e43_11ec_9367_0242ac1c0002level0_row8\" class=\"row_heading level0 row8\" >8</th>\n",
              "                        <td id=\"T_846abc6c_3e43_11ec_9367_0242ac1c0002row8_col0\" class=\"data row8 col0\" >Witnesses in the trial of a US soldier charged with abusing prisoners at Abu Ghraib have told the court that the CIA sometimes directed abuse and orders were received from military command to toughen interrogations.</td>\n",
              "                        <td id=\"T_846abc6c_3e43_11ec_9367_0242ac1c0002row8_col1\" class=\"data row8 col1\" >0 (World)</td>\n",
              "            </tr>\n",
              "            <tr>\n",
              "                        <th id=\"T_846abc6c_3e43_11ec_9367_0242ac1c0002level0_row9\" class=\"row_heading level0 row9\" >9</th>\n",
              "                        <td id=\"T_846abc6c_3e43_11ec_9367_0242ac1c0002row9_col0\" class=\"data row9 col0\" >Dan Olsen of Ponte Vedra Beach, Fla., shot a 7-under 65 Thursday to take a one-shot lead after two rounds of the PGA Tour qualifying tournament.</td>\n",
              "                        <td id=\"T_846abc6c_3e43_11ec_9367_0242ac1c0002row9_col1\" class=\"data row9 col1\" >1 (Sports)</td>\n",
              "            </tr>\n",
              "    </tbody></table>"
            ],
            "text/plain": [
              "                                         description  label\n",
              "0  b'AMD #39;s new dual-core Opteron chip is desi...      3\n",
              "1  b'Reuters - Major League Baseball\\\\Monday anno...      1\n",
              "2  b'President Bush #39;s  quot;revenue-neutral q...      2\n",
              "3  b'Britain will run out of leading scientists u...      3\n",
              "4  b'London, England (Sports Network) - England m...      1\n",
              "5  b'TOKYO - Sony Corp. is banking on the \\\\$3 bi...      0\n",
              "6  b'Giant pandas may well prefer bamboo to lapto...      3\n",
              "7  b'VILNIUS, Lithuania - Lithuania #39;s main pa...      0\n",
              "8  b'Witnesses in the trial of a US soldier charg...      0\n",
              "9  b'Dan Olsen of Ponte Vedra Beach, Fla., shot a...      1"
            ]
          },
          "metadata": {},
          "execution_count": 78
        }
      ]
    },
    {
      "cell_type": "markdown",
      "metadata": {
        "id": "RoG_cOcMMKgC"
      },
      "source": [
        "### Review Labels (Categories) "
      ]
    },
    {
      "cell_type": "code",
      "metadata": {
        "colab": {
          "base_uri": "https://localhost:8080/"
        },
        "id": "4uBCsL_8tTUU",
        "outputId": "ab2bffd2-9b6b-4fb8-c901-580d9342a455"
      },
      "source": [
        "print(f'There are {info.features[\"label\"].num_classes} classes in the dataset.')\n",
        "print(f'The class names are {info.features[\"label\"].names}')"
      ],
      "execution_count": 79,
      "outputs": [
        {
          "output_type": "stream",
          "name": "stdout",
          "text": [
            "There are 4 classes in the dataset.\n",
            "The class names are ['World', 'Sports', 'Business', 'Sci/Tech']\n"
          ]
        }
      ]
    },
    {
      "cell_type": "code",
      "metadata": {
        "colab": {
          "base_uri": "https://localhost:8080/"
        },
        "id": "fRbULmnCtTXo",
        "outputId": "902836e6-9628-465c-a41e-7840ebb4d08d"
      },
      "source": [
        "# classes dictionary\n",
        "categories =dict(enumerate(info.features[\"label\"].names))\n",
        "categories"
      ],
      "execution_count": 80,
      "outputs": [
        {
          "output_type": "execute_result",
          "data": {
            "text/plain": [
              "{0: 'World', 1: 'Sports', 2: 'Business', 3: 'Sci/Tech'}"
            ]
          },
          "metadata": {},
          "execution_count": 80
        }
      ]
    },
    {
      "cell_type": "markdown",
      "metadata": {
        "id": "xXQzudk9MmOs"
      },
      "source": [
        "The 127,600 news articles are evenly distributed among the 4 categories"
      ]
    },
    {
      "cell_type": "code",
      "metadata": {
        "colab": {
          "base_uri": "https://localhost:8080/"
        },
        "id": "PRtOaULstTbJ",
        "outputId": "002bf57a-011b-4c26-946e-956ca37218b7"
      },
      "source": [
        "train_categories = [categories[label] for label in dataset_all.map(lambda text, label: label).as_numpy_iterator()]\n",
        "Counter(train_categories).most_common()"
      ],
      "execution_count": 81,
      "outputs": [
        {
          "output_type": "execute_result",
          "data": {
            "text/plain": [
              "[('Sci/Tech', 31900), ('Sports', 31900), ('Business', 31900), ('World', 31900)]"
            ]
          },
          "metadata": {},
          "execution_count": 81
        }
      ]
    },
    {
      "cell_type": "markdown",
      "metadata": {
        "id": "aEPOPb63RNjv"
      },
      "source": [
        "### Preprocessing Data Create Input Pipeline"
      ]
    },
    {
      "cell_type": "code",
      "metadata": {
        "colab": {
          "base_uri": "https://localhost:8080/"
        },
        "id": "0_tU6cH0ncl0",
        "outputId": "6d7816ee-8506-4b8f-db84-776d73d188d8"
      },
      "source": [
        "# register  ag_news_subset so that tfds.load doesn't generate a checksum (mismatch) error\n",
        "!python -m tensorflow_datasets.scripts.download_and_prepare --register_checksums --datasets=ag_news_subset\n",
        "\n",
        "# Example Approaches to Split Data Set\n",
        "# dataset, info = tfds.load('ag_news_subset', with_info=True,  split=['train[:]','test[:1000]', 'test[1000:]'],\n",
        "dataset, info = tfds.load('ag_news_subset', with_info=True,  split=['train[:95%]','train[95%:]', 'test[:]'],\n",
        "# dataset, info = tfds.load('ag_news_subset', with_info=True,  split=['train[:114000]','train[114000:]', 'test[:]'],\n",
        "                          as_supervised=True)\n",
        "train_dataset, validation_dataset, test_dataset = dataset\n",
        "# train_dataset, test_dataset = dataset['train'],dataset['test']"
      ],
      "execution_count": 82,
      "outputs": [
        {
          "output_type": "stream",
          "name": "stdout",
          "text": [
            "2021-11-05 14:20:43.210626: I tensorflow/stream_executor/cuda/cuda_gpu_executor.cc:937] successful NUMA node read from SysFS had negative value (-1), but there must be at least one NUMA node, so returning NUMA node zero\n",
            "2021-11-05 14:20:43.218456: I tensorflow/stream_executor/cuda/cuda_gpu_executor.cc:937] successful NUMA node read from SysFS had negative value (-1), but there must be at least one NUMA node, so returning NUMA node zero\n",
            "2021-11-05 14:20:43.219090: I tensorflow/stream_executor/cuda/cuda_gpu_executor.cc:937] successful NUMA node read from SysFS had negative value (-1), but there must be at least one NUMA node, so returning NUMA node zero\n",
            "I1105 14:20:43.219810 140012651964288 download_and_prepare.py:200] Running download_and_prepare for dataset(s):\n",
            "ag_news_subset\n",
            "I1105 14:20:43.220597 140012651964288 dataset_info.py:361] Load dataset info from /root/tensorflow_datasets/ag_news_subset/1.0.0\n",
            "I1105 14:20:43.221756 140012651964288 download_and_prepare.py:138] download_and_prepare for dataset ag_news_subset/1.0.0...\n",
            "I1105 14:20:43.221978 140012651964288 dataset_builder.py:299] Reusing dataset ag_news_subset (/root/tensorflow_datasets/ag_news_subset/1.0.0)\n",
            "\u001b[1mname: \"ag_news_subset\"\n",
            "description: \"AG is a collection of more than 1 million news articles.\\nNews articles have been gathered from more than 2000  news sources by ComeToMyHead in more than 1 year of activity.\\nComeToMyHead is an academic news search engine which has been running since July, 2004.\\nThe dataset is provided by the academic comunity for research purposes in data mining (clustering, classification, etc),\\ninformation retrieval (ranking, search, etc), xml, data compression, data streaming,\\nand any other non-commercial activity.\\nFor more information, please refer to the link http://www.di.unipi.it/~gulli/AG_corpus_of_news_articles.html .\\n\\nThe AG\\'s news topic classification dataset is constructed by Xiang Zhang (xiang.zhang@nyu.edu) from the dataset above.\\nIt is used as a text classification benchmark in the following paper:\\nXiang Zhang, Junbo Zhao, Yann LeCun. Character-level Convolutional Networks for Text Classification. Advances in Neural Information Processing Systems 28 (NIPS 2015).\\n\\nThe AG\\'s news topic classification dataset is constructed by choosing 4 largest classes from the original corpus.\\nEach class contains 30,000 training samples and 1,900 testing samples.\\nThe total number of training samples is 120,000 and testing 7,600.\"\n",
            "citation: \"@misc{zhang2015characterlevel,\\n    title={Character-level Convolutional Networks for Text Classification},\\n    author={Xiang Zhang and Junbo Zhao and Yann LeCun},\\n    year={2015},\\n    eprint={1509.01626},\\n    archivePrefix={arXiv},\\n    primaryClass={cs.LG}\\n}\"\n",
            "location {\n",
            "  urls: \"https://arxiv.org/abs/1509.01626\"\n",
            "}\n",
            "splits {\n",
            "  name: \"test\"\n",
            "  shard_lengths: 7600\n",
            "  num_bytes: 2226751\n",
            "}\n",
            "splits {\n",
            "  name: \"train\"\n",
            "  shard_lengths: 120000\n",
            "  num_bytes: 35301386\n",
            "}\n",
            "supervised_keys {\n",
            "  input: \"description\"\n",
            "  output: \"label\"\n",
            "}\n",
            "version: \"1.0.0\"\n",
            "download_size: 11784327\n",
            "\u001b[0m\n"
          ]
        }
      ]
    },
    {
      "cell_type": "code",
      "metadata": {
        "id": "bRc-UUujdLD6"
      },
      "source": [
        "####  Dataset Splits (Training, Test, Validation)\n",
        "#### .8934 Training, .0470 Test, .0596 Validation"
      ],
      "execution_count": 83,
      "outputs": []
    },
    {
      "cell_type": "code",
      "metadata": {
        "colab": {
          "base_uri": "https://localhost:8080/"
        },
        "id": "3TXXMh7Hdr47",
        "outputId": "216cfacb-e317-47de-d733-bb0aea210b8f"
      },
      "source": [
        "len(train_dataset),len(validation_dataset),len(test_dataset) \n",
        "# len(train_dataset),len(test_dataset) "
      ],
      "execution_count": 84,
      "outputs": [
        {
          "output_type": "execute_result",
          "data": {
            "text/plain": [
              "(114000, 6000, 7600)"
            ]
          },
          "metadata": {},
          "execution_count": 84
        }
      ]
    },
    {
      "cell_type": "markdown",
      "metadata": {
        "id": "e3ISb8oinPnR"
      },
      "source": [
        "### Review Distribution of Categorical Labels for the 114000 training data (news articles)"
      ]
    },
    {
      "cell_type": "code",
      "metadata": {
        "colab": {
          "base_uri": "https://localhost:8080/"
        },
        "id": "Itjr5Erroxv9",
        "outputId": "eda8764e-56c9-4a2f-d6ef-54453436a17b"
      },
      "source": [
        "from collections import Counter\n",
        "train_categories = [categories[label] for label in train_dataset.map(lambda text, label: label).as_numpy_iterator()]\n",
        "Counter(train_categories).most_common()"
      ],
      "execution_count": 85,
      "outputs": [
        {
          "output_type": "execute_result",
          "data": {
            "text/plain": [
              "[('Business', 28531), ('Sports', 28495), ('World', 28491), ('Sci/Tech', 28483)]"
            ]
          },
          "metadata": {},
          "execution_count": 85
        }
      ]
    },
    {
      "cell_type": "markdown",
      "metadata": {
        "id": "nWA4c2ir7g6p"
      },
      "source": [
        "Review Example with Interger Label(text, label pairs):"
      ]
    },
    {
      "cell_type": "markdown",
      "metadata": {
        "id": "icCNaXSirCnm"
      },
      "source": [
        "Review Example with Interger Label Encoded Classification(text, label pairs):"
      ]
    },
    {
      "cell_type": "code",
      "metadata": {
        "colab": {
          "base_uri": "https://localhost:8080/"
        },
        "id": "g469sP9PYbQT",
        "outputId": "98e41677-c6f9-4118-ee36-2b91db0aeedc"
      },
      "source": [
        "for example, label in train_dataset.take(1):\n",
        "  print('text: ', example.numpy())\n",
        "  print('class: ', categories[label.numpy()])"
      ],
      "execution_count": 86,
      "outputs": [
        {
          "output_type": "stream",
          "name": "stdout",
          "text": [
            "text:  b'AMD #39;s new dual-core Opteron chip is designed mainly for corporate computing applications, including databases, Web services, and financial transactions.'\n",
            "class:  Sci/Tech\n"
          ]
        }
      ]
    },
    {
      "cell_type": "markdown",
      "metadata": {
        "id": "z2qVJzcEluH_"
      },
      "source": [
        "#### Preprocessing Shuffle Data for Training and Create Batches of `(text, label)` pairs:"
      ]
    },
    {
      "cell_type": "code",
      "metadata": {
        "id": "dDsCaZCDYZgm"
      },
      "source": [
        "BUFFER_SIZE = 10000\n",
        "BATCH_SIZE = 64"
      ],
      "execution_count": 87,
      "outputs": []
    },
    {
      "cell_type": "code",
      "metadata": {
        "id": "VznrltNOnUc5"
      },
      "source": [
        "train_dataset = train_dataset.shuffle(BUFFER_SIZE).batch(BATCH_SIZE).prefetch(tf.data.experimental.AUTOTUNE)\n",
        "validation_dataset = validation_dataset.shuffle(BUFFER_SIZE).batch(BATCH_SIZE).prefetch(tf.data.experimental.AUTOTUNE)\n",
        "test_dataset = test_dataset.batch(BATCH_SIZE).prefetch(tf.data.experimental.AUTOTUNE)"
      ],
      "execution_count": 88,
      "outputs": []
    },
    {
      "cell_type": "code",
      "metadata": {
        "colab": {
          "base_uri": "https://localhost:8080/"
        },
        "id": "jqkvdcFv41wC",
        "outputId": "919a52bc-5b9e-41cc-ad0b-618cbafc56df"
      },
      "source": [
        "for example, label in train_dataset.take(2):\n",
        "  print('texts: ', example.numpy()[:3])\n",
        "  print()\n",
        "  print('labels: ', label.numpy()[:3])"
      ],
      "execution_count": 89,
      "outputs": [
        {
          "output_type": "stream",
          "name": "stdout",
          "text": [
            "texts:  [b\"AP - Assets of the nation's retail money market mutual funds fell by  #36;1.17 billion in the latest week to  #36;849.98 trillion, the Investment Company Institute said Thursday.\"\n",
            " b\"&lt;p&gt;\\\\&lt;/p&gt;&lt;p&gt;   LONDON (Reuters) - Oil scaled a new high above \\\\$55 a barrel\\\\Monday as a threat by Norwegian ship owners to halt production\\\\from the world's third biggest exporter stoked fears of a\\\\winter supply crunch.&lt;/p&gt;\"\n",
            " b'The foreign ministers of Britain and Germany issued a joint warning to Iran on Tuesday to address international worries about its nuclear program, serving notice that Tehran must take action immediately.']\n",
            "\n",
            "labels:  [2 2 0]\n",
            "texts:  [b'KNOXVILLE, Tenn. -- Jason Campbell threw for 252 yards and two touchdowns, and No. 8 Auburn proved itself as a national title contender by overwhelming No.'\n",
            " b' SINGAPORE (Reuters) - Oil prices stayed close to \\\\$49 a  barrel on Thursday, supported by a forecast for an early cold  snap in the United States that could put a strain on a thin  supply cushion of winter heating fuel.'\n",
            " b\"AP - Curt Schilling and the pitchers are clicking. Little Mark Bellhorn and the hitters are delivering. Manager Terry Francona is making all the right moves. And despite a defense that can't quite seem to catch the ball, the Boston Red Sox are halfway to capturing something that's slipped just out of reach since 1918  #151; the World Series trophy.\"]\n",
            "\n",
            "labels:  [1 2 1]\n"
          ]
        }
      ]
    },
    {
      "cell_type": "code",
      "metadata": {
        "colab": {
          "base_uri": "https://localhost:8080/"
        },
        "id": "HQ_8Srl7Yi2Y",
        "outputId": "408a0a07-3ff0-45f3-fca9-483d4085c254"
      },
      "source": [
        "for example, label in train_dataset.take(2):\n",
        "  print('texts: ', example.numpy()[:3])\n",
        "  print()\n",
        "  print('labels: ', [categories[n] for n in label.numpy()[:3]])\n",
        "  print()"
      ],
      "execution_count": 90,
      "outputs": [
        {
          "output_type": "stream",
          "name": "stdout",
          "text": [
            "texts:  [b\"KANSAS CITY, Mo. - Interstate Bakeries Corp., the nation's largest wholesaler baker whose products include Twinkies and Wonder Bread, filed for Chapter 11 bankruptcy protection early Wednesday...\"\n",
            " b\"AFP - Britain's Prince William went fox hunting, six weeks before the controversial centuries-old bloodsport is to be banned forever, a spokeswoman said.\"\n",
            " b\" NEW YORK (Reuters) - World number one Roger Federer faces a  stern test in the first round of the U.S. Open after being  pitted against Spaniard Albert Costa in Wednesday's draw.\"]\n",
            "\n",
            "labels:  ['World', 'World', 'Sports']\n",
            "\n",
            "texts:  [b\"AP - During the dot-com boom, people who didn't want to miss out on the Web and e-mail craze but didn't want to buy a real computer could get WebTV, which delivered the Internet through the warm, friendly glow of their TV sets.\"\n",
            " b'Brazilian tennis player Ricardo Mello has upset top seed Vince Spadea to win the hard court event in Delray Beach, Florida. Mello made his first appearance in an ATP final a memorable one, defeating the American 7-6 (7/2), 6-3.'\n",
            " b'HOUSTON - Jurors still have work to do after convicting several former Wall Street bankers and a former Enron Corp. finance executive Wednesday of conspiring to push through a sham deal.']\n",
            "\n",
            "labels:  ['Sci/Tech', 'Sports', 'Business']\n",
            "\n"
          ]
        }
      ]
    },
    {
      "cell_type": "markdown",
      "metadata": {
        "id": "s5eWCo88voPY"
      },
      "source": [
        "## Create the Text Encoder"
      ]
    },
    {
      "cell_type": "markdown",
      "metadata": {
        "id": "TFevcItw15P_"
      },
      "source": [
        "The raw text loaded by `tfds` needs to be processed before it can be used in a model. The simplest way to process text for training is using the `experimental.preprocessing.TextVectorization` layer. This layer has many capabilities, but this tutorial sticks to the default behavior."
      ]
    },
    {
      "cell_type": "markdown",
      "metadata": {
        "id": "UalGMKAzyRRf"
      },
      "source": [
        "Create the layer, and pass the dataset's text to the layer's `.adapt` method:\n",
        "The processing of each sample contains the following steps:\n",
        "\n",
        "    standardize each sample (usually lowercasing + punctuation stripping)\n",
        "    split each sample into substrings (usually words)\n",
        "    recombine substrings into tokens (usually ngrams)\n",
        "    index tokens (associate a unique int value with each token)\n",
        "    transform each sample using this index, either into a vector of ints or a dense float vector.\n"
      ]
    },
    {
      "cell_type": "markdown",
      "metadata": {
        "id": "BLaLcPcXsY95"
      },
      "source": [
        "The `.adapt` method sets the layer's vocabulary. Here are the first 20 tokens. After the padding and unknown tokens they're sorted by frequency: "
      ]
    },
    {
      "cell_type": "code",
      "metadata": {
        "id": "uC25Lu1Yvuqy"
      },
      "source": [
        "VOCAB_SIZE=1000\n",
        "encoder = tf.keras.layers.experimental.preprocessing.TextVectorization(\n",
        "    max_tokens=VOCAB_SIZE)\n",
        "encoder.adapt(train_dataset.map(lambda text, label: text))"
      ],
      "execution_count": 91,
      "outputs": []
    },
    {
      "cell_type": "code",
      "metadata": {
        "colab": {
          "base_uri": "https://localhost:8080/"
        },
        "id": "s5tP4VcSkTvY",
        "outputId": "52b5a029-a71d-409a-8fd5-e5c6cb7e8ada"
      },
      "source": [
        "vocab = np.array(encoder.get_vocabulary())\n",
        "len(vocab)"
      ],
      "execution_count": 92,
      "outputs": [
        {
          "output_type": "execute_result",
          "data": {
            "text/plain": [
              "1000"
            ]
          },
          "metadata": {},
          "execution_count": 92
        }
      ]
    },
    {
      "cell_type": "code",
      "metadata": {
        "colab": {
          "base_uri": "https://localhost:8080/"
        },
        "id": "tBoyjjWg0Ac9",
        "outputId": "442294f1-ea84-43dc-d4f6-8580f95492bf"
      },
      "source": [
        "vocab = np.array(encoder.get_vocabulary())\n",
        "vocab[:20]"
      ],
      "execution_count": 93,
      "outputs": [
        {
          "output_type": "execute_result",
          "data": {
            "text/plain": [
              "array(['', '[UNK]', 'the', 'a', 'to', 'of', 'in', 'and', 'on', 'for',\n",
              "       'that', '39s', 'with', 'its', 'as', 'at', 'is', 'said', 'by', 'it'],\n",
              "      dtype='<U14')"
            ]
          },
          "metadata": {},
          "execution_count": 93
        }
      ]
    },
    {
      "cell_type": "markdown",
      "metadata": {
        "id": "-rPfbSyoruu3"
      },
      "source": [
        "Here are the 20 least frequent words."
      ]
    },
    {
      "cell_type": "code",
      "metadata": {
        "colab": {
          "base_uri": "https://localhost:8080/"
        },
        "id": "O6tWoBiwrzyX",
        "outputId": "96b186c9-2a14-4efc-b8f0-33b9c9c11afd"
      },
      "source": [
        "vocab[-20:]"
      ],
      "execution_count": 94,
      "outputs": [
        {
          "output_type": "execute_result",
          "data": {
            "text/plain": [
              "array(['black', 'turn', 'build', 'countrys', 'advanced', 'whose',\n",
              "       'crisis', 'create', '23', 'sources', 'body', 'militant', 'hope',\n",
              "       'event', 'started', 'ready', 'jones', 'lawsuit', 'focus',\n",
              "       'singapore'], dtype='<U14')"
            ]
          },
          "metadata": {},
          "execution_count": 94
        }
      ]
    },
    {
      "cell_type": "markdown",
      "metadata": {
        "id": "mjId5pua3jHQ"
      },
      "source": [
        "Once the vocabulary is set, the layer can encode text into indices. The tensors of indices are 0-padded to the longest sequence in the batch (unless you set a fixed `output_sequence_length`):<br>\n",
        "Default Batch Size = 32"
      ]
    },
    {
      "cell_type": "code",
      "metadata": {
        "colab": {
          "base_uri": "https://localhost:8080/"
        },
        "id": "RGc7C9WiwRWs",
        "outputId": "4a1175d9-2938-4a04-df9d-ee694ac33ed7"
      },
      "source": [
        "encoded_example = encoder(example)[:3].numpy()\n",
        "encoded_example"
      ],
      "execution_count": 95,
      "outputs": [
        {
          "output_type": "execute_result",
          "data": {
            "text/plain": [
              "array([[ 35, 162,   2,   1,   1,  80,  59,   1, 934,   4,   1,  65,   8,\n",
              "          2, 233,   7, 555,   1,  37,   1, 934,   4, 349,   3, 638, 145,\n",
              "         82, 249,   1,  75,   1,   2, 104, 209,   2,   1,   1,   1,   5,\n",
              "         32, 870,   1,   0,   0,   0,   0,   0,   0,   0,   0,   0,   0,\n",
              "          0,   0,   0,   0,   0,   0,   0,   0,   0],\n",
              "       [  1,   1, 386,   1,   1,  20,   1, 132,   1,   1,   1,   4, 125,\n",
              "          2, 941, 171, 993,   6,   1,   1, 470,   1, 158,  24,  39,   1,\n",
              "          6,  22,   1, 204,   3,   1,  50,   1,   2, 151,   1,   1,   1,\n",
              "          0,   0,   0,   0,   0,   0,   0,   0,   0,   0,   0,   0,   0,\n",
              "          0,   0,   0,   0,   0,   0,   0,   0,   0],\n",
              "       [535,   1, 253,  30, 343,   4, 352,  29,   1, 385, 113, 389, 331,\n",
              "          1,   7,   3, 113,   1,  71, 968, 257,  43,   5,   1,   4,   1,\n",
              "        209,   3,   1, 180,   0,   0,   0,   0,   0,   0,   0,   0,   0,\n",
              "          0,   0,   0,   0,   0,   0,   0,   0,   0,   0,   0,   0,   0,\n",
              "          0,   0,   0,   0,   0,   0,   0,   0,   0]])"
            ]
          },
          "metadata": {},
          "execution_count": 95
        }
      ]
    },
    {
      "cell_type": "markdown",
      "metadata": {
        "id": "F5cjz0bS39IN"
      },
      "source": [
        "With the default settings, the process is not completely reversible. There are three main reasons for that:\n",
        "\n",
        "1. The default value for `preprocessing.TextVectorization`'s `standardize` argument is `\"lower_and_strip_punctuation\"`.\n",
        "2. The limited vocabulary size and lack of character-based fallback results in some unknown tokens."
      ]
    },
    {
      "cell_type": "code",
      "metadata": {
        "colab": {
          "base_uri": "https://localhost:8080/"
        },
        "id": "N_tD0QY5wXaK",
        "outputId": "9628d69f-ab57-4434-c1c3-e9a00a64d1f8"
      },
      "source": [
        "for n in range(3):\n",
        "  print(\"Original: \", example[n].numpy())\n",
        "  print(\"Round-trip: \", \" \".join(vocab[encoded_example[n]]))\n",
        "  print()"
      ],
      "execution_count": 96,
      "outputs": [
        {
          "output_type": "stream",
          "name": "stdout",
          "text": [
            "Original:  b\"AP - During the dot-com boom, people who didn't want to miss out on the Web and e-mail craze but didn't want to buy a real computer could get WebTV, which delivered the Internet through the warm, friendly glow of their TV sets.\"\n",
            "Round-trip:  ap during the [UNK] [UNK] people who [UNK] want to [UNK] out on the web and email [UNK] but [UNK] want to buy a real computer could get [UNK] which [UNK] the internet through the [UNK] [UNK] [UNK] of their tv [UNK]                   \n",
            "\n",
            "Original:  b'Brazilian tennis player Ricardo Mello has upset top seed Vince Spadea to win the hard court event in Delray Beach, Florida. Mello made his first appearance in an ATP final a memorable one, defeating the American 7-6 (7/2), 6-3.'\n",
            "Round-trip:  [UNK] [UNK] player [UNK] [UNK] has [UNK] top [UNK] [UNK] [UNK] to win the hard court event in [UNK] [UNK] florida [UNK] made his first [UNK] in an [UNK] final a [UNK] one [UNK] the american [UNK] [UNK] [UNK]                      \n",
            "\n",
            "Original:  b'HOUSTON - Jurors still have work to do after convicting several former Wall Street bankers and a former Enron Corp. finance executive Wednesday of conspiring to push through a sham deal.'\n",
            "Round-trip:  houston [UNK] still have work to do after [UNK] several former wall street [UNK] and a former [UNK] corp finance executive wednesday of [UNK] to [UNK] through a [UNK] deal                               \n",
            "\n"
          ]
        }
      ]
    },
    {
      "cell_type": "markdown",
      "metadata": {
        "id": "bjUqGVBxGw-t"
      },
      "source": [
        "## Create the model: Single Layer Unidirectional RNN (Experiment B1)"
      ]
    },
    {
      "cell_type": "markdown",
      "metadata": {
        "id": "bgs6nnSTGw-t"
      },
      "source": [
        "Above is a diagram of the model. \n",
        "\n",
        "1. This model can be build as a `tf.keras.Sequential`.\n",
        "\n",
        "1. The first layer is the `encoder`, which converts the text to a sequence of token indices.\n",
        "\n",
        "2. After the encoder is an embedding layer. An embedding layer stores one vector per word. When called, it converts the sequences of word indices to sequences of vectors. These vectors are trainable. After training (on enough data), words with similar meanings often have similar vectors.\n",
        "\n",
        "  This index-lookup is much more efficient than the equivalent operation of passing a one-hot encoded vector through a `tf.keras.layers.Dense` layer.\n",
        "\n",
        "3. A recurrent neural network (RNN) processes sequence input by iterating through the elements. RNNs pass the outputs from one timestep to their input on the next timestep.\n",
        "\n",
        "  The `tf.keras.layers.Bidirectional` wrapper can also be used with an RNN layer. This propagates the input forward and backwards through the RNN layer and then concatenates the final output. \n",
        "\n",
        "  * The main advantage to a bidirectional RNN is that the signal from the beginning of the input doesn't need to be processed all the way through every timestep to affect the output.  \n",
        "\n",
        "  * The main disadvantage of a bidirectional RNN is that you can't efficiently stream predictions as words are being added to the end.\n",
        "\n",
        "1. After the RNN has converted the sequence to a single vector the two `layers.Dense` do some final processing, and convert from this vector representation to a single logit as the classification output. \n"
      ]
    },
    {
      "cell_type": "markdown",
      "metadata": {
        "id": "9EODAFUjNaDC"
      },
      "source": [
        "<div class=\"alert alert-block alert-info\">\n",
        "    <b>tf.keras.layers.Bidirectional</b><br>\n",
        "    https://www.tensorflow.org/api_docs/python/tf/keras/layers/Bidirectional\n",
        "    </div>"
      ]
    },
    {
      "cell_type": "markdown",
      "metadata": {
        "id": "-6Qzwsj5QH0S"
      },
      "source": [
        "<img src=\"https://github.com/djp840/MSDS_458_Public/blob/master/images/BidirectionalRNN.png?raw=1\">"
      ]
    },
    {
      "cell_type": "code",
      "metadata": {
        "id": "LwfoBkmRYcP3"
      },
      "source": [
        "from keras import backend as K\n",
        "K.clear_session()\n",
        "\n",
        "num_classes = 4\n",
        "model = tf.keras.Sequential([\n",
        "                              encoder\n",
        "                              ,tf.keras.layers.Embedding(input_dim=len(encoder.get_vocabulary())\n",
        "                              ,output_dim=64\n",
        "                                # Use masking to handle the variable sequence lengths\n",
        "                              ,mask_zero=True)\n",
        "                              ,tf.keras.layers.SimpleRNN(64)\n",
        "                              ,tf.keras.layers.Dense(64, activation='relu')\n",
        "                              ,tf.keras.layers.Dropout(0.5)                              \n",
        "                              ,tf.keras.layers.Dense(num_classes,activation='softmax')   # num_classes = 4\n",
        "])"
      ],
      "execution_count": 97,
      "outputs": []
    },
    {
      "cell_type": "markdown",
      "metadata": {
        "id": "dfNGE58PNaDD"
      },
      "source": [
        "<div class=\"alert alert-block alert-success\"> \n",
        "Please note that we choose to Keras sequential model here since all the layers in the model only have single input and produce single output. </div>"
      ]
    },
    {
      "cell_type": "markdown",
      "metadata": {
        "id": "KTqE1NQXNaDD"
      },
      "source": [
        "<div class=\"alert alert-block alert-info\"> \n",
        "<b>tf.keras.Model</b><br>\n",
        "https://www.tensorflow.org/api_docs/python/tf/keras/Model\n",
        "</div>  "
      ]
    },
    {
      "cell_type": "markdown",
      "metadata": {
        "id": "RztlbCugEFaI"
      },
      "source": [
        "## Compile Model: Single Layer Unidirectional RNN (Experiment B1)"
      ]
    },
    {
      "cell_type": "markdown",
      "metadata": {
        "id": "aNazQp3lEDv7"
      },
      "source": [
        "<div class=\"alert alert-block alert-info\">\n",
        "<b>tf.keras.losses.SparseCategoricalCrossentropy</b><br>\n",
        "https://www.tensorflow.org/api_docs/python/tf/keras/losses/SparseCategoricalCrossentropy</div>"
      ]
    },
    {
      "cell_type": "code",
      "metadata": {
        "id": "ZmWbBazIDe_-"
      },
      "source": [
        "model.compile(optimizer=tf.keras.optimizers.Adam(1e-4)\n",
        "              ,loss=tf.keras.losses.SparseCategoricalCrossentropy() # if we set from_logits=True we don not have specify a softmax activation function in the last layer\n",
        "              ,metrics=['accuracy'])"
      ],
      "execution_count": 98,
      "outputs": []
    },
    {
      "cell_type": "markdown",
      "metadata": {
        "id": "QIGmIGkkouUb"
      },
      "source": [
        "Please note that Keras sequential model is used here since all the layers in the model only have single input and produce single output. In case you want to use stateful RNN layer, you might want to build your model with Keras functional API or model subclassing so that you can retrieve and reuse the RNN layer states. Please check [Keras RNN guide](https://www.tensorflow.org/guide/keras/rnn#rnn_state_reuse) for more details."
      ]
    },
    {
      "cell_type": "markdown",
      "metadata": {
        "id": "kF-PsCk1LwjY"
      },
      "source": [
        "The embedding layer [uses masking](../../guide/keras/masking_and_padding) to handle the varying sequence-lengths. All the layers after the `Embedding` support masking:"
      ]
    },
    {
      "cell_type": "code",
      "metadata": {
        "id": "87a8-CwfKebw",
        "colab": {
          "base_uri": "https://localhost:8080/"
        },
        "outputId": "796cff3c-b3e0-40ef-dd11-8a52475d597d"
      },
      "source": [
        "print([layer.supports_masking for layer in model.layers])"
      ],
      "execution_count": 99,
      "outputs": [
        {
          "output_type": "stream",
          "name": "stdout",
          "text": [
            "[False, True, True, True, True, True]\n"
          ]
        }
      ]
    },
    {
      "cell_type": "markdown",
      "metadata": {
        "id": "zIwH3nto596k"
      },
      "source": [
        "## Train the model: Single Layer Unidirectional RNN (Experiment B1)"
      ]
    },
    {
      "cell_type": "markdown",
      "metadata": {
        "id": "7oHB6X8i0u2H"
      },
      "source": [
        "<div class=\"alert alert-block alert-success\">\n",
        "    <b>Module: tf.keras.callbacks</b></div>"
      ]
    },
    {
      "cell_type": "markdown",
      "metadata": {
        "id": "th1k9Dha0vCl"
      },
      "source": [
        "<div class=\"alert alert-block alert-info\">\n",
        "<b>tf.keras.callbacks.EarlyStopping</b><br>\n",
        "https://www.tensorflow.org/api_docs/python/tf/keras/callbacks/EarlyStopping</div>\n",
        "\n",
        "<div class=\"alert alert-block alert-info\">\n",
        "<b>tf.keras.callbacks.ModelCheckpoint</b><br>\n",
        "https://www.tensorflow.org/api_docs/python/tf/keras/callbacks/ModelCheckpoint</div>"
      ]
    },
    {
      "cell_type": "code",
      "metadata": {
        "id": "hw86wWS4YgR2",
        "colab": {
          "base_uri": "https://localhost:8080/"
        },
        "outputId": "36652254-c5c2-4968-e1f5-256a6f3e668a"
      },
      "source": [
        "start=datetime.now()\n",
        "\n",
        "history = model.fit(train_dataset\n",
        "                    ,epochs = 200\n",
        "                    ,validation_data=validation_dataset\n",
        "                    ,callbacks=[tf.keras.callbacks.EarlyStopping(monitor='val_accuracy', patience=2)]\n",
        "                    )\n",
        "\n",
        "end=datetime.now()\n",
        "print(\"Experiment B1 time:\", end-start) "
      ],
      "execution_count": 100,
      "outputs": [
        {
          "output_type": "stream",
          "name": "stdout",
          "text": [
            "Epoch 1/200\n",
            "1782/1782 [==============================] - 146s 82ms/step - loss: 0.8344 - accuracy: 0.6594 - val_loss: 0.5103 - val_accuracy: 0.8235\n",
            "Epoch 2/200\n",
            "1782/1782 [==============================] - 144s 81ms/step - loss: 0.5204 - accuracy: 0.8202 - val_loss: 0.4655 - val_accuracy: 0.8383\n",
            "Epoch 3/200\n",
            "1782/1782 [==============================] - 145s 81ms/step - loss: 0.4920 - accuracy: 0.8303 - val_loss: 0.4606 - val_accuracy: 0.8380\n",
            "Epoch 4/200\n",
            "1782/1782 [==============================] - 143s 80ms/step - loss: 0.4803 - accuracy: 0.8342 - val_loss: 0.4565 - val_accuracy: 0.8422\n",
            "Epoch 5/200\n",
            "1782/1782 [==============================] - 143s 80ms/step - loss: 0.4752 - accuracy: 0.8362 - val_loss: 0.4524 - val_accuracy: 0.8423\n",
            "Epoch 6/200\n",
            "1782/1782 [==============================] - 144s 81ms/step - loss: 0.4680 - accuracy: 0.8386 - val_loss: 0.4639 - val_accuracy: 0.8392\n",
            "Epoch 7/200\n",
            "1782/1782 [==============================] - 144s 81ms/step - loss: 0.4626 - accuracy: 0.8401 - val_loss: 0.4495 - val_accuracy: 0.8420\n",
            "Experiment B1 time: 0:16:50.369876\n"
          ]
        }
      ]
    },
    {
      "cell_type": "code",
      "metadata": {
        "id": "BaNbXi43YgUT",
        "colab": {
          "base_uri": "https://localhost:8080/"
        },
        "outputId": "a9a16d02-fdce-47fc-c803-deea8bbf2822"
      },
      "source": [
        "test_loss, test_acc = model.evaluate(test_dataset)\n",
        "\n",
        "print('Test Loss: {}'.format(test_loss))\n",
        "print('Test Accuracy: {}'.format(test_acc))"
      ],
      "execution_count": 101,
      "outputs": [
        {
          "output_type": "stream",
          "name": "stdout",
          "text": [
            "119/119 [==============================] - 1s 10ms/step - loss: 0.4630 - accuracy: 0.8371\n",
            "Test Loss: 0.46298331022262573\n",
            "Test Accuracy: 0.8371052742004395\n"
          ]
        }
      ]
    },
    {
      "cell_type": "markdown",
      "metadata": {
        "id": "OUZyCyI33fPU"
      },
      "source": [
        "## Plotting Performance Metrics: Single Layer Unidirectional RNN (Experiment B1)"
      ]
    },
    {
      "cell_type": "markdown",
      "metadata": {
        "id": "uFK6utDG3fjX"
      },
      "source": [
        "We use Matplotlib to create 2 plots--displaying the training and validation loss (resp. accuracy) for each (training) epoch side by side."
      ]
    },
    {
      "cell_type": "code",
      "metadata": {
        "id": "HzEOTxsc1JTJ",
        "colab": {
          "base_uri": "https://localhost:8080/"
        },
        "outputId": "f266adfa-b454-46c3-fd3a-e99f51b26c06"
      },
      "source": [
        "history_dict = history.history\n",
        "history_dict.keys()"
      ],
      "execution_count": 102,
      "outputs": [
        {
          "output_type": "execute_result",
          "data": {
            "text/plain": [
              "dict_keys(['loss', 'accuracy', 'val_loss', 'val_accuracy'])"
            ]
          },
          "metadata": {},
          "execution_count": 102
        }
      ]
    },
    {
      "cell_type": "code",
      "metadata": {
        "id": "2VV8VwoA1Je1",
        "colab": {
          "base_uri": "https://localhost:8080/",
          "height": 263
        },
        "outputId": "815c6860-aae7-47db-e67f-ed8b034daeac"
      },
      "source": [
        "history_df=pd.DataFrame(history_dict)\n",
        "history_df.tail(10).round(3)"
      ],
      "execution_count": 103,
      "outputs": [
        {
          "output_type": "execute_result",
          "data": {
            "text/html": [
              "<div>\n",
              "<style scoped>\n",
              "    .dataframe tbody tr th:only-of-type {\n",
              "        vertical-align: middle;\n",
              "    }\n",
              "\n",
              "    .dataframe tbody tr th {\n",
              "        vertical-align: top;\n",
              "    }\n",
              "\n",
              "    .dataframe thead th {\n",
              "        text-align: right;\n",
              "    }\n",
              "</style>\n",
              "<table border=\"1\" class=\"dataframe\">\n",
              "  <thead>\n",
              "    <tr style=\"text-align: right;\">\n",
              "      <th></th>\n",
              "      <th>loss</th>\n",
              "      <th>accuracy</th>\n",
              "      <th>val_loss</th>\n",
              "      <th>val_accuracy</th>\n",
              "    </tr>\n",
              "  </thead>\n",
              "  <tbody>\n",
              "    <tr>\n",
              "      <th>0</th>\n",
              "      <td>0.834</td>\n",
              "      <td>0.659</td>\n",
              "      <td>0.510</td>\n",
              "      <td>0.823</td>\n",
              "    </tr>\n",
              "    <tr>\n",
              "      <th>1</th>\n",
              "      <td>0.520</td>\n",
              "      <td>0.820</td>\n",
              "      <td>0.465</td>\n",
              "      <td>0.838</td>\n",
              "    </tr>\n",
              "    <tr>\n",
              "      <th>2</th>\n",
              "      <td>0.492</td>\n",
              "      <td>0.830</td>\n",
              "      <td>0.461</td>\n",
              "      <td>0.838</td>\n",
              "    </tr>\n",
              "    <tr>\n",
              "      <th>3</th>\n",
              "      <td>0.480</td>\n",
              "      <td>0.834</td>\n",
              "      <td>0.456</td>\n",
              "      <td>0.842</td>\n",
              "    </tr>\n",
              "    <tr>\n",
              "      <th>4</th>\n",
              "      <td>0.475</td>\n",
              "      <td>0.836</td>\n",
              "      <td>0.452</td>\n",
              "      <td>0.842</td>\n",
              "    </tr>\n",
              "    <tr>\n",
              "      <th>5</th>\n",
              "      <td>0.468</td>\n",
              "      <td>0.839</td>\n",
              "      <td>0.464</td>\n",
              "      <td>0.839</td>\n",
              "    </tr>\n",
              "    <tr>\n",
              "      <th>6</th>\n",
              "      <td>0.463</td>\n",
              "      <td>0.840</td>\n",
              "      <td>0.449</td>\n",
              "      <td>0.842</td>\n",
              "    </tr>\n",
              "  </tbody>\n",
              "</table>\n",
              "</div>"
            ],
            "text/plain": [
              "    loss  accuracy  val_loss  val_accuracy\n",
              "0  0.834     0.659     0.510         0.823\n",
              "1  0.520     0.820     0.465         0.838\n",
              "2  0.492     0.830     0.461         0.838\n",
              "3  0.480     0.834     0.456         0.842\n",
              "4  0.475     0.836     0.452         0.842\n",
              "5  0.468     0.839     0.464         0.839\n",
              "6  0.463     0.840     0.449         0.842"
            ]
          },
          "metadata": {},
          "execution_count": 103
        }
      ]
    },
    {
      "cell_type": "code",
      "metadata": {
        "id": "NvA2u5do1JqA"
      },
      "source": [
        "losses = history.history['loss']\n",
        "accs = history.history['accuracy']\n",
        "val_losses = history.history['val_loss']\n",
        "val_accs = history.history['val_accuracy']\n",
        "epochs = len(losses)"
      ],
      "execution_count": 104,
      "outputs": []
    },
    {
      "cell_type": "code",
      "metadata": {
        "id": "JGoRjq2T1SUp",
        "scrolled": true,
        "colab": {
          "base_uri": "https://localhost:8080/",
          "height": 267
        },
        "outputId": "f4dd0dfa-ebdf-4dc5-d140-1f84aab01f03"
      },
      "source": [
        "plt.figure(figsize=(16, 4))\n",
        "for i, metrics in enumerate(zip([losses, accs], [val_losses, val_accs], ['Loss', 'Accuracy'])):\n",
        "    plt.subplot(1, 2, i + 1)\n",
        "    plt.plot(range(epochs), metrics[0], label='Training {}'.format(metrics[2]))\n",
        "    plt.plot(range(epochs), metrics[1], label='Validation {}'.format(metrics[2]))\n",
        "    plt.legend()\n",
        "plt.show()"
      ],
      "execution_count": 105,
      "outputs": [
        {
          "output_type": "display_data",
          "data": {
            "image/png": "[encoded data removed]",
            "text/plain": [
              "<Figure size 1152x288 with 2 Axes>"
            ]
          },
          "metadata": {
            "needs_background": "light"
          }
        }
      ]
    },
    {
      "cell_type": "markdown",
      "metadata": {
        "id": "bawulBahPZQq"
      },
      "source": [
        "## Model Architecture Summary Single Layer Bidirectional RNN: Single Layer Unidirectional RNN (Experiment B1)"
      ]
    },
    {
      "cell_type": "code",
      "metadata": {
        "id": "KVd7MMCoOjMp",
        "colab": {
          "base_uri": "https://localhost:8080/"
        },
        "outputId": "742cb12c-ec5b-40e4-e215-7a54e4346851"
      },
      "source": [
        "model.summary()"
      ],
      "execution_count": 106,
      "outputs": [
        {
          "output_type": "stream",
          "name": "stdout",
          "text": [
            "Model: \"sequential\"\n",
            "_________________________________________________________________\n",
            "Layer (type)                 Output Shape              Param #   \n",
            "=================================================================\n",
            "text_vectorization (TextVect (None, None)              0         \n",
            "_________________________________________________________________\n",
            "embedding (Embedding)        (None, None, 64)          64000     \n",
            "_________________________________________________________________\n",
            "simple_rnn (SimpleRNN)       (None, 64)                8256      \n",
            "_________________________________________________________________\n",
            "dense (Dense)                (None, 64)                4160      \n",
            "_________________________________________________________________\n",
            "dropout (Dropout)            (None, 64)                0         \n",
            "_________________________________________________________________\n",
            "dense_1 (Dense)              (None, 4)                 260       \n",
            "=================================================================\n",
            "Total params: 76,676\n",
            "Trainable params: 76,676\n",
            "Non-trainable params: 0\n",
            "_________________________________________________________________\n"
          ]
        }
      ]
    },
    {
      "cell_type": "code",
      "metadata": {
        "colab": {
          "base_uri": "https://localhost:8080/",
          "height": 754
        },
        "id": "2o0oUFPAOjht",
        "outputId": "815641d0-3a9c-4adc-a7c2-5bef37e2daa3"
      },
      "source": [
        "keras.utils.plot_model(model, \"BiDirectionalLSTM.png\", show_shapes=True)"
      ],
      "execution_count": 107,
      "outputs": [
        {
          "output_type": "execute_result",
          "data": {
            "image/png": "[encoded data removed]",
            "text/plain": [
              "<IPython.core.display.Image object>"
            ]
          },
          "metadata": {},
          "execution_count": 107
        }
      ]
    },
    {
      "cell_type": "markdown",
      "metadata": {
        "id": "7g1evcaRpTKm"
      },
      "source": [
        "##Create model by stacking two or more layers: Multi Layer Unidirectional Simple RNN (Experiment B2)\n",
        "\n"
      ]
    },
    {
      "cell_type": "code",
      "metadata": {
        "id": "jo1jjO3vn0jo"
      },
      "source": [
        "from keras import backend as K\n",
        "K.clear_session()\n",
        "\n",
        "num_classes = 4\n",
        "model2 = tf.keras.Sequential([\n",
        "                              encoder\n",
        "                              ,tf.keras.layers.Embedding(len(encoder.get_vocabulary()), 64, mask_zero=True)\n",
        "                              ,tf.keras.layers.SimpleRNN(64, return_sequences=True)\n",
        "                              ,tf.keras.layers.SimpleRNN(32)\n",
        "                              ,tf.keras.layers.Dense(64, activation='relu')\n",
        "                              ,tf.keras.layers.Dropout(0.5)\n",
        "                              ,tf.keras.layers.Dense(num_classes,activation='softmax')   # not binary since there are num_classes categories\n",
        "])"
      ],
      "execution_count": 108,
      "outputs": []
    },
    {
      "cell_type": "markdown",
      "metadata": {
        "id": "iukhoA9vR7gx"
      },
      "source": [
        "<div class=\"alert alert-block alert-info\">\n",
        "<b>tf.keras.losses.SparseCategoricalCrossentropy</b><br>\n",
        "https://www.tensorflow.org/api_docs/python/tf/keras/losses/SparseCategoricalCrossentropy</div>"
      ]
    },
    {
      "cell_type": "code",
      "metadata": {
        "id": "_zjWuJesR72x"
      },
      "source": [
        "model2.compile(optimizer='adam'\n",
        "              ,loss=tf.keras.losses.SparseCategoricalCrossentropy() # if we set from_logits=True we do not have specify a softmax activation function in the last layer\n",
        "              ,metrics=['accuracy'])"
      ],
      "execution_count": 109,
      "outputs": []
    },
    {
      "cell_type": "code",
      "metadata": {
        "colab": {
          "base_uri": "https://localhost:8080/"
        },
        "id": "LeSE-YjdqAeN",
        "outputId": "67605359-5989-47ce-bf3a-2c000aaf3a5b"
      },
      "source": [
        "start=datetime.now()\n",
        "\n",
        "history2 = model2.fit(train_dataset\n",
        "                    ,epochs=200\n",
        "                    ,validation_data=validation_dataset\n",
        "                    ,validation_steps=30\n",
        "                    ,callbacks=[tf.keras.callbacks.EarlyStopping(monitor='val_accuracy', patience=2)]\n",
        "                    )\n",
        "\n",
        "end=datetime.now()\n",
        "print(\"Experiment B2 time:\", end-start) "
      ],
      "execution_count": 110,
      "outputs": [
        {
          "output_type": "stream",
          "name": "stdout",
          "text": [
            "Epoch 1/200\n",
            "1782/1782 [==============================] - 286s 159ms/step - loss: 0.6518 - accuracy: 0.7504 - val_loss: 0.4833 - val_accuracy: 0.8396\n",
            "Epoch 2/200\n",
            "1782/1782 [==============================] - 280s 157ms/step - loss: 0.5093 - accuracy: 0.8257 - val_loss: 0.4807 - val_accuracy: 0.8323\n",
            "Epoch 3/200\n",
            "1782/1782 [==============================] - 282s 158ms/step - loss: 0.4775 - accuracy: 0.8374 - val_loss: 0.4403 - val_accuracy: 0.8531\n",
            "Epoch 4/200\n",
            "1782/1782 [==============================] - 282s 158ms/step - loss: 0.4619 - accuracy: 0.8416 - val_loss: 0.4284 - val_accuracy: 0.8542\n",
            "Epoch 5/200\n",
            "1782/1782 [==============================] - 283s 159ms/step - loss: 0.4497 - accuracy: 0.8457 - val_loss: 0.4388 - val_accuracy: 0.8552\n",
            "Epoch 6/200\n",
            "1782/1782 [==============================] - 279s 157ms/step - loss: 0.4322 - accuracy: 0.8515 - val_loss: 0.4490 - val_accuracy: 0.8516\n",
            "Epoch 7/200\n",
            "1782/1782 [==============================] - 279s 156ms/step - loss: 0.4188 - accuracy: 0.8551 - val_loss: 0.4669 - val_accuracy: 0.8458\n",
            "Experiment B2 time: 0:32:51.362143\n"
          ]
        }
      ]
    },
    {
      "cell_type": "code",
      "metadata": {
        "colab": {
          "base_uri": "https://localhost:8080/"
        },
        "id": "_LdwilM1qPM3",
        "outputId": "711cb2f3-5341-4ffa-e6b5-a9017734924e"
      },
      "source": [
        "test_loss, test_acc = model2.evaluate(test_dataset)\n",
        "\n",
        "print('Test Loss: {}'.format(test_loss))\n",
        "print('Test Accuracy: {}'.format(test_acc))"
      ],
      "execution_count": 111,
      "outputs": [
        {
          "output_type": "stream",
          "name": "stdout",
          "text": [
            "119/119 [==============================] - 2s 17ms/step - loss: 0.4992 - accuracy: 0.8371\n",
            "Test Loss: 0.49920281767845154\n",
            "Test Accuracy: 0.8371052742004395\n"
          ]
        }
      ]
    },
    {
      "cell_type": "markdown",
      "metadata": {
        "id": "x44eh6w-SjPa"
      },
      "source": [
        "## Plotting Performance Metrics: Multi Layer Unidirectional Simple RNN (Experiment B2)"
      ]
    },
    {
      "cell_type": "markdown",
      "metadata": {
        "id": "7YwGAxu3SjbG"
      },
      "source": [
        "We use Matplotlib to create 2 plots--displaying the training and validation loss (resp. accuracy) for each (training) epoch side by side."
      ]
    },
    {
      "cell_type": "code",
      "metadata": {
        "colab": {
          "base_uri": "https://localhost:8080/"
        },
        "id": "l5Wa2bx7Suny",
        "outputId": "fbec2269-6183-42d4-bf57-29b1fffe1f76"
      },
      "source": [
        "history_dict2 = history2.history\n",
        "history_dict2.keys()"
      ],
      "execution_count": 112,
      "outputs": [
        {
          "output_type": "execute_result",
          "data": {
            "text/plain": [
              "dict_keys(['loss', 'accuracy', 'val_loss', 'val_accuracy'])"
            ]
          },
          "metadata": {},
          "execution_count": 112
        }
      ]
    },
    {
      "cell_type": "code",
      "metadata": {
        "colab": {
          "base_uri": "https://localhost:8080/",
          "height": 202
        },
        "id": "cwzqjLbrSurM",
        "outputId": "05b02db4-6343-4f99-a03a-876136825871"
      },
      "source": [
        "history2_df=pd.DataFrame(history_dict2)\n",
        "history2_df.tail().round(3)"
      ],
      "execution_count": 113,
      "outputs": [
        {
          "output_type": "execute_result",
          "data": {
            "text/html": [
              "<div>\n",
              "<style scoped>\n",
              "    .dataframe tbody tr th:only-of-type {\n",
              "        vertical-align: middle;\n",
              "    }\n",
              "\n",
              "    .dataframe tbody tr th {\n",
              "        vertical-align: top;\n",
              "    }\n",
              "\n",
              "    .dataframe thead th {\n",
              "        text-align: right;\n",
              "    }\n",
              "</style>\n",
              "<table border=\"1\" class=\"dataframe\">\n",
              "  <thead>\n",
              "    <tr style=\"text-align: right;\">\n",
              "      <th></th>\n",
              "      <th>loss</th>\n",
              "      <th>accuracy</th>\n",
              "      <th>val_loss</th>\n",
              "      <th>val_accuracy</th>\n",
              "    </tr>\n",
              "  </thead>\n",
              "  <tbody>\n",
              "    <tr>\n",
              "      <th>2</th>\n",
              "      <td>0.478</td>\n",
              "      <td>0.837</td>\n",
              "      <td>0.440</td>\n",
              "      <td>0.853</td>\n",
              "    </tr>\n",
              "    <tr>\n",
              "      <th>3</th>\n",
              "      <td>0.462</td>\n",
              "      <td>0.842</td>\n",
              "      <td>0.428</td>\n",
              "      <td>0.854</td>\n",
              "    </tr>\n",
              "    <tr>\n",
              "      <th>4</th>\n",
              "      <td>0.450</td>\n",
              "      <td>0.846</td>\n",
              "      <td>0.439</td>\n",
              "      <td>0.855</td>\n",
              "    </tr>\n",
              "    <tr>\n",
              "      <th>5</th>\n",
              "      <td>0.432</td>\n",
              "      <td>0.851</td>\n",
              "      <td>0.449</td>\n",
              "      <td>0.852</td>\n",
              "    </tr>\n",
              "    <tr>\n",
              "      <th>6</th>\n",
              "      <td>0.419</td>\n",
              "      <td>0.855</td>\n",
              "      <td>0.467</td>\n",
              "      <td>0.846</td>\n",
              "    </tr>\n",
              "  </tbody>\n",
              "</table>\n",
              "</div>"
            ],
            "text/plain": [
              "    loss  accuracy  val_loss  val_accuracy\n",
              "2  0.478     0.837     0.440         0.853\n",
              "3  0.462     0.842     0.428         0.854\n",
              "4  0.450     0.846     0.439         0.855\n",
              "5  0.432     0.851     0.449         0.852\n",
              "6  0.419     0.855     0.467         0.846"
            ]
          },
          "metadata": {},
          "execution_count": 113
        }
      ]
    },
    {
      "cell_type": "code",
      "metadata": {
        "id": "5CrnwjN7Suu5"
      },
      "source": [
        "losses = history2.history['loss']\n",
        "accs = history2.history['accuracy']\n",
        "val_losses = history2.history['val_loss']\n",
        "val_accs = history2.history['val_accuracy']\n",
        "epochs = len(losses)"
      ],
      "execution_count": 114,
      "outputs": []
    },
    {
      "cell_type": "code",
      "metadata": {
        "colab": {
          "base_uri": "https://localhost:8080/",
          "height": 267
        },
        "id": "Uw20TBZxSuye",
        "outputId": "c37fff72-d7da-494e-d8df-dd4f1c4b7738"
      },
      "source": [
        "plt.figure(figsize=(16, 4))\n",
        "for i, metrics in enumerate(zip([losses, accs], [val_losses, val_accs], ['Loss', 'Accuracy'])):\n",
        "    plt.subplot(1, 2, i + 1)\n",
        "    plt.plot(range(epochs), metrics[0], label='Training {}'.format(metrics[2]))\n",
        "    plt.plot(range(epochs), metrics[1], label='Validation {}'.format(metrics[2]))\n",
        "    plt.legend()\n",
        "plt.show()"
      ],
      "execution_count": 115,
      "outputs": [
        {
          "output_type": "display_data",
          "data": {
            "image/png": "[encoded data removed]",
            "text/plain": [
              "<Figure size 1152x288 with 2 Axes>"
            ]
          },
          "metadata": {
            "needs_background": "light"
          }
        }
      ]
    },
    {
      "cell_type": "markdown",
      "metadata": {
        "id": "WoWhNEnKyRRv"
      },
      "source": [
        "### Confusion Matrix"
      ]
    },
    {
      "cell_type": "code",
      "metadata": {
        "id": "TaRFsKvJyRRv"
      },
      "source": [
        "preds = model2.predict(test_dataset)"
      ],
      "execution_count": 116,
      "outputs": []
    },
    {
      "cell_type": "code",
      "metadata": {
        "colab": {
          "base_uri": "https://localhost:8080/"
        },
        "id": "38sM3BdNyRRv",
        "outputId": "65feaefe-6563-4832-a53d-ba918ce9e086"
      },
      "source": [
        "preds.shape"
      ],
      "execution_count": 117,
      "outputs": [
        {
          "output_type": "execute_result",
          "data": {
            "text/plain": [
              "(7600, 4)"
            ]
          },
          "metadata": {},
          "execution_count": 117
        }
      ]
    },
    {
      "cell_type": "code",
      "metadata": {
        "id": "HLEVza9CyRRw"
      },
      "source": [
        "cm = sns.light_palette((260, 75, 60), input=\"husl\", as_cmap=True)"
      ],
      "execution_count": 118,
      "outputs": []
    },
    {
      "cell_type": "code",
      "metadata": {
        "colab": {
          "base_uri": "https://localhost:8080/",
          "height": 171
        },
        "id": "QJ4Zct-xyRRw",
        "outputId": "56e2cd70-c497-4977-d6d2-c55e04781dbe"
      },
      "source": [
        "df = pd.DataFrame(preds[0:15]\n",
        "                  ,columns = ['World','Sports','Business','Sci/Tech']).T\n",
        "df.style.format(\"{:.2%}\").background_gradient(cmap=cm)"
      ],
      "execution_count": 119,
      "outputs": [
        {
          "output_type": "execute_result",
          "data": {
            "text/html": [
              "<style  type=\"text/css\" >\n",
              "#T_8fbdcd00_3e4a_11ec_9367_0242ac1c0002row0_col0,#T_8fbdcd00_3e4a_11ec_9367_0242ac1c0002row0_col6,#T_8fbdcd00_3e4a_11ec_9367_0242ac1c0002row1_col13{\n",
              "            background-color:  #eff0f2;\n",
              "            color:  #000000;\n",
              "        }#T_8fbdcd00_3e4a_11ec_9367_0242ac1c0002row0_col1,#T_8fbdcd00_3e4a_11ec_9367_0242ac1c0002row0_col4,#T_8fbdcd00_3e4a_11ec_9367_0242ac1c0002row0_col8,#T_8fbdcd00_3e4a_11ec_9367_0242ac1c0002row0_col10,#T_8fbdcd00_3e4a_11ec_9367_0242ac1c0002row0_col13,#T_8fbdcd00_3e4a_11ec_9367_0242ac1c0002row0_col14,#T_8fbdcd00_3e4a_11ec_9367_0242ac1c0002row1_col0,#T_8fbdcd00_3e4a_11ec_9367_0242ac1c0002row1_col3,#T_8fbdcd00_3e4a_11ec_9367_0242ac1c0002row1_col6,#T_8fbdcd00_3e4a_11ec_9367_0242ac1c0002row1_col7,#T_8fbdcd00_3e4a_11ec_9367_0242ac1c0002row2_col9,#T_8fbdcd00_3e4a_11ec_9367_0242ac1c0002row2_col12,#T_8fbdcd00_3e4a_11ec_9367_0242ac1c0002row3_col2,#T_8fbdcd00_3e4a_11ec_9367_0242ac1c0002row3_col5,#T_8fbdcd00_3e4a_11ec_9367_0242ac1c0002row3_col11{\n",
              "            background-color:  #778ce4;\n",
              "            color:  #000000;\n",
              "        }#T_8fbdcd00_3e4a_11ec_9367_0242ac1c0002row0_col2,#T_8fbdcd00_3e4a_11ec_9367_0242ac1c0002row0_col5,#T_8fbdcd00_3e4a_11ec_9367_0242ac1c0002row1_col1,#T_8fbdcd00_3e4a_11ec_9367_0242ac1c0002row1_col2,#T_8fbdcd00_3e4a_11ec_9367_0242ac1c0002row1_col4,#T_8fbdcd00_3e4a_11ec_9367_0242ac1c0002row1_col5,#T_8fbdcd00_3e4a_11ec_9367_0242ac1c0002row1_col8,#T_8fbdcd00_3e4a_11ec_9367_0242ac1c0002row1_col9,#T_8fbdcd00_3e4a_11ec_9367_0242ac1c0002row1_col10,#T_8fbdcd00_3e4a_11ec_9367_0242ac1c0002row1_col11,#T_8fbdcd00_3e4a_11ec_9367_0242ac1c0002row1_col12,#T_8fbdcd00_3e4a_11ec_9367_0242ac1c0002row1_col14,#T_8fbdcd00_3e4a_11ec_9367_0242ac1c0002row2_col0,#T_8fbdcd00_3e4a_11ec_9367_0242ac1c0002row2_col1,#T_8fbdcd00_3e4a_11ec_9367_0242ac1c0002row2_col3,#T_8fbdcd00_3e4a_11ec_9367_0242ac1c0002row2_col4,#T_8fbdcd00_3e4a_11ec_9367_0242ac1c0002row2_col6,#T_8fbdcd00_3e4a_11ec_9367_0242ac1c0002row2_col7,#T_8fbdcd00_3e4a_11ec_9367_0242ac1c0002row2_col10,#T_8fbdcd00_3e4a_11ec_9367_0242ac1c0002row2_col13,#T_8fbdcd00_3e4a_11ec_9367_0242ac1c0002row2_col14,#T_8fbdcd00_3e4a_11ec_9367_0242ac1c0002row3_col0,#T_8fbdcd00_3e4a_11ec_9367_0242ac1c0002row3_col1,#T_8fbdcd00_3e4a_11ec_9367_0242ac1c0002row3_col3,#T_8fbdcd00_3e4a_11ec_9367_0242ac1c0002row3_col4,#T_8fbdcd00_3e4a_11ec_9367_0242ac1c0002row3_col6,#T_8fbdcd00_3e4a_11ec_9367_0242ac1c0002row3_col10,#T_8fbdcd00_3e4a_11ec_9367_0242ac1c0002row3_col12,#T_8fbdcd00_3e4a_11ec_9367_0242ac1c0002row3_col14{\n",
              "            background-color:  #f0f1f2;\n",
              "            color:  #000000;\n",
              "        }#T_8fbdcd00_3e4a_11ec_9367_0242ac1c0002row0_col3,#T_8fbdcd00_3e4a_11ec_9367_0242ac1c0002row0_col9,#T_8fbdcd00_3e4a_11ec_9367_0242ac1c0002row0_col12{\n",
              "            background-color:  #eeeff2;\n",
              "            color:  #000000;\n",
              "        }#T_8fbdcd00_3e4a_11ec_9367_0242ac1c0002row0_col7{\n",
              "            background-color:  #e4e6f1;\n",
              "            color:  #000000;\n",
              "        }#T_8fbdcd00_3e4a_11ec_9367_0242ac1c0002row0_col11{\n",
              "            background-color:  #f0f0f2;\n",
              "            color:  #000000;\n",
              "        }#T_8fbdcd00_3e4a_11ec_9367_0242ac1c0002row2_col2{\n",
              "            background-color:  #ecedf2;\n",
              "            color:  #000000;\n",
              "        }#T_8fbdcd00_3e4a_11ec_9367_0242ac1c0002row2_col5{\n",
              "            background-color:  #b1bceb;\n",
              "            color:  #000000;\n",
              "        }#T_8fbdcd00_3e4a_11ec_9367_0242ac1c0002row2_col8{\n",
              "            background-color:  #eaebf1;\n",
              "            color:  #000000;\n",
              "        }#T_8fbdcd00_3e4a_11ec_9367_0242ac1c0002row2_col11{\n",
              "            background-color:  #ebecf2;\n",
              "            color:  #000000;\n",
              "        }#T_8fbdcd00_3e4a_11ec_9367_0242ac1c0002row3_col7{\n",
              "            background-color:  #efeff2;\n",
              "            color:  #000000;\n",
              "        }#T_8fbdcd00_3e4a_11ec_9367_0242ac1c0002row3_col8{\n",
              "            background-color:  #e8eaf1;\n",
              "            color:  #000000;\n",
              "        }#T_8fbdcd00_3e4a_11ec_9367_0242ac1c0002row3_col9{\n",
              "            background-color:  #e9eaf1;\n",
              "            color:  #000000;\n",
              "        }#T_8fbdcd00_3e4a_11ec_9367_0242ac1c0002row3_col13{\n",
              "            background-color:  #edeef2;\n",
              "            color:  #000000;\n",
              "        }</style><table id=\"T_8fbdcd00_3e4a_11ec_9367_0242ac1c0002\" class=\"dataframe\"><thead>    <tr>        <th class=\"blank level0\" ></th>        <th class=\"col_heading level0 col0\" >0</th>        <th class=\"col_heading level0 col1\" >1</th>        <th class=\"col_heading level0 col2\" >2</th>        <th class=\"col_heading level0 col3\" >3</th>        <th class=\"col_heading level0 col4\" >4</th>        <th class=\"col_heading level0 col5\" >5</th>        <th class=\"col_heading level0 col6\" >6</th>        <th class=\"col_heading level0 col7\" >7</th>        <th class=\"col_heading level0 col8\" >8</th>        <th class=\"col_heading level0 col9\" >9</th>        <th class=\"col_heading level0 col10\" >10</th>        <th class=\"col_heading level0 col11\" >11</th>        <th class=\"col_heading level0 col12\" >12</th>        <th class=\"col_heading level0 col13\" >13</th>        <th class=\"col_heading level0 col14\" >14</th>    </tr></thead><tbody>\n",
              "                <tr>\n",
              "                        <th id=\"T_8fbdcd00_3e4a_11ec_9367_0242ac1c0002level0_row0\" class=\"row_heading level0 row0\" >World</th>\n",
              "                        <td id=\"T_8fbdcd00_3e4a_11ec_9367_0242ac1c0002row0_col0\" class=\"data row0 col0\" >0.84%</td>\n",
              "                        <td id=\"T_8fbdcd00_3e4a_11ec_9367_0242ac1c0002row0_col1\" class=\"data row0 col1\" >99.56%</td>\n",
              "                        <td id=\"T_8fbdcd00_3e4a_11ec_9367_0242ac1c0002row0_col2\" class=\"data row0 col2\" >0.07%</td>\n",
              "                        <td id=\"T_8fbdcd00_3e4a_11ec_9367_0242ac1c0002row0_col3\" class=\"data row0 col3\" >1.79%</td>\n",
              "                        <td id=\"T_8fbdcd00_3e4a_11ec_9367_0242ac1c0002row0_col4\" class=\"data row0 col4\" >98.98%</td>\n",
              "                        <td id=\"T_8fbdcd00_3e4a_11ec_9367_0242ac1c0002row0_col5\" class=\"data row0 col5\" >0.23%</td>\n",
              "                        <td id=\"T_8fbdcd00_3e4a_11ec_9367_0242ac1c0002row0_col6\" class=\"data row0 col6\" >0.93%</td>\n",
              "                        <td id=\"T_8fbdcd00_3e4a_11ec_9367_0242ac1c0002row0_col7\" class=\"data row0 col7\" >9.40%</td>\n",
              "                        <td id=\"T_8fbdcd00_3e4a_11ec_9367_0242ac1c0002row0_col8\" class=\"data row0 col8\" >88.60%</td>\n",
              "                        <td id=\"T_8fbdcd00_3e4a_11ec_9367_0242ac1c0002row0_col9\" class=\"data row0 col9\" >1.59%</td>\n",
              "                        <td id=\"T_8fbdcd00_3e4a_11ec_9367_0242ac1c0002row0_col10\" class=\"data row0 col10\" >99.74%</td>\n",
              "                        <td id=\"T_8fbdcd00_3e4a_11ec_9367_0242ac1c0002row0_col11\" class=\"data row0 col11\" >0.54%</td>\n",
              "                        <td id=\"T_8fbdcd00_3e4a_11ec_9367_0242ac1c0002row0_col12\" class=\"data row0 col12\" >1.92%</td>\n",
              "                        <td id=\"T_8fbdcd00_3e4a_11ec_9367_0242ac1c0002row0_col13\" class=\"data row0 col13\" >93.59%</td>\n",
              "                        <td id=\"T_8fbdcd00_3e4a_11ec_9367_0242ac1c0002row0_col14\" class=\"data row0 col14\" >99.69%</td>\n",
              "            </tr>\n",
              "            <tr>\n",
              "                        <th id=\"T_8fbdcd00_3e4a_11ec_9367_0242ac1c0002level0_row1\" class=\"row_heading level0 row1\" >Sports</th>\n",
              "                        <td id=\"T_8fbdcd00_3e4a_11ec_9367_0242ac1c0002row1_col0\" class=\"data row1 col0\" >99.11%</td>\n",
              "                        <td id=\"T_8fbdcd00_3e4a_11ec_9367_0242ac1c0002row1_col1\" class=\"data row1 col1\" >0.07%</td>\n",
              "                        <td id=\"T_8fbdcd00_3e4a_11ec_9367_0242ac1c0002row1_col2\" class=\"data row1 col2\" >0.01%</td>\n",
              "                        <td id=\"T_8fbdcd00_3e4a_11ec_9367_0242ac1c0002row1_col3\" class=\"data row1 col3\" >97.92%</td>\n",
              "                        <td id=\"T_8fbdcd00_3e4a_11ec_9367_0242ac1c0002row1_col4\" class=\"data row1 col4\" >0.20%</td>\n",
              "                        <td id=\"T_8fbdcd00_3e4a_11ec_9367_0242ac1c0002row1_col5\" class=\"data row1 col5\" >0.01%</td>\n",
              "                        <td id=\"T_8fbdcd00_3e4a_11ec_9367_0242ac1c0002row1_col6\" class=\"data row1 col6\" >98.98%</td>\n",
              "                        <td id=\"T_8fbdcd00_3e4a_11ec_9367_0242ac1c0002row1_col7\" class=\"data row1 col7\" >88.43%</td>\n",
              "                        <td id=\"T_8fbdcd00_3e4a_11ec_9367_0242ac1c0002row1_col8\" class=\"data row1 col8\" >0.15%</td>\n",
              "                        <td id=\"T_8fbdcd00_3e4a_11ec_9367_0242ac1c0002row1_col9\" class=\"data row1 col9\" >0.00%</td>\n",
              "                        <td id=\"T_8fbdcd00_3e4a_11ec_9367_0242ac1c0002row1_col10\" class=\"data row1 col10\" >0.04%</td>\n",
              "                        <td id=\"T_8fbdcd00_3e4a_11ec_9367_0242ac1c0002row1_col11\" class=\"data row1 col11\" >0.05%</td>\n",
              "                        <td id=\"T_8fbdcd00_3e4a_11ec_9367_0242ac1c0002row1_col12\" class=\"data row1 col12\" >0.00%</td>\n",
              "                        <td id=\"T_8fbdcd00_3e4a_11ec_9367_0242ac1c0002row1_col13\" class=\"data row1 col13\" >1.98%</td>\n",
              "                        <td id=\"T_8fbdcd00_3e4a_11ec_9367_0242ac1c0002row1_col14\" class=\"data row1 col14\" >0.02%</td>\n",
              "            </tr>\n",
              "            <tr>\n",
              "                        <th id=\"T_8fbdcd00_3e4a_11ec_9367_0242ac1c0002level0_row2\" class=\"row_heading level0 row2\" >Business</th>\n",
              "                        <td id=\"T_8fbdcd00_3e4a_11ec_9367_0242ac1c0002row2_col0\" class=\"data row2 col0\" >0.01%</td>\n",
              "                        <td id=\"T_8fbdcd00_3e4a_11ec_9367_0242ac1c0002row2_col1\" class=\"data row2 col1\" >0.27%</td>\n",
              "                        <td id=\"T_8fbdcd00_3e4a_11ec_9367_0242ac1c0002row2_col2\" class=\"data row2 col2\" >3.43%</td>\n",
              "                        <td id=\"T_8fbdcd00_3e4a_11ec_9367_0242ac1c0002row2_col3\" class=\"data row2 col3\" >0.08%</td>\n",
              "                        <td id=\"T_8fbdcd00_3e4a_11ec_9367_0242ac1c0002row2_col4\" class=\"data row2 col4\" >0.48%</td>\n",
              "                        <td id=\"T_8fbdcd00_3e4a_11ec_9367_0242ac1c0002row2_col5\" class=\"data row2 col5\" >34.24%</td>\n",
              "                        <td id=\"T_8fbdcd00_3e4a_11ec_9367_0242ac1c0002row2_col6\" class=\"data row2 col6\" >0.01%</td>\n",
              "                        <td id=\"T_8fbdcd00_3e4a_11ec_9367_0242ac1c0002row2_col7\" class=\"data row2 col7\" >0.40%</td>\n",
              "                        <td id=\"T_8fbdcd00_3e4a_11ec_9367_0242ac1c0002row2_col8\" class=\"data row2 col8\" >5.08%</td>\n",
              "                        <td id=\"T_8fbdcd00_3e4a_11ec_9367_0242ac1c0002row2_col9\" class=\"data row2 col9\" >92.34%</td>\n",
              "                        <td id=\"T_8fbdcd00_3e4a_11ec_9367_0242ac1c0002row2_col10\" class=\"data row2 col10\" >0.14%</td>\n",
              "                        <td id=\"T_8fbdcd00_3e4a_11ec_9367_0242ac1c0002row2_col11\" class=\"data row2 col11\" >4.29%</td>\n",
              "                        <td id=\"T_8fbdcd00_3e4a_11ec_9367_0242ac1c0002row2_col12\" class=\"data row2 col12\" >97.90%</td>\n",
              "                        <td id=\"T_8fbdcd00_3e4a_11ec_9367_0242ac1c0002row2_col13\" class=\"data row2 col13\" >0.92%</td>\n",
              "                        <td id=\"T_8fbdcd00_3e4a_11ec_9367_0242ac1c0002row2_col14\" class=\"data row2 col14\" >0.24%</td>\n",
              "            </tr>\n",
              "            <tr>\n",
              "                        <th id=\"T_8fbdcd00_3e4a_11ec_9367_0242ac1c0002level0_row3\" class=\"row_heading level0 row3\" >Sci/Tech</th>\n",
              "                        <td id=\"T_8fbdcd00_3e4a_11ec_9367_0242ac1c0002row3_col0\" class=\"data row3 col0\" >0.04%</td>\n",
              "                        <td id=\"T_8fbdcd00_3e4a_11ec_9367_0242ac1c0002row3_col1\" class=\"data row3 col1\" >0.10%</td>\n",
              "                        <td id=\"T_8fbdcd00_3e4a_11ec_9367_0242ac1c0002row3_col2\" class=\"data row3 col2\" >96.49%</td>\n",
              "                        <td id=\"T_8fbdcd00_3e4a_11ec_9367_0242ac1c0002row3_col3\" class=\"data row3 col3\" >0.21%</td>\n",
              "                        <td id=\"T_8fbdcd00_3e4a_11ec_9367_0242ac1c0002row3_col4\" class=\"data row3 col4\" >0.35%</td>\n",
              "                        <td id=\"T_8fbdcd00_3e4a_11ec_9367_0242ac1c0002row3_col5\" class=\"data row3 col5\" >65.52%</td>\n",
              "                        <td id=\"T_8fbdcd00_3e4a_11ec_9367_0242ac1c0002row3_col6\" class=\"data row3 col6\" >0.07%</td>\n",
              "                        <td id=\"T_8fbdcd00_3e4a_11ec_9367_0242ac1c0002row3_col7\" class=\"data row3 col7\" >1.77%</td>\n",
              "                        <td id=\"T_8fbdcd00_3e4a_11ec_9367_0242ac1c0002row3_col8\" class=\"data row3 col8\" >6.16%</td>\n",
              "                        <td id=\"T_8fbdcd00_3e4a_11ec_9367_0242ac1c0002row3_col9\" class=\"data row3 col9\" >6.07%</td>\n",
              "                        <td id=\"T_8fbdcd00_3e4a_11ec_9367_0242ac1c0002row3_col10\" class=\"data row3 col10\" >0.09%</td>\n",
              "                        <td id=\"T_8fbdcd00_3e4a_11ec_9367_0242ac1c0002row3_col11\" class=\"data row3 col11\" >95.12%</td>\n",
              "                        <td id=\"T_8fbdcd00_3e4a_11ec_9367_0242ac1c0002row3_col12\" class=\"data row3 col12\" >0.17%</td>\n",
              "                        <td id=\"T_8fbdcd00_3e4a_11ec_9367_0242ac1c0002row3_col13\" class=\"data row3 col13\" >3.51%</td>\n",
              "                        <td id=\"T_8fbdcd00_3e4a_11ec_9367_0242ac1c0002row3_col14\" class=\"data row3 col14\" >0.06%</td>\n",
              "            </tr>\n",
              "    </tbody></table>"
            ],
            "text/plain": [
              "<pandas.io.formats.style.Styler at 0x7fbd5f65f790>"
            ]
          },
          "metadata": {},
          "execution_count": 119
        }
      ]
    },
    {
      "cell_type": "markdown",
      "metadata": {
        "id": "A3RlxHyPTCrD"
      },
      "source": [
        "#### Model Architecture Summary: Multi Layer Unidirectional Simple RNN (Experiment B2)"
      ]
    },
    {
      "cell_type": "code",
      "metadata": {
        "colab": {
          "base_uri": "https://localhost:8080/"
        },
        "id": "idRIHfoySu12",
        "outputId": "1f31d263-323b-4c3d-a611-aa63dab86d45"
      },
      "source": [
        "model2.summary()"
      ],
      "execution_count": 120,
      "outputs": [
        {
          "output_type": "stream",
          "name": "stdout",
          "text": [
            "Model: \"sequential\"\n",
            "_________________________________________________________________\n",
            "Layer (type)                 Output Shape              Param #   \n",
            "=================================================================\n",
            "text_vectorization (TextVect (None, None)              0         \n",
            "_________________________________________________________________\n",
            "embedding (Embedding)        (None, None, 64)          64000     \n",
            "_________________________________________________________________\n",
            "simple_rnn (SimpleRNN)       (None, None, 64)          8256      \n",
            "_________________________________________________________________\n",
            "simple_rnn_1 (SimpleRNN)     (None, 32)                3104      \n",
            "_________________________________________________________________\n",
            "dense (Dense)                (None, 64)                2112      \n",
            "_________________________________________________________________\n",
            "dropout (Dropout)            (None, 64)                0         \n",
            "_________________________________________________________________\n",
            "dense_1 (Dense)              (None, 4)                 260       \n",
            "=================================================================\n",
            "Total params: 77,732\n",
            "Trainable params: 77,732\n",
            "Non-trainable params: 0\n",
            "_________________________________________________________________\n"
          ]
        }
      ]
    },
    {
      "cell_type": "code",
      "metadata": {
        "id": "o01y6ZMVTF8J",
        "scrolled": false,
        "colab": {
          "base_uri": "https://localhost:8080/",
          "height": 864
        },
        "outputId": "6b25e203-d8d4-4f76-8745-337cdd910d8b"
      },
      "source": [
        "keras.utils.plot_model(model2, \"2Layer_BiDirectionalLSTM.png\", show_shapes=True)"
      ],
      "execution_count": 121,
      "outputs": [
        {
          "output_type": "execute_result",
          "data": {
            "image/png": "[encoded data removed]",
            "text/plain": [
              "<IPython.core.display.Image object>"
            ]
          },
          "metadata": {},
          "execution_count": 121
        }
      ]
    },
    {
      "cell_type": "markdown",
      "metadata": {
        "id": "9xvpE3BaGw_V"
      },
      "source": [
        "Check out other existing recurrent layers such as [GRU layers](https://www.tensorflow.org/api_docs/python/tf/keras/layers/GRU).\n",
        "\n",
        "If you're interestied in building custom RNNs, see the [Keras RNN Guide](../../guide/keras/rnn.ipynb).\n"
      ]
    },
    {
      "cell_type": "markdown",
      "metadata": {
        "id": "cgloqCxJLEA3"
      },
      "source": [
        "## Create the model : Single Layer Bidirectional Simple RNN (Experiment B3)"
      ]
    },
    {
      "cell_type": "markdown",
      "metadata": {
        "id": "OO0hIC91LEA3"
      },
      "source": [
        "Above is a diagram of the model. \n",
        "\n",
        "1. This model can be build as a `tf.keras.Sequential`.\n",
        "\n",
        "1. The first layer is the `encoder`, which converts the text to a sequence of token indices.\n",
        "\n",
        "2. After the encoder is an embedding layer. An embedding layer stores one vector per word. When called, it converts the sequences of word indices to sequences of vectors. These vectors are trainable. After training (on enough data), words with similar meanings often have similar vectors.\n",
        "\n",
        "  This index-lookup is much more efficient than the equivalent operation of passing a one-hot encoded vector through a `tf.keras.layers.Dense` layer.\n",
        "\n",
        "3. A recurrent neural network (RNN) processes sequence input by iterating through the elements. RNNs pass the outputs from one timestep to their input on the next timestep.\n",
        "\n",
        "  The `tf.keras.layers.Bidirectional` wrapper can also be used with an RNN layer. This propagates the input forward and backwards through the RNN layer and then concatenates the final output. \n",
        "\n",
        "  * The main advantage to a bidirectional RNN is that the signal from the beginning of the input doesn't need to be processed all the way through every timestep to affect the output.  \n",
        "\n",
        "  * The main disadvantage of a bidirectional RNN is that you can't efficiently stream predictions as words are being added to the end.\n",
        "\n",
        "1. After the RNN has converted the sequence to a single vector the two `layers.Dense` do some final processing, and convert from this vector representation to a single logit as the classification output. \n"
      ]
    },
    {
      "cell_type": "markdown",
      "metadata": {
        "id": "wcQ3HhcfLEA3"
      },
      "source": [
        "<div class=\"alert alert-block alert-info\">\n",
        "    <b>tf.keras.layers.Bidirectional</b><br>\n",
        "    https://www.tensorflow.org/api_docs/python/tf/keras/layers/Bidirectional\n",
        "    </div>"
      ]
    },
    {
      "cell_type": "markdown",
      "metadata": {
        "id": "iAfQhDgRLEA4"
      },
      "source": [
        "<img src=\"https://github.com/djp840/MSDS_458_Public/blob/master/images/BidirectionalRNN.png?raw=1\">"
      ]
    },
    {
      "cell_type": "code",
      "metadata": {
        "id": "NabTfotzLEA4"
      },
      "source": [
        "from keras import backend as K\n",
        "K.clear_session()\n",
        "\n",
        "num_classes = 4\n",
        "model3 = tf.keras.Sequential([\n",
        "                              encoder\n",
        "                              ,tf.keras.layers.Embedding(input_dim=len(encoder.get_vocabulary())\n",
        "                              ,output_dim=64\n",
        "                                # Use masking to handle the variable sequence lengths\n",
        "                              ,mask_zero=True)\n",
        "                              ,tf.keras.layers.Bidirectional(tf.keras.layers.SimpleRNN(64))\n",
        "                              ,tf.keras.layers.Dense(64, activation='relu')\n",
        "                              ,tf.keras.layers.Dropout(0.5)                             \n",
        "                              ,tf.keras.layers.Dense(num_classes,activation='softmax')   # num_classes = 4\n",
        "])"
      ],
      "execution_count": 122,
      "outputs": []
    },
    {
      "cell_type": "markdown",
      "metadata": {
        "id": "P52f3bWmLEA4"
      },
      "source": [
        "<div class=\"alert alert-block alert-success\"> \n",
        "Please note that we choose to Keras sequential model here since all the layers in the model only have single input and produce single output. </div>"
      ]
    },
    {
      "cell_type": "markdown",
      "metadata": {
        "id": "7qQ12QL5LEA4"
      },
      "source": [
        "<div class=\"alert alert-block alert-info\"> \n",
        "<b>tf.keras.Model</b><br>\n",
        "https://www.tensorflow.org/api_docs/python/tf/keras/Model\n",
        "</div>  "
      ]
    },
    {
      "cell_type": "markdown",
      "metadata": {
        "id": "CSP4KsHJLEA4"
      },
      "source": [
        "## Compile Model: Single Layer Bidirectional Simple RNN (Experiment B3)"
      ]
    },
    {
      "cell_type": "markdown",
      "metadata": {
        "id": "p1IuL80fLEA4"
      },
      "source": [
        "<div class=\"alert alert-block alert-info\">\n",
        "<b>tf.keras.losses.SparseCategoricalCrossentropy</b><br>\n",
        "https://www.tensorflow.org/api_docs/python/tf/keras/losses/SparseCategoricalCrossentropy</div>"
      ]
    },
    {
      "cell_type": "code",
      "metadata": {
        "id": "l86MU5TsLEA4"
      },
      "source": [
        "model3.compile(optimizer=tf.keras.optimizers.Adam(1e-4)\n",
        "              ,loss=tf.keras.losses.SparseCategoricalCrossentropy() # if we set from_logits=True we don not have specify a softmax activation function in the last layer\n",
        "              ,metrics=['accuracy'])"
      ],
      "execution_count": 123,
      "outputs": []
    },
    {
      "cell_type": "markdown",
      "metadata": {
        "id": "FdWEp_NcLEA4"
      },
      "source": [
        "Please note that Keras sequential model is used here since all the layers in the model only have single input and produce single output. In case you want to use stateful RNN layer, you might want to build your model with Keras functional API or model subclassing so that you can retrieve and reuse the RNN layer states. Please check [Keras RNN guide](https://www.tensorflow.org/guide/keras/rnn#rnn_state_reuse) for more details."
      ]
    },
    {
      "cell_type": "markdown",
      "metadata": {
        "id": "IjGPi7WYLEA4"
      },
      "source": [
        "The embedding layer [uses masking](../../guide/keras/masking_and_padding) to handle the varying sequence-lengths. All the layers after the `Embedding` support masking:"
      ]
    },
    {
      "cell_type": "code",
      "metadata": {
        "colab": {
          "base_uri": "https://localhost:8080/"
        },
        "id": "rk-aTi18LEA4",
        "outputId": "e5229169-5030-48af-a77f-59be35c7b9b9"
      },
      "source": [
        "print([layer.supports_masking for layer in model3.layers])"
      ],
      "execution_count": 124,
      "outputs": [
        {
          "output_type": "stream",
          "name": "stdout",
          "text": [
            "[False, True, True, True, True, True]\n"
          ]
        }
      ]
    },
    {
      "cell_type": "markdown",
      "metadata": {
        "id": "iDhsRUb6LEA4"
      },
      "source": [
        "## Train the model: Single Layer Bidirectional Simple RNN (Experiment B3)"
      ]
    },
    {
      "cell_type": "markdown",
      "metadata": {
        "id": "k7xwudZ9LEA5"
      },
      "source": [
        "<div class=\"alert alert-block alert-success\">\n",
        "    <b>Module: tf.keras.callbacks</b></div>"
      ]
    },
    {
      "cell_type": "markdown",
      "metadata": {
        "id": "RivOyx60LEA5"
      },
      "source": [
        "<div class=\"alert alert-block alert-info\">\n",
        "<b>tf.keras.callbacks.EarlyStopping</b><br>\n",
        "https://www.tensorflow.org/api_docs/python/tf/keras/callbacks/EarlyStopping</div>\n",
        "\n",
        "<div class=\"alert alert-block alert-info\">\n",
        "<b>tf.keras.callbacks.ModelCheckpoint</b><br>\n",
        "https://www.tensorflow.org/api_docs/python/tf/keras/callbacks/ModelCheckpoint</div>"
      ]
    },
    {
      "cell_type": "code",
      "metadata": {
        "colab": {
          "base_uri": "https://localhost:8080/"
        },
        "id": "ZXylRi0OLEA5",
        "outputId": "e70fea92-dd0f-49ba-9c9c-17d4b6ed0ad5"
      },
      "source": [
        "start=datetime.now()\n",
        "\n",
        "history3 = model3.fit(train_dataset\n",
        "                    ,epochs = 200\n",
        "                    ,validation_data=validation_dataset\n",
        "                    ,callbacks=[tf.keras.callbacks.EarlyStopping(monitor='val_accuracy', patience=2)]\n",
        "                    )\n",
        "\n",
        "end=datetime.now()\n",
        "print(\"Experiment B3 time:\", end-start) "
      ],
      "execution_count": 125,
      "outputs": [
        {
          "output_type": "stream",
          "name": "stdout",
          "text": [
            "Epoch 1/200\n",
            "1782/1782 [==============================] - 277s 154ms/step - loss: 0.8232 - accuracy: 0.6580 - val_loss: 0.4974 - val_accuracy: 0.8278\n",
            "Epoch 2/200\n",
            "1782/1782 [==============================] - 273s 153ms/step - loss: 0.5036 - accuracy: 0.8285 - val_loss: 0.4396 - val_accuracy: 0.8463\n",
            "Epoch 3/200\n",
            "1782/1782 [==============================] - 272s 152ms/step - loss: 0.4627 - accuracy: 0.8425 - val_loss: 0.4223 - val_accuracy: 0.8525\n",
            "Epoch 4/200\n",
            "1782/1782 [==============================] - 271s 152ms/step - loss: 0.4389 - accuracy: 0.8494 - val_loss: 0.4195 - val_accuracy: 0.8522\n",
            "Epoch 5/200\n",
            "1782/1782 [==============================] - 273s 153ms/step - loss: 0.4257 - accuracy: 0.8538 - val_loss: 0.4066 - val_accuracy: 0.8562\n",
            "Epoch 6/200\n",
            "1782/1782 [==============================] - 274s 153ms/step - loss: 0.4153 - accuracy: 0.8566 - val_loss: 0.3971 - val_accuracy: 0.8565\n",
            "Epoch 7/200\n",
            "1782/1782 [==============================] - 272s 153ms/step - loss: 0.4055 - accuracy: 0.8584 - val_loss: 0.3950 - val_accuracy: 0.8607\n",
            "Epoch 8/200\n",
            "1782/1782 [==============================] - 266s 149ms/step - loss: 0.3977 - accuracy: 0.8621 - val_loss: 0.3906 - val_accuracy: 0.8622\n",
            "Epoch 9/200\n",
            "1782/1782 [==============================] - 265s 148ms/step - loss: 0.3915 - accuracy: 0.8636 - val_loss: 0.4044 - val_accuracy: 0.8560\n",
            "Epoch 10/200\n",
            "1782/1782 [==============================] - 261s 146ms/step - loss: 0.3854 - accuracy: 0.8656 - val_loss: 0.3885 - val_accuracy: 0.8612\n",
            "Experiment B3 time: 0:45:03.266652\n"
          ]
        }
      ]
    },
    {
      "cell_type": "code",
      "metadata": {
        "colab": {
          "base_uri": "https://localhost:8080/"
        },
        "id": "ngoHr9_4LEA5",
        "outputId": "977b110d-5da4-47fb-e3a4-17c2236bae03"
      },
      "source": [
        "test_loss, test_acc = model3.evaluate(test_dataset)\n",
        "\n",
        "print('Test Loss: {}'.format(test_loss))\n",
        "print('Test Accuracy: {}'.format(test_acc))"
      ],
      "execution_count": 126,
      "outputs": [
        {
          "output_type": "stream",
          "name": "stdout",
          "text": [
            "119/119 [==============================] - 2s 16ms/step - loss: 0.3989 - accuracy: 0.8545\n",
            "Test Loss: 0.39893579483032227\n",
            "Test Accuracy: 0.8544737100601196\n"
          ]
        }
      ]
    },
    {
      "cell_type": "markdown",
      "metadata": {
        "id": "d9rCTgh1LEA5"
      },
      "source": [
        "## Plotting Performance Metrics: Single Layer Simple RNN (Experiment B3)"
      ]
    },
    {
      "cell_type": "markdown",
      "metadata": {
        "id": "jLIpjXZxLEA5"
      },
      "source": [
        "We use Matplotlib to create 2 plots--displaying the training and validation loss (resp. accuracy) for each (training) epoch side by side."
      ]
    },
    {
      "cell_type": "code",
      "metadata": {
        "colab": {
          "base_uri": "https://localhost:8080/"
        },
        "id": "qrUhjowOLEA5",
        "outputId": "5a4d4766-a62d-418c-b056-49d4c2fd6a9a"
      },
      "source": [
        "history_dict3 = history3.history\n",
        "history_dict3.keys()"
      ],
      "execution_count": 129,
      "outputs": [
        {
          "output_type": "execute_result",
          "data": {
            "text/plain": [
              "dict_keys(['loss', 'accuracy', 'val_loss', 'val_accuracy'])"
            ]
          },
          "metadata": {},
          "execution_count": 129
        }
      ]
    },
    {
      "cell_type": "code",
      "metadata": {
        "colab": {
          "base_uri": "https://localhost:8080/",
          "height": 355
        },
        "id": "oJuCAO1TLEA5",
        "outputId": "440c832c-7a7a-40fc-f436-780e5b2831da"
      },
      "source": [
        "history3_df=pd.DataFrame(history_dict3)\n",
        "history3_df.tail(10).round(3)"
      ],
      "execution_count": 130,
      "outputs": [
        {
          "output_type": "execute_result",
          "data": {
            "text/html": [
              "<div>\n",
              "<style scoped>\n",
              "    .dataframe tbody tr th:only-of-type {\n",
              "        vertical-align: middle;\n",
              "    }\n",
              "\n",
              "    .dataframe tbody tr th {\n",
              "        vertical-align: top;\n",
              "    }\n",
              "\n",
              "    .dataframe thead th {\n",
              "        text-align: right;\n",
              "    }\n",
              "</style>\n",
              "<table border=\"1\" class=\"dataframe\">\n",
              "  <thead>\n",
              "    <tr style=\"text-align: right;\">\n",
              "      <th></th>\n",
              "      <th>loss</th>\n",
              "      <th>accuracy</th>\n",
              "      <th>val_loss</th>\n",
              "      <th>val_accuracy</th>\n",
              "    </tr>\n",
              "  </thead>\n",
              "  <tbody>\n",
              "    <tr>\n",
              "      <th>0</th>\n",
              "      <td>0.823</td>\n",
              "      <td>0.658</td>\n",
              "      <td>0.497</td>\n",
              "      <td>0.828</td>\n",
              "    </tr>\n",
              "    <tr>\n",
              "      <th>1</th>\n",
              "      <td>0.504</td>\n",
              "      <td>0.828</td>\n",
              "      <td>0.440</td>\n",
              "      <td>0.846</td>\n",
              "    </tr>\n",
              "    <tr>\n",
              "      <th>2</th>\n",
              "      <td>0.463</td>\n",
              "      <td>0.842</td>\n",
              "      <td>0.422</td>\n",
              "      <td>0.853</td>\n",
              "    </tr>\n",
              "    <tr>\n",
              "      <th>3</th>\n",
              "      <td>0.439</td>\n",
              "      <td>0.849</td>\n",
              "      <td>0.419</td>\n",
              "      <td>0.852</td>\n",
              "    </tr>\n",
              "    <tr>\n",
              "      <th>4</th>\n",
              "      <td>0.426</td>\n",
              "      <td>0.854</td>\n",
              "      <td>0.407</td>\n",
              "      <td>0.856</td>\n",
              "    </tr>\n",
              "    <tr>\n",
              "      <th>5</th>\n",
              "      <td>0.415</td>\n",
              "      <td>0.857</td>\n",
              "      <td>0.397</td>\n",
              "      <td>0.857</td>\n",
              "    </tr>\n",
              "    <tr>\n",
              "      <th>6</th>\n",
              "      <td>0.405</td>\n",
              "      <td>0.858</td>\n",
              "      <td>0.395</td>\n",
              "      <td>0.861</td>\n",
              "    </tr>\n",
              "    <tr>\n",
              "      <th>7</th>\n",
              "      <td>0.398</td>\n",
              "      <td>0.862</td>\n",
              "      <td>0.391</td>\n",
              "      <td>0.862</td>\n",
              "    </tr>\n",
              "    <tr>\n",
              "      <th>8</th>\n",
              "      <td>0.391</td>\n",
              "      <td>0.864</td>\n",
              "      <td>0.404</td>\n",
              "      <td>0.856</td>\n",
              "    </tr>\n",
              "    <tr>\n",
              "      <th>9</th>\n",
              "      <td>0.385</td>\n",
              "      <td>0.866</td>\n",
              "      <td>0.388</td>\n",
              "      <td>0.861</td>\n",
              "    </tr>\n",
              "  </tbody>\n",
              "</table>\n",
              "</div>"
            ],
            "text/plain": [
              "    loss  accuracy  val_loss  val_accuracy\n",
              "0  0.823     0.658     0.497         0.828\n",
              "1  0.504     0.828     0.440         0.846\n",
              "2  0.463     0.842     0.422         0.853\n",
              "3  0.439     0.849     0.419         0.852\n",
              "4  0.426     0.854     0.407         0.856\n",
              "5  0.415     0.857     0.397         0.857\n",
              "6  0.405     0.858     0.395         0.861\n",
              "7  0.398     0.862     0.391         0.862\n",
              "8  0.391     0.864     0.404         0.856\n",
              "9  0.385     0.866     0.388         0.861"
            ]
          },
          "metadata": {},
          "execution_count": 130
        }
      ]
    },
    {
      "cell_type": "code",
      "metadata": {
        "id": "55znvR0lLEA5"
      },
      "source": [
        "losses = history3.history['loss']\n",
        "accs = history3.history['accuracy']\n",
        "val_losses = history3.history['val_loss']\n",
        "val_accs = history3.history['val_accuracy']\n",
        "epochs = len(losses)"
      ],
      "execution_count": 131,
      "outputs": []
    },
    {
      "cell_type": "code",
      "metadata": {
        "colab": {
          "base_uri": "https://localhost:8080/",
          "height": 264
        },
        "scrolled": true,
        "id": "kmrjTVdGLEA5",
        "outputId": "9dfcefe6-044e-4b19-d641-5527c8f8b8ff"
      },
      "source": [
        "plt.figure(figsize=(16, 4))\n",
        "for i, metrics in enumerate(zip([losses, accs], [val_losses, val_accs], ['Loss', 'Accuracy'])):\n",
        "    plt.subplot(1, 2, i + 1)\n",
        "    plt.plot(range(epochs), metrics[0], label='Training {}'.format(metrics[2]))\n",
        "    plt.plot(range(epochs), metrics[1], label='Validation {}'.format(metrics[2]))\n",
        "    plt.legend()\n",
        "plt.show()"
      ],
      "execution_count": 132,
      "outputs": [
        {
          "output_type": "display_data",
          "data": {
            "image/png": "[encoded data removed]",
            "text/plain": [
              "<Figure size 1152x288 with 2 Axes>"
            ]
          },
          "metadata": {
            "needs_background": "light"
          }
        }
      ]
    },
    {
      "cell_type": "markdown",
      "metadata": {
        "id": "Y_5sB3SrLEA6"
      },
      "source": [
        "## Model Architecture Summary: Single Layer Simple RNN (Experiment B3)\n"
      ]
    },
    {
      "cell_type": "code",
      "metadata": {
        "colab": {
          "base_uri": "https://localhost:8080/"
        },
        "id": "qeq1b37VLEA6",
        "outputId": "2b3ef9c0-1e48-4993-d7b2-98e3fecdfa36"
      },
      "source": [
        "model3.summary()"
      ],
      "execution_count": 133,
      "outputs": [
        {
          "output_type": "stream",
          "name": "stdout",
          "text": [
            "Model: \"sequential\"\n",
            "_________________________________________________________________\n",
            "Layer (type)                 Output Shape              Param #   \n",
            "=================================================================\n",
            "text_vectorization (TextVect (None, None)              0         \n",
            "_________________________________________________________________\n",
            "embedding (Embedding)        (None, None, 64)          64000     \n",
            "_________________________________________________________________\n",
            "bidirectional (Bidirectional (None, 128)               16512     \n",
            "_________________________________________________________________\n",
            "dense (Dense)                (None, 64)                8256      \n",
            "_________________________________________________________________\n",
            "dropout (Dropout)            (None, 64)                0         \n",
            "_________________________________________________________________\n",
            "dense_1 (Dense)              (None, 4)                 260       \n",
            "=================================================================\n",
            "Total params: 89,028\n",
            "Trainable params: 89,028\n",
            "Non-trainable params: 0\n",
            "_________________________________________________________________\n"
          ]
        }
      ]
    },
    {
      "cell_type": "code",
      "metadata": {
        "colab": {
          "base_uri": "https://localhost:8080/",
          "height": 754
        },
        "id": "qEHqMCZDLEA6",
        "outputId": "c589a80c-1477-4173-fd9b-0537f4198ac9"
      },
      "source": [
        "keras.utils.plot_model(model3, \"BiDirectionalGRU.png\", show_shapes=True)"
      ],
      "execution_count": 134,
      "outputs": [
        {
          "output_type": "execute_result",
          "data": {
            "image/png": "[encoded data removed]",
            "text/plain": [
              "<IPython.core.display.Image object>"
            ]
          },
          "metadata": {},
          "execution_count": 134
        }
      ]
    },
    {
      "cell_type": "markdown",
      "metadata": {
        "id": "zDFpoELqTWzq"
      },
      "source": [
        "##Create model: Multi Layer Bidirectional Simple RNN (Experiment B4)\n",
        "\n",
        "\n",
        "Keras recurrent layers have two available modes that are controlled by the `return_sequences` constructor argument:\n",
        "\n",
        "* If `False` it returns only the last output for each input sequence (a 2D tensor of shape (batch_size, output_features)). This is the default, used in the previous model.\n",
        "\n",
        "* If `True` the full sequences of successive outputs for each timestep is returned (a 3D tensor of shape `(batch_size, timesteps, output_features)`).\n",
        "\n",
        "Here is what the flow of information looks like with `return_sequences=True`:\n",
        "\n",
        "![layered_bidirectional]?raw=1\""
      ]
    },
    {
      "cell_type": "markdown",
      "metadata": {
        "id": "gqzIXWmlTWzq"
      },
      "source": [
        "The interesting thing about using an `RNN` with `return_sequences=True` is that the output still has 3-axes, like the input, so it can be passed to another RNN layer, like this:"
      ]
    },
    {
      "cell_type": "code",
      "metadata": {
        "id": "ybPnRGynTWzr"
      },
      "source": [
        "from keras import backend as K\n",
        "K.clear_session()\n",
        "\n",
        "model4 = tf.keras.Sequential([\n",
        "                              encoder\n",
        "                              ,tf.keras.layers.Embedding(len(encoder.get_vocabulary()), 64, mask_zero=True)\n",
        "                              ,tf.keras.layers.Bidirectional(tf.keras.layers.SimpleRNN(64,  return_sequences=True))\n",
        "                              ,tf.keras.layers.Bidirectional(tf.keras.layers.SimpleRNN(32))\n",
        "                              ,tf.keras.layers.Dense(64, activation='relu')\n",
        "                              ,tf.keras.layers.Dropout(0.5)\n",
        "                              ,tf.keras.layers.Dense(num_classes,activation='softmax')   # not binary since there are num_classes categories\n",
        "])"
      ],
      "execution_count": 135,
      "outputs": []
    },
    {
      "cell_type": "markdown",
      "metadata": {
        "id": "h4Zkm-QnTWzr"
      },
      "source": [
        "<div class=\"alert alert-block alert-info\">\n",
        "<b>tf.keras.losses.SparseCategoricalCrossentropy</b><br>\n",
        "https://www.tensorflow.org/api_docs/python/tf/keras/losses/SparseCategoricalCrossentropy</div>"
      ]
    },
    {
      "cell_type": "code",
      "metadata": {
        "id": "YBO4yxiITWzr"
      },
      "source": [
        "model4.compile(optimizer='adam'\n",
        "              ,loss=tf.keras.losses.SparseCategoricalCrossentropy() # if we set from_logits=True we do not have specify a softmax activation function in the last layer\n",
        "              ,metrics=['accuracy'])"
      ],
      "execution_count": 136,
      "outputs": []
    },
    {
      "cell_type": "code",
      "metadata": {
        "colab": {
          "base_uri": "https://localhost:8080/"
        },
        "id": "iAoQirL1TWzr",
        "outputId": "2a56bf70-b2e5-4ef6-c43f-53b6d4bc231b"
      },
      "source": [
        "start=datetime.now()\n",
        "\n",
        "history4 = model4.fit(train_dataset\n",
        "                    ,epochs=200\n",
        "                    ,validation_data=validation_dataset\n",
        "                    ,validation_steps=30\n",
        "                    ,callbacks=[tf.keras.callbacks.EarlyStopping(monitor='val_accuracy', patience=2)]\n",
        "                    )\n",
        "\n",
        "end=datetime.now()\n",
        "print(\"Experiment B3 time:\", end-start) "
      ],
      "execution_count": 137,
      "outputs": [
        {
          "output_type": "stream",
          "name": "stdout",
          "text": [
            "Epoch 1/200\n",
            "1782/1782 [==============================] - 523s 292ms/step - loss: 0.5702 - accuracy: 0.7886 - val_loss: 0.4386 - val_accuracy: 0.8510\n",
            "Epoch 2/200\n",
            "1782/1782 [==============================] - 509s 285ms/step - loss: 0.4505 - accuracy: 0.8442 - val_loss: 0.4282 - val_accuracy: 0.8562\n",
            "Epoch 3/200\n",
            "1782/1782 [==============================] - 510s 286ms/step - loss: 0.4315 - accuracy: 0.8502 - val_loss: 0.4314 - val_accuracy: 0.8396\n",
            "Epoch 4/200\n",
            "1782/1782 [==============================] - 511s 286ms/step - loss: 0.4114 - accuracy: 0.8566 - val_loss: 0.4386 - val_accuracy: 0.8448\n",
            "Experiment B3 time: 0:34:11.751889\n"
          ]
        }
      ]
    },
    {
      "cell_type": "code",
      "metadata": {
        "colab": {
          "base_uri": "https://localhost:8080/"
        },
        "id": "heTV0r9TTWzr",
        "outputId": "8ac42e84-8067-41d1-8cd8-aba68a950555"
      },
      "source": [
        "test_loss, test_acc = model4.evaluate(test_dataset)\n",
        "\n",
        "print('Test Loss: {}'.format(test_loss))\n",
        "print('Test Accuracy: {}'.format(test_acc))"
      ],
      "execution_count": 138,
      "outputs": [
        {
          "output_type": "stream",
          "name": "stdout",
          "text": [
            "119/119 [==============================] - 3s 27ms/step - loss: 0.4272 - accuracy: 0.8487\n",
            "Test Loss: 0.42724525928497314\n",
            "Test Accuracy: 0.8486841917037964\n"
          ]
        }
      ]
    },
    {
      "cell_type": "markdown",
      "metadata": {
        "id": "Z6EBvMIQTWzr"
      },
      "source": [
        "## Plotting Performance Metrics: Multi Layer Bidirectional Simple RNN (Experiment B4)"
      ]
    },
    {
      "cell_type": "markdown",
      "metadata": {
        "id": "rEf-IHXITWzr"
      },
      "source": [
        "We use Matplotlib to create 2 plots--displaying the training and validation loss (resp. accuracy) for each (training) epoch side by side."
      ]
    },
    {
      "cell_type": "code",
      "metadata": {
        "colab": {
          "base_uri": "https://localhost:8080/"
        },
        "id": "Keygz02fTWzr",
        "outputId": "58669aa4-dd3f-439a-f290-ff935e681a2e"
      },
      "source": [
        "history_dict4 = history4.history\n",
        "history_dict4.keys()"
      ],
      "execution_count": 139,
      "outputs": [
        {
          "output_type": "execute_result",
          "data": {
            "text/plain": [
              "dict_keys(['loss', 'accuracy', 'val_loss', 'val_accuracy'])"
            ]
          },
          "metadata": {},
          "execution_count": 139
        }
      ]
    },
    {
      "cell_type": "code",
      "metadata": {
        "colab": {
          "base_uri": "https://localhost:8080/",
          "height": 171
        },
        "id": "vdWBoYlOTWzr",
        "outputId": "59e75f0d-5034-4668-eeb1-53451505dbaf"
      },
      "source": [
        "history4_df=pd.DataFrame(history_dict4)\n",
        "history4_df.tail().round(3)"
      ],
      "execution_count": 140,
      "outputs": [
        {
          "output_type": "execute_result",
          "data": {
            "text/html": [
              "<div>\n",
              "<style scoped>\n",
              "    .dataframe tbody tr th:only-of-type {\n",
              "        vertical-align: middle;\n",
              "    }\n",
              "\n",
              "    .dataframe tbody tr th {\n",
              "        vertical-align: top;\n",
              "    }\n",
              "\n",
              "    .dataframe thead th {\n",
              "        text-align: right;\n",
              "    }\n",
              "</style>\n",
              "<table border=\"1\" class=\"dataframe\">\n",
              "  <thead>\n",
              "    <tr style=\"text-align: right;\">\n",
              "      <th></th>\n",
              "      <th>loss</th>\n",
              "      <th>accuracy</th>\n",
              "      <th>val_loss</th>\n",
              "      <th>val_accuracy</th>\n",
              "    </tr>\n",
              "  </thead>\n",
              "  <tbody>\n",
              "    <tr>\n",
              "      <th>0</th>\n",
              "      <td>0.570</td>\n",
              "      <td>0.789</td>\n",
              "      <td>0.439</td>\n",
              "      <td>0.851</td>\n",
              "    </tr>\n",
              "    <tr>\n",
              "      <th>1</th>\n",
              "      <td>0.450</td>\n",
              "      <td>0.844</td>\n",
              "      <td>0.428</td>\n",
              "      <td>0.856</td>\n",
              "    </tr>\n",
              "    <tr>\n",
              "      <th>2</th>\n",
              "      <td>0.432</td>\n",
              "      <td>0.850</td>\n",
              "      <td>0.431</td>\n",
              "      <td>0.840</td>\n",
              "    </tr>\n",
              "    <tr>\n",
              "      <th>3</th>\n",
              "      <td>0.411</td>\n",
              "      <td>0.857</td>\n",
              "      <td>0.439</td>\n",
              "      <td>0.845</td>\n",
              "    </tr>\n",
              "  </tbody>\n",
              "</table>\n",
              "</div>"
            ],
            "text/plain": [
              "    loss  accuracy  val_loss  val_accuracy\n",
              "0  0.570     0.789     0.439         0.851\n",
              "1  0.450     0.844     0.428         0.856\n",
              "2  0.432     0.850     0.431         0.840\n",
              "3  0.411     0.857     0.439         0.845"
            ]
          },
          "metadata": {},
          "execution_count": 140
        }
      ]
    },
    {
      "cell_type": "code",
      "metadata": {
        "id": "opqlQ8CDTWzs"
      },
      "source": [
        "losses = history4.history['loss']\n",
        "accs = history4.history['accuracy']\n",
        "val_losses = history4.history['val_loss']\n",
        "val_accs = history4.history['val_accuracy']\n",
        "epochs = len(losses)"
      ],
      "execution_count": 141,
      "outputs": []
    },
    {
      "cell_type": "code",
      "metadata": {
        "colab": {
          "base_uri": "https://localhost:8080/",
          "height": 268
        },
        "id": "ODSkjSeCTWzs",
        "outputId": "b556be3f-3c25-4991-a50f-90d0dc215c42"
      },
      "source": [
        "plt.figure(figsize=(16, 4))\n",
        "for i, metrics in enumerate(zip([losses, accs], [val_losses, val_accs], ['Loss', 'Accuracy'])):\n",
        "    plt.subplot(1, 2, i + 1)\n",
        "    plt.plot(range(epochs), metrics[0], label='Training {}'.format(metrics[2]))\n",
        "    plt.plot(range(epochs), metrics[1], label='Validation {}'.format(metrics[2]))\n",
        "    plt.legend()\n",
        "plt.show()"
      ],
      "execution_count": 142,
      "outputs": [
        {
          "output_type": "display_data",
          "data": {
            "image/png": "[encoded data removed]",
            "text/plain": [
              "<Figure size 1152x288 with 2 Axes>"
            ]
          },
          "metadata": {
            "needs_background": "light"
          }
        }
      ]
    },
    {
      "cell_type": "markdown",
      "metadata": {
        "id": "4cHhTSePTWzs"
      },
      "source": [
        "### Confusion Matrix"
      ]
    },
    {
      "cell_type": "code",
      "metadata": {
        "id": "SBf8F-nPTWzs"
      },
      "source": [
        "preds = model4.predict(test_dataset)"
      ],
      "execution_count": 143,
      "outputs": []
    },
    {
      "cell_type": "code",
      "metadata": {
        "colab": {
          "base_uri": "https://localhost:8080/"
        },
        "id": "-cCQDTI8TWzs",
        "outputId": "d707155d-9ee3-4a99-adbc-0901418dad8a"
      },
      "source": [
        "preds.shape"
      ],
      "execution_count": 144,
      "outputs": [
        {
          "output_type": "execute_result",
          "data": {
            "text/plain": [
              "(7600, 4)"
            ]
          },
          "metadata": {},
          "execution_count": 144
        }
      ]
    },
    {
      "cell_type": "code",
      "metadata": {
        "id": "2Scf-nKATWzs"
      },
      "source": [
        "cm = sns.light_palette((260, 75, 60), input=\"husl\", as_cmap=True)"
      ],
      "execution_count": 145,
      "outputs": []
    },
    {
      "cell_type": "code",
      "metadata": {
        "colab": {
          "base_uri": "https://localhost:8080/",
          "height": 171
        },
        "id": "yxPgFuDfTWzs",
        "outputId": "434d8c6b-c7ea-4066-856d-0638cd28409d"
      },
      "source": [
        "df = pd.DataFrame(preds[0:15]\n",
        "                  ,columns = ['World','Sports','Business','Sci/Tech']).T\n",
        "df.style.format(\"{:.2%}\").background_gradient(cmap=cm)"
      ],
      "execution_count": 146,
      "outputs": [
        {
          "output_type": "execute_result",
          "data": {
            "text/html": [
              "<style  type=\"text/css\" >\n",
              "#T_c4585586_3e58_11ec_9367_0242ac1c0002row0_col0,#T_c4585586_3e58_11ec_9367_0242ac1c0002row0_col2,#T_c4585586_3e58_11ec_9367_0242ac1c0002row0_col5,#T_c4585586_3e58_11ec_9367_0242ac1c0002row0_col11,#T_c4585586_3e58_11ec_9367_0242ac1c0002row1_col1,#T_c4585586_3e58_11ec_9367_0242ac1c0002row1_col2,#T_c4585586_3e58_11ec_9367_0242ac1c0002row1_col4,#T_c4585586_3e58_11ec_9367_0242ac1c0002row1_col5,#T_c4585586_3e58_11ec_9367_0242ac1c0002row1_col8,#T_c4585586_3e58_11ec_9367_0242ac1c0002row1_col9,#T_c4585586_3e58_11ec_9367_0242ac1c0002row1_col10,#T_c4585586_3e58_11ec_9367_0242ac1c0002row1_col11,#T_c4585586_3e58_11ec_9367_0242ac1c0002row1_col12,#T_c4585586_3e58_11ec_9367_0242ac1c0002row1_col13,#T_c4585586_3e58_11ec_9367_0242ac1c0002row1_col14,#T_c4585586_3e58_11ec_9367_0242ac1c0002row2_col0,#T_c4585586_3e58_11ec_9367_0242ac1c0002row2_col3,#T_c4585586_3e58_11ec_9367_0242ac1c0002row2_col4,#T_c4585586_3e58_11ec_9367_0242ac1c0002row2_col6,#T_c4585586_3e58_11ec_9367_0242ac1c0002row2_col7,#T_c4585586_3e58_11ec_9367_0242ac1c0002row2_col10,#T_c4585586_3e58_11ec_9367_0242ac1c0002row2_col14,#T_c4585586_3e58_11ec_9367_0242ac1c0002row3_col0,#T_c4585586_3e58_11ec_9367_0242ac1c0002row3_col1,#T_c4585586_3e58_11ec_9367_0242ac1c0002row3_col3,#T_c4585586_3e58_11ec_9367_0242ac1c0002row3_col4,#T_c4585586_3e58_11ec_9367_0242ac1c0002row3_col6,#T_c4585586_3e58_11ec_9367_0242ac1c0002row3_col10,#T_c4585586_3e58_11ec_9367_0242ac1c0002row3_col14{\n",
              "            background-color:  #f0f1f2;\n",
              "            color:  #000000;\n",
              "        }#T_c4585586_3e58_11ec_9367_0242ac1c0002row0_col1,#T_c4585586_3e58_11ec_9367_0242ac1c0002row0_col4,#T_c4585586_3e58_11ec_9367_0242ac1c0002row0_col8,#T_c4585586_3e58_11ec_9367_0242ac1c0002row0_col10,#T_c4585586_3e58_11ec_9367_0242ac1c0002row0_col13,#T_c4585586_3e58_11ec_9367_0242ac1c0002row0_col14,#T_c4585586_3e58_11ec_9367_0242ac1c0002row1_col0,#T_c4585586_3e58_11ec_9367_0242ac1c0002row1_col3,#T_c4585586_3e58_11ec_9367_0242ac1c0002row1_col6,#T_c4585586_3e58_11ec_9367_0242ac1c0002row1_col7,#T_c4585586_3e58_11ec_9367_0242ac1c0002row2_col9,#T_c4585586_3e58_11ec_9367_0242ac1c0002row2_col12,#T_c4585586_3e58_11ec_9367_0242ac1c0002row3_col2,#T_c4585586_3e58_11ec_9367_0242ac1c0002row3_col5,#T_c4585586_3e58_11ec_9367_0242ac1c0002row3_col11{\n",
              "            background-color:  #778ce4;\n",
              "            color:  #000000;\n",
              "        }#T_c4585586_3e58_11ec_9367_0242ac1c0002row0_col3,#T_c4585586_3e58_11ec_9367_0242ac1c0002row2_col1,#T_c4585586_3e58_11ec_9367_0242ac1c0002row3_col7{\n",
              "            background-color:  #eff0f2;\n",
              "            color:  #000000;\n",
              "        }#T_c4585586_3e58_11ec_9367_0242ac1c0002row0_col6{\n",
              "            background-color:  #efeff2;\n",
              "            color:  #000000;\n",
              "        }#T_c4585586_3e58_11ec_9367_0242ac1c0002row0_col7,#T_c4585586_3e58_11ec_9367_0242ac1c0002row2_col2,#T_c4585586_3e58_11ec_9367_0242ac1c0002row3_col13{\n",
              "            background-color:  #e7e9f1;\n",
              "            color:  #000000;\n",
              "        }#T_c4585586_3e58_11ec_9367_0242ac1c0002row0_col9,#T_c4585586_3e58_11ec_9367_0242ac1c0002row0_col12,#T_c4585586_3e58_11ec_9367_0242ac1c0002row3_col12{\n",
              "            background-color:  #f0f0f2;\n",
              "            color:  #000000;\n",
              "        }#T_c4585586_3e58_11ec_9367_0242ac1c0002row2_col5{\n",
              "            background-color:  #dce0f0;\n",
              "            color:  #000000;\n",
              "        }#T_c4585586_3e58_11ec_9367_0242ac1c0002row2_col8{\n",
              "            background-color:  #e9ebf1;\n",
              "            color:  #000000;\n",
              "        }#T_c4585586_3e58_11ec_9367_0242ac1c0002row2_col11{\n",
              "            background-color:  #eeeff2;\n",
              "            color:  #000000;\n",
              "        }#T_c4585586_3e58_11ec_9367_0242ac1c0002row2_col13{\n",
              "            background-color:  #edeef2;\n",
              "            color:  #000000;\n",
              "        }#T_c4585586_3e58_11ec_9367_0242ac1c0002row3_col8{\n",
              "            background-color:  #e5e7f1;\n",
              "            color:  #000000;\n",
              "        }#T_c4585586_3e58_11ec_9367_0242ac1c0002row3_col9{\n",
              "            background-color:  #c7ceed;\n",
              "            color:  #000000;\n",
              "        }</style><table id=\"T_c4585586_3e58_11ec_9367_0242ac1c0002\" class=\"dataframe\"><thead>    <tr>        <th class=\"blank level0\" ></th>        <th class=\"col_heading level0 col0\" >0</th>        <th class=\"col_heading level0 col1\" >1</th>        <th class=\"col_heading level0 col2\" >2</th>        <th class=\"col_heading level0 col3\" >3</th>        <th class=\"col_heading level0 col4\" >4</th>        <th class=\"col_heading level0 col5\" >5</th>        <th class=\"col_heading level0 col6\" >6</th>        <th class=\"col_heading level0 col7\" >7</th>        <th class=\"col_heading level0 col8\" >8</th>        <th class=\"col_heading level0 col9\" >9</th>        <th class=\"col_heading level0 col10\" >10</th>        <th class=\"col_heading level0 col11\" >11</th>        <th class=\"col_heading level0 col12\" >12</th>        <th class=\"col_heading level0 col13\" >13</th>        <th class=\"col_heading level0 col14\" >14</th>    </tr></thead><tbody>\n",
              "                <tr>\n",
              "                        <th id=\"T_c4585586_3e58_11ec_9367_0242ac1c0002level0_row0\" class=\"row_heading level0 row0\" >World</th>\n",
              "                        <td id=\"T_c4585586_3e58_11ec_9367_0242ac1c0002row0_col0\" class=\"data row0 col0\" >0.13%</td>\n",
              "                        <td id=\"T_c4585586_3e58_11ec_9367_0242ac1c0002row0_col1\" class=\"data row0 col1\" >98.88%</td>\n",
              "                        <td id=\"T_c4585586_3e58_11ec_9367_0242ac1c0002row0_col2\" class=\"data row0 col2\" >0.12%</td>\n",
              "                        <td id=\"T_c4585586_3e58_11ec_9367_0242ac1c0002row0_col3\" class=\"data row0 col3\" >1.23%</td>\n",
              "                        <td id=\"T_c4585586_3e58_11ec_9367_0242ac1c0002row0_col4\" class=\"data row0 col4\" >99.86%</td>\n",
              "                        <td id=\"T_c4585586_3e58_11ec_9367_0242ac1c0002row0_col5\" class=\"data row0 col5\" >0.21%</td>\n",
              "                        <td id=\"T_c4585586_3e58_11ec_9367_0242ac1c0002row0_col6\" class=\"data row0 col6\" >1.69%</td>\n",
              "                        <td id=\"T_c4585586_3e58_11ec_9367_0242ac1c0002row0_col7\" class=\"data row0 col7\" >7.46%</td>\n",
              "                        <td id=\"T_c4585586_3e58_11ec_9367_0242ac1c0002row0_col8\" class=\"data row0 col8\" >85.99%</td>\n",
              "                        <td id=\"T_c4585586_3e58_11ec_9367_0242ac1c0002row0_col9\" class=\"data row0 col9\" >0.64%</td>\n",
              "                        <td id=\"T_c4585586_3e58_11ec_9367_0242ac1c0002row0_col10\" class=\"data row0 col10\" >99.69%</td>\n",
              "                        <td id=\"T_c4585586_3e58_11ec_9367_0242ac1c0002row0_col11\" class=\"data row0 col11\" >0.11%</td>\n",
              "                        <td id=\"T_c4585586_3e58_11ec_9367_0242ac1c0002row0_col12\" class=\"data row0 col12\" >0.58%</td>\n",
              "                        <td id=\"T_c4585586_3e58_11ec_9367_0242ac1c0002row0_col13\" class=\"data row0 col13\" >88.80%</td>\n",
              "                        <td id=\"T_c4585586_3e58_11ec_9367_0242ac1c0002row0_col14\" class=\"data row0 col14\" >99.88%</td>\n",
              "            </tr>\n",
              "            <tr>\n",
              "                        <th id=\"T_c4585586_3e58_11ec_9367_0242ac1c0002level0_row1\" class=\"row_heading level0 row1\" >Sports</th>\n",
              "                        <td id=\"T_c4585586_3e58_11ec_9367_0242ac1c0002row1_col0\" class=\"data row1 col0\" >99.86%</td>\n",
              "                        <td id=\"T_c4585586_3e58_11ec_9367_0242ac1c0002row1_col1\" class=\"data row1 col1\" >0.01%</td>\n",
              "                        <td id=\"T_c4585586_3e58_11ec_9367_0242ac1c0002row1_col2\" class=\"data row1 col2\" >0.06%</td>\n",
              "                        <td id=\"T_c4585586_3e58_11ec_9367_0242ac1c0002row1_col3\" class=\"data row1 col3\" >98.56%</td>\n",
              "                        <td id=\"T_c4585586_3e58_11ec_9367_0242ac1c0002row1_col4\" class=\"data row1 col4\" >0.00%</td>\n",
              "                        <td id=\"T_c4585586_3e58_11ec_9367_0242ac1c0002row1_col5\" class=\"data row1 col5\" >0.18%</td>\n",
              "                        <td id=\"T_c4585586_3e58_11ec_9367_0242ac1c0002row1_col6\" class=\"data row1 col6\" >97.78%</td>\n",
              "                        <td id=\"T_c4585586_3e58_11ec_9367_0242ac1c0002row1_col7\" class=\"data row1 col7\" >91.32%</td>\n",
              "                        <td id=\"T_c4585586_3e58_11ec_9367_0242ac1c0002row1_col8\" class=\"data row1 col8\" >0.30%</td>\n",
              "                        <td id=\"T_c4585586_3e58_11ec_9367_0242ac1c0002row1_col9\" class=\"data row1 col9\" >0.08%</td>\n",
              "                        <td id=\"T_c4585586_3e58_11ec_9367_0242ac1c0002row1_col10\" class=\"data row1 col10\" >0.00%</td>\n",
              "                        <td id=\"T_c4585586_3e58_11ec_9367_0242ac1c0002row1_col11\" class=\"data row1 col11\" >0.15%</td>\n",
              "                        <td id=\"T_c4585586_3e58_11ec_9367_0242ac1c0002row1_col12\" class=\"data row1 col12\" >0.01%</td>\n",
              "                        <td id=\"T_c4585586_3e58_11ec_9367_0242ac1c0002row1_col13\" class=\"data row1 col13\" >0.44%</td>\n",
              "                        <td id=\"T_c4585586_3e58_11ec_9367_0242ac1c0002row1_col14\" class=\"data row1 col14\" >0.00%</td>\n",
              "            </tr>\n",
              "            <tr>\n",
              "                        <th id=\"T_c4585586_3e58_11ec_9367_0242ac1c0002level0_row2\" class=\"row_heading level0 row2\" >Business</th>\n",
              "                        <td id=\"T_c4585586_3e58_11ec_9367_0242ac1c0002row2_col0\" class=\"data row2 col0\" >0.02%</td>\n",
              "                        <td id=\"T_c4585586_3e58_11ec_9367_0242ac1c0002row2_col1\" class=\"data row2 col1\" >0.97%</td>\n",
              "                        <td id=\"T_c4585586_3e58_11ec_9367_0242ac1c0002row2_col2\" class=\"data row2 col2\" >7.49%</td>\n",
              "                        <td id=\"T_c4585586_3e58_11ec_9367_0242ac1c0002row2_col3\" class=\"data row2 col3\" >0.11%</td>\n",
              "                        <td id=\"T_c4585586_3e58_11ec_9367_0242ac1c0002row2_col4\" class=\"data row2 col4\" >0.12%</td>\n",
              "                        <td id=\"T_c4585586_3e58_11ec_9367_0242ac1c0002row2_col5\" class=\"data row2 col5\" >14.51%</td>\n",
              "                        <td id=\"T_c4585586_3e58_11ec_9367_0242ac1c0002row2_col6\" class=\"data row2 col6\" >0.20%</td>\n",
              "                        <td id=\"T_c4585586_3e58_11ec_9367_0242ac1c0002row2_col7\" class=\"data row2 col7\" >0.13%</td>\n",
              "                        <td id=\"T_c4585586_3e58_11ec_9367_0242ac1c0002row2_col8\" class=\"data row2 col8\" >5.65%</td>\n",
              "                        <td id=\"T_c4585586_3e58_11ec_9367_0242ac1c0002row2_col9\" class=\"data row2 col9\" >73.98%</td>\n",
              "                        <td id=\"T_c4585586_3e58_11ec_9367_0242ac1c0002row2_col10\" class=\"data row2 col10\" >0.25%</td>\n",
              "                        <td id=\"T_c4585586_3e58_11ec_9367_0242ac1c0002row2_col11\" class=\"data row2 col11\" >1.94%</td>\n",
              "                        <td id=\"T_c4585586_3e58_11ec_9367_0242ac1c0002row2_col12\" class=\"data row2 col12\" >98.90%</td>\n",
              "                        <td id=\"T_c4585586_3e58_11ec_9367_0242ac1c0002row2_col13\" class=\"data row2 col13\" >3.17%</td>\n",
              "                        <td id=\"T_c4585586_3e58_11ec_9367_0242ac1c0002row2_col14\" class=\"data row2 col14\" >0.09%</td>\n",
              "            </tr>\n",
              "            <tr>\n",
              "                        <th id=\"T_c4585586_3e58_11ec_9367_0242ac1c0002level0_row3\" class=\"row_heading level0 row3\" >Sci/Tech</th>\n",
              "                        <td id=\"T_c4585586_3e58_11ec_9367_0242ac1c0002row3_col0\" class=\"data row3 col0\" >0.00%</td>\n",
              "                        <td id=\"T_c4585586_3e58_11ec_9367_0242ac1c0002row3_col1\" class=\"data row3 col1\" >0.14%</td>\n",
              "                        <td id=\"T_c4585586_3e58_11ec_9367_0242ac1c0002row3_col2\" class=\"data row3 col2\" >92.33%</td>\n",
              "                        <td id=\"T_c4585586_3e58_11ec_9367_0242ac1c0002row3_col3\" class=\"data row3 col3\" >0.10%</td>\n",
              "                        <td id=\"T_c4585586_3e58_11ec_9367_0242ac1c0002row3_col4\" class=\"data row3 col4\" >0.03%</td>\n",
              "                        <td id=\"T_c4585586_3e58_11ec_9367_0242ac1c0002row3_col5\" class=\"data row3 col5\" >85.10%</td>\n",
              "                        <td id=\"T_c4585586_3e58_11ec_9367_0242ac1c0002row3_col6\" class=\"data row3 col6\" >0.33%</td>\n",
              "                        <td id=\"T_c4585586_3e58_11ec_9367_0242ac1c0002row3_col7\" class=\"data row3 col7\" >1.10%</td>\n",
              "                        <td id=\"T_c4585586_3e58_11ec_9367_0242ac1c0002row3_col8\" class=\"data row3 col8\" >8.06%</td>\n",
              "                        <td id=\"T_c4585586_3e58_11ec_9367_0242ac1c0002row3_col9\" class=\"data row3 col9\" >25.30%</td>\n",
              "                        <td id=\"T_c4585586_3e58_11ec_9367_0242ac1c0002row3_col10\" class=\"data row3 col10\" >0.06%</td>\n",
              "                        <td id=\"T_c4585586_3e58_11ec_9367_0242ac1c0002row3_col11\" class=\"data row3 col11\" >97.79%</td>\n",
              "                        <td id=\"T_c4585586_3e58_11ec_9367_0242ac1c0002row3_col12\" class=\"data row3 col12\" >0.50%</td>\n",
              "                        <td id=\"T_c4585586_3e58_11ec_9367_0242ac1c0002row3_col13\" class=\"data row3 col13\" >7.59%</td>\n",
              "                        <td id=\"T_c4585586_3e58_11ec_9367_0242ac1c0002row3_col14\" class=\"data row3 col14\" >0.03%</td>\n",
              "            </tr>\n",
              "    </tbody></table>"
            ],
            "text/plain": [
              "<pandas.io.formats.style.Styler at 0x7fbd3db6f9d0>"
            ]
          },
          "metadata": {},
          "execution_count": 146
        }
      ]
    },
    {
      "cell_type": "markdown",
      "metadata": {
        "id": "EuEEtGkrTWzs"
      },
      "source": [
        "#### Model Architecture Summary: Multi Layer Bidirectional Simple RNN (Experiment B4)"
      ]
    },
    {
      "cell_type": "code",
      "metadata": {
        "colab": {
          "base_uri": "https://localhost:8080/"
        },
        "id": "f-2fJ9E0TWzs",
        "outputId": "fb1141d3-aaf1-4a5d-f7a9-ae66454ad6e2"
      },
      "source": [
        "model4.summary()"
      ],
      "execution_count": 147,
      "outputs": [
        {
          "output_type": "stream",
          "name": "stdout",
          "text": [
            "Model: \"sequential\"\n",
            "_________________________________________________________________\n",
            "Layer (type)                 Output Shape              Param #   \n",
            "=================================================================\n",
            "text_vectorization (TextVect (None, None)              0         \n",
            "_________________________________________________________________\n",
            "embedding (Embedding)        (None, None, 64)          64000     \n",
            "_________________________________________________________________\n",
            "bidirectional (Bidirectional (None, None, 128)         16512     \n",
            "_________________________________________________________________\n",
            "bidirectional_1 (Bidirection (None, 64)                10304     \n",
            "_________________________________________________________________\n",
            "dense (Dense)                (None, 64)                4160      \n",
            "_________________________________________________________________\n",
            "dropout (Dropout)            (None, 64)                0         \n",
            "_________________________________________________________________\n",
            "dense_1 (Dense)              (None, 4)                 260       \n",
            "=================================================================\n",
            "Total params: 95,236\n",
            "Trainable params: 95,236\n",
            "Non-trainable params: 0\n",
            "_________________________________________________________________\n"
          ]
        }
      ]
    },
    {
      "cell_type": "code",
      "metadata": {
        "scrolled": false,
        "colab": {
          "base_uri": "https://localhost:8080/",
          "height": 864
        },
        "id": "bvHX9rboTWzs",
        "outputId": "2046f5e3-c801-4dfc-bbe4-d46ae8fa9bb3"
      },
      "source": [
        "keras.utils.plot_model(model4, \"2Layer_BiDirectionalGRU.png\", show_shapes=True)"
      ],
      "execution_count": 148,
      "outputs": [
        {
          "output_type": "execute_result",
          "data": {
            "image/png": "[encoded data removed]",
            "text/plain": [
              "<IPython.core.display.Image object>"
            ]
          },
          "metadata": {},
          "execution_count": 148
        }
      ]
    },
    {
      "cell_type": "markdown",
      "metadata": {
        "id": "o8PCUbEvTWzt"
      },
      "source": [
        "Check out other existing recurrent layers such as [GRU layers](https://www.tensorflow.org/api_docs/python/tf/keras/layers/GRU).\n",
        "\n",
        "If you're interestied in building custom RNNs, see the [Keras RNN Guide](../../guide/keras/rnn.ipynb).\n"
      ]
    }
  ]
}