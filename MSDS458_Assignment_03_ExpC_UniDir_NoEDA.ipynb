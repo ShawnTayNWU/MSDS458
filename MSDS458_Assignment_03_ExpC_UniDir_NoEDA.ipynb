{
  "nbformat": 4,
  "nbformat_minor": 0,
  "metadata": {
    "accelerator": "GPU",
    "colab": {
      "name": "MSDS458_Assignment_03_ExpC_UniDir_NoEDA.ipynb",
      "provenance": [],
      "collapsed_sections": [],
      "machine_shape": "hm",
      "include_colab_link": true
    },
    "kernelspec": {
      "display_name": "Python 3",
      "language": "python",
      "name": "python3"
    },
    "language_info": {
      "codemirror_mode": {
        "name": "ipython",
        "version": 3
      },
      "file_extension": ".py",
      "mimetype": "text/x-python",
      "name": "python",
      "nbconvert_exporter": "python",
      "pygments_lexer": "ipython3",
      "version": "3.6.9"
    },
    "toc": {
      "base_numbering": 1,
      "nav_menu": {},
      "number_sections": false,
      "sideBar": true,
      "skip_h1_title": false,
      "title_cell": "Table of Contents",
      "title_sidebar": "Contents",
      "toc_cell": false,
      "toc_position": {},
      "toc_section_display": true,
      "toc_window_display": false
    }
  },
  "cells": [
    {
      "cell_type": "markdown",
      "metadata": {
        "id": "view-in-github",
        "colab_type": "text"
      },
      "source": [
        "<a href=\"https://colab.research.google.com/github/ShawnTayNWU/MSDS458/blob/MSDS458/MSDS458_Assignment_03_ExpC_UniDir_NoEDA.ipynb\" target=\"_parent\"><img src=\"https://colab.research.google.com/assets/colab-badge.svg\" alt=\"Open In Colab\"/></a>"
      ]
    },
    {
      "cell_type": "code",
      "metadata": {
        "id": "BdT3-h5rU6qS"
      },
      "source": [
        ""
      ],
      "execution_count": null,
      "outputs": []
    },
    {
      "cell_type": "markdown",
      "metadata": {
        "id": "Cfh9kVB-rpjo"
      },
      "source": [
        "<img src=\"https://github.com/djp840/MSDS_458_Public/blob/master/images/NorthwesternHeader.png?raw=1\">"
      ]
    },
    {
      "cell_type": "markdown",
      "metadata": {
        "id": "pRAx1f1ir1St"
      },
      "source": [
        "## MSDS458 Research Assignment 3"
      ]
    },
    {
      "cell_type": "markdown",
      "metadata": {
        "id": "jQnyR1_aFk-t"
      },
      "source": [
        "### Analyze AG_NEWS_SUBSET Data <br>\n",
        "\n",
        "AG is a collection of more than 1 million news articles. News articles have been gathered from more than 2000 news sources by ComeToMyHead in more than 1 year of activity. ComeToMyHead is an academic news search engine which has been running since July, 2004. The dataset is provided by the academic comunity for research purposes in data mining (clustering, classification, etc), information retrieval (ranking, search, etc), xml, data compression, data streaming, and any other non-commercial activity.<br> \n",
        "\n",
        "For more information, please refer to the link http://www.di.unipi.it/~gulli/AG_corpus_of_news_articles.html<br> \n",
        "\n",
        "\n",
        "The AG's news topic classification dataset is constructed by choosing 4 largest classes (**World**, **Sports**, **Business**, and **Sci/Tech**) from the original corpus. Each class contains 30,000 training samples and 1,900 testing samples. The total number of training samples is 120,000 and testing 7,600.<br>\n",
        "\n",
        "Homepage: https://arxiv.org/abs/1509.01626<br>\n",
        "\n",
        "Source code: tfds.text.AGNewsSubset\n",
        "\n",
        "Versions:\n",
        "\n",
        "1.0.0 (default): No release notes.\n",
        "Download size: 11.24 MiB\n",
        "\n",
        "Dataset size: 35.79 MiB"
      ]
    },
    {
      "cell_type": "markdown",
      "metadata": {
        "id": "oGBlk-2-NaCn"
      },
      "source": [
        "<div class=\"alert alert-block alert-success\">\n",
        "    <b>More Technical</b>: Throughout the notebook. This types of boxes provide more technical details and extra references about what you are seeing. They contain helpful tips, but you can safely skip them the first time you run through the code.\n",
        "</div>"
      ]
    },
    {
      "cell_type": "markdown",
      "metadata": {
        "id": "t-Jjr3rNr5PR"
      },
      "source": [
        "## Import packages "
      ]
    },
    {
      "cell_type": "code",
      "metadata": {
        "id": "mbrX9qUZvfs1"
      },
      "source": [
        "import datetime\n",
        "from packaging import version\n",
        "from collections import Counter\n",
        "import numpy as np\n",
        "import pandas as pd\n",
        "import time\n",
        "\n",
        "import matplotlib.pyplot as plt\n",
        "import matplotlib as mpl\n",
        "import seaborn as sns\n",
        "\n",
        "from sklearn.metrics import confusion_matrix, classification_report\n",
        "from sklearn.preprocessing import StandardScaler\n",
        "from sklearn.decomposition import PCA\n",
        "from sklearn.manifold import TSNE\n",
        "from sklearn.ensemble import RandomForestClassifier\n",
        "from sklearn.metrics import mean_squared_error as MSE\n",
        "from sklearn.metrics import accuracy_score\n",
        "\n",
        "import tensorflow as tf\n",
        "from tensorflow import keras\n",
        "import tensorflow_datasets as tfds\n",
        "\n",
        "from timeit import default_timer as timer #import a timer\n",
        "from datetime import datetime"
      ],
      "execution_count": 1,
      "outputs": []
    },
    {
      "cell_type": "code",
      "metadata": {
        "id": "Rn-mj2I3yRRJ"
      },
      "source": [
        "#tf.get_logger().setLevel('INFO')"
      ],
      "execution_count": 2,
      "outputs": []
    },
    {
      "cell_type": "code",
      "metadata": {
        "id": "q0H8HuzHrWwN"
      },
      "source": [
        "%matplotlib inline\n",
        "np.set_printoptions(precision=3, suppress=True)"
      ],
      "execution_count": 3,
      "outputs": []
    },
    {
      "cell_type": "markdown",
      "metadata": {
        "id": "iKucNfkrsqrP"
      },
      "source": [
        "### Verify TensorFlow Version and Keras Version"
      ]
    },
    {
      "cell_type": "code",
      "metadata": {
        "colab": {
          "base_uri": "https://localhost:8080/"
        },
        "id": "g_BoGg9JrWzj",
        "outputId": "5b9a71df-9c2d-471e-f7f0-c7907f9fce9c"
      },
      "source": [
        "print(\"This notebook requires TensorFlow 2.0 or above\")\n",
        "print(\"TensorFlow version: \", tf.__version__)\n",
        "assert version.parse(tf.__version__).release[0] >=2"
      ],
      "execution_count": 4,
      "outputs": [
        {
          "output_type": "stream",
          "name": "stdout",
          "text": [
            "This notebook requires TensorFlow 2.0 or above\n",
            "TensorFlow version:  2.6.0\n"
          ]
        }
      ]
    },
    {
      "cell_type": "code",
      "metadata": {
        "colab": {
          "base_uri": "https://localhost:8080/"
        },
        "id": "U_bLWHP4rW3b",
        "outputId": "af758c9e-23e9-40df-c851-3cb2e4511fe6"
      },
      "source": [
        "print(\"Keras version: \", keras.__version__)"
      ],
      "execution_count": 5,
      "outputs": [
        {
          "output_type": "stream",
          "name": "stdout",
          "text": [
            "Keras version:  2.6.0\n"
          ]
        }
      ]
    },
    {
      "cell_type": "markdown",
      "metadata": {
        "id": "gv2IpLXlRHcK"
      },
      "source": [
        "### Functions For Research Assignment "
      ]
    },
    {
      "cell_type": "code",
      "metadata": {
        "id": "_5frSUHrRHcL"
      },
      "source": [
        "def print_validation_report(test_labels, predictions):\n",
        "    print(\"Classification Report\")\n",
        "    print(classification_report(test_labels, predictions))\n",
        "    print('Accuracy Score: {}'.format(accuracy_score(test_labels, predictions)))\n",
        "    print('Root Mean Square Error: {}'.format(np.sqrt(MSE(test_labels, predictions)))) "
      ],
      "execution_count": 6,
      "outputs": []
    },
    {
      "cell_type": "code",
      "metadata": {
        "id": "u7LaqA0hRHcO"
      },
      "source": [
        "def plot_confusion_matrix(y_true, y_pred):\n",
        "    mtx = confusion_matrix(y_true, y_pred)\n",
        "    fig, ax = plt.subplots(figsize=(8,8))\n",
        "    sns.heatmap(mtx, annot=True, fmt='d', linewidths=.75,  cbar=False, ax=ax,cmap='Blues',linecolor='white')\n",
        "    #  square=True,\n",
        "    plt.ylabel('true label')\n",
        "    plt.xlabel('predicted label')"
      ],
      "execution_count": 7,
      "outputs": []
    },
    {
      "cell_type": "code",
      "metadata": {
        "id": "RcicfaY7RHcQ"
      },
      "source": [
        "def plot_graphs(history, metric):\n",
        "  plt.plot(history.history[metric])\n",
        "  plt.plot(history.history['val_'+metric], '')\n",
        "  plt.xlabel(\"Epochs\")\n",
        "  plt.ylabel(metric)\n",
        "  plt.legend([metric, 'val_'+metric])"
      ],
      "execution_count": 8,
      "outputs": []
    },
    {
      "cell_type": "markdown",
      "metadata": {
        "id": "-mFyXjJmtJ3E"
      },
      "source": [
        "### Mount Google Drive to Colab Environment"
      ]
    },
    {
      "cell_type": "code",
      "metadata": {
        "id": "CXm3H81YrW8-"
      },
      "source": [
        "#from google.colab import drive\n",
        "#drive.mount('/content/gdrive')"
      ],
      "execution_count": 9,
      "outputs": []
    },
    {
      "cell_type": "markdown",
      "metadata": {
        "id": "X6s4xhh5ysp6"
      },
      "source": [
        "###  TensorFlow Datasets Information<br>\n",
        "<div class=\"alert alert-block alert-info\">\n",
        "    <b> ag_news_subset</b><br>\n",
        "    See https://www.tensorflow.org/datasets/catalog/ag_news_subset\n",
        "    </div>"
      ]
    },
    {
      "cell_type": "markdown",
      "metadata": {
        "id": "cL3ewSkAF4yF"
      },
      "source": [
        "Get all the words in the documents (as well as the number of words in each document) by using the encoder to get the indices associated with each token and then translating the indices to tokens. But first we need to get the \"unpadded\" new articles so that we can get their length."
      ]
    },
    {
      "cell_type": "code",
      "metadata": {
        "colab": {
          "base_uri": "https://localhost:8080/"
        },
        "id": "VNj2HSxNtTNS",
        "scrolled": false,
        "outputId": "a03c77cc-face-4c6c-a465-3aca18aad5c6"
      },
      "source": [
        "#register  ag_news_subset so that tfds.load doesn't generate a checksum (mismatch) error\n",
        "!python -m tensorflow_datasets.scripts.download_and_prepare --register_checksums --datasets=ag_news_subset\n",
        "\n",
        "# https://www.tensorflow.org/datasets/splits\n",
        "# The full `train` and `test` splits, interleaved together.\n",
        "ri = tfds.core.ReadInstruction('train') + tfds.core.ReadInstruction('test')\n",
        "dataset_all, info = tfds.load('ag_news_subset', with_info=True,  split=ri, as_supervised=True)"
      ],
      "execution_count": 10,
      "outputs": [
        {
          "output_type": "stream",
          "name": "stdout",
          "text": [
            "2021-11-05 17:46:15.977527: I tensorflow/stream_executor/cuda/cuda_gpu_executor.cc:937] successful NUMA node read from SysFS had negative value (-1), but there must be at least one NUMA node, so returning NUMA node zero\n",
            "2021-11-05 17:46:16.196224: I tensorflow/stream_executor/cuda/cuda_gpu_executor.cc:937] successful NUMA node read from SysFS had negative value (-1), but there must be at least one NUMA node, so returning NUMA node zero\n",
            "2021-11-05 17:46:16.196889: I tensorflow/stream_executor/cuda/cuda_gpu_executor.cc:937] successful NUMA node read from SysFS had negative value (-1), but there must be at least one NUMA node, so returning NUMA node zero\n",
            "I1105 17:46:16.197645 139776672991104 download_and_prepare.py:200] Running download_and_prepare for dataset(s):\n",
            "ag_news_subset\n",
            "2021-11-05 17:46:16.206589: I tensorflow/core/platform/cloud/google_auth_provider.cc:180] Attempting an empty bearer token since no token was retrieved from files, and GCE metadata check was skipped.\n",
            "2021-11-05 17:46:16.400795: I tensorflow/core/platform/cloud/google_auth_provider.cc:180] Attempting an empty bearer token since no token was retrieved from files, and GCE metadata check was skipped.\n",
            "2021-11-05 17:46:16.592087: I tensorflow/core/platform/cloud/google_auth_provider.cc:180] Attempting an empty bearer token since no token was retrieved from files, and GCE metadata check was skipped.\n",
            "I1105 17:46:16.781639 139776672991104 dataset_info.py:434] Load pre-computed DatasetInfo (eg: splits, num examples,...) from GCS: ag_news_subset/1.0.0\n",
            "2021-11-05 17:46:16.789664: I tensorflow/core/platform/cloud/google_auth_provider.cc:180] Attempting an empty bearer token since no token was retrieved from files, and GCE metadata check was skipped.\n",
            "2021-11-05 17:46:17.008834: I tensorflow/core/platform/cloud/google_auth_provider.cc:180] Attempting an empty bearer token since no token was retrieved from files, and GCE metadata check was skipped.\n",
            "I1105 17:46:17.573449 139776672991104 dataset_info.py:361] Load dataset info from /tmp/tmpta8bhevetfds\n",
            "I1105 17:46:17.575088 139776672991104 download_and_prepare.py:138] download_and_prepare for dataset ag_news_subset/1.0.0...\n",
            "I1105 17:46:17.575531 139776672991104 dataset_builder.py:357] Generating dataset ag_news_subset (/root/tensorflow_datasets/ag_news_subset/1.0.0)\n",
            "\u001b[1mDownloading and preparing dataset ag_news_subset/1.0.0 (download: 11.24 MiB, generated: 35.79 MiB, total: 47.03 MiB) to /root/tensorflow_datasets/ag_news_subset/1.0.0...\u001b[0m\n",
            "2021-11-05 17:46:17.715813: I tensorflow/core/platform/cloud/google_auth_provider.cc:180] Attempting an empty bearer token since no token was retrieved from files, and GCE metadata check was skipped.\n",
            "2021-11-05 17:46:17.903337: I tensorflow/core/platform/cloud/google_auth_provider.cc:180] Attempting an empty bearer token since no token was retrieved from files, and GCE metadata check was skipped.\n",
            "Dl Completed...: 0 url [00:00, ? url/s]\n",
            "Dl Size...: 0 MiB [00:00, ? MiB/s]\u001b[A\n",
            "\n",
            "Extraction completed...: 0 file [00:00, ? file/s]\u001b[A\u001b[AI1105 17:46:18.108425 139776672991104 download_manager.py:476] Downloading https://drive.google.com/uc?export=download&id=0Bz8a_Dbh9QhbUDNpeUdjb0wxRms into /root/tensorflow_datasets/downloads/ucexport_download_id_0Bz8a_Dbh9QhbUDNpeUdjb0wxj4g1umFAV8OV-uDwxSJR0LdxO_k1jxMuFWwAfNX9jos.tmp.05e952ecd98e49558ad75b81a1d1a85c...\n",
            "Dl Completed...:   0% 0/1 [00:00<?, ? url/s]\n",
            "Dl Size...: 0 MiB [00:00, ? MiB/s]\u001b[A\n",
            "\n",
            "Dl Completed...:   0% 0/1 [00:15<?, ? url/s]\n",
            "Dl Size...:   0% 0/11 [00:15<?, ? MiB/s]\u001b[A\n",
            "\n",
            "Extraction completed...: 0 file [00:15, ? file/s]\u001b[A\u001b[A\n",
            "Dl Completed...:   0% 0/1 [00:15<?, ? url/s]\n",
            "Dl Size...:   9% 1/11 [00:15<02:35, 15.51s/ MiB]\u001b[A\n",
            "\n",
            "Dl Completed...:   0% 0/1 [00:15<?, ? url/s]\n",
            "Dl Size...:  18% 2/11 [00:15<02:19, 15.51s/ MiB]\u001b[A\n",
            "\n",
            "Dl Completed...:   0% 0/1 [00:15<?, ? url/s]\n",
            "Dl Size...:  27% 3/11 [00:15<02:04, 15.51s/ MiB]\u001b[A\n",
            "\n",
            "Dl Completed...:   0% 0/1 [00:15<?, ? url/s]\n",
            "Dl Size...:  36% 4/11 [00:15<01:48, 15.51s/ MiB]\u001b[A\n",
            "\n",
            "Dl Completed...:   0% 0/1 [00:15<?, ? url/s]\n",
            "Dl Size...:  45% 5/11 [00:15<01:33, 15.51s/ MiB]\u001b[A\n",
            "\n",
            "Dl Completed...:   0% 0/1 [00:15<?, ? url/s]\n",
            "Dl Size...:  55% 6/11 [00:15<01:17, 15.51s/ MiB]\u001b[A\n",
            "\n",
            "Dl Completed...:   0% 0/1 [00:15<?, ? url/s]\n",
            "Dl Size...:  64% 7/11 [00:15<01:02, 15.51s/ MiB]\u001b[A\n",
            "\n",
            "Dl Completed...:   0% 0/1 [00:15<?, ? url/s]\n",
            "Dl Size...:  73% 8/11 [00:15<00:46, 15.51s/ MiB]\u001b[A\n",
            "\n",
            "Dl Completed...:   0% 0/1 [00:15<?, ? url/s]\n",
            "Dl Size...:  82% 9/11 [00:15<00:31, 15.51s/ MiB]\u001b[A\n",
            "\n",
            "Dl Completed...:   0% 0/1 [00:15<?, ? url/s]\n",
            "Dl Size...:  91% 10/11 [00:15<00:15, 15.51s/ MiB]\u001b[A\n",
            "\n",
            "Dl Completed...:   0% 0/1 [00:15<?, ? url/s]\n",
            "Dl Size...: 100% 11/11 [00:15<00:00, 15.51s/ MiB]\u001b[A\n",
            "\n",
            "Dl Completed...: 100% 1/1 [00:15<00:00, 15.60s/ url]\n",
            "Dl Size...: 100% 11/11 [00:15<00:00, 15.51s/ MiB]\u001b[A\n",
            "\n",
            "Dl Completed...: 100% 1/1 [00:15<00:00, 15.60s/ url]\n",
            "Dl Size...: 100% 11/11 [00:15<00:00, 15.51s/ MiB]\u001b[A\n",
            "\n",
            "Extraction completed...:   0% 0/1 [00:15<?, ? file/s]\u001b[A\u001b[A\n",
            "\n",
            "Dl Completed...: 100% 1/1 [00:15<00:00, 15.60s/ url]\n",
            "Dl Size...: 100% 11/11 [00:15<00:00, 15.51s/ MiB]\u001b[A\n",
            "\n",
            "Extraction completed...: 100% 1/1 [00:15<00:00, 15.91s/ file]\u001b[A\u001b[A\n",
            "Extraction completed...: 100% 1/1 [00:15<00:00, 15.91s/ file]\n",
            "\n",
            "Dl Size...: 100% 11/11 [00:15<00:00,  1.45s/ MiB]\n",
            "\n",
            "Dl Completed...: 100% 1/1 [00:15<00:00, 15.91s/ url]\n",
            "I1105 17:46:34.021615 139776672991104 dataset_builder.py:970] Generating split train\n",
            "Shuffling and writing examples to /root/tensorflow_datasets/ag_news_subset/1.0.0.incompleteUQP6TK/ag_news_subset-train.tfrecord\n",
            " 91% 109483/120000 [00:00<00:00, 421185.28 examples/s]I1105 17:46:54.598186 139776672991104 tfrecords_writer.py:226] Done writing /root/tensorflow_datasets/ag_news_subset/1.0.0.incompleteUQP6TK/ag_news_subset-train.tfrecord. Shard lengths: [120000]\n",
            "I1105 17:46:54.612466 139776672991104 dataset_builder.py:970] Generating split test\n",
            "Shuffling and writing examples to /root/tensorflow_datasets/ag_news_subset/1.0.0.incompleteUQP6TK/ag_news_subset-test.tfrecord\n",
            "  0% 0/7600 [00:00<?, ? examples/s]I1105 17:46:55.890018 139776672991104 tfrecords_writer.py:226] Done writing /root/tensorflow_datasets/ag_news_subset/1.0.0.incompleteUQP6TK/ag_news_subset-test.tfrecord. Shard lengths: [7600]\n",
            "I1105 17:46:55.891740 139776672991104 dataset_builder.py:412] Skipping computing stats for mode ComputeStatsMode.SKIP.\n",
            "\u001b[1mDataset ag_news_subset downloaded and prepared to /root/tensorflow_datasets/ag_news_subset/1.0.0. Subsequent calls will reuse this data.\u001b[0m\n",
            "\u001b[1mname: \"ag_news_subset\"\n",
            "description: \"AG is a collection of more than 1 million news articles.\\nNews articles have been gathered from more than 2000  news sources by ComeToMyHead in more than 1 year of activity.\\nComeToMyHead is an academic news search engine which has been running since July, 2004.\\nThe dataset is provided by the academic comunity for research purposes in data mining (clustering, classification, etc),\\ninformation retrieval (ranking, search, etc), xml, data compression, data streaming,\\nand any other non-commercial activity.\\nFor more information, please refer to the link http://www.di.unipi.it/~gulli/AG_corpus_of_news_articles.html .\\n\\nThe AG\\'s news topic classification dataset is constructed by Xiang Zhang (xiang.zhang@nyu.edu) from the dataset above.\\nIt is used as a text classification benchmark in the following paper:\\nXiang Zhang, Junbo Zhao, Yann LeCun. Character-level Convolutional Networks for Text Classification. Advances in Neural Information Processing Systems 28 (NIPS 2015).\\n\\nThe AG\\'s news topic classification dataset is constructed by choosing 4 largest classes from the original corpus.\\nEach class contains 30,000 training samples and 1,900 testing samples.\\nThe total number of training samples is 120,000 and testing 7,600.\"\n",
            "citation: \"@misc{zhang2015characterlevel,\\n    title={Character-level Convolutional Networks for Text Classification},\\n    author={Xiang Zhang and Junbo Zhao and Yann LeCun},\\n    year={2015},\\n    eprint={1509.01626},\\n    archivePrefix={arXiv},\\n    primaryClass={cs.LG}\\n}\"\n",
            "location {\n",
            "  urls: \"https://arxiv.org/abs/1509.01626\"\n",
            "}\n",
            "splits {\n",
            "  name: \"test\"\n",
            "  shard_lengths: 7600\n",
            "  num_bytes: 2226751\n",
            "}\n",
            "splits {\n",
            "  name: \"train\"\n",
            "  shard_lengths: 120000\n",
            "  num_bytes: 35301386\n",
            "}\n",
            "supervised_keys {\n",
            "  input: \"description\"\n",
            "  output: \"label\"\n",
            "}\n",
            "version: \"1.0.0\"\n",
            "download_size: 11784327\n",
            "\u001b[0m\n"
          ]
        }
      ]
    },
    {
      "cell_type": "markdown",
      "metadata": {
        "id": "Bzs2FWbQIf5m"
      },
      "source": [
        "###  Exploratory Analysis AG News Subset"
      ]
    },
    {
      "cell_type": "markdown",
      "metadata": {
        "id": "m7514-j4I4B-"
      },
      "source": [
        "**Get information about the ag_news_subset dataset. We combined the training and test data for a total of 127,600 news articles.**"
      ]
    },
    {
      "cell_type": "code",
      "metadata": {
        "colab": {
          "base_uri": "https://localhost:8080/"
        },
        "id": "eJNcnZbRtTQ2",
        "outputId": "45908a26-8873-4e50-d2e6-e51fe7ad9d32"
      },
      "source": [
        "print(info)"
      ],
      "execution_count": 11,
      "outputs": [
        {
          "output_type": "stream",
          "name": "stdout",
          "text": [
            "tfds.core.DatasetInfo(\n",
            "    name='ag_news_subset',\n",
            "    version=1.0.0,\n",
            "    description='AG is a collection of more than 1 million news articles.\n",
            "News articles have been gathered from more than 2000  news sources by ComeToMyHead in more than 1 year of activity.\n",
            "ComeToMyHead is an academic news search engine which has been running since July, 2004.\n",
            "The dataset is provided by the academic comunity for research purposes in data mining (clustering, classification, etc),\n",
            "information retrieval (ranking, search, etc), xml, data compression, data streaming,\n",
            "and any other non-commercial activity.\n",
            "For more information, please refer to the link http://www.di.unipi.it/~gulli/AG_corpus_of_news_articles.html .\n",
            "\n",
            "The AG's news topic classification dataset is constructed by Xiang Zhang (xiang.zhang@nyu.edu) from the dataset above.\n",
            "It is used as a text classification benchmark in the following paper:\n",
            "Xiang Zhang, Junbo Zhao, Yann LeCun. Character-level Convolutional Networks for Text Classification. Advances in Neural Information Processing Systems 28 (NIPS 2015).\n",
            "\n",
            "The AG's news topic classification dataset is constructed by choosing 4 largest classes from the original corpus.\n",
            "Each class contains 30,000 training samples and 1,900 testing samples.\n",
            "The total number of training samples is 120,000 and testing 7,600.',\n",
            "    homepage='https://arxiv.org/abs/1509.01626',\n",
            "    features=FeaturesDict({\n",
            "        'description': Text(shape=(), dtype=tf.string),\n",
            "        'label': ClassLabel(shape=(), dtype=tf.int64, num_classes=4),\n",
            "        'title': Text(shape=(), dtype=tf.string),\n",
            "    }),\n",
            "    total_num_examples=127600,\n",
            "    splits={\n",
            "        'test': 7600,\n",
            "        'train': 120000,\n",
            "    },\n",
            "    supervised_keys=('description', 'label'),\n",
            "    citation=\"\"\"@misc{zhang2015characterlevel,\n",
            "        title={Character-level Convolutional Networks for Text Classification},\n",
            "        author={Xiang Zhang and Junbo Zhao and Yann LeCun},\n",
            "        year={2015},\n",
            "        eprint={1509.01626},\n",
            "        archivePrefix={arXiv},\n",
            "        primaryClass={cs.LG}\n",
            "    }\"\"\",\n",
            "    redistribution_info=,\n",
            ")\n",
            "\n"
          ]
        }
      ]
    },
    {
      "cell_type": "code",
      "metadata": {
        "colab": {
          "base_uri": "https://localhost:8080/",
          "height": 235
        },
        "id": "w6GaSzMRqrIR",
        "outputId": "7626b112-e97f-4ece-96b2-1ddfaff5017f"
      },
      "source": [
        "tfds.as_dataframe(dataset_all.take(10),info)"
      ],
      "execution_count": 12,
      "outputs": [
        {
          "output_type": "execute_result",
          "data": {
            "text/html": [
              "<style  type=\"text/css\" >\n",
              "</style><table id=\"T_608e51ce_3e60_11ec_83aa_0242ac1c0002\" ><thead>    <tr>        <th class=\"blank level0\" ></th>        <th class=\"col_heading level0 col0\" >description</th>        <th class=\"col_heading level0 col1\" >label</th>    </tr></thead><tbody>\n",
              "                <tr>\n",
              "                        <th id=\"T_608e51ce_3e60_11ec_83aa_0242ac1c0002level0_row0\" class=\"row_heading level0 row0\" >0</th>\n",
              "                        <td id=\"T_608e51ce_3e60_11ec_83aa_0242ac1c0002row0_col0\" class=\"data row0 col0\" >AMD #39;s new dual-core Opteron chip is designed mainly for corporate computing applications, including databases, Web services, and financial transactions.</td>\n",
              "                        <td id=\"T_608e51ce_3e60_11ec_83aa_0242ac1c0002row0_col1\" class=\"data row0 col1\" >3 (Sci/Tech)</td>\n",
              "            </tr>\n",
              "            <tr>\n",
              "                        <th id=\"T_608e51ce_3e60_11ec_83aa_0242ac1c0002level0_row1\" class=\"row_heading level0 row1\" >1</th>\n",
              "                        <td id=\"T_608e51ce_3e60_11ec_83aa_0242ac1c0002row1_col0\" class=\"data row1 col0\" >Reuters - Major League Baseball\\Monday announced a decision on the appeal filed by Chicago Cubs\\pitcher Kerry Wood regarding a suspension stemming from an\\incident earlier this season.</td>\n",
              "                        <td id=\"T_608e51ce_3e60_11ec_83aa_0242ac1c0002row1_col1\" class=\"data row1 col1\" >1 (Sports)</td>\n",
              "            </tr>\n",
              "            <tr>\n",
              "                        <th id=\"T_608e51ce_3e60_11ec_83aa_0242ac1c0002level0_row2\" class=\"row_heading level0 row2\" >2</th>\n",
              "                        <td id=\"T_608e51ce_3e60_11ec_83aa_0242ac1c0002row2_col0\" class=\"data row2 col0\" >President Bush #39;s quot;revenue-neutral quot; tax reform needs losers to balance its winners, and people claiming the federal deduction for state and local taxes may be in administration planners #39; sights, news reports say.</td>\n",
              "                        <td id=\"T_608e51ce_3e60_11ec_83aa_0242ac1c0002row2_col1\" class=\"data row2 col1\" >2 (Business)</td>\n",
              "            </tr>\n",
              "            <tr>\n",
              "                        <th id=\"T_608e51ce_3e60_11ec_83aa_0242ac1c0002level0_row3\" class=\"row_heading level0 row3\" >3</th>\n",
              "                        <td id=\"T_608e51ce_3e60_11ec_83aa_0242ac1c0002row3_col0\" class=\"data row3 col0\" >Britain will run out of leading scientists unless science education is improved, says Professor Colin Pillinger.</td>\n",
              "                        <td id=\"T_608e51ce_3e60_11ec_83aa_0242ac1c0002row3_col1\" class=\"data row3 col1\" >3 (Sci/Tech)</td>\n",
              "            </tr>\n",
              "            <tr>\n",
              "                        <th id=\"T_608e51ce_3e60_11ec_83aa_0242ac1c0002level0_row4\" class=\"row_heading level0 row4\" >4</th>\n",
              "                        <td id=\"T_608e51ce_3e60_11ec_83aa_0242ac1c0002row4_col0\" class=\"data row4 col0\" >London, England (Sports Network) - England midfielder Steven Gerrard injured his groin late in Thursday #39;s training session, but is hopeful he will be ready for Saturday #39;s World Cup qualifier against Austria.</td>\n",
              "                        <td id=\"T_608e51ce_3e60_11ec_83aa_0242ac1c0002row4_col1\" class=\"data row4 col1\" >1 (Sports)</td>\n",
              "            </tr>\n",
              "            <tr>\n",
              "                        <th id=\"T_608e51ce_3e60_11ec_83aa_0242ac1c0002level0_row5\" class=\"row_heading level0 row5\" >5</th>\n",
              "                        <td id=\"T_608e51ce_3e60_11ec_83aa_0242ac1c0002row5_col0\" class=\"data row5 col0\" >TOKYO - Sony Corp. is banking on the \\$3 billion deal to acquire Hollywood studio Metro-Goldwyn-Mayer Inc...</td>\n",
              "                        <td id=\"T_608e51ce_3e60_11ec_83aa_0242ac1c0002row5_col1\" class=\"data row5 col1\" >0 (World)</td>\n",
              "            </tr>\n",
              "            <tr>\n",
              "                        <th id=\"T_608e51ce_3e60_11ec_83aa_0242ac1c0002level0_row6\" class=\"row_heading level0 row6\" >6</th>\n",
              "                        <td id=\"T_608e51ce_3e60_11ec_83aa_0242ac1c0002row6_col0\" class=\"data row6 col0\" >Giant pandas may well prefer bamboo to laptops, but wireless technology is helping researchers in China in their efforts to protect the engandered animals living in the remote Wolong Nature Reserve.</td>\n",
              "                        <td id=\"T_608e51ce_3e60_11ec_83aa_0242ac1c0002row6_col1\" class=\"data row6 col1\" >3 (Sci/Tech)</td>\n",
              "            </tr>\n",
              "            <tr>\n",
              "                        <th id=\"T_608e51ce_3e60_11ec_83aa_0242ac1c0002level0_row7\" class=\"row_heading level0 row7\" >7</th>\n",
              "                        <td id=\"T_608e51ce_3e60_11ec_83aa_0242ac1c0002row7_col0\" class=\"data row7 col0\" >VILNIUS, Lithuania - Lithuania #39;s main parties formed an alliance to try to keep a Russian-born tycoon and his populist promises out of the government in Sunday #39;s second round of parliamentary elections in this Baltic country.</td>\n",
              "                        <td id=\"T_608e51ce_3e60_11ec_83aa_0242ac1c0002row7_col1\" class=\"data row7 col1\" >0 (World)</td>\n",
              "            </tr>\n",
              "            <tr>\n",
              "                        <th id=\"T_608e51ce_3e60_11ec_83aa_0242ac1c0002level0_row8\" class=\"row_heading level0 row8\" >8</th>\n",
              "                        <td id=\"T_608e51ce_3e60_11ec_83aa_0242ac1c0002row8_col0\" class=\"data row8 col0\" >Witnesses in the trial of a US soldier charged with abusing prisoners at Abu Ghraib have told the court that the CIA sometimes directed abuse and orders were received from military command to toughen interrogations.</td>\n",
              "                        <td id=\"T_608e51ce_3e60_11ec_83aa_0242ac1c0002row8_col1\" class=\"data row8 col1\" >0 (World)</td>\n",
              "            </tr>\n",
              "            <tr>\n",
              "                        <th id=\"T_608e51ce_3e60_11ec_83aa_0242ac1c0002level0_row9\" class=\"row_heading level0 row9\" >9</th>\n",
              "                        <td id=\"T_608e51ce_3e60_11ec_83aa_0242ac1c0002row9_col0\" class=\"data row9 col0\" >Dan Olsen of Ponte Vedra Beach, Fla., shot a 7-under 65 Thursday to take a one-shot lead after two rounds of the PGA Tour qualifying tournament.</td>\n",
              "                        <td id=\"T_608e51ce_3e60_11ec_83aa_0242ac1c0002row9_col1\" class=\"data row9 col1\" >1 (Sports)</td>\n",
              "            </tr>\n",
              "    </tbody></table>"
            ],
            "text/plain": [
              "                                         description  label\n",
              "0  b'AMD #39;s new dual-core Opteron chip is desi...      3\n",
              "1  b'Reuters - Major League Baseball\\\\Monday anno...      1\n",
              "2  b'President Bush #39;s  quot;revenue-neutral q...      2\n",
              "3  b'Britain will run out of leading scientists u...      3\n",
              "4  b'London, England (Sports Network) - England m...      1\n",
              "5  b'TOKYO - Sony Corp. is banking on the \\\\$3 bi...      0\n",
              "6  b'Giant pandas may well prefer bamboo to lapto...      3\n",
              "7  b'VILNIUS, Lithuania - Lithuania #39;s main pa...      0\n",
              "8  b'Witnesses in the trial of a US soldier charg...      0\n",
              "9  b'Dan Olsen of Ponte Vedra Beach, Fla., shot a...      1"
            ]
          },
          "metadata": {},
          "execution_count": 12
        }
      ]
    },
    {
      "cell_type": "markdown",
      "metadata": {
        "id": "RoG_cOcMMKgC"
      },
      "source": [
        "### Review Labels (Categories) "
      ]
    },
    {
      "cell_type": "code",
      "metadata": {
        "colab": {
          "base_uri": "https://localhost:8080/"
        },
        "id": "4uBCsL_8tTUU",
        "outputId": "ee61e268-878a-42ea-8851-20256eaaa8af"
      },
      "source": [
        "print(f'There are {info.features[\"label\"].num_classes} classes in the dataset.')\n",
        "print(f'The class names are {info.features[\"label\"].names}')"
      ],
      "execution_count": 13,
      "outputs": [
        {
          "output_type": "stream",
          "name": "stdout",
          "text": [
            "There are 4 classes in the dataset.\n",
            "The class names are ['World', 'Sports', 'Business', 'Sci/Tech']\n"
          ]
        }
      ]
    },
    {
      "cell_type": "code",
      "metadata": {
        "colab": {
          "base_uri": "https://localhost:8080/"
        },
        "id": "fRbULmnCtTXo",
        "outputId": "93e78995-0e71-4850-999a-1d425fae8499"
      },
      "source": [
        "# classes dictionary\n",
        "categories =dict(enumerate(info.features[\"label\"].names))\n",
        "categories"
      ],
      "execution_count": 14,
      "outputs": [
        {
          "output_type": "execute_result",
          "data": {
            "text/plain": [
              "{0: 'World', 1: 'Sports', 2: 'Business', 3: 'Sci/Tech'}"
            ]
          },
          "metadata": {},
          "execution_count": 14
        }
      ]
    },
    {
      "cell_type": "markdown",
      "metadata": {
        "id": "xXQzudk9MmOs"
      },
      "source": [
        "The 127,600 news articles are evenly distributed among the 4 categories"
      ]
    },
    {
      "cell_type": "code",
      "metadata": {
        "colab": {
          "base_uri": "https://localhost:8080/"
        },
        "id": "PRtOaULstTbJ",
        "outputId": "4ccac2b3-3112-4ef4-ac5b-6bca6ad55e32"
      },
      "source": [
        "train_categories = [categories[label] for label in dataset_all.map(lambda text, label: label).as_numpy_iterator()]\n",
        "Counter(train_categories).most_common()"
      ],
      "execution_count": 15,
      "outputs": [
        {
          "output_type": "execute_result",
          "data": {
            "text/plain": [
              "[('Sci/Tech', 31900), ('Sports', 31900), ('Business', 31900), ('World', 31900)]"
            ]
          },
          "metadata": {},
          "execution_count": 15
        }
      ]
    },
    {
      "cell_type": "markdown",
      "metadata": {
        "id": "aEPOPb63RNjv"
      },
      "source": [
        "### Preprocessing Data Create Input Pipeline"
      ]
    },
    {
      "cell_type": "code",
      "metadata": {
        "colab": {
          "base_uri": "https://localhost:8080/"
        },
        "id": "0_tU6cH0ncl0",
        "outputId": "01f4363a-b7aa-4dd8-c14c-bdfcae4e4e1b"
      },
      "source": [
        "# register  ag_news_subset so that tfds.load doesn't generate a checksum (mismatch) error\n",
        "!python -m tensorflow_datasets.scripts.download_and_prepare --register_checksums --datasets=ag_news_subset\n",
        "\n",
        "# Example Approaches to Split Data Set\n",
        "# dataset, info = tfds.load('ag_news_subset', with_info=True,  split=['train[:]','test[:1000]', 'test[1000:]'],\n",
        "dataset, info = tfds.load('ag_news_subset', with_info=True,  split=['train[:95%]','train[95%:]', 'test[:]'],\n",
        "# dataset, info = tfds.load('ag_news_subset', with_info=True,  split=['train[:114000]','train[114000:]', 'test[:]'],\n",
        "                          as_supervised=True)\n",
        "train_dataset, validation_dataset, test_dataset = dataset\n",
        "# train_dataset, test_dataset = dataset['train'],dataset['test']"
      ],
      "execution_count": 16,
      "outputs": [
        {
          "output_type": "stream",
          "name": "stdout",
          "text": [
            "2021-11-05 17:47:16.794496: I tensorflow/stream_executor/cuda/cuda_gpu_executor.cc:937] successful NUMA node read from SysFS had negative value (-1), but there must be at least one NUMA node, so returning NUMA node zero\n",
            "2021-11-05 17:47:16.802515: I tensorflow/stream_executor/cuda/cuda_gpu_executor.cc:937] successful NUMA node read from SysFS had negative value (-1), but there must be at least one NUMA node, so returning NUMA node zero\n",
            "2021-11-05 17:47:16.803126: I tensorflow/stream_executor/cuda/cuda_gpu_executor.cc:937] successful NUMA node read from SysFS had negative value (-1), but there must be at least one NUMA node, so returning NUMA node zero\n",
            "I1105 17:47:16.803775 140263056983936 download_and_prepare.py:200] Running download_and_prepare for dataset(s):\n",
            "ag_news_subset\n",
            "I1105 17:47:16.804473 140263056983936 dataset_info.py:361] Load dataset info from /root/tensorflow_datasets/ag_news_subset/1.0.0\n",
            "I1105 17:47:16.805606 140263056983936 download_and_prepare.py:138] download_and_prepare for dataset ag_news_subset/1.0.0...\n",
            "I1105 17:47:16.805794 140263056983936 dataset_builder.py:299] Reusing dataset ag_news_subset (/root/tensorflow_datasets/ag_news_subset/1.0.0)\n",
            "\u001b[1mname: \"ag_news_subset\"\n",
            "description: \"AG is a collection of more than 1 million news articles.\\nNews articles have been gathered from more than 2000  news sources by ComeToMyHead in more than 1 year of activity.\\nComeToMyHead is an academic news search engine which has been running since July, 2004.\\nThe dataset is provided by the academic comunity for research purposes in data mining (clustering, classification, etc),\\ninformation retrieval (ranking, search, etc), xml, data compression, data streaming,\\nand any other non-commercial activity.\\nFor more information, please refer to the link http://www.di.unipi.it/~gulli/AG_corpus_of_news_articles.html .\\n\\nThe AG\\'s news topic classification dataset is constructed by Xiang Zhang (xiang.zhang@nyu.edu) from the dataset above.\\nIt is used as a text classification benchmark in the following paper:\\nXiang Zhang, Junbo Zhao, Yann LeCun. Character-level Convolutional Networks for Text Classification. Advances in Neural Information Processing Systems 28 (NIPS 2015).\\n\\nThe AG\\'s news topic classification dataset is constructed by choosing 4 largest classes from the original corpus.\\nEach class contains 30,000 training samples and 1,900 testing samples.\\nThe total number of training samples is 120,000 and testing 7,600.\"\n",
            "citation: \"@misc{zhang2015characterlevel,\\n    title={Character-level Convolutional Networks for Text Classification},\\n    author={Xiang Zhang and Junbo Zhao and Yann LeCun},\\n    year={2015},\\n    eprint={1509.01626},\\n    archivePrefix={arXiv},\\n    primaryClass={cs.LG}\\n}\"\n",
            "location {\n",
            "  urls: \"https://arxiv.org/abs/1509.01626\"\n",
            "}\n",
            "splits {\n",
            "  name: \"test\"\n",
            "  shard_lengths: 7600\n",
            "  num_bytes: 2226751\n",
            "}\n",
            "splits {\n",
            "  name: \"train\"\n",
            "  shard_lengths: 120000\n",
            "  num_bytes: 35301386\n",
            "}\n",
            "supervised_keys {\n",
            "  input: \"description\"\n",
            "  output: \"label\"\n",
            "}\n",
            "version: \"1.0.0\"\n",
            "download_size: 11784327\n",
            "\u001b[0m\n"
          ]
        }
      ]
    },
    {
      "cell_type": "code",
      "metadata": {
        "id": "bRc-UUujdLD6"
      },
      "source": [
        "####  Dataset Splits (Training, Test, Validation)\n",
        "#### .8934 Training, .0470 Test, .0596 Validation"
      ],
      "execution_count": 17,
      "outputs": []
    },
    {
      "cell_type": "code",
      "metadata": {
        "colab": {
          "base_uri": "https://localhost:8080/"
        },
        "id": "3TXXMh7Hdr47",
        "outputId": "1f8ce9b9-a1e5-41a6-f37f-050eda22da9f"
      },
      "source": [
        "len(train_dataset),len(validation_dataset),len(test_dataset) \n",
        "# len(train_dataset),len(test_dataset) "
      ],
      "execution_count": 18,
      "outputs": [
        {
          "output_type": "execute_result",
          "data": {
            "text/plain": [
              "(114000, 6000, 7600)"
            ]
          },
          "metadata": {},
          "execution_count": 18
        }
      ]
    },
    {
      "cell_type": "markdown",
      "metadata": {
        "id": "e3ISb8oinPnR"
      },
      "source": [
        "### Review Distribution of Categorical Labels for the 114000 training data (news articles)"
      ]
    },
    {
      "cell_type": "code",
      "metadata": {
        "colab": {
          "base_uri": "https://localhost:8080/"
        },
        "id": "Itjr5Erroxv9",
        "outputId": "10132f4f-cf29-4f1a-f300-ecacc0a9e860"
      },
      "source": [
        "from collections import Counter\n",
        "train_categories = [categories[label] for label in train_dataset.map(lambda text, label: label).as_numpy_iterator()]\n",
        "Counter(train_categories).most_common()"
      ],
      "execution_count": 19,
      "outputs": [
        {
          "output_type": "execute_result",
          "data": {
            "text/plain": [
              "[('Business', 28531), ('Sports', 28495), ('World', 28491), ('Sci/Tech', 28483)]"
            ]
          },
          "metadata": {},
          "execution_count": 19
        }
      ]
    },
    {
      "cell_type": "markdown",
      "metadata": {
        "id": "nWA4c2ir7g6p"
      },
      "source": [
        "Review Example with Interger Label(text, label pairs):"
      ]
    },
    {
      "cell_type": "markdown",
      "metadata": {
        "id": "icCNaXSirCnm"
      },
      "source": [
        "Review Example with Interger Label Encoded Classification(text, label pairs):"
      ]
    },
    {
      "cell_type": "code",
      "metadata": {
        "colab": {
          "base_uri": "https://localhost:8080/"
        },
        "id": "g469sP9PYbQT",
        "outputId": "b16ba646-e75c-4843-aa30-4621b710f322"
      },
      "source": [
        "for example, label in train_dataset.take(1):\n",
        "  print('text: ', example.numpy())\n",
        "  print('class: ', categories[label.numpy()])"
      ],
      "execution_count": 20,
      "outputs": [
        {
          "output_type": "stream",
          "name": "stdout",
          "text": [
            "text:  b'AMD #39;s new dual-core Opteron chip is designed mainly for corporate computing applications, including databases, Web services, and financial transactions.'\n",
            "class:  Sci/Tech\n"
          ]
        }
      ]
    },
    {
      "cell_type": "markdown",
      "metadata": {
        "id": "z2qVJzcEluH_"
      },
      "source": [
        "#### Preprocessing Shuffle Data for Training and Create Batches of `(text, label)` pairs:"
      ]
    },
    {
      "cell_type": "code",
      "metadata": {
        "id": "dDsCaZCDYZgm"
      },
      "source": [
        "BUFFER_SIZE = 10000\n",
        "BATCH_SIZE = 64"
      ],
      "execution_count": 21,
      "outputs": []
    },
    {
      "cell_type": "code",
      "metadata": {
        "id": "VznrltNOnUc5"
      },
      "source": [
        "train_dataset = train_dataset.shuffle(BUFFER_SIZE).batch(BATCH_SIZE).prefetch(tf.data.experimental.AUTOTUNE)\n",
        "validation_dataset = validation_dataset.shuffle(BUFFER_SIZE).batch(BATCH_SIZE).prefetch(tf.data.experimental.AUTOTUNE)\n",
        "test_dataset = test_dataset.batch(BATCH_SIZE).prefetch(tf.data.experimental.AUTOTUNE)"
      ],
      "execution_count": 22,
      "outputs": []
    },
    {
      "cell_type": "code",
      "metadata": {
        "colab": {
          "base_uri": "https://localhost:8080/"
        },
        "id": "jqkvdcFv41wC",
        "outputId": "449236aa-9cc1-4228-94dc-ba17a51c1731"
      },
      "source": [
        "for example, label in train_dataset.take(2):\n",
        "  print('texts: ', example.numpy()[:3])\n",
        "  print()\n",
        "  print('labels: ', label.numpy()[:3])"
      ],
      "execution_count": 23,
      "outputs": [
        {
          "output_type": "stream",
          "name": "stdout",
          "text": [
            "texts:  [b'A few years ago, Ichiro Suzuki spent three days on his own wandering around the Hall of Fame, hoping to learn about the history of baseball in America.'\n",
            " b'SHANGHAI (Ticker) - Third seed Guillermo Canas of Argentina became the first seeded player to reach the second round of the Heineken Open Shanghai.'\n",
            " b'Sanath Jayasuriya took five for 17 to lead Sri Lanka to an emphatic 119-run win the triangular tournament final on Saturday and keep Pakistan waiting for their first one-day title at home.']\n",
            "\n",
            "labels:  [1 1 1]\n",
            "texts:  [b' NEW YORK (Reuters) - Software maker Computer Associates  &lt;A HREF=\"http://www.investor.reuters.com/FullQuote.aspx?ticker=CA.N target=/stocks/quickinfo/fullquote\"&gt;CA.N&lt;/A&gt; on Wednesday said it would cut 800 jobs, or 5 percent of  its work force, to pare costs amid stiff competition in  software and services.'\n",
            " b\"AP - The San Francisco Giants and catcher Mike Matheny agreed to a  #36;10.5 million three-year contract Monday, the latest move to upgrade the team's defense.\"\n",
            " b'Continental Airlines said Thursday it is seeking \\\\$500 million more in cuts in wages and benefit reductions. The company said the move is necessary - on top of more than \\\\$1.1 billion in ']\n",
            "\n",
            "labels:  [2 1 2]\n"
          ]
        }
      ]
    },
    {
      "cell_type": "code",
      "metadata": {
        "colab": {
          "base_uri": "https://localhost:8080/"
        },
        "id": "HQ_8Srl7Yi2Y",
        "outputId": "3426593b-9db2-4356-e997-686f166f424e"
      },
      "source": [
        "for example, label in train_dataset.take(2):\n",
        "  print('texts: ', example.numpy()[:3])\n",
        "  print()\n",
        "  print('labels: ', [categories[n] for n in label.numpy()[:3]])\n",
        "  print()"
      ],
      "execution_count": 24,
      "outputs": [
        {
          "output_type": "stream",
          "name": "stdout",
          "text": [
            "texts:  [b'Bad weather forces the US to cancel the first full flight test of its national missile defence system in nearly two years.'\n",
            " b'BEIJING: China has given the green signal for direct investment of insurance capital in the stock market under strict supervision, the State media reported today.'\n",
            " b'Millions of tons of sediment-heavy water are being sent through the Grand Canyon in a bid to help local wildlife.']\n",
            "\n",
            "labels:  ['Sci/Tech', 'Business', 'Sci/Tech']\n",
            "\n",
            "texts:  [b\"Jennifer Canada knew she was entering a boy's club when she enrolled in Southern Methodist University's Guildhall school of video-game making.\"\n",
            " b\"AP - San Francisco cornerback Ahmed Plummer, who hasn't played since Oct. 17, was placed on injured reserve Tuesday because of bulging disc in his neck.\"\n",
            " b'KHARTOUM, Aug 18 (Reuters) - The United Nations said on Wednesday it was very concerned by Sudan #39;s lack of practical progress in bringing security to Darfur, where more than a million people have fled their homes for fear of militia ...']\n",
            "\n",
            "labels:  ['Business', 'Sports', 'World']\n",
            "\n"
          ]
        }
      ]
    },
    {
      "cell_type": "markdown",
      "metadata": {
        "id": "s5eWCo88voPY"
      },
      "source": [
        "## Create the Text Encoder"
      ]
    },
    {
      "cell_type": "markdown",
      "metadata": {
        "id": "TFevcItw15P_"
      },
      "source": [
        "The raw text loaded by `tfds` needs to be processed before it can be used in a model. The simplest way to process text for training is using the `experimental.preprocessing.TextVectorization` layer. This layer has many capabilities, but this tutorial sticks to the default behavior."
      ]
    },
    {
      "cell_type": "markdown",
      "metadata": {
        "id": "UalGMKAzyRRf"
      },
      "source": [
        "Create the layer, and pass the dataset's text to the layer's `.adapt` method:\n",
        "The processing of each sample contains the following steps:\n",
        "\n",
        "    standardize each sample (usually lowercasing + punctuation stripping)\n",
        "    split each sample into substrings (usually words)\n",
        "    recombine substrings into tokens (usually ngrams)\n",
        "    index tokens (associate a unique int value with each token)\n",
        "    transform each sample using this index, either into a vector of ints or a dense float vector.\n"
      ]
    },
    {
      "cell_type": "markdown",
      "metadata": {
        "id": "BLaLcPcXsY95"
      },
      "source": [
        "The `.adapt` method sets the layer's vocabulary. Here are the first 20 tokens. After the padding and unknown tokens they're sorted by frequency: "
      ]
    },
    {
      "cell_type": "code",
      "metadata": {
        "id": "uC25Lu1Yvuqy"
      },
      "source": [
        "VOCAB_SIZE=1000\n",
        "encoder = tf.keras.layers.experimental.preprocessing.TextVectorization(\n",
        "    max_tokens=VOCAB_SIZE)\n",
        "encoder.adapt(train_dataset.map(lambda text, label: text))"
      ],
      "execution_count": 25,
      "outputs": []
    },
    {
      "cell_type": "code",
      "metadata": {
        "colab": {
          "base_uri": "https://localhost:8080/"
        },
        "id": "s5tP4VcSkTvY",
        "outputId": "e979269e-bc50-42a5-d26a-8218baee0d7f"
      },
      "source": [
        "vocab = np.array(encoder.get_vocabulary())\n",
        "len(vocab)"
      ],
      "execution_count": 26,
      "outputs": [
        {
          "output_type": "execute_result",
          "data": {
            "text/plain": [
              "1000"
            ]
          },
          "metadata": {},
          "execution_count": 26
        }
      ]
    },
    {
      "cell_type": "code",
      "metadata": {
        "colab": {
          "base_uri": "https://localhost:8080/"
        },
        "id": "tBoyjjWg0Ac9",
        "outputId": "82153041-dba2-4f04-d64a-f8fc98fdaf0a"
      },
      "source": [
        "vocab = np.array(encoder.get_vocabulary())\n",
        "vocab[:20]"
      ],
      "execution_count": 27,
      "outputs": [
        {
          "output_type": "execute_result",
          "data": {
            "text/plain": [
              "array(['', '[UNK]', 'the', 'a', 'to', 'of', 'in', 'and', 'on', 'for',\n",
              "       'that', '39s', 'with', 'its', 'as', 'at', 'is', 'said', 'by', 'it'],\n",
              "      dtype='<U14')"
            ]
          },
          "metadata": {},
          "execution_count": 27
        }
      ]
    },
    {
      "cell_type": "markdown",
      "metadata": {
        "id": "-rPfbSyoruu3"
      },
      "source": [
        "Here are the 20 least frequent words."
      ]
    },
    {
      "cell_type": "code",
      "metadata": {
        "colab": {
          "base_uri": "https://localhost:8080/"
        },
        "id": "O6tWoBiwrzyX",
        "outputId": "f38d3f69-f3b6-4175-e0e9-0d7c0e9aa3af"
      },
      "source": [
        "vocab[-20:]"
      ],
      "execution_count": 28,
      "outputs": [
        {
          "output_type": "execute_result",
          "data": {
            "text/plain": [
              "array(['black', 'turn', 'build', 'countrys', 'advanced', 'whose',\n",
              "       'crisis', 'create', '23', 'sources', 'body', 'militant', 'hope',\n",
              "       'event', 'started', 'ready', 'jones', 'lawsuit', 'focus',\n",
              "       'singapore'], dtype='<U14')"
            ]
          },
          "metadata": {},
          "execution_count": 28
        }
      ]
    },
    {
      "cell_type": "markdown",
      "metadata": {
        "id": "mjId5pua3jHQ"
      },
      "source": [
        "Once the vocabulary is set, the layer can encode text into indices. The tensors of indices are 0-padded to the longest sequence in the batch (unless you set a fixed `output_sequence_length`):<br>\n",
        "Default Batch Size = 32"
      ]
    },
    {
      "cell_type": "code",
      "metadata": {
        "colab": {
          "base_uri": "https://localhost:8080/"
        },
        "id": "RGc7C9WiwRWs",
        "outputId": "2a98c4f5-2faa-4d0c-fcc5-d8bc2978b3ba"
      },
      "source": [
        "encoded_example = encoder(example)[:3].numpy()\n",
        "encoded_example"
      ],
      "execution_count": 29,
      "outputs": [
        {
          "output_type": "execute_result",
          "data": {
            "text/plain": [
              "array([[  1, 698,   1, 437,  27,   1,   3,   1, 513,  68, 437,   1,   6,\n",
              "        432,   1,   1,   1, 538,   5,   1, 468,   0,   0,   0,   0,   0,\n",
              "          0,   0,   0,   0,   0,   0,   0,   0,   0,   0,   0,   0,   0,\n",
              "          0,   0,   0,   0,   0,   0,   0,   0,   0,   0,   0,   0,   0,\n",
              "          0,   0,   0,   0],\n",
              "       [ 35, 177, 319,   1,   1,   1,  59,   1,   1, 189, 517, 675,  27,\n",
              "          1,   8, 630, 587,  44, 220,   5,   1,   1,   6,  24,   1,   0,\n",
              "          0,   0,   0,   0,   0,   0,   0,   0,   0,   0,   0,   0,   0,\n",
              "          0,   0,   0,   0,   0,   0,   0,   0,   0,   0,   0,   0,   0,\n",
              "          0,   0,   0,   0],\n",
              "       [  1, 951, 576,  28,   2,  72, 236,  17,   8,  43,  19,  27,   1,\n",
              "          1,  18, 862,  11,   1,   5,   1,   1,   6,   1,  96,   4, 615,\n",
              "        289,  41,  57,   3,  69,  80,  30,   1,  32,   1,   9,   1,   5,\n",
              "          1,   0,   0,   0,   0,   0,   0,   0,   0,   0,   0,   0,   0,\n",
              "          0,   0,   0,   0]])"
            ]
          },
          "metadata": {},
          "execution_count": 29
        }
      ]
    },
    {
      "cell_type": "markdown",
      "metadata": {
        "id": "F5cjz0bS39IN"
      },
      "source": [
        "With the default settings, the process is not completely reversible. There are three main reasons for that:\n",
        "\n",
        "1. The default value for `preprocessing.TextVectorization`'s `standardize` argument is `\"lower_and_strip_punctuation\"`.\n",
        "2. The limited vocabulary size and lack of character-based fallback results in some unknown tokens."
      ]
    },
    {
      "cell_type": "code",
      "metadata": {
        "colab": {
          "base_uri": "https://localhost:8080/"
        },
        "id": "N_tD0QY5wXaK",
        "outputId": "9cbdfb4f-0bc8-40eb-d3e2-4a9144b2855d"
      },
      "source": [
        "for n in range(3):\n",
        "  print(\"Original: \", example[n].numpy())\n",
        "  print(\"Round-trip: \", \" \".join(vocab[encoded_example[n]]))\n",
        "  print()"
      ],
      "execution_count": 30,
      "outputs": [
        {
          "output_type": "stream",
          "name": "stdout",
          "text": [
            "Original:  b\"Jennifer Canada knew she was entering a boy's club when she enrolled in Southern Methodist University's Guildhall school of video-game making.\"\n",
            "Round-trip:  [UNK] canada [UNK] she was [UNK] a [UNK] club when she [UNK] in southern [UNK] [UNK] [UNK] school of [UNK] making                                   \n",
            "\n",
            "Original:  b\"AP - San Francisco cornerback Ahmed Plummer, who hasn't played since Oct. 17, was placed on injured reserve Tuesday because of bulging disc in his neck.\"\n",
            "Round-trip:  ap san francisco [UNK] [UNK] [UNK] who [UNK] [UNK] since oct 17 was [UNK] on injured reserve tuesday because of [UNK] [UNK] in his [UNK]                               \n",
            "\n",
            "Original:  b'KHARTOUM, Aug 18 (Reuters) - The United Nations said on Wednesday it was very concerned by Sudan #39;s lack of practical progress in bringing security to Darfur, where more than a million people have fled their homes for fear of militia ...'\n",
            "Round-trip:  [UNK] aug 18 reuters the united nations said on wednesday it was [UNK] [UNK] by sudan 39s [UNK] of [UNK] [UNK] in [UNK] security to darfur where more than a million people have [UNK] their [UNK] for [UNK] of [UNK]                \n",
            "\n"
          ]
        }
      ]
    },
    {
      "cell_type": "markdown",
      "metadata": {
        "id": "bjUqGVBxGw-t"
      },
      "source": [
        "## Create the model: Single Layer Unidirectional RNN with LTSM (Experiment C1U)"
      ]
    },
    {
      "cell_type": "markdown",
      "metadata": {
        "id": "bgs6nnSTGw-t"
      },
      "source": [
        "Above is a diagram of the model. \n",
        "\n",
        "1. This model can be build as a `tf.keras.Sequential`.\n",
        "\n",
        "1. The first layer is the `encoder`, which converts the text to a sequence of token indices.\n",
        "\n",
        "2. After the encoder is an embedding layer. An embedding layer stores one vector per word. When called, it converts the sequences of word indices to sequences of vectors. These vectors are trainable. After training (on enough data), words with similar meanings often have similar vectors.\n",
        "\n",
        "  This index-lookup is much more efficient than the equivalent operation of passing a one-hot encoded vector through a `tf.keras.layers.Dense` layer.\n",
        "\n",
        "3. A recurrent neural network (RNN) processes sequence input by iterating through the elements. RNNs pass the outputs from one timestep to their input on the next timestep.\n",
        "\n",
        "  The `tf.keras.layers.Bidirectional` wrapper can also be used with an RNN layer. This propagates the input forward and backwards through the RNN layer and then concatenates the final output. \n",
        "\n",
        "  * The main advantage to a bidirectional RNN is that the signal from the beginning of the input doesn't need to be processed all the way through every timestep to affect the output.  \n",
        "\n",
        "  * The main disadvantage of a bidirectional RNN is that you can't efficiently stream predictions as words are being added to the end.\n",
        "\n",
        "1. After the RNN has converted the sequence to a single vector the two `layers.Dense` do some final processing, and convert from this vector representation to a single logit as the classification output. \n"
      ]
    },
    {
      "cell_type": "markdown",
      "metadata": {
        "id": "9EODAFUjNaDC"
      },
      "source": [
        "<div class=\"alert alert-block alert-info\">\n",
        "    <b>tf.keras.layers.Bidirectional</b><br>\n",
        "    https://www.tensorflow.org/api_docs/python/tf/keras/layers/Bidirectional\n",
        "    </div>"
      ]
    },
    {
      "cell_type": "markdown",
      "metadata": {
        "id": "-6Qzwsj5QH0S"
      },
      "source": [
        "<img src=\"https://github.com/djp840/MSDS_458_Public/blob/master/images/BidirectionalRNN.png?raw=1\">"
      ]
    },
    {
      "cell_type": "code",
      "metadata": {
        "id": "LwfoBkmRYcP3"
      },
      "source": [
        "from keras import backend as K\n",
        "K.clear_session()\n",
        "\n",
        "num_classes = 4\n",
        "model = tf.keras.Sequential([\n",
        "                              encoder\n",
        "                              ,tf.keras.layers.Embedding(input_dim=len(encoder.get_vocabulary())\n",
        "                              ,output_dim=64\n",
        "                                # Use masking to handle the variable sequence lengths\n",
        "                              ,mask_zero=True)\n",
        "                              ,tf.keras.layers.LSTM(64,activation='tanh', recurrent_activation='sigmoid')\n",
        "                              ,tf.keras.layers.Dense(64, activation='relu')\n",
        "                              ,tf.keras.layers.Dense(num_classes,activation='softmax')   # num_classes = 4\n",
        "])"
      ],
      "execution_count": 31,
      "outputs": []
    },
    {
      "cell_type": "markdown",
      "metadata": {
        "id": "dfNGE58PNaDD"
      },
      "source": [
        "<div class=\"alert alert-block alert-success\"> \n",
        "Please note that we choose to Keras sequential model here since all the layers in the model only have single input and produce single output. </div>"
      ]
    },
    {
      "cell_type": "markdown",
      "metadata": {
        "id": "KTqE1NQXNaDD"
      },
      "source": [
        "<div class=\"alert alert-block alert-info\"> \n",
        "<b>tf.keras.Model</b><br>\n",
        "https://www.tensorflow.org/api_docs/python/tf/keras/Model\n",
        "</div>  "
      ]
    },
    {
      "cell_type": "markdown",
      "metadata": {
        "id": "RztlbCugEFaI"
      },
      "source": [
        "## Compile Model: Single Layer Unidirectional RNN with LTSM (Experiment C1U)"
      ]
    },
    {
      "cell_type": "markdown",
      "metadata": {
        "id": "aNazQp3lEDv7"
      },
      "source": [
        "<div class=\"alert alert-block alert-info\">\n",
        "<b>tf.keras.losses.SparseCategoricalCrossentropy</b><br>\n",
        "https://www.tensorflow.org/api_docs/python/tf/keras/losses/SparseCategoricalCrossentropy</div>"
      ]
    },
    {
      "cell_type": "code",
      "metadata": {
        "id": "ZmWbBazIDe_-"
      },
      "source": [
        "model.compile(optimizer=tf.keras.optimizers.Adam(1e-4)\n",
        "              ,loss=tf.keras.losses.SparseCategoricalCrossentropy() # if we set from_logits=True we don not have specify a softmax activation function in the last layer\n",
        "              ,metrics=['accuracy'])"
      ],
      "execution_count": 32,
      "outputs": []
    },
    {
      "cell_type": "markdown",
      "metadata": {
        "id": "QIGmIGkkouUb"
      },
      "source": [
        "Please note that Keras sequential model is used here since all the layers in the model only have single input and produce single output. In case you want to use stateful RNN layer, you might want to build your model with Keras functional API or model subclassing so that you can retrieve and reuse the RNN layer states. Please check [Keras RNN guide](https://www.tensorflow.org/guide/keras/rnn#rnn_state_reuse) for more details."
      ]
    },
    {
      "cell_type": "markdown",
      "metadata": {
        "id": "kF-PsCk1LwjY"
      },
      "source": [
        "The embedding layer [uses masking](../../guide/keras/masking_and_padding) to handle the varying sequence-lengths. All the layers after the `Embedding` support masking:"
      ]
    },
    {
      "cell_type": "code",
      "metadata": {
        "colab": {
          "base_uri": "https://localhost:8080/"
        },
        "id": "87a8-CwfKebw",
        "outputId": "37cb044b-9a47-403c-b249-ac2dde11c1b2"
      },
      "source": [
        "print([layer.supports_masking for layer in model.layers])"
      ],
      "execution_count": 33,
      "outputs": [
        {
          "output_type": "stream",
          "name": "stdout",
          "text": [
            "[False, True, True, True, True]\n"
          ]
        }
      ]
    },
    {
      "cell_type": "markdown",
      "metadata": {
        "id": "zIwH3nto596k"
      },
      "source": [
        "## Train the model: Single Layer Unidirectional RNN with LTSM (Experiment C1U)"
      ]
    },
    {
      "cell_type": "markdown",
      "metadata": {
        "id": "7oHB6X8i0u2H"
      },
      "source": [
        "<div class=\"alert alert-block alert-success\">\n",
        "    <b>Module: tf.keras.callbacks</b></div>"
      ]
    },
    {
      "cell_type": "markdown",
      "metadata": {
        "id": "th1k9Dha0vCl"
      },
      "source": [
        "<div class=\"alert alert-block alert-info\">\n",
        "<b>tf.keras.callbacks.EarlyStopping</b><br>\n",
        "https://www.tensorflow.org/api_docs/python/tf/keras/callbacks/EarlyStopping</div>\n",
        "\n",
        "<div class=\"alert alert-block alert-info\">\n",
        "<b>tf.keras.callbacks.ModelCheckpoint</b><br>\n",
        "https://www.tensorflow.org/api_docs/python/tf/keras/callbacks/ModelCheckpoint</div>"
      ]
    },
    {
      "cell_type": "code",
      "metadata": {
        "colab": {
          "base_uri": "https://localhost:8080/"
        },
        "id": "hw86wWS4YgR2",
        "outputId": "6e02dd9f-412d-4a19-d865-be5e60d1112f"
      },
      "source": [
        "start=datetime.now()\n",
        "\n",
        "history = model.fit(train_dataset\n",
        "                    ,epochs = 200\n",
        "                    ,validation_data=validation_dataset\n",
        "                    ,callbacks=[tf.keras.callbacks.EarlyStopping(monitor='val_accuracy', patience=2)]\n",
        "                    )\n",
        "\n",
        "end=datetime.now()\n",
        "print(\"Experiment C1U time:\", end-start) "
      ],
      "execution_count": 34,
      "outputs": [
        {
          "output_type": "stream",
          "name": "stdout",
          "text": [
            "Epoch 1/200\n",
            "1782/1782 [==============================] - 23s 9ms/step - loss: 0.8524 - accuracy: 0.6310 - val_loss: 0.5858 - val_accuracy: 0.7803\n",
            "Epoch 2/200\n",
            "1782/1782 [==============================] - 16s 9ms/step - loss: 0.5151 - accuracy: 0.8119 - val_loss: 0.4469 - val_accuracy: 0.8432\n",
            "Epoch 3/200\n",
            "1782/1782 [==============================] - 16s 9ms/step - loss: 0.4280 - accuracy: 0.8482 - val_loss: 0.4093 - val_accuracy: 0.8538\n",
            "Epoch 4/200\n",
            "1782/1782 [==============================] - 16s 9ms/step - loss: 0.4031 - accuracy: 0.8553 - val_loss: 0.4015 - val_accuracy: 0.8540\n",
            "Epoch 5/200\n",
            "1782/1782 [==============================] - 16s 9ms/step - loss: 0.3918 - accuracy: 0.8587 - val_loss: 0.3931 - val_accuracy: 0.8578\n",
            "Epoch 6/200\n",
            "1782/1782 [==============================] - 16s 9ms/step - loss: 0.3866 - accuracy: 0.8601 - val_loss: 0.3950 - val_accuracy: 0.8540\n",
            "Epoch 7/200\n",
            "1782/1782 [==============================] - 16s 9ms/step - loss: 0.3825 - accuracy: 0.8613 - val_loss: 0.3921 - val_accuracy: 0.8570\n",
            "Experiment C1U time: 0:01:57.068369\n"
          ]
        }
      ]
    },
    {
      "cell_type": "code",
      "metadata": {
        "colab": {
          "base_uri": "https://localhost:8080/"
        },
        "id": "BaNbXi43YgUT",
        "outputId": "a2ac1c22-dffc-4491-e53d-cdff5809e783"
      },
      "source": [
        "test_loss, test_acc = model.evaluate(test_dataset)\n",
        "\n",
        "print('Test Loss: {}'.format(test_loss))\n",
        "print('Test Accuracy: {}'.format(test_acc))"
      ],
      "execution_count": 35,
      "outputs": [
        {
          "output_type": "stream",
          "name": "stdout",
          "text": [
            "119/119 [==============================] - 1s 5ms/step - loss: 0.4128 - accuracy: 0.8511\n",
            "Test Loss: 0.4128133952617645\n",
            "Test Accuracy: 0.8510526418685913\n"
          ]
        }
      ]
    },
    {
      "cell_type": "markdown",
      "metadata": {
        "id": "OUZyCyI33fPU"
      },
      "source": [
        "## Plotting Performance Metrics: Single Layer Unidirectional RNN with LTSM (Experiment C1U)"
      ]
    },
    {
      "cell_type": "markdown",
      "metadata": {
        "id": "uFK6utDG3fjX"
      },
      "source": [
        "We use Matplotlib to create 2 plots--displaying the training and validation loss (resp. accuracy) for each (training) epoch side by side."
      ]
    },
    {
      "cell_type": "code",
      "metadata": {
        "colab": {
          "base_uri": "https://localhost:8080/"
        },
        "id": "HzEOTxsc1JTJ",
        "outputId": "4fc26cb6-0eaf-40a9-d647-4493a1cc7a22"
      },
      "source": [
        "history_dict = history.history\n",
        "history_dict.keys()"
      ],
      "execution_count": 36,
      "outputs": [
        {
          "output_type": "execute_result",
          "data": {
            "text/plain": [
              "dict_keys(['loss', 'accuracy', 'val_loss', 'val_accuracy'])"
            ]
          },
          "metadata": {},
          "execution_count": 36
        }
      ]
    },
    {
      "cell_type": "code",
      "metadata": {
        "colab": {
          "base_uri": "https://localhost:8080/",
          "height": 263
        },
        "id": "2VV8VwoA1Je1",
        "outputId": "77420022-1f2e-4d9d-977b-1f2b5291c85b"
      },
      "source": [
        "history_df=pd.DataFrame(history_dict)\n",
        "history_df.tail(10).round(3)"
      ],
      "execution_count": 37,
      "outputs": [
        {
          "output_type": "execute_result",
          "data": {
            "text/html": [
              "<div>\n",
              "<style scoped>\n",
              "    .dataframe tbody tr th:only-of-type {\n",
              "        vertical-align: middle;\n",
              "    }\n",
              "\n",
              "    .dataframe tbody tr th {\n",
              "        vertical-align: top;\n",
              "    }\n",
              "\n",
              "    .dataframe thead th {\n",
              "        text-align: right;\n",
              "    }\n",
              "</style>\n",
              "<table border=\"1\" class=\"dataframe\">\n",
              "  <thead>\n",
              "    <tr style=\"text-align: right;\">\n",
              "      <th></th>\n",
              "      <th>loss</th>\n",
              "      <th>accuracy</th>\n",
              "      <th>val_loss</th>\n",
              "      <th>val_accuracy</th>\n",
              "    </tr>\n",
              "  </thead>\n",
              "  <tbody>\n",
              "    <tr>\n",
              "      <th>0</th>\n",
              "      <td>0.852</td>\n",
              "      <td>0.631</td>\n",
              "      <td>0.586</td>\n",
              "      <td>0.780</td>\n",
              "    </tr>\n",
              "    <tr>\n",
              "      <th>1</th>\n",
              "      <td>0.515</td>\n",
              "      <td>0.812</td>\n",
              "      <td>0.447</td>\n",
              "      <td>0.843</td>\n",
              "    </tr>\n",
              "    <tr>\n",
              "      <th>2</th>\n",
              "      <td>0.428</td>\n",
              "      <td>0.848</td>\n",
              "      <td>0.409</td>\n",
              "      <td>0.854</td>\n",
              "    </tr>\n",
              "    <tr>\n",
              "      <th>3</th>\n",
              "      <td>0.403</td>\n",
              "      <td>0.855</td>\n",
              "      <td>0.402</td>\n",
              "      <td>0.854</td>\n",
              "    </tr>\n",
              "    <tr>\n",
              "      <th>4</th>\n",
              "      <td>0.392</td>\n",
              "      <td>0.859</td>\n",
              "      <td>0.393</td>\n",
              "      <td>0.858</td>\n",
              "    </tr>\n",
              "    <tr>\n",
              "      <th>5</th>\n",
              "      <td>0.387</td>\n",
              "      <td>0.860</td>\n",
              "      <td>0.395</td>\n",
              "      <td>0.854</td>\n",
              "    </tr>\n",
              "    <tr>\n",
              "      <th>6</th>\n",
              "      <td>0.383</td>\n",
              "      <td>0.861</td>\n",
              "      <td>0.392</td>\n",
              "      <td>0.857</td>\n",
              "    </tr>\n",
              "  </tbody>\n",
              "</table>\n",
              "</div>"
            ],
            "text/plain": [
              "    loss  accuracy  val_loss  val_accuracy\n",
              "0  0.852     0.631     0.586         0.780\n",
              "1  0.515     0.812     0.447         0.843\n",
              "2  0.428     0.848     0.409         0.854\n",
              "3  0.403     0.855     0.402         0.854\n",
              "4  0.392     0.859     0.393         0.858\n",
              "5  0.387     0.860     0.395         0.854\n",
              "6  0.383     0.861     0.392         0.857"
            ]
          },
          "metadata": {},
          "execution_count": 37
        }
      ]
    },
    {
      "cell_type": "code",
      "metadata": {
        "id": "NvA2u5do1JqA"
      },
      "source": [
        "losses = history.history['loss']\n",
        "accs = history.history['accuracy']\n",
        "val_losses = history.history['val_loss']\n",
        "val_accs = history.history['val_accuracy']\n",
        "epochs = len(losses)"
      ],
      "execution_count": 38,
      "outputs": []
    },
    {
      "cell_type": "code",
      "metadata": {
        "colab": {
          "base_uri": "https://localhost:8080/",
          "height": 264
        },
        "id": "JGoRjq2T1SUp",
        "scrolled": true,
        "outputId": "c329ce2c-0bfe-4fac-ec14-f3c6b277ae5f"
      },
      "source": [
        "plt.figure(figsize=(16, 4))\n",
        "for i, metrics in enumerate(zip([losses, accs], [val_losses, val_accs], ['Loss', 'Accuracy'])):\n",
        "    plt.subplot(1, 2, i + 1)\n",
        "    plt.plot(range(epochs), metrics[0], label='Training {}'.format(metrics[2]))\n",
        "    plt.plot(range(epochs), metrics[1], label='Validation {}'.format(metrics[2]))\n",
        "    plt.legend()\n",
        "plt.show()"
      ],
      "execution_count": 39,
      "outputs": [
        {
          "output_type": "display_data",
          "data": {
            "image/png": "[encoded data removed]",
            "text/plain": [
              "<Figure size 1152x288 with 2 Axes>"
            ]
          },
          "metadata": {
            "needs_background": "light"
          }
        }
      ]
    },
    {
      "cell_type": "markdown",
      "metadata": {
        "id": "bawulBahPZQq"
      },
      "source": [
        "## Model Architecture Summary: Single Layer unidirectional RNN with LTSM (Experiment C1U)"
      ]
    },
    {
      "cell_type": "code",
      "metadata": {
        "colab": {
          "base_uri": "https://localhost:8080/"
        },
        "id": "KVd7MMCoOjMp",
        "outputId": "9e129288-9627-46f9-d7df-c7e44de5a056"
      },
      "source": [
        "model.summary()"
      ],
      "execution_count": 40,
      "outputs": [
        {
          "output_type": "stream",
          "name": "stdout",
          "text": [
            "Model: \"sequential\"\n",
            "_________________________________________________________________\n",
            "Layer (type)                 Output Shape              Param #   \n",
            "=================================================================\n",
            "text_vectorization (TextVect (None, None)              0         \n",
            "_________________________________________________________________\n",
            "embedding (Embedding)        (None, None, 64)          64000     \n",
            "_________________________________________________________________\n",
            "lstm (LSTM)                  (None, 64)                33024     \n",
            "_________________________________________________________________\n",
            "dense (Dense)                (None, 64)                4160      \n",
            "_________________________________________________________________\n",
            "dense_1 (Dense)              (None, 4)                 260       \n",
            "=================================================================\n",
            "Total params: 101,444\n",
            "Trainable params: 101,444\n",
            "Non-trainable params: 0\n",
            "_________________________________________________________________\n"
          ]
        }
      ]
    },
    {
      "cell_type": "code",
      "metadata": {
        "colab": {
          "base_uri": "https://localhost:8080/",
          "height": 644
        },
        "id": "2o0oUFPAOjht",
        "outputId": "3bc7f966-9bc0-405f-9a9e-4ba7def23a07"
      },
      "source": [
        "keras.utils.plot_model(model, \"BiDirectionalLSTM.png\", show_shapes=True)"
      ],
      "execution_count": 41,
      "outputs": [
        {
          "output_type": "execute_result",
          "data": {
            "image/png": "[encoded data removed]",
            "text/plain": [
              "<IPython.core.display.Image object>"
            ]
          },
          "metadata": {},
          "execution_count": 41
        }
      ]
    },
    {
      "cell_type": "markdown",
      "metadata": {
        "id": "7g1evcaRpTKm"
      },
      "source": [
        "##Create model by stacking two or more layers: Multi Layer Unidirectional RNN with LTSM (Experiment C2U)\n",
        "\n",
        "\n",
        "Keras recurrent layers have two available modes that are controlled by the `return_sequences` constructor argument:\n",
        "\n",
        "* If `False` it returns only the last output for each input sequence (a 2D tensor of shape (batch_size, output_features)). This is the default, used in the previous model.\n",
        "\n",
        "* If `True` the full sequences of successive outputs for each timestep is returned (a 3D tensor of shape `(batch_size, timesteps, output_features)`).\n",
        "\n",
        "Here is what the flow of information looks like with `return_sequences=True`:\n",
        "\n",
        "![layered_bidirectional]?raw=1\""
      ]
    },
    {
      "cell_type": "markdown",
      "metadata": {
        "id": "wbSClCrG1z8l"
      },
      "source": [
        "The interesting thing about using an `RNN` with `return_sequences=True` is that the output still has 3-axes, like the input, so it can be passed to another RNN layer, like this:"
      ]
    },
    {
      "cell_type": "markdown",
      "metadata": {
        "id": "TJTx1dsTRUtW"
      },
      "source": [
        "<img src=\"https://github.com/djp840/MSDS_458_Public/blob/master/images/multilayerBidirectionalLSTM.png?raw=1\">"
      ]
    },
    {
      "cell_type": "code",
      "metadata": {
        "id": "jo1jjO3vn0jo"
      },
      "source": [
        "from keras import backend as K\n",
        "K.clear_session()\n",
        "\n",
        "model2 = tf.keras.Sequential([\n",
        "                              encoder\n",
        "                              ,tf.keras.layers.Embedding(len(encoder.get_vocabulary()), 64, mask_zero=True)\n",
        "                              ,tf.keras.layers.LSTM(64,activation='tanh', recurrent_activation='sigmoid',  return_sequences=True)\n",
        "                              ,tf.keras.layers.LSTM(32,activation='tanh', recurrent_activation='sigmoid')\n",
        "                              ,tf.keras.layers.Dense(64, activation='relu')\n",
        "                              ,tf.keras.layers.Dropout(0.5)\n",
        "                              ,tf.keras.layers.Dense(num_classes,activation='softmax')   # not binary since there are num_classes categories\n",
        "])"
      ],
      "execution_count": 42,
      "outputs": []
    },
    {
      "cell_type": "markdown",
      "metadata": {
        "id": "iukhoA9vR7gx"
      },
      "source": [
        "<div class=\"alert alert-block alert-info\">\n",
        "<b>tf.keras.losses.SparseCategoricalCrossentropy</b><br>\n",
        "https://www.tensorflow.org/api_docs/python/tf/keras/losses/SparseCategoricalCrossentropy</div>"
      ]
    },
    {
      "cell_type": "code",
      "metadata": {
        "id": "_zjWuJesR72x"
      },
      "source": [
        "model2.compile(optimizer='adam'\n",
        "              ,loss=tf.keras.losses.SparseCategoricalCrossentropy() # if we set from_logits=True we do not have specify a softmax activation function in the last layer\n",
        "              ,metrics=['accuracy'])"
      ],
      "execution_count": 43,
      "outputs": []
    },
    {
      "cell_type": "code",
      "metadata": {
        "colab": {
          "base_uri": "https://localhost:8080/"
        },
        "id": "LeSE-YjdqAeN",
        "outputId": "c74d6379-15c0-4f7d-9048-fc21c4e210ea"
      },
      "source": [
        "start=datetime.now()\n",
        "\n",
        "history2 = model2.fit(train_dataset\n",
        "                    ,epochs=200\n",
        "                    ,validation_data=validation_dataset\n",
        "                    ,validation_steps=30\n",
        "                    ,callbacks=[tf.keras.callbacks.EarlyStopping(monitor='val_accuracy', patience=2)]\n",
        "                    )\n",
        "\n",
        "end=datetime.now()\n",
        "print(\"Experiment C2U time:\", end-start) "
      ],
      "execution_count": 44,
      "outputs": [
        {
          "output_type": "stream",
          "name": "stdout",
          "text": [
            "Epoch 1/200\n",
            "1782/1782 [==============================] - 32s 15ms/step - loss: 0.5488 - accuracy: 0.7989 - val_loss: 0.4137 - val_accuracy: 0.8630\n",
            "Epoch 2/200\n",
            "1782/1782 [==============================] - 24s 14ms/step - loss: 0.4430 - accuracy: 0.8479 - val_loss: 0.4173 - val_accuracy: 0.8568\n",
            "Epoch 3/200\n",
            "1782/1782 [==============================] - 24s 14ms/step - loss: 0.4219 - accuracy: 0.8541 - val_loss: 0.3876 - val_accuracy: 0.8667\n",
            "Epoch 4/200\n",
            "1782/1782 [==============================] - 24s 14ms/step - loss: 0.4054 - accuracy: 0.8592 - val_loss: 0.4095 - val_accuracy: 0.8625\n",
            "Epoch 5/200\n",
            "1782/1782 [==============================] - 24s 14ms/step - loss: 0.3910 - accuracy: 0.8636 - val_loss: 0.3761 - val_accuracy: 0.8656\n",
            "Experiment C2U time: 0:02:09.521548\n"
          ]
        }
      ]
    },
    {
      "cell_type": "code",
      "metadata": {
        "colab": {
          "base_uri": "https://localhost:8080/"
        },
        "id": "_LdwilM1qPM3",
        "outputId": "65c9294a-323d-4e59-f3eb-2396fc3dd2d5"
      },
      "source": [
        "test_loss, test_acc = model2.evaluate(test_dataset)\n",
        "\n",
        "print('Test Loss: {}'.format(test_loss))\n",
        "print('Test Accuracy: {}'.format(test_acc))"
      ],
      "execution_count": 45,
      "outputs": [
        {
          "output_type": "stream",
          "name": "stdout",
          "text": [
            "119/119 [==============================] - 1s 6ms/step - loss: 0.3980 - accuracy: 0.8563\n",
            "Test Loss: 0.39804115891456604\n",
            "Test Accuracy: 0.8563157916069031\n"
          ]
        }
      ]
    },
    {
      "cell_type": "markdown",
      "metadata": {
        "id": "x44eh6w-SjPa"
      },
      "source": [
        "## Plotting Performance Metrics: Multi Layer Unidirectional RNN with LTSM (Experiment C2U)"
      ]
    },
    {
      "cell_type": "markdown",
      "metadata": {
        "id": "7YwGAxu3SjbG"
      },
      "source": [
        "We use Matplotlib to create 2 plots--displaying the training and validation loss (resp. accuracy) for each (training) epoch side by side."
      ]
    },
    {
      "cell_type": "code",
      "metadata": {
        "colab": {
          "base_uri": "https://localhost:8080/"
        },
        "id": "l5Wa2bx7Suny",
        "outputId": "979e393e-24bc-4d04-c40b-e5bccc3ab6e0"
      },
      "source": [
        "history_dict2 = history2.history\n",
        "history_dict2.keys()"
      ],
      "execution_count": 46,
      "outputs": [
        {
          "output_type": "execute_result",
          "data": {
            "text/plain": [
              "dict_keys(['loss', 'accuracy', 'val_loss', 'val_accuracy'])"
            ]
          },
          "metadata": {},
          "execution_count": 46
        }
      ]
    },
    {
      "cell_type": "code",
      "metadata": {
        "colab": {
          "base_uri": "https://localhost:8080/",
          "height": 202
        },
        "id": "cwzqjLbrSurM",
        "outputId": "563cb788-0bb9-4ec2-e597-2b622431206a"
      },
      "source": [
        "history2_df=pd.DataFrame(history_dict2)\n",
        "history2_df.tail().round(3)"
      ],
      "execution_count": 47,
      "outputs": [
        {
          "output_type": "execute_result",
          "data": {
            "text/html": [
              "<div>\n",
              "<style scoped>\n",
              "    .dataframe tbody tr th:only-of-type {\n",
              "        vertical-align: middle;\n",
              "    }\n",
              "\n",
              "    .dataframe tbody tr th {\n",
              "        vertical-align: top;\n",
              "    }\n",
              "\n",
              "    .dataframe thead th {\n",
              "        text-align: right;\n",
              "    }\n",
              "</style>\n",
              "<table border=\"1\" class=\"dataframe\">\n",
              "  <thead>\n",
              "    <tr style=\"text-align: right;\">\n",
              "      <th></th>\n",
              "      <th>loss</th>\n",
              "      <th>accuracy</th>\n",
              "      <th>val_loss</th>\n",
              "      <th>val_accuracy</th>\n",
              "    </tr>\n",
              "  </thead>\n",
              "  <tbody>\n",
              "    <tr>\n",
              "      <th>0</th>\n",
              "      <td>0.549</td>\n",
              "      <td>0.799</td>\n",
              "      <td>0.414</td>\n",
              "      <td>0.863</td>\n",
              "    </tr>\n",
              "    <tr>\n",
              "      <th>1</th>\n",
              "      <td>0.443</td>\n",
              "      <td>0.848</td>\n",
              "      <td>0.417</td>\n",
              "      <td>0.857</td>\n",
              "    </tr>\n",
              "    <tr>\n",
              "      <th>2</th>\n",
              "      <td>0.422</td>\n",
              "      <td>0.854</td>\n",
              "      <td>0.388</td>\n",
              "      <td>0.867</td>\n",
              "    </tr>\n",
              "    <tr>\n",
              "      <th>3</th>\n",
              "      <td>0.405</td>\n",
              "      <td>0.859</td>\n",
              "      <td>0.410</td>\n",
              "      <td>0.863</td>\n",
              "    </tr>\n",
              "    <tr>\n",
              "      <th>4</th>\n",
              "      <td>0.391</td>\n",
              "      <td>0.864</td>\n",
              "      <td>0.376</td>\n",
              "      <td>0.866</td>\n",
              "    </tr>\n",
              "  </tbody>\n",
              "</table>\n",
              "</div>"
            ],
            "text/plain": [
              "    loss  accuracy  val_loss  val_accuracy\n",
              "0  0.549     0.799     0.414         0.863\n",
              "1  0.443     0.848     0.417         0.857\n",
              "2  0.422     0.854     0.388         0.867\n",
              "3  0.405     0.859     0.410         0.863\n",
              "4  0.391     0.864     0.376         0.866"
            ]
          },
          "metadata": {},
          "execution_count": 47
        }
      ]
    },
    {
      "cell_type": "code",
      "metadata": {
        "id": "5CrnwjN7Suu5"
      },
      "source": [
        "losses = history2.history['loss']\n",
        "accs = history2.history['accuracy']\n",
        "val_losses = history2.history['val_loss']\n",
        "val_accs = history2.history['val_accuracy']\n",
        "epochs = len(losses)"
      ],
      "execution_count": 48,
      "outputs": []
    },
    {
      "cell_type": "code",
      "metadata": {
        "colab": {
          "base_uri": "https://localhost:8080/",
          "height": 268
        },
        "id": "Uw20TBZxSuye",
        "outputId": "c2098422-d930-4d2b-c116-87f0ffdfad7e"
      },
      "source": [
        "plt.figure(figsize=(16, 4))\n",
        "for i, metrics in enumerate(zip([losses, accs], [val_losses, val_accs], ['Loss', 'Accuracy'])):\n",
        "    plt.subplot(1, 2, i + 1)\n",
        "    plt.plot(range(epochs), metrics[0], label='Training {}'.format(metrics[2]))\n",
        "    plt.plot(range(epochs), metrics[1], label='Validation {}'.format(metrics[2]))\n",
        "    plt.legend()\n",
        "plt.show()"
      ],
      "execution_count": 49,
      "outputs": [
        {
          "output_type": "display_data",
          "data": {
            "image/png": "[encoded data removed]",
            "text/plain": [
              "<Figure size 1152x288 with 2 Axes>"
            ]
          },
          "metadata": {
            "needs_background": "light"
          }
        }
      ]
    },
    {
      "cell_type": "markdown",
      "metadata": {
        "id": "WoWhNEnKyRRv"
      },
      "source": [
        "### Confusion Matrix"
      ]
    },
    {
      "cell_type": "code",
      "metadata": {
        "id": "TaRFsKvJyRRv"
      },
      "source": [
        "preds = model2.predict(test_dataset)"
      ],
      "execution_count": 50,
      "outputs": []
    },
    {
      "cell_type": "code",
      "metadata": {
        "colab": {
          "base_uri": "https://localhost:8080/"
        },
        "id": "38sM3BdNyRRv",
        "outputId": "76084255-db2f-47e5-f112-4d09ab0d2f12"
      },
      "source": [
        "preds.shape"
      ],
      "execution_count": 51,
      "outputs": [
        {
          "output_type": "execute_result",
          "data": {
            "text/plain": [
              "(7600, 4)"
            ]
          },
          "metadata": {},
          "execution_count": 51
        }
      ]
    },
    {
      "cell_type": "code",
      "metadata": {
        "id": "HLEVza9CyRRw"
      },
      "source": [
        "cm = sns.light_palette((260, 75, 60), input=\"husl\", as_cmap=True)"
      ],
      "execution_count": 52,
      "outputs": []
    },
    {
      "cell_type": "code",
      "metadata": {
        "colab": {
          "base_uri": "https://localhost:8080/",
          "height": 171
        },
        "id": "QJ4Zct-xyRRw",
        "outputId": "afa7b02c-526c-4932-dafa-28ea869d80b9"
      },
      "source": [
        "df = pd.DataFrame(preds[0:15]\n",
        "                  ,columns = ['World','Sports','Business','Sci/Tech']).T\n",
        "df.style.format(\"{:.2%}\").background_gradient(cmap=cm)"
      ],
      "execution_count": 53,
      "outputs": [
        {
          "output_type": "execute_result",
          "data": {
            "text/html": [
              "<style  type=\"text/css\" >\n",
              "#T_10a6476a_3e61_11ec_83aa_0242ac1c0002row0_col0,#T_10a6476a_3e61_11ec_83aa_0242ac1c0002row0_col5,#T_10a6476a_3e61_11ec_83aa_0242ac1c0002row0_col12,#T_10a6476a_3e61_11ec_83aa_0242ac1c0002row2_col11{\n",
              "            background-color:  #f0f0f2;\n",
              "            color:  #000000;\n",
              "        }#T_10a6476a_3e61_11ec_83aa_0242ac1c0002row0_col1,#T_10a6476a_3e61_11ec_83aa_0242ac1c0002row0_col4,#T_10a6476a_3e61_11ec_83aa_0242ac1c0002row0_col8,#T_10a6476a_3e61_11ec_83aa_0242ac1c0002row0_col10,#T_10a6476a_3e61_11ec_83aa_0242ac1c0002row0_col13,#T_10a6476a_3e61_11ec_83aa_0242ac1c0002row0_col14,#T_10a6476a_3e61_11ec_83aa_0242ac1c0002row1_col0,#T_10a6476a_3e61_11ec_83aa_0242ac1c0002row1_col3,#T_10a6476a_3e61_11ec_83aa_0242ac1c0002row1_col6,#T_10a6476a_3e61_11ec_83aa_0242ac1c0002row1_col7,#T_10a6476a_3e61_11ec_83aa_0242ac1c0002row2_col9,#T_10a6476a_3e61_11ec_83aa_0242ac1c0002row2_col12,#T_10a6476a_3e61_11ec_83aa_0242ac1c0002row3_col2,#T_10a6476a_3e61_11ec_83aa_0242ac1c0002row3_col5,#T_10a6476a_3e61_11ec_83aa_0242ac1c0002row3_col11{\n",
              "            background-color:  #778ce4;\n",
              "            color:  #000000;\n",
              "        }#T_10a6476a_3e61_11ec_83aa_0242ac1c0002row0_col2,#T_10a6476a_3e61_11ec_83aa_0242ac1c0002row1_col1,#T_10a6476a_3e61_11ec_83aa_0242ac1c0002row1_col2,#T_10a6476a_3e61_11ec_83aa_0242ac1c0002row1_col4,#T_10a6476a_3e61_11ec_83aa_0242ac1c0002row1_col5,#T_10a6476a_3e61_11ec_83aa_0242ac1c0002row1_col8,#T_10a6476a_3e61_11ec_83aa_0242ac1c0002row1_col9,#T_10a6476a_3e61_11ec_83aa_0242ac1c0002row1_col10,#T_10a6476a_3e61_11ec_83aa_0242ac1c0002row1_col11,#T_10a6476a_3e61_11ec_83aa_0242ac1c0002row1_col12,#T_10a6476a_3e61_11ec_83aa_0242ac1c0002row1_col13,#T_10a6476a_3e61_11ec_83aa_0242ac1c0002row1_col14,#T_10a6476a_3e61_11ec_83aa_0242ac1c0002row2_col0,#T_10a6476a_3e61_11ec_83aa_0242ac1c0002row2_col1,#T_10a6476a_3e61_11ec_83aa_0242ac1c0002row2_col3,#T_10a6476a_3e61_11ec_83aa_0242ac1c0002row2_col4,#T_10a6476a_3e61_11ec_83aa_0242ac1c0002row2_col6,#T_10a6476a_3e61_11ec_83aa_0242ac1c0002row2_col7,#T_10a6476a_3e61_11ec_83aa_0242ac1c0002row2_col10,#T_10a6476a_3e61_11ec_83aa_0242ac1c0002row2_col14,#T_10a6476a_3e61_11ec_83aa_0242ac1c0002row3_col0,#T_10a6476a_3e61_11ec_83aa_0242ac1c0002row3_col1,#T_10a6476a_3e61_11ec_83aa_0242ac1c0002row3_col3,#T_10a6476a_3e61_11ec_83aa_0242ac1c0002row3_col4,#T_10a6476a_3e61_11ec_83aa_0242ac1c0002row3_col6,#T_10a6476a_3e61_11ec_83aa_0242ac1c0002row3_col10,#T_10a6476a_3e61_11ec_83aa_0242ac1c0002row3_col14{\n",
              "            background-color:  #f0f1f2;\n",
              "            color:  #000000;\n",
              "        }#T_10a6476a_3e61_11ec_83aa_0242ac1c0002row0_col3,#T_10a6476a_3e61_11ec_83aa_0242ac1c0002row2_col2,#T_10a6476a_3e61_11ec_83aa_0242ac1c0002row2_col13,#T_10a6476a_3e61_11ec_83aa_0242ac1c0002row3_col8{\n",
              "            background-color:  #ecedf2;\n",
              "            color:  #000000;\n",
              "        }#T_10a6476a_3e61_11ec_83aa_0242ac1c0002row0_col6,#T_10a6476a_3e61_11ec_83aa_0242ac1c0002row3_col12{\n",
              "            background-color:  #eeeff2;\n",
              "            color:  #000000;\n",
              "        }#T_10a6476a_3e61_11ec_83aa_0242ac1c0002row0_col7{\n",
              "            background-color:  #e4e6f1;\n",
              "            color:  #000000;\n",
              "        }#T_10a6476a_3e61_11ec_83aa_0242ac1c0002row0_col9,#T_10a6476a_3e61_11ec_83aa_0242ac1c0002row0_col11,#T_10a6476a_3e61_11ec_83aa_0242ac1c0002row2_col8{\n",
              "            background-color:  #eff0f2;\n",
              "            color:  #000000;\n",
              "        }#T_10a6476a_3e61_11ec_83aa_0242ac1c0002row2_col5{\n",
              "            background-color:  #ccd2ee;\n",
              "            color:  #000000;\n",
              "        }#T_10a6476a_3e61_11ec_83aa_0242ac1c0002row3_col7{\n",
              "            background-color:  #efeff2;\n",
              "            color:  #000000;\n",
              "        }#T_10a6476a_3e61_11ec_83aa_0242ac1c0002row3_col9{\n",
              "            background-color:  #9caae8;\n",
              "            color:  #000000;\n",
              "        }#T_10a6476a_3e61_11ec_83aa_0242ac1c0002row3_col13{\n",
              "            background-color:  #dfe2f0;\n",
              "            color:  #000000;\n",
              "        }</style><table id=\"T_10a6476a_3e61_11ec_83aa_0242ac1c0002\" class=\"dataframe\"><thead>    <tr>        <th class=\"blank level0\" ></th>        <th class=\"col_heading level0 col0\" >0</th>        <th class=\"col_heading level0 col1\" >1</th>        <th class=\"col_heading level0 col2\" >2</th>        <th class=\"col_heading level0 col3\" >3</th>        <th class=\"col_heading level0 col4\" >4</th>        <th class=\"col_heading level0 col5\" >5</th>        <th class=\"col_heading level0 col6\" >6</th>        <th class=\"col_heading level0 col7\" >7</th>        <th class=\"col_heading level0 col8\" >8</th>        <th class=\"col_heading level0 col9\" >9</th>        <th class=\"col_heading level0 col10\" >10</th>        <th class=\"col_heading level0 col11\" >11</th>        <th class=\"col_heading level0 col12\" >12</th>        <th class=\"col_heading level0 col13\" >13</th>        <th class=\"col_heading level0 col14\" >14</th>    </tr></thead><tbody>\n",
              "                <tr>\n",
              "                        <th id=\"T_10a6476a_3e61_11ec_83aa_0242ac1c0002level0_row0\" class=\"row_heading level0 row0\" >World</th>\n",
              "                        <td id=\"T_10a6476a_3e61_11ec_83aa_0242ac1c0002row0_col0\" class=\"data row0 col0\" >0.47%</td>\n",
              "                        <td id=\"T_10a6476a_3e61_11ec_83aa_0242ac1c0002row0_col1\" class=\"data row0 col1\" >99.82%</td>\n",
              "                        <td id=\"T_10a6476a_3e61_11ec_83aa_0242ac1c0002row0_col2\" class=\"data row0 col2\" >0.16%</td>\n",
              "                        <td id=\"T_10a6476a_3e61_11ec_83aa_0242ac1c0002row0_col3\" class=\"data row0 col3\" >3.22%</td>\n",
              "                        <td id=\"T_10a6476a_3e61_11ec_83aa_0242ac1c0002row0_col4\" class=\"data row0 col4\" >99.62%</td>\n",
              "                        <td id=\"T_10a6476a_3e61_11ec_83aa_0242ac1c0002row0_col5\" class=\"data row0 col5\" >0.51%</td>\n",
              "                        <td id=\"T_10a6476a_3e61_11ec_83aa_0242ac1c0002row0_col6\" class=\"data row0 col6\" >2.27%</td>\n",
              "                        <td id=\"T_10a6476a_3e61_11ec_83aa_0242ac1c0002row0_col7\" class=\"data row0 col7\" >9.33%</td>\n",
              "                        <td id=\"T_10a6476a_3e61_11ec_83aa_0242ac1c0002row0_col8\" class=\"data row0 col8\" >95.57%</td>\n",
              "                        <td id=\"T_10a6476a_3e61_11ec_83aa_0242ac1c0002row0_col9\" class=\"data row0 col9\" >0.64%</td>\n",
              "                        <td id=\"T_10a6476a_3e61_11ec_83aa_0242ac1c0002row0_col10\" class=\"data row0 col10\" >99.80%</td>\n",
              "                        <td id=\"T_10a6476a_3e61_11ec_83aa_0242ac1c0002row0_col11\" class=\"data row0 col11\" >1.73%</td>\n",
              "                        <td id=\"T_10a6476a_3e61_11ec_83aa_0242ac1c0002row0_col12\" class=\"data row0 col12\" >0.71%</td>\n",
              "                        <td id=\"T_10a6476a_3e61_11ec_83aa_0242ac1c0002row0_col13\" class=\"data row0 col13\" >83.14%</td>\n",
              "                        <td id=\"T_10a6476a_3e61_11ec_83aa_0242ac1c0002row0_col14\" class=\"data row0 col14\" >99.68%</td>\n",
              "            </tr>\n",
              "            <tr>\n",
              "                        <th id=\"T_10a6476a_3e61_11ec_83aa_0242ac1c0002level0_row1\" class=\"row_heading level0 row1\" >Sports</th>\n",
              "                        <td id=\"T_10a6476a_3e61_11ec_83aa_0242ac1c0002row1_col0\" class=\"data row1 col0\" >99.51%</td>\n",
              "                        <td id=\"T_10a6476a_3e61_11ec_83aa_0242ac1c0002row1_col1\" class=\"data row1 col1\" >0.01%</td>\n",
              "                        <td id=\"T_10a6476a_3e61_11ec_83aa_0242ac1c0002row1_col2\" class=\"data row1 col2\" >0.01%</td>\n",
              "                        <td id=\"T_10a6476a_3e61_11ec_83aa_0242ac1c0002row1_col3\" class=\"data row1 col3\" >96.68%</td>\n",
              "                        <td id=\"T_10a6476a_3e61_11ec_83aa_0242ac1c0002row1_col4\" class=\"data row1 col4\" >0.01%</td>\n",
              "                        <td id=\"T_10a6476a_3e61_11ec_83aa_0242ac1c0002row1_col5\" class=\"data row1 col5\" >0.11%</td>\n",
              "                        <td id=\"T_10a6476a_3e61_11ec_83aa_0242ac1c0002row1_col6\" class=\"data row1 col6\" >97.57%</td>\n",
              "                        <td id=\"T_10a6476a_3e61_11ec_83aa_0242ac1c0002row1_col7\" class=\"data row1 col7\" >89.11%</td>\n",
              "                        <td id=\"T_10a6476a_3e61_11ec_83aa_0242ac1c0002row1_col8\" class=\"data row1 col8\" >0.11%</td>\n",
              "                        <td id=\"T_10a6476a_3e61_11ec_83aa_0242ac1c0002row1_col9\" class=\"data row1 col9\" >0.02%</td>\n",
              "                        <td id=\"T_10a6476a_3e61_11ec_83aa_0242ac1c0002row1_col10\" class=\"data row1 col10\" >0.00%</td>\n",
              "                        <td id=\"T_10a6476a_3e61_11ec_83aa_0242ac1c0002row1_col11\" class=\"data row1 col11\" >0.95%</td>\n",
              "                        <td id=\"T_10a6476a_3e61_11ec_83aa_0242ac1c0002row1_col12\" class=\"data row1 col12\" >0.00%</td>\n",
              "                        <td id=\"T_10a6476a_3e61_11ec_83aa_0242ac1c0002row1_col13\" class=\"data row1 col13\" >0.86%</td>\n",
              "                        <td id=\"T_10a6476a_3e61_11ec_83aa_0242ac1c0002row1_col14\" class=\"data row1 col14\" >0.01%</td>\n",
              "            </tr>\n",
              "            <tr>\n",
              "                        <th id=\"T_10a6476a_3e61_11ec_83aa_0242ac1c0002level0_row2\" class=\"row_heading level0 row2\" >Business</th>\n",
              "                        <td id=\"T_10a6476a_3e61_11ec_83aa_0242ac1c0002row2_col0\" class=\"data row2 col0\" >0.01%</td>\n",
              "                        <td id=\"T_10a6476a_3e61_11ec_83aa_0242ac1c0002row2_col1\" class=\"data row2 col1\" >0.09%</td>\n",
              "                        <td id=\"T_10a6476a_3e61_11ec_83aa_0242ac1c0002row2_col2\" class=\"data row2 col2\" >3.36%</td>\n",
              "                        <td id=\"T_10a6476a_3e61_11ec_83aa_0242ac1c0002row2_col3\" class=\"data row2 col3\" >0.05%</td>\n",
              "                        <td id=\"T_10a6476a_3e61_11ec_83aa_0242ac1c0002row2_col4\" class=\"data row2 col4\" >0.15%</td>\n",
              "                        <td id=\"T_10a6476a_3e61_11ec_83aa_0242ac1c0002row2_col5\" class=\"data row2 col5\" >22.96%</td>\n",
              "                        <td id=\"T_10a6476a_3e61_11ec_83aa_0242ac1c0002row2_col6\" class=\"data row2 col6\" >0.08%</td>\n",
              "                        <td id=\"T_10a6476a_3e61_11ec_83aa_0242ac1c0002row2_col7\" class=\"data row2 col7\" >0.24%</td>\n",
              "                        <td id=\"T_10a6476a_3e61_11ec_83aa_0242ac1c0002row2_col8\" class=\"data row2 col8\" >1.18%</td>\n",
              "                        <td id=\"T_10a6476a_3e61_11ec_83aa_0242ac1c0002row2_col9\" class=\"data row2 col9\" >58.57%</td>\n",
              "                        <td id=\"T_10a6476a_3e61_11ec_83aa_0242ac1c0002row2_col10\" class=\"data row2 col10\" >0.08%</td>\n",
              "                        <td id=\"T_10a6476a_3e61_11ec_83aa_0242ac1c0002row2_col11\" class=\"data row2 col11\" >1.46%</td>\n",
              "                        <td id=\"T_10a6476a_3e61_11ec_83aa_0242ac1c0002row2_col12\" class=\"data row2 col12\" >97.14%</td>\n",
              "                        <td id=\"T_10a6476a_3e61_11ec_83aa_0242ac1c0002row2_col13\" class=\"data row2 col13\" >3.50%</td>\n",
              "                        <td id=\"T_10a6476a_3e61_11ec_83aa_0242ac1c0002row2_col14\" class=\"data row2 col14\" >0.15%</td>\n",
              "            </tr>\n",
              "            <tr>\n",
              "                        <th id=\"T_10a6476a_3e61_11ec_83aa_0242ac1c0002level0_row3\" class=\"row_heading level0 row3\" >Sci/Tech</th>\n",
              "                        <td id=\"T_10a6476a_3e61_11ec_83aa_0242ac1c0002row3_col0\" class=\"data row3 col0\" >0.01%</td>\n",
              "                        <td id=\"T_10a6476a_3e61_11ec_83aa_0242ac1c0002row3_col1\" class=\"data row3 col1\" >0.09%</td>\n",
              "                        <td id=\"T_10a6476a_3e61_11ec_83aa_0242ac1c0002row3_col2\" class=\"data row3 col2\" >96.48%</td>\n",
              "                        <td id=\"T_10a6476a_3e61_11ec_83aa_0242ac1c0002row3_col3\" class=\"data row3 col3\" >0.05%</td>\n",
              "                        <td id=\"T_10a6476a_3e61_11ec_83aa_0242ac1c0002row3_col4\" class=\"data row3 col4\" >0.23%</td>\n",
              "                        <td id=\"T_10a6476a_3e61_11ec_83aa_0242ac1c0002row3_col5\" class=\"data row3 col5\" >76.41%</td>\n",
              "                        <td id=\"T_10a6476a_3e61_11ec_83aa_0242ac1c0002row3_col6\" class=\"data row3 col6\" >0.08%</td>\n",
              "                        <td id=\"T_10a6476a_3e61_11ec_83aa_0242ac1c0002row3_col7\" class=\"data row3 col7\" >1.32%</td>\n",
              "                        <td id=\"T_10a6476a_3e61_11ec_83aa_0242ac1c0002row3_col8\" class=\"data row3 col8\" >3.14%</td>\n",
              "                        <td id=\"T_10a6476a_3e61_11ec_83aa_0242ac1c0002row3_col9\" class=\"data row3 col9\" >40.76%</td>\n",
              "                        <td id=\"T_10a6476a_3e61_11ec_83aa_0242ac1c0002row3_col10\" class=\"data row3 col10\" >0.11%</td>\n",
              "                        <td id=\"T_10a6476a_3e61_11ec_83aa_0242ac1c0002row3_col11\" class=\"data row3 col11\" >95.85%</td>\n",
              "                        <td id=\"T_10a6476a_3e61_11ec_83aa_0242ac1c0002row3_col12\" class=\"data row3 col12\" >2.15%</td>\n",
              "                        <td id=\"T_10a6476a_3e61_11ec_83aa_0242ac1c0002row3_col13\" class=\"data row3 col13\" >12.50%</td>\n",
              "                        <td id=\"T_10a6476a_3e61_11ec_83aa_0242ac1c0002row3_col14\" class=\"data row3 col14\" >0.17%</td>\n",
              "            </tr>\n",
              "    </tbody></table>"
            ],
            "text/plain": [
              "<pandas.io.formats.style.Styler at 0x7efbdc27e350>"
            ]
          },
          "metadata": {},
          "execution_count": 53
        }
      ]
    },
    {
      "cell_type": "markdown",
      "metadata": {
        "id": "A3RlxHyPTCrD"
      },
      "source": [
        "#### Model Architecture Summary: Multi Layer Unidirectional RNN with LTSM (Experiment C2U)"
      ]
    },
    {
      "cell_type": "code",
      "metadata": {
        "colab": {
          "base_uri": "https://localhost:8080/"
        },
        "id": "idRIHfoySu12",
        "outputId": "cc1de419-9f23-42cd-9f50-fb7a4c8f8a40"
      },
      "source": [
        "model2.summary()"
      ],
      "execution_count": 54,
      "outputs": [
        {
          "output_type": "stream",
          "name": "stdout",
          "text": [
            "Model: \"sequential\"\n",
            "_________________________________________________________________\n",
            "Layer (type)                 Output Shape              Param #   \n",
            "=================================================================\n",
            "text_vectorization (TextVect (None, None)              0         \n",
            "_________________________________________________________________\n",
            "embedding (Embedding)        (None, None, 64)          64000     \n",
            "_________________________________________________________________\n",
            "lstm (LSTM)                  (None, None, 64)          33024     \n",
            "_________________________________________________________________\n",
            "lstm_1 (LSTM)                (None, 32)                12416     \n",
            "_________________________________________________________________\n",
            "dense (Dense)                (None, 64)                2112      \n",
            "_________________________________________________________________\n",
            "dropout (Dropout)            (None, 64)                0         \n",
            "_________________________________________________________________\n",
            "dense_1 (Dense)              (None, 4)                 260       \n",
            "=================================================================\n",
            "Total params: 111,812\n",
            "Trainable params: 111,812\n",
            "Non-trainable params: 0\n",
            "_________________________________________________________________\n"
          ]
        }
      ]
    },
    {
      "cell_type": "code",
      "metadata": {
        "id": "o01y6ZMVTF8J",
        "scrolled": false,
        "colab": {
          "base_uri": "https://localhost:8080/",
          "height": 864
        },
        "outputId": "06b9735b-a21d-43eb-b460-6dad31644191"
      },
      "source": [
        "keras.utils.plot_model(model2, \"2Layer_BiDirectionalLSTM.png\", show_shapes=True)"
      ],
      "execution_count": 55,
      "outputs": [
        {
          "output_type": "execute_result",
          "data": {
            "image/png": "[encoded data removed]",
            "text/plain": [
              "<IPython.core.display.Image object>"
            ]
          },
          "metadata": {},
          "execution_count": 55
        }
      ]
    },
    {
      "cell_type": "markdown",
      "metadata": {
        "id": "9xvpE3BaGw_V"
      },
      "source": [
        "Check out other existing recurrent layers such as [GRU layers](https://www.tensorflow.org/api_docs/python/tf/keras/layers/GRU).\n",
        "\n",
        "If you're interestied in building custom RNNs, see the [Keras RNN Guide](../../guide/keras/rnn.ipynb).\n"
      ]
    },
    {
      "cell_type": "markdown",
      "metadata": {
        "id": "cgloqCxJLEA3"
      },
      "source": [
        "## Create the model: Single Layer Unidirectional RNN GRU (Experiment C3U)"
      ]
    },
    {
      "cell_type": "markdown",
      "metadata": {
        "id": "OO0hIC91LEA3"
      },
      "source": [
        "Above is a diagram of the model. \n",
        "\n",
        "1. This model can be build as a `tf.keras.Sequential`.\n",
        "\n",
        "1. The first layer is the `encoder`, which converts the text to a sequence of token indices.\n",
        "\n",
        "2. After the encoder is an embedding layer. An embedding layer stores one vector per word. When called, it converts the sequences of word indices to sequences of vectors. These vectors are trainable. After training (on enough data), words with similar meanings often have similar vectors.\n",
        "\n",
        "  This index-lookup is much more efficient than the equivalent operation of passing a one-hot encoded vector through a `tf.keras.layers.Dense` layer.\n",
        "\n",
        "3. A recurrent neural network (RNN) processes sequence input by iterating through the elements. RNNs pass the outputs from one timestep to their input on the next timestep.\n",
        "\n",
        "  The `tf.keras.layers.Bidirectional` wrapper can also be used with an RNN layer. This propagates the input forward and backwards through the RNN layer and then concatenates the final output. \n",
        "\n",
        "  * The main advantage to a bidirectional RNN is that the signal from the beginning of the input doesn't need to be processed all the way through every timestep to affect the output.  \n",
        "\n",
        "  * The main disadvantage of a bidirectional RNN is that you can't efficiently stream predictions as words are being added to the end.\n",
        "\n",
        "1. After the RNN has converted the sequence to a single vector the two `layers.Dense` do some final processing, and convert from this vector representation to a single logit as the classification output. \n"
      ]
    },
    {
      "cell_type": "markdown",
      "metadata": {
        "id": "wcQ3HhcfLEA3"
      },
      "source": [
        "<div class=\"alert alert-block alert-info\">\n",
        "    <b>tf.keras.layers.Bidirectional</b><br>\n",
        "    https://www.tensorflow.org/api_docs/python/tf/keras/layers/Bidirectional\n",
        "    </div>"
      ]
    },
    {
      "cell_type": "markdown",
      "metadata": {
        "id": "iAfQhDgRLEA4"
      },
      "source": [
        "<img src=\"https://github.com/djp840/MSDS_458_Public/blob/master/images/BidirectionalRNN.png?raw=1\">"
      ]
    },
    {
      "cell_type": "code",
      "metadata": {
        "id": "NabTfotzLEA4"
      },
      "source": [
        "from keras import backend as K\n",
        "K.clear_session()\n",
        "\n",
        "num_classes = 4\n",
        "model3 = tf.keras.Sequential([\n",
        "                              encoder\n",
        "                              ,tf.keras.layers.Embedding(input_dim=len(encoder.get_vocabulary())\n",
        "                              ,output_dim=64\n",
        "                                # Use masking to handle the variable sequence lengths\n",
        "                              ,mask_zero=True)\n",
        "                              ,tf.keras.layers.GRU(64,activation='tanh', recurrent_activation='sigmoid')\n",
        "                              ,tf.keras.layers.Dense(64, activation='relu')\n",
        "                              ,tf.keras.layers.Dense(num_classes,activation='softmax')   # num_classes = 4\n",
        "])"
      ],
      "execution_count": 56,
      "outputs": []
    },
    {
      "cell_type": "markdown",
      "metadata": {
        "id": "P52f3bWmLEA4"
      },
      "source": [
        "<div class=\"alert alert-block alert-success\"> \n",
        "Please note that we choose to Keras sequential model here since all the layers in the model only have single input and produce single output. </div>"
      ]
    },
    {
      "cell_type": "markdown",
      "metadata": {
        "id": "7qQ12QL5LEA4"
      },
      "source": [
        "<div class=\"alert alert-block alert-info\"> \n",
        "<b>tf.keras.Model</b><br>\n",
        "https://www.tensorflow.org/api_docs/python/tf/keras/Model\n",
        "</div>  "
      ]
    },
    {
      "cell_type": "markdown",
      "metadata": {
        "id": "CSP4KsHJLEA4"
      },
      "source": [
        "## Compile Model: Single Layer Unidirectional RNN GRU (Experiment C3U)"
      ]
    },
    {
      "cell_type": "markdown",
      "metadata": {
        "id": "p1IuL80fLEA4"
      },
      "source": [
        "<div class=\"alert alert-block alert-info\">\n",
        "<b>tf.keras.losses.SparseCategoricalCrossentropy</b><br>\n",
        "https://www.tensorflow.org/api_docs/python/tf/keras/losses/SparseCategoricalCrossentropy</div>"
      ]
    },
    {
      "cell_type": "code",
      "metadata": {
        "id": "l86MU5TsLEA4"
      },
      "source": [
        "model3.compile(optimizer=tf.keras.optimizers.Adam(1e-4)\n",
        "              ,loss=tf.keras.losses.SparseCategoricalCrossentropy() # if we set from_logits=True we don not have specify a softmax activation function in the last layer\n",
        "              ,metrics=['accuracy'])"
      ],
      "execution_count": 57,
      "outputs": []
    },
    {
      "cell_type": "markdown",
      "metadata": {
        "id": "FdWEp_NcLEA4"
      },
      "source": [
        "Please note that Keras sequential model is used here since all the layers in the model only have single input and produce single output. In case you want to use stateful RNN layer, you might want to build your model with Keras functional API or model subclassing so that you can retrieve and reuse the RNN layer states. Please check [Keras RNN guide](https://www.tensorflow.org/guide/keras/rnn#rnn_state_reuse) for more details."
      ]
    },
    {
      "cell_type": "markdown",
      "metadata": {
        "id": "IjGPi7WYLEA4"
      },
      "source": [
        "The embedding layer [uses masking](../../guide/keras/masking_and_padding) to handle the varying sequence-lengths. All the layers after the `Embedding` support masking:"
      ]
    },
    {
      "cell_type": "code",
      "metadata": {
        "colab": {
          "base_uri": "https://localhost:8080/"
        },
        "id": "rk-aTi18LEA4",
        "outputId": "46663287-60bd-4e04-a763-e169de0cc303"
      },
      "source": [
        "print([layer.supports_masking for layer in model3.layers])"
      ],
      "execution_count": 58,
      "outputs": [
        {
          "output_type": "stream",
          "name": "stdout",
          "text": [
            "[False, True, True, True, True]\n"
          ]
        }
      ]
    },
    {
      "cell_type": "markdown",
      "metadata": {
        "id": "iDhsRUb6LEA4"
      },
      "source": [
        "## Train the model: Single Layer Unidirectional RNN GRU (Experiment C3U)"
      ]
    },
    {
      "cell_type": "markdown",
      "metadata": {
        "id": "k7xwudZ9LEA5"
      },
      "source": [
        "<div class=\"alert alert-block alert-success\">\n",
        "    <b>Module: tf.keras.callbacks</b></div>"
      ]
    },
    {
      "cell_type": "markdown",
      "metadata": {
        "id": "RivOyx60LEA5"
      },
      "source": [
        "<div class=\"alert alert-block alert-info\">\n",
        "<b>tf.keras.callbacks.EarlyStopping</b><br>\n",
        "https://www.tensorflow.org/api_docs/python/tf/keras/callbacks/EarlyStopping</div>\n",
        "\n",
        "<div class=\"alert alert-block alert-info\">\n",
        "<b>tf.keras.callbacks.ModelCheckpoint</b><br>\n",
        "https://www.tensorflow.org/api_docs/python/tf/keras/callbacks/ModelCheckpoint</div>"
      ]
    },
    {
      "cell_type": "code",
      "metadata": {
        "colab": {
          "base_uri": "https://localhost:8080/"
        },
        "id": "ZXylRi0OLEA5",
        "outputId": "0b0a1346-8eea-4e14-a5f5-fec45a5cd666"
      },
      "source": [
        "start=datetime.now()\n",
        "\n",
        "history3 = model3.fit(train_dataset\n",
        "                    ,epochs = 200\n",
        "                    ,validation_data=validation_dataset\n",
        "                    ,callbacks=[tf.keras.callbacks.EarlyStopping(monitor='val_accuracy', patience=2)]\n",
        "                    )\n",
        "\n",
        "end=datetime.now()\n",
        "print(\"Experiment C3U time:\", end-start) "
      ],
      "execution_count": 59,
      "outputs": [
        {
          "output_type": "stream",
          "name": "stdout",
          "text": [
            "Epoch 1/200\n",
            "1782/1782 [==============================] - 20s 9ms/step - loss: 0.8806 - accuracy: 0.6076 - val_loss: 0.5275 - val_accuracy: 0.8105\n",
            "Epoch 2/200\n",
            "1782/1782 [==============================] - 15s 8ms/step - loss: 0.4827 - accuracy: 0.8275 - val_loss: 0.4750 - val_accuracy: 0.8358\n",
            "Epoch 3/200\n",
            "1782/1782 [==============================] - 15s 9ms/step - loss: 0.4555 - accuracy: 0.8370 - val_loss: 0.4585 - val_accuracy: 0.8387\n",
            "Epoch 4/200\n",
            "1782/1782 [==============================] - 15s 8ms/step - loss: 0.4465 - accuracy: 0.8396 - val_loss: 0.4498 - val_accuracy: 0.8432\n",
            "Epoch 5/200\n",
            "1782/1782 [==============================] - 15s 9ms/step - loss: 0.4418 - accuracy: 0.8419 - val_loss: 0.4466 - val_accuracy: 0.8430\n",
            "Epoch 6/200\n",
            "1782/1782 [==============================] - 15s 8ms/step - loss: 0.4377 - accuracy: 0.8429 - val_loss: 0.4453 - val_accuracy: 0.8410\n",
            "Experiment C3U time: 0:01:36.041621\n"
          ]
        }
      ]
    },
    {
      "cell_type": "code",
      "metadata": {
        "colab": {
          "base_uri": "https://localhost:8080/"
        },
        "id": "ngoHr9_4LEA5",
        "outputId": "4dc9a040-e7db-4736-8ff6-ef43f54b8542"
      },
      "source": [
        "test_loss, test_acc = model3.evaluate(test_dataset)\n",
        "\n",
        "print('Test Loss: {}'.format(test_loss))\n",
        "print('Test Accuracy: {}'.format(test_acc))"
      ],
      "execution_count": 60,
      "outputs": [
        {
          "output_type": "stream",
          "name": "stdout",
          "text": [
            "119/119 [==============================] - 1s 5ms/step - loss: 0.4593 - accuracy: 0.8341\n",
            "Test Loss: 0.45929837226867676\n",
            "Test Accuracy: 0.8340789675712585\n"
          ]
        }
      ]
    },
    {
      "cell_type": "markdown",
      "metadata": {
        "id": "d9rCTgh1LEA5"
      },
      "source": [
        "## Plotting Performance Metrics: Single Layer Unidirectional RNN GRU (Experiment C3U)"
      ]
    },
    {
      "cell_type": "markdown",
      "metadata": {
        "id": "jLIpjXZxLEA5"
      },
      "source": [
        "We use Matplotlib to create 2 plots--displaying the training and validation loss (resp. accuracy) for each (training) epoch side by side."
      ]
    },
    {
      "cell_type": "code",
      "metadata": {
        "colab": {
          "base_uri": "https://localhost:8080/"
        },
        "id": "qrUhjowOLEA5",
        "outputId": "91a32ff3-175f-4b28-e491-020b216d0200"
      },
      "source": [
        "history_dict3 = history3.history\n",
        "history_dict3.keys()"
      ],
      "execution_count": 61,
      "outputs": [
        {
          "output_type": "execute_result",
          "data": {
            "text/plain": [
              "dict_keys(['loss', 'accuracy', 'val_loss', 'val_accuracy'])"
            ]
          },
          "metadata": {},
          "execution_count": 61
        }
      ]
    },
    {
      "cell_type": "code",
      "metadata": {
        "colab": {
          "base_uri": "https://localhost:8080/",
          "height": 232
        },
        "id": "oJuCAO1TLEA5",
        "outputId": "3150c4ca-7ff9-4c85-c22b-21fcbb6df26a"
      },
      "source": [
        "history3_df=pd.DataFrame(history_dict3)\n",
        "history3_df.tail(10).round(3)"
      ],
      "execution_count": 62,
      "outputs": [
        {
          "output_type": "execute_result",
          "data": {
            "text/html": [
              "<div>\n",
              "<style scoped>\n",
              "    .dataframe tbody tr th:only-of-type {\n",
              "        vertical-align: middle;\n",
              "    }\n",
              "\n",
              "    .dataframe tbody tr th {\n",
              "        vertical-align: top;\n",
              "    }\n",
              "\n",
              "    .dataframe thead th {\n",
              "        text-align: right;\n",
              "    }\n",
              "</style>\n",
              "<table border=\"1\" class=\"dataframe\">\n",
              "  <thead>\n",
              "    <tr style=\"text-align: right;\">\n",
              "      <th></th>\n",
              "      <th>loss</th>\n",
              "      <th>accuracy</th>\n",
              "      <th>val_loss</th>\n",
              "      <th>val_accuracy</th>\n",
              "    </tr>\n",
              "  </thead>\n",
              "  <tbody>\n",
              "    <tr>\n",
              "      <th>0</th>\n",
              "      <td>0.881</td>\n",
              "      <td>0.608</td>\n",
              "      <td>0.527</td>\n",
              "      <td>0.811</td>\n",
              "    </tr>\n",
              "    <tr>\n",
              "      <th>1</th>\n",
              "      <td>0.483</td>\n",
              "      <td>0.827</td>\n",
              "      <td>0.475</td>\n",
              "      <td>0.836</td>\n",
              "    </tr>\n",
              "    <tr>\n",
              "      <th>2</th>\n",
              "      <td>0.456</td>\n",
              "      <td>0.837</td>\n",
              "      <td>0.458</td>\n",
              "      <td>0.839</td>\n",
              "    </tr>\n",
              "    <tr>\n",
              "      <th>3</th>\n",
              "      <td>0.447</td>\n",
              "      <td>0.840</td>\n",
              "      <td>0.450</td>\n",
              "      <td>0.843</td>\n",
              "    </tr>\n",
              "    <tr>\n",
              "      <th>4</th>\n",
              "      <td>0.442</td>\n",
              "      <td>0.842</td>\n",
              "      <td>0.447</td>\n",
              "      <td>0.843</td>\n",
              "    </tr>\n",
              "    <tr>\n",
              "      <th>5</th>\n",
              "      <td>0.438</td>\n",
              "      <td>0.843</td>\n",
              "      <td>0.445</td>\n",
              "      <td>0.841</td>\n",
              "    </tr>\n",
              "  </tbody>\n",
              "</table>\n",
              "</div>"
            ],
            "text/plain": [
              "    loss  accuracy  val_loss  val_accuracy\n",
              "0  0.881     0.608     0.527         0.811\n",
              "1  0.483     0.827     0.475         0.836\n",
              "2  0.456     0.837     0.458         0.839\n",
              "3  0.447     0.840     0.450         0.843\n",
              "4  0.442     0.842     0.447         0.843\n",
              "5  0.438     0.843     0.445         0.841"
            ]
          },
          "metadata": {},
          "execution_count": 62
        }
      ]
    },
    {
      "cell_type": "code",
      "metadata": {
        "id": "55znvR0lLEA5"
      },
      "source": [
        "losses = history3.history['loss']\n",
        "accs = history3.history['accuracy']\n",
        "val_losses = history3.history['val_loss']\n",
        "val_accs = history3.history['val_accuracy']\n",
        "epochs = len(losses)"
      ],
      "execution_count": 63,
      "outputs": []
    },
    {
      "cell_type": "code",
      "metadata": {
        "colab": {
          "base_uri": "https://localhost:8080/",
          "height": 267
        },
        "scrolled": true,
        "id": "kmrjTVdGLEA5",
        "outputId": "d38f12a3-6854-4a69-d661-ca0c1ee3548e"
      },
      "source": [
        "plt.figure(figsize=(16, 4))\n",
        "for i, metrics in enumerate(zip([losses, accs], [val_losses, val_accs], ['Loss', 'Accuracy'])):\n",
        "    plt.subplot(1, 2, i + 1)\n",
        "    plt.plot(range(epochs), metrics[0], label='Training {}'.format(metrics[2]))\n",
        "    plt.plot(range(epochs), metrics[1], label='Validation {}'.format(metrics[2]))\n",
        "    plt.legend()\n",
        "plt.show()"
      ],
      "execution_count": 64,
      "outputs": [
        {
          "output_type": "display_data",
          "data": {
            "image/png": "[encoded data removed]",
            "text/plain": [
              "<Figure size 1152x288 with 2 Axes>"
            ]
          },
          "metadata": {
            "needs_background": "light"
          }
        }
      ]
    },
    {
      "cell_type": "markdown",
      "metadata": {
        "id": "Y_5sB3SrLEA6"
      },
      "source": [
        "## Model Architecture Summary: Single Layer Unidirectional RNN GRU (Experiment C3U)"
      ]
    },
    {
      "cell_type": "code",
      "metadata": {
        "colab": {
          "base_uri": "https://localhost:8080/"
        },
        "id": "qeq1b37VLEA6",
        "outputId": "06412aae-252d-49d5-cef1-fcc429ee0a38"
      },
      "source": [
        "model3.summary()"
      ],
      "execution_count": 65,
      "outputs": [
        {
          "output_type": "stream",
          "name": "stdout",
          "text": [
            "Model: \"sequential\"\n",
            "_________________________________________________________________\n",
            "Layer (type)                 Output Shape              Param #   \n",
            "=================================================================\n",
            "text_vectorization (TextVect (None, None)              0         \n",
            "_________________________________________________________________\n",
            "embedding (Embedding)        (None, None, 64)          64000     \n",
            "_________________________________________________________________\n",
            "gru (GRU)                    (None, 64)                24960     \n",
            "_________________________________________________________________\n",
            "dense (Dense)                (None, 64)                4160      \n",
            "_________________________________________________________________\n",
            "dense_1 (Dense)              (None, 4)                 260       \n",
            "=================================================================\n",
            "Total params: 93,380\n",
            "Trainable params: 93,380\n",
            "Non-trainable params: 0\n",
            "_________________________________________________________________\n"
          ]
        }
      ]
    },
    {
      "cell_type": "code",
      "metadata": {
        "colab": {
          "base_uri": "https://localhost:8080/",
          "height": 644
        },
        "id": "qEHqMCZDLEA6",
        "outputId": "8ffac5b4-d064-4e2d-870a-7572529199f9"
      },
      "source": [
        "keras.utils.plot_model(model3, \"BiDirectionalGRU.png\", show_shapes=True)"
      ],
      "execution_count": 66,
      "outputs": [
        {
          "output_type": "execute_result",
          "data": {
            "image/png": "[encoded data removed]",
            "text/plain": [
              "<IPython.core.display.Image object>"
            ]
          },
          "metadata": {},
          "execution_count": 66
        }
      ]
    },
    {
      "cell_type": "markdown",
      "metadata": {
        "id": "zDFpoELqTWzq"
      },
      "source": [
        "##Create model: Multi Layer Unidirectional RNN with GRU (Experiment C4U)\n",
        "\n",
        "\n",
        "Keras recurrent layers have two available modes that are controlled by the `return_sequences` constructor argument:\n",
        "\n",
        "* If `False` it returns only the last output for each input sequence (a 2D tensor of shape (batch_size, output_features)). This is the default, used in the previous model.\n",
        "\n",
        "* If `True` the full sequences of successive outputs for each timestep is returned (a 3D tensor of shape `(batch_size, timesteps, output_features)`).\n",
        "\n",
        "Here is what the flow of information looks like with `return_sequences=True`:\n",
        "\n",
        "![layered_bidirectional]?raw=1\""
      ]
    },
    {
      "cell_type": "markdown",
      "metadata": {
        "id": "gqzIXWmlTWzq"
      },
      "source": [
        "The interesting thing about using an `RNN` with `return_sequences=True` is that the output still has 3-axes, like the input, so it can be passed to another RNN layer, like this:"
      ]
    },
    {
      "cell_type": "markdown",
      "metadata": {
        "id": "IuZjvAv9TWzr"
      },
      "source": [
        "<img src=\"https://github.com/djp840/MSDS_458_Public/blob/master/images/multilayerBidirectionalLSTM.png?raw=1\">"
      ]
    },
    {
      "cell_type": "code",
      "metadata": {
        "id": "ybPnRGynTWzr"
      },
      "source": [
        "from keras import backend as K\n",
        "K.clear_session()\n",
        "\n",
        "model4 = tf.keras.Sequential([\n",
        "                              encoder\n",
        "                              ,tf.keras.layers.Embedding(len(encoder.get_vocabulary()), 64, mask_zero=True)\n",
        "                              ,tf.keras.layers.GRU(64,activation='tanh', recurrent_activation='sigmoid',  return_sequences=True)\n",
        "                              ,tf.keras.layers.GRU(32,activation='tanh', recurrent_activation='sigmoid')\n",
        "                              ,tf.keras.layers.Dense(64, activation='relu')\n",
        "                              ,tf.keras.layers.Dropout(0.5)\n",
        "                              ,tf.keras.layers.Dense(num_classes,activation='softmax')   # not binary since there are num_classes categories\n",
        "])"
      ],
      "execution_count": 67,
      "outputs": []
    },
    {
      "cell_type": "markdown",
      "metadata": {
        "id": "h4Zkm-QnTWzr"
      },
      "source": [
        "<div class=\"alert alert-block alert-info\">\n",
        "<b>tf.keras.losses.SparseCategoricalCrossentropy</b><br>\n",
        "https://www.tensorflow.org/api_docs/python/tf/keras/losses/SparseCategoricalCrossentropy</div>"
      ]
    },
    {
      "cell_type": "code",
      "metadata": {
        "id": "YBO4yxiITWzr"
      },
      "source": [
        "model4.compile(optimizer='adam'\n",
        "              ,loss=tf.keras.losses.SparseCategoricalCrossentropy() # if we set from_logits=True we do not have specify a softmax activation function in the last layer\n",
        "              ,metrics=['accuracy'])"
      ],
      "execution_count": 68,
      "outputs": []
    },
    {
      "cell_type": "code",
      "metadata": {
        "colab": {
          "base_uri": "https://localhost:8080/"
        },
        "id": "iAoQirL1TWzr",
        "outputId": "f780e4b6-8c88-46de-a2e6-9a6a682375fa"
      },
      "source": [
        "start=datetime.now()\n",
        "\n",
        "history4 = model4.fit(train_dataset\n",
        "                    ,epochs=200\n",
        "                    ,validation_data=validation_dataset\n",
        "                    ,validation_steps=30\n",
        "                    ,callbacks=[tf.keras.callbacks.EarlyStopping(monitor='val_accuracy', patience=2)]\n",
        "                    )\n",
        "\n",
        "end=datetime.now()\n",
        "print(\"Experiment C4U time:\", end-start) "
      ],
      "execution_count": 69,
      "outputs": [
        {
          "output_type": "stream",
          "name": "stdout",
          "text": [
            "Epoch 1/200\n",
            "1782/1782 [==============================] - 31s 14ms/step - loss: 0.5484 - accuracy: 0.7981 - val_loss: 0.4245 - val_accuracy: 0.8500\n",
            "Epoch 2/200\n",
            "1782/1782 [==============================] - 23s 13ms/step - loss: 0.4406 - accuracy: 0.8480 - val_loss: 0.4125 - val_accuracy: 0.8516\n",
            "Epoch 3/200\n",
            "1782/1782 [==============================] - 24s 13ms/step - loss: 0.4201 - accuracy: 0.8546 - val_loss: 0.4039 - val_accuracy: 0.8641\n",
            "Epoch 4/200\n",
            "1782/1782 [==============================] - 24s 13ms/step - loss: 0.4022 - accuracy: 0.8596 - val_loss: 0.4028 - val_accuracy: 0.8562\n",
            "Epoch 5/200\n",
            "1782/1782 [==============================] - 23s 13ms/step - loss: 0.3889 - accuracy: 0.8638 - val_loss: 0.3871 - val_accuracy: 0.8615\n",
            "Experiment C4U time: 0:02:05.567355\n"
          ]
        }
      ]
    },
    {
      "cell_type": "code",
      "metadata": {
        "colab": {
          "base_uri": "https://localhost:8080/"
        },
        "id": "heTV0r9TTWzr",
        "outputId": "35d08fe2-445d-4847-f5d8-6e221f207d0a"
      },
      "source": [
        "test_loss, test_acc = model4.evaluate(test_dataset)\n",
        "\n",
        "print('Test Loss: {}'.format(test_loss))\n",
        "print('Test Accuracy: {}'.format(test_acc))"
      ],
      "execution_count": 70,
      "outputs": [
        {
          "output_type": "stream",
          "name": "stdout",
          "text": [
            "119/119 [==============================] - 1s 6ms/step - loss: 0.4055 - accuracy: 0.8561\n",
            "Test Loss: 0.40545424818992615\n",
            "Test Accuracy: 0.8560526371002197\n"
          ]
        }
      ]
    },
    {
      "cell_type": "markdown",
      "metadata": {
        "id": "Z6EBvMIQTWzr"
      },
      "source": [
        "## Plotting Performance Metrics: Multi Layer Unidirectional RNN with GRU (Experiment C4U)"
      ]
    },
    {
      "cell_type": "markdown",
      "metadata": {
        "id": "rEf-IHXITWzr"
      },
      "source": [
        "We use Matplotlib to create 2 plots--displaying the training and validation loss (resp. accuracy) for each (training) epoch side by side."
      ]
    },
    {
      "cell_type": "code",
      "metadata": {
        "colab": {
          "base_uri": "https://localhost:8080/"
        },
        "id": "Keygz02fTWzr",
        "outputId": "11a1704e-bf16-4c21-cbbb-56fd6ab672d4"
      },
      "source": [
        "history_dict4 = history4.history\n",
        "history_dict4.keys()"
      ],
      "execution_count": 71,
      "outputs": [
        {
          "output_type": "execute_result",
          "data": {
            "text/plain": [
              "dict_keys(['loss', 'accuracy', 'val_loss', 'val_accuracy'])"
            ]
          },
          "metadata": {},
          "execution_count": 71
        }
      ]
    },
    {
      "cell_type": "code",
      "metadata": {
        "colab": {
          "base_uri": "https://localhost:8080/",
          "height": 202
        },
        "id": "vdWBoYlOTWzr",
        "outputId": "df59a1b8-0080-40f0-ff52-18158bffe2b1"
      },
      "source": [
        "history4_df=pd.DataFrame(history_dict4)\n",
        "history4_df.tail().round(3)"
      ],
      "execution_count": 72,
      "outputs": [
        {
          "output_type": "execute_result",
          "data": {
            "text/html": [
              "<div>\n",
              "<style scoped>\n",
              "    .dataframe tbody tr th:only-of-type {\n",
              "        vertical-align: middle;\n",
              "    }\n",
              "\n",
              "    .dataframe tbody tr th {\n",
              "        vertical-align: top;\n",
              "    }\n",
              "\n",
              "    .dataframe thead th {\n",
              "        text-align: right;\n",
              "    }\n",
              "</style>\n",
              "<table border=\"1\" class=\"dataframe\">\n",
              "  <thead>\n",
              "    <tr style=\"text-align: right;\">\n",
              "      <th></th>\n",
              "      <th>loss</th>\n",
              "      <th>accuracy</th>\n",
              "      <th>val_loss</th>\n",
              "      <th>val_accuracy</th>\n",
              "    </tr>\n",
              "  </thead>\n",
              "  <tbody>\n",
              "    <tr>\n",
              "      <th>0</th>\n",
              "      <td>0.548</td>\n",
              "      <td>0.798</td>\n",
              "      <td>0.425</td>\n",
              "      <td>0.850</td>\n",
              "    </tr>\n",
              "    <tr>\n",
              "      <th>1</th>\n",
              "      <td>0.441</td>\n",
              "      <td>0.848</td>\n",
              "      <td>0.412</td>\n",
              "      <td>0.852</td>\n",
              "    </tr>\n",
              "    <tr>\n",
              "      <th>2</th>\n",
              "      <td>0.420</td>\n",
              "      <td>0.855</td>\n",
              "      <td>0.404</td>\n",
              "      <td>0.864</td>\n",
              "    </tr>\n",
              "    <tr>\n",
              "      <th>3</th>\n",
              "      <td>0.402</td>\n",
              "      <td>0.860</td>\n",
              "      <td>0.403</td>\n",
              "      <td>0.856</td>\n",
              "    </tr>\n",
              "    <tr>\n",
              "      <th>4</th>\n",
              "      <td>0.389</td>\n",
              "      <td>0.864</td>\n",
              "      <td>0.387</td>\n",
              "      <td>0.861</td>\n",
              "    </tr>\n",
              "  </tbody>\n",
              "</table>\n",
              "</div>"
            ],
            "text/plain": [
              "    loss  accuracy  val_loss  val_accuracy\n",
              "0  0.548     0.798     0.425         0.850\n",
              "1  0.441     0.848     0.412         0.852\n",
              "2  0.420     0.855     0.404         0.864\n",
              "3  0.402     0.860     0.403         0.856\n",
              "4  0.389     0.864     0.387         0.861"
            ]
          },
          "metadata": {},
          "execution_count": 72
        }
      ]
    },
    {
      "cell_type": "code",
      "metadata": {
        "id": "opqlQ8CDTWzs"
      },
      "source": [
        "losses = history4.history['loss']\n",
        "accs = history4.history['accuracy']\n",
        "val_losses = history4.history['val_loss']\n",
        "val_accs = history4.history['val_accuracy']\n",
        "epochs = len(losses)"
      ],
      "execution_count": 73,
      "outputs": []
    },
    {
      "cell_type": "code",
      "metadata": {
        "colab": {
          "base_uri": "https://localhost:8080/",
          "height": 264
        },
        "id": "ODSkjSeCTWzs",
        "outputId": "8fd921f4-0f4d-425d-baf3-447efe6006c0"
      },
      "source": [
        "plt.figure(figsize=(16, 4))\n",
        "for i, metrics in enumerate(zip([losses, accs], [val_losses, val_accs], ['Loss', 'Accuracy'])):\n",
        "    plt.subplot(1, 2, i + 1)\n",
        "    plt.plot(range(epochs), metrics[0], label='Training {}'.format(metrics[2]))\n",
        "    plt.plot(range(epochs), metrics[1], label='Validation {}'.format(metrics[2]))\n",
        "    plt.legend()\n",
        "plt.show()"
      ],
      "execution_count": 74,
      "outputs": [
        {
          "output_type": "display_data",
          "data": {
            "image/png": "[encoded data removed]",
            "text/plain": [
              "<Figure size 1152x288 with 2 Axes>"
            ]
          },
          "metadata": {
            "needs_background": "light"
          }
        }
      ]
    },
    {
      "cell_type": "markdown",
      "metadata": {
        "id": "4cHhTSePTWzs"
      },
      "source": [
        "### Confusion Matrix"
      ]
    },
    {
      "cell_type": "code",
      "metadata": {
        "id": "SBf8F-nPTWzs"
      },
      "source": [
        "preds = model4.predict(test_dataset)"
      ],
      "execution_count": 75,
      "outputs": []
    },
    {
      "cell_type": "code",
      "metadata": {
        "colab": {
          "base_uri": "https://localhost:8080/"
        },
        "id": "-cCQDTI8TWzs",
        "outputId": "136ecc04-cc63-4c7f-ceef-f541e70f74a5"
      },
      "source": [
        "preds.shape"
      ],
      "execution_count": 76,
      "outputs": [
        {
          "output_type": "execute_result",
          "data": {
            "text/plain": [
              "(7600, 4)"
            ]
          },
          "metadata": {},
          "execution_count": 76
        }
      ]
    },
    {
      "cell_type": "code",
      "metadata": {
        "id": "2Scf-nKATWzs"
      },
      "source": [
        "cm = sns.light_palette((260, 75, 60), input=\"husl\", as_cmap=True)"
      ],
      "execution_count": 77,
      "outputs": []
    },
    {
      "cell_type": "code",
      "metadata": {
        "colab": {
          "base_uri": "https://localhost:8080/",
          "height": 171
        },
        "id": "yxPgFuDfTWzs",
        "outputId": "d19d2107-47cd-4534-c756-735343d99cf5"
      },
      "source": [
        "df = pd.DataFrame(preds[0:15]\n",
        "                  ,columns = ['World','Sports','Business','Sci/Tech']).T\n",
        "df.style.format(\"{:.2%}\").background_gradient(cmap=cm)"
      ],
      "execution_count": 78,
      "outputs": [
        {
          "output_type": "execute_result",
          "data": {
            "text/html": [
              "<style  type=\"text/css\" >\n",
              "#T_98fa7492_3e61_11ec_83aa_0242ac1c0002row0_col0{\n",
              "            background-color:  #f0f0f2;\n",
              "            color:  #000000;\n",
              "        }#T_98fa7492_3e61_11ec_83aa_0242ac1c0002row0_col1,#T_98fa7492_3e61_11ec_83aa_0242ac1c0002row0_col4,#T_98fa7492_3e61_11ec_83aa_0242ac1c0002row0_col8,#T_98fa7492_3e61_11ec_83aa_0242ac1c0002row0_col10,#T_98fa7492_3e61_11ec_83aa_0242ac1c0002row0_col13,#T_98fa7492_3e61_11ec_83aa_0242ac1c0002row0_col14,#T_98fa7492_3e61_11ec_83aa_0242ac1c0002row1_col0,#T_98fa7492_3e61_11ec_83aa_0242ac1c0002row1_col3,#T_98fa7492_3e61_11ec_83aa_0242ac1c0002row1_col6,#T_98fa7492_3e61_11ec_83aa_0242ac1c0002row1_col7,#T_98fa7492_3e61_11ec_83aa_0242ac1c0002row2_col9,#T_98fa7492_3e61_11ec_83aa_0242ac1c0002row2_col12,#T_98fa7492_3e61_11ec_83aa_0242ac1c0002row3_col2,#T_98fa7492_3e61_11ec_83aa_0242ac1c0002row3_col5,#T_98fa7492_3e61_11ec_83aa_0242ac1c0002row3_col11{\n",
              "            background-color:  #778ce4;\n",
              "            color:  #000000;\n",
              "        }#T_98fa7492_3e61_11ec_83aa_0242ac1c0002row0_col2,#T_98fa7492_3e61_11ec_83aa_0242ac1c0002row0_col5,#T_98fa7492_3e61_11ec_83aa_0242ac1c0002row0_col11,#T_98fa7492_3e61_11ec_83aa_0242ac1c0002row1_col1,#T_98fa7492_3e61_11ec_83aa_0242ac1c0002row1_col2,#T_98fa7492_3e61_11ec_83aa_0242ac1c0002row1_col4,#T_98fa7492_3e61_11ec_83aa_0242ac1c0002row1_col5,#T_98fa7492_3e61_11ec_83aa_0242ac1c0002row1_col8,#T_98fa7492_3e61_11ec_83aa_0242ac1c0002row1_col9,#T_98fa7492_3e61_11ec_83aa_0242ac1c0002row1_col10,#T_98fa7492_3e61_11ec_83aa_0242ac1c0002row1_col11,#T_98fa7492_3e61_11ec_83aa_0242ac1c0002row1_col12,#T_98fa7492_3e61_11ec_83aa_0242ac1c0002row1_col13,#T_98fa7492_3e61_11ec_83aa_0242ac1c0002row1_col14,#T_98fa7492_3e61_11ec_83aa_0242ac1c0002row2_col0,#T_98fa7492_3e61_11ec_83aa_0242ac1c0002row2_col1,#T_98fa7492_3e61_11ec_83aa_0242ac1c0002row2_col3,#T_98fa7492_3e61_11ec_83aa_0242ac1c0002row2_col4,#T_98fa7492_3e61_11ec_83aa_0242ac1c0002row2_col6,#T_98fa7492_3e61_11ec_83aa_0242ac1c0002row2_col7,#T_98fa7492_3e61_11ec_83aa_0242ac1c0002row2_col10,#T_98fa7492_3e61_11ec_83aa_0242ac1c0002row2_col14,#T_98fa7492_3e61_11ec_83aa_0242ac1c0002row3_col0,#T_98fa7492_3e61_11ec_83aa_0242ac1c0002row3_col1,#T_98fa7492_3e61_11ec_83aa_0242ac1c0002row3_col3,#T_98fa7492_3e61_11ec_83aa_0242ac1c0002row3_col4,#T_98fa7492_3e61_11ec_83aa_0242ac1c0002row3_col6,#T_98fa7492_3e61_11ec_83aa_0242ac1c0002row3_col7,#T_98fa7492_3e61_11ec_83aa_0242ac1c0002row3_col10,#T_98fa7492_3e61_11ec_83aa_0242ac1c0002row3_col12,#T_98fa7492_3e61_11ec_83aa_0242ac1c0002row3_col14{\n",
              "            background-color:  #f0f1f2;\n",
              "            color:  #000000;\n",
              "        }#T_98fa7492_3e61_11ec_83aa_0242ac1c0002row0_col3,#T_98fa7492_3e61_11ec_83aa_0242ac1c0002row2_col11,#T_98fa7492_3e61_11ec_83aa_0242ac1c0002row3_col8,#T_98fa7492_3e61_11ec_83aa_0242ac1c0002row3_col13{\n",
              "            background-color:  #eeeff2;\n",
              "            color:  #000000;\n",
              "        }#T_98fa7492_3e61_11ec_83aa_0242ac1c0002row0_col6,#T_98fa7492_3e61_11ec_83aa_0242ac1c0002row2_col8,#T_98fa7492_3e61_11ec_83aa_0242ac1c0002row2_col13{\n",
              "            background-color:  #eff0f2;\n",
              "            color:  #000000;\n",
              "        }#T_98fa7492_3e61_11ec_83aa_0242ac1c0002row0_col7{\n",
              "            background-color:  #e9eaf1;\n",
              "            color:  #000000;\n",
              "        }#T_98fa7492_3e61_11ec_83aa_0242ac1c0002row0_col9{\n",
              "            background-color:  #ecedf2;\n",
              "            color:  #000000;\n",
              "        }#T_98fa7492_3e61_11ec_83aa_0242ac1c0002row0_col12{\n",
              "            background-color:  #edeef2;\n",
              "            color:  #000000;\n",
              "        }#T_98fa7492_3e61_11ec_83aa_0242ac1c0002row2_col2{\n",
              "            background-color:  #ebedf2;\n",
              "            color:  #000000;\n",
              "        }#T_98fa7492_3e61_11ec_83aa_0242ac1c0002row2_col5,#T_98fa7492_3e61_11ec_83aa_0242ac1c0002row3_col9{\n",
              "            background-color:  #dadef0;\n",
              "            color:  #000000;\n",
              "        }</style><table id=\"T_98fa7492_3e61_11ec_83aa_0242ac1c0002\" class=\"dataframe\"><thead>    <tr>        <th class=\"blank level0\" ></th>        <th class=\"col_heading level0 col0\" >0</th>        <th class=\"col_heading level0 col1\" >1</th>        <th class=\"col_heading level0 col2\" >2</th>        <th class=\"col_heading level0 col3\" >3</th>        <th class=\"col_heading level0 col4\" >4</th>        <th class=\"col_heading level0 col5\" >5</th>        <th class=\"col_heading level0 col6\" >6</th>        <th class=\"col_heading level0 col7\" >7</th>        <th class=\"col_heading level0 col8\" >8</th>        <th class=\"col_heading level0 col9\" >9</th>        <th class=\"col_heading level0 col10\" >10</th>        <th class=\"col_heading level0 col11\" >11</th>        <th class=\"col_heading level0 col12\" >12</th>        <th class=\"col_heading level0 col13\" >13</th>        <th class=\"col_heading level0 col14\" >14</th>    </tr></thead><tbody>\n",
              "                <tr>\n",
              "                        <th id=\"T_98fa7492_3e61_11ec_83aa_0242ac1c0002level0_row0\" class=\"row_heading level0 row0\" >World</th>\n",
              "                        <td id=\"T_98fa7492_3e61_11ec_83aa_0242ac1c0002row0_col0\" class=\"data row0 col0\" >0.58%</td>\n",
              "                        <td id=\"T_98fa7492_3e61_11ec_83aa_0242ac1c0002row0_col1\" class=\"data row0 col1\" >99.94%</td>\n",
              "                        <td id=\"T_98fa7492_3e61_11ec_83aa_0242ac1c0002row0_col2\" class=\"data row0 col2\" >0.08%</td>\n",
              "                        <td id=\"T_98fa7492_3e61_11ec_83aa_0242ac1c0002row0_col3\" class=\"data row0 col3\" >2.09%</td>\n",
              "                        <td id=\"T_98fa7492_3e61_11ec_83aa_0242ac1c0002row0_col4\" class=\"data row0 col4\" >99.85%</td>\n",
              "                        <td id=\"T_98fa7492_3e61_11ec_83aa_0242ac1c0002row0_col5\" class=\"data row0 col5\" >0.35%</td>\n",
              "                        <td id=\"T_98fa7492_3e61_11ec_83aa_0242ac1c0002row0_col6\" class=\"data row0 col6\" >1.03%</td>\n",
              "                        <td id=\"T_98fa7492_3e61_11ec_83aa_0242ac1c0002row0_col7\" class=\"data row0 col7\" >6.10%</td>\n",
              "                        <td id=\"T_98fa7492_3e61_11ec_83aa_0242ac1c0002row0_col8\" class=\"data row0 col8\" >96.61%</td>\n",
              "                        <td id=\"T_98fa7492_3e61_11ec_83aa_0242ac1c0002row0_col9\" class=\"data row0 col9\" >2.65%</td>\n",
              "                        <td id=\"T_98fa7492_3e61_11ec_83aa_0242ac1c0002row0_col10\" class=\"data row0 col10\" >99.93%</td>\n",
              "                        <td id=\"T_98fa7492_3e61_11ec_83aa_0242ac1c0002row0_col11\" class=\"data row0 col11\" >0.34%</td>\n",
              "                        <td id=\"T_98fa7492_3e61_11ec_83aa_0242ac1c0002row0_col12\" class=\"data row0 col12\" >2.85%</td>\n",
              "                        <td id=\"T_98fa7492_3e61_11ec_83aa_0242ac1c0002row0_col13\" class=\"data row0 col13\" >96.19%</td>\n",
              "                        <td id=\"T_98fa7492_3e61_11ec_83aa_0242ac1c0002row0_col14\" class=\"data row0 col14\" >99.85%</td>\n",
              "            </tr>\n",
              "            <tr>\n",
              "                        <th id=\"T_98fa7492_3e61_11ec_83aa_0242ac1c0002level0_row1\" class=\"row_heading level0 row1\" >Sports</th>\n",
              "                        <td id=\"T_98fa7492_3e61_11ec_83aa_0242ac1c0002row1_col0\" class=\"data row1 col0\" >99.41%</td>\n",
              "                        <td id=\"T_98fa7492_3e61_11ec_83aa_0242ac1c0002row1_col1\" class=\"data row1 col1\" >0.00%</td>\n",
              "                        <td id=\"T_98fa7492_3e61_11ec_83aa_0242ac1c0002row1_col2\" class=\"data row1 col2\" >0.01%</td>\n",
              "                        <td id=\"T_98fa7492_3e61_11ec_83aa_0242ac1c0002row1_col3\" class=\"data row1 col3\" >97.89%</td>\n",
              "                        <td id=\"T_98fa7492_3e61_11ec_83aa_0242ac1c0002row1_col4\" class=\"data row1 col4\" >0.00%</td>\n",
              "                        <td id=\"T_98fa7492_3e61_11ec_83aa_0242ac1c0002row1_col5\" class=\"data row1 col5\" >0.07%</td>\n",
              "                        <td id=\"T_98fa7492_3e61_11ec_83aa_0242ac1c0002row1_col6\" class=\"data row1 col6\" >98.92%</td>\n",
              "                        <td id=\"T_98fa7492_3e61_11ec_83aa_0242ac1c0002row1_col7\" class=\"data row1 col7\" >93.57%</td>\n",
              "                        <td id=\"T_98fa7492_3e61_11ec_83aa_0242ac1c0002row1_col8\" class=\"data row1 col8\" >0.14%</td>\n",
              "                        <td id=\"T_98fa7492_3e61_11ec_83aa_0242ac1c0002row1_col9\" class=\"data row1 col9\" >0.04%</td>\n",
              "                        <td id=\"T_98fa7492_3e61_11ec_83aa_0242ac1c0002row1_col10\" class=\"data row1 col10\" >0.00%</td>\n",
              "                        <td id=\"T_98fa7492_3e61_11ec_83aa_0242ac1c0002row1_col11\" class=\"data row1 col11\" >0.10%</td>\n",
              "                        <td id=\"T_98fa7492_3e61_11ec_83aa_0242ac1c0002row1_col12\" class=\"data row1 col12\" >0.00%</td>\n",
              "                        <td id=\"T_98fa7492_3e61_11ec_83aa_0242ac1c0002row1_col13\" class=\"data row1 col13\" >0.25%</td>\n",
              "                        <td id=\"T_98fa7492_3e61_11ec_83aa_0242ac1c0002row1_col14\" class=\"data row1 col14\" >0.00%</td>\n",
              "            </tr>\n",
              "            <tr>\n",
              "                        <th id=\"T_98fa7492_3e61_11ec_83aa_0242ac1c0002level0_row2\" class=\"row_heading level0 row2\" >Business</th>\n",
              "                        <td id=\"T_98fa7492_3e61_11ec_83aa_0242ac1c0002row2_col0\" class=\"data row2 col0\" >0.01%</td>\n",
              "                        <td id=\"T_98fa7492_3e61_11ec_83aa_0242ac1c0002row2_col1\" class=\"data row2 col1\" >0.04%</td>\n",
              "                        <td id=\"T_98fa7492_3e61_11ec_83aa_0242ac1c0002row2_col2\" class=\"data row2 col2\" >3.83%</td>\n",
              "                        <td id=\"T_98fa7492_3e61_11ec_83aa_0242ac1c0002row2_col3\" class=\"data row2 col3\" >0.01%</td>\n",
              "                        <td id=\"T_98fa7492_3e61_11ec_83aa_0242ac1c0002row2_col4\" class=\"data row2 col4\" >0.09%</td>\n",
              "                        <td id=\"T_98fa7492_3e61_11ec_83aa_0242ac1c0002row2_col5\" class=\"data row2 col5\" >15.45%</td>\n",
              "                        <td id=\"T_98fa7492_3e61_11ec_83aa_0242ac1c0002row2_col6\" class=\"data row2 col6\" >0.02%</td>\n",
              "                        <td id=\"T_98fa7492_3e61_11ec_83aa_0242ac1c0002row2_col7\" class=\"data row2 col7\" >0.08%</td>\n",
              "                        <td id=\"T_98fa7492_3e61_11ec_83aa_0242ac1c0002row2_col8\" class=\"data row2 col8\" >1.08%</td>\n",
              "                        <td id=\"T_98fa7492_3e61_11ec_83aa_0242ac1c0002row2_col9\" class=\"data row2 col9\" >82.15%</td>\n",
              "                        <td id=\"T_98fa7492_3e61_11ec_83aa_0242ac1c0002row2_col10\" class=\"data row2 col10\" >0.04%</td>\n",
              "                        <td id=\"T_98fa7492_3e61_11ec_83aa_0242ac1c0002row2_col11\" class=\"data row2 col11\" >2.30%</td>\n",
              "                        <td id=\"T_98fa7492_3e61_11ec_83aa_0242ac1c0002row2_col12\" class=\"data row2 col12\" >96.79%</td>\n",
              "                        <td id=\"T_98fa7492_3e61_11ec_83aa_0242ac1c0002row2_col13\" class=\"data row2 col13\" >1.24%</td>\n",
              "                        <td id=\"T_98fa7492_3e61_11ec_83aa_0242ac1c0002row2_col14\" class=\"data row2 col14\" >0.09%</td>\n",
              "            </tr>\n",
              "            <tr>\n",
              "                        <th id=\"T_98fa7492_3e61_11ec_83aa_0242ac1c0002level0_row3\" class=\"row_heading level0 row3\" >Sci/Tech</th>\n",
              "                        <td id=\"T_98fa7492_3e61_11ec_83aa_0242ac1c0002row3_col0\" class=\"data row3 col0\" >0.00%</td>\n",
              "                        <td id=\"T_98fa7492_3e61_11ec_83aa_0242ac1c0002row3_col1\" class=\"data row3 col1\" >0.02%</td>\n",
              "                        <td id=\"T_98fa7492_3e61_11ec_83aa_0242ac1c0002row3_col2\" class=\"data row3 col2\" >96.08%</td>\n",
              "                        <td id=\"T_98fa7492_3e61_11ec_83aa_0242ac1c0002row3_col3\" class=\"data row3 col3\" >0.01%</td>\n",
              "                        <td id=\"T_98fa7492_3e61_11ec_83aa_0242ac1c0002row3_col4\" class=\"data row3 col4\" >0.06%</td>\n",
              "                        <td id=\"T_98fa7492_3e61_11ec_83aa_0242ac1c0002row3_col5\" class=\"data row3 col5\" >84.12%</td>\n",
              "                        <td id=\"T_98fa7492_3e61_11ec_83aa_0242ac1c0002row3_col6\" class=\"data row3 col6\" >0.02%</td>\n",
              "                        <td id=\"T_98fa7492_3e61_11ec_83aa_0242ac1c0002row3_col7\" class=\"data row3 col7\" >0.24%</td>\n",
              "                        <td id=\"T_98fa7492_3e61_11ec_83aa_0242ac1c0002row3_col8\" class=\"data row3 col8\" >2.17%</td>\n",
              "                        <td id=\"T_98fa7492_3e61_11ec_83aa_0242ac1c0002row3_col9\" class=\"data row3 col9\" >15.17%</td>\n",
              "                        <td id=\"T_98fa7492_3e61_11ec_83aa_0242ac1c0002row3_col10\" class=\"data row3 col10\" >0.03%</td>\n",
              "                        <td id=\"T_98fa7492_3e61_11ec_83aa_0242ac1c0002row3_col11\" class=\"data row3 col11\" >97.26%</td>\n",
              "                        <td id=\"T_98fa7492_3e61_11ec_83aa_0242ac1c0002row3_col12\" class=\"data row3 col12\" >0.35%</td>\n",
              "                        <td id=\"T_98fa7492_3e61_11ec_83aa_0242ac1c0002row3_col13\" class=\"data row3 col13\" >2.32%</td>\n",
              "                        <td id=\"T_98fa7492_3e61_11ec_83aa_0242ac1c0002row3_col14\" class=\"data row3 col14\" >0.06%</td>\n",
              "            </tr>\n",
              "    </tbody></table>"
            ],
            "text/plain": [
              "<pandas.io.formats.style.Styler at 0x7efb9fbb5e50>"
            ]
          },
          "metadata": {},
          "execution_count": 78
        }
      ]
    },
    {
      "cell_type": "markdown",
      "metadata": {
        "id": "EuEEtGkrTWzs"
      },
      "source": [
        "#### Model Architecture Summary: Multi Layer Unidirectional RNN with GRU (Experiment C4U)"
      ]
    },
    {
      "cell_type": "code",
      "metadata": {
        "colab": {
          "base_uri": "https://localhost:8080/"
        },
        "id": "f-2fJ9E0TWzs",
        "outputId": "efc50cc0-a85d-45ff-efb9-357bd6371fc0"
      },
      "source": [
        "model4.summary()"
      ],
      "execution_count": 79,
      "outputs": [
        {
          "output_type": "stream",
          "name": "stdout",
          "text": [
            "Model: \"sequential\"\n",
            "_________________________________________________________________\n",
            "Layer (type)                 Output Shape              Param #   \n",
            "=================================================================\n",
            "text_vectorization (TextVect (None, None)              0         \n",
            "_________________________________________________________________\n",
            "embedding (Embedding)        (None, None, 64)          64000     \n",
            "_________________________________________________________________\n",
            "gru (GRU)                    (None, None, 64)          24960     \n",
            "_________________________________________________________________\n",
            "gru_1 (GRU)                  (None, 32)                9408      \n",
            "_________________________________________________________________\n",
            "dense (Dense)                (None, 64)                2112      \n",
            "_________________________________________________________________\n",
            "dropout (Dropout)            (None, 64)                0         \n",
            "_________________________________________________________________\n",
            "dense_1 (Dense)              (None, 4)                 260       \n",
            "=================================================================\n",
            "Total params: 100,740\n",
            "Trainable params: 100,740\n",
            "Non-trainable params: 0\n",
            "_________________________________________________________________\n"
          ]
        }
      ]
    },
    {
      "cell_type": "code",
      "metadata": {
        "scrolled": false,
        "colab": {
          "base_uri": "https://localhost:8080/",
          "height": 864
        },
        "id": "bvHX9rboTWzs",
        "outputId": "853ff07e-ff69-4a22-8cbc-783f95416fe6"
      },
      "source": [
        "keras.utils.plot_model(model4, \"2Layer_BiDirectionalGRU.png\", show_shapes=True)"
      ],
      "execution_count": 80,
      "outputs": [
        {
          "output_type": "execute_result",
          "data": {
            "image/png": "[encoded data removed]",
            "text/plain": [
              "<IPython.core.display.Image object>"
            ]
          },
          "metadata": {},
          "execution_count": 80
        }
      ]
    },
    {
      "cell_type": "markdown",
      "metadata": {
        "id": "o8PCUbEvTWzt"
      },
      "source": [
        "Check out other existing recurrent layers such as [GRU layers](https://www.tensorflow.org/api_docs/python/tf/keras/layers/GRU).\n",
        "\n",
        "If you're interestied in building custom RNNs, see the [Keras RNN Guide](../../guide/keras/rnn.ipynb).\n"
      ]
    }
  ]
}