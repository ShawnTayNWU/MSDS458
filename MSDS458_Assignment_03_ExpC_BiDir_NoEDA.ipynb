{
  "nbformat": 4,
  "nbformat_minor": 0,
  "metadata": {
    "accelerator": "GPU",
    "colab": {
      "name": "MSDS458_Assignment_03_ExpC_BiDir_NoEDA.ipynb",
      "provenance": [],
      "collapsed_sections": [],
      "machine_shape": "hm",
      "include_colab_link": true
    },
    "kernelspec": {
      "display_name": "Python 3",
      "language": "python",
      "name": "python3"
    },
    "language_info": {
      "codemirror_mode": {
        "name": "ipython",
        "version": 3
      },
      "file_extension": ".py",
      "mimetype": "text/x-python",
      "name": "python",
      "nbconvert_exporter": "python",
      "pygments_lexer": "ipython3",
      "version": "3.6.9"
    },
    "toc": {
      "base_numbering": 1,
      "nav_menu": {},
      "number_sections": false,
      "sideBar": true,
      "skip_h1_title": false,
      "title_cell": "Table of Contents",
      "title_sidebar": "Contents",
      "toc_cell": false,
      "toc_position": {},
      "toc_section_display": true,
      "toc_window_display": false
    }
  },
  "cells": [
    {
      "cell_type": "markdown",
      "metadata": {
        "id": "view-in-github",
        "colab_type": "text"
      },
      "source": [
        "<a href=\"https://colab.research.google.com/github/ShawnTayNWU/MSDS458/blob/MSDS458/MSDS458_Assignment_03_ExpC_BiDir_NoEDA.ipynb\" target=\"_parent\"><img src=\"https://colab.research.google.com/assets/colab-badge.svg\" alt=\"Open In Colab\"/></a>"
      ]
    },
    {
      "cell_type": "code",
      "metadata": {
        "id": "BdT3-h5rU6qS"
      },
      "source": [
        ""
      ],
      "execution_count": null,
      "outputs": []
    },
    {
      "cell_type": "markdown",
      "metadata": {
        "id": "Cfh9kVB-rpjo"
      },
      "source": [
        "<img src=\"https://github.com/djp840/MSDS_458_Public/blob/master/images/NorthwesternHeader.png?raw=1\">"
      ]
    },
    {
      "cell_type": "markdown",
      "metadata": {
        "id": "pRAx1f1ir1St"
      },
      "source": [
        "## MSDS458 Research Assignment 3"
      ]
    },
    {
      "cell_type": "markdown",
      "metadata": {
        "id": "jQnyR1_aFk-t"
      },
      "source": [
        "### Analyze AG_NEWS_SUBSET Data <br>\n",
        "\n",
        "AG is a collection of more than 1 million news articles. News articles have been gathered from more than 2000 news sources by ComeToMyHead in more than 1 year of activity. ComeToMyHead is an academic news search engine which has been running since July, 2004. The dataset is provided by the academic comunity for research purposes in data mining (clustering, classification, etc), information retrieval (ranking, search, etc), xml, data compression, data streaming, and any other non-commercial activity.<br> \n",
        "\n",
        "For more information, please refer to the link http://www.di.unipi.it/~gulli/AG_corpus_of_news_articles.html<br> \n",
        "\n",
        "\n",
        "The AG's news topic classification dataset is constructed by choosing 4 largest classes (**World**, **Sports**, **Business**, and **Sci/Tech**) from the original corpus. Each class contains 30,000 training samples and 1,900 testing samples. The total number of training samples is 120,000 and testing 7,600.<br>\n",
        "\n",
        "Homepage: https://arxiv.org/abs/1509.01626<br>\n",
        "\n",
        "Source code: tfds.text.AGNewsSubset\n",
        "\n",
        "Versions:\n",
        "\n",
        "1.0.0 (default): No release notes.\n",
        "Download size: 11.24 MiB\n",
        "\n",
        "Dataset size: 35.79 MiB"
      ]
    },
    {
      "cell_type": "markdown",
      "metadata": {
        "id": "oGBlk-2-NaCn"
      },
      "source": [
        "<div class=\"alert alert-block alert-success\">\n",
        "    <b>More Technical</b>: Throughout the notebook. This types of boxes provide more technical details and extra references about what you are seeing. They contain helpful tips, but you can safely skip them the first time you run through the code.\n",
        "</div>"
      ]
    },
    {
      "cell_type": "markdown",
      "metadata": {
        "id": "t-Jjr3rNr5PR"
      },
      "source": [
        "## Import packages "
      ]
    },
    {
      "cell_type": "code",
      "metadata": {
        "id": "mbrX9qUZvfs1"
      },
      "source": [
        "import datetime\n",
        "from packaging import version\n",
        "from collections import Counter\n",
        "import numpy as np\n",
        "import pandas as pd\n",
        "import time\n",
        "\n",
        "import matplotlib.pyplot as plt\n",
        "import matplotlib as mpl\n",
        "import seaborn as sns\n",
        "\n",
        "from sklearn.metrics import confusion_matrix, classification_report\n",
        "from sklearn.preprocessing import StandardScaler\n",
        "from sklearn.decomposition import PCA\n",
        "from sklearn.manifold import TSNE\n",
        "from sklearn.ensemble import RandomForestClassifier\n",
        "from sklearn.metrics import mean_squared_error as MSE\n",
        "from sklearn.metrics import accuracy_score\n",
        "\n",
        "import tensorflow as tf\n",
        "from tensorflow import keras\n",
        "import tensorflow_datasets as tfds\n",
        "\n",
        "from timeit import default_timer as timer #import a timer\n",
        "from datetime import datetime"
      ],
      "execution_count": 1,
      "outputs": []
    },
    {
      "cell_type": "code",
      "metadata": {
        "id": "Rn-mj2I3yRRJ"
      },
      "source": [
        "#tf.get_logger().setLevel('INFO')"
      ],
      "execution_count": 2,
      "outputs": []
    },
    {
      "cell_type": "code",
      "metadata": {
        "id": "q0H8HuzHrWwN"
      },
      "source": [
        "%matplotlib inline\n",
        "np.set_printoptions(precision=3, suppress=True)"
      ],
      "execution_count": 3,
      "outputs": []
    },
    {
      "cell_type": "markdown",
      "metadata": {
        "id": "iKucNfkrsqrP"
      },
      "source": [
        "### Verify TensorFlow Version and Keras Version"
      ]
    },
    {
      "cell_type": "code",
      "metadata": {
        "colab": {
          "base_uri": "https://localhost:8080/"
        },
        "id": "g_BoGg9JrWzj",
        "outputId": "e8669c06-26b8-4a00-c624-38c7b74fcef0"
      },
      "source": [
        "print(\"This notebook requires TensorFlow 2.0 or above\")\n",
        "print(\"TensorFlow version: \", tf.__version__)\n",
        "assert version.parse(tf.__version__).release[0] >=2"
      ],
      "execution_count": 4,
      "outputs": [
        {
          "output_type": "stream",
          "name": "stdout",
          "text": [
            "This notebook requires TensorFlow 2.0 or above\n",
            "TensorFlow version:  2.6.0\n"
          ]
        }
      ]
    },
    {
      "cell_type": "code",
      "metadata": {
        "colab": {
          "base_uri": "https://localhost:8080/"
        },
        "id": "U_bLWHP4rW3b",
        "outputId": "0d726a83-f2c2-422e-cab3-4c6f19195d66"
      },
      "source": [
        "print(\"Keras version: \", keras.__version__)"
      ],
      "execution_count": 5,
      "outputs": [
        {
          "output_type": "stream",
          "name": "stdout",
          "text": [
            "Keras version:  2.6.0\n"
          ]
        }
      ]
    },
    {
      "cell_type": "markdown",
      "metadata": {
        "id": "gv2IpLXlRHcK"
      },
      "source": [
        "### Functions For Research Assignment "
      ]
    },
    {
      "cell_type": "code",
      "metadata": {
        "id": "_5frSUHrRHcL"
      },
      "source": [
        "def print_validation_report(test_labels, predictions):\n",
        "    print(\"Classification Report\")\n",
        "    print(classification_report(test_labels, predictions))\n",
        "    print('Accuracy Score: {}'.format(accuracy_score(test_labels, predictions)))\n",
        "    print('Root Mean Square Error: {}'.format(np.sqrt(MSE(test_labels, predictions)))) "
      ],
      "execution_count": 6,
      "outputs": []
    },
    {
      "cell_type": "code",
      "metadata": {
        "id": "u7LaqA0hRHcO"
      },
      "source": [
        "def plot_confusion_matrix(y_true, y_pred):\n",
        "    mtx = confusion_matrix(y_true, y_pred)\n",
        "    fig, ax = plt.subplots(figsize=(8,8))\n",
        "    sns.heatmap(mtx, annot=True, fmt='d', linewidths=.75,  cbar=False, ax=ax,cmap='Blues',linecolor='white')\n",
        "    #  square=True,\n",
        "    plt.ylabel('true label')\n",
        "    plt.xlabel('predicted label')"
      ],
      "execution_count": 7,
      "outputs": []
    },
    {
      "cell_type": "code",
      "metadata": {
        "id": "RcicfaY7RHcQ"
      },
      "source": [
        "def plot_graphs(history, metric):\n",
        "  plt.plot(history.history[metric])\n",
        "  plt.plot(history.history['val_'+metric], '')\n",
        "  plt.xlabel(\"Epochs\")\n",
        "  plt.ylabel(metric)\n",
        "  plt.legend([metric, 'val_'+metric])"
      ],
      "execution_count": 8,
      "outputs": []
    },
    {
      "cell_type": "markdown",
      "metadata": {
        "id": "-mFyXjJmtJ3E"
      },
      "source": [
        "### Mount Google Drive to Colab Environment"
      ]
    },
    {
      "cell_type": "code",
      "metadata": {
        "id": "CXm3H81YrW8-"
      },
      "source": [
        "#from google.colab import drive\n",
        "#drive.mount('/content/gdrive')"
      ],
      "execution_count": 9,
      "outputs": []
    },
    {
      "cell_type": "markdown",
      "metadata": {
        "id": "X6s4xhh5ysp6"
      },
      "source": [
        "###  TensorFlow Datasets Information<br>\n",
        "<div class=\"alert alert-block alert-info\">\n",
        "    <b> ag_news_subset</b><br>\n",
        "    See https://www.tensorflow.org/datasets/catalog/ag_news_subset\n",
        "    </div>"
      ]
    },
    {
      "cell_type": "markdown",
      "metadata": {
        "id": "cL3ewSkAF4yF"
      },
      "source": [
        "Get all the words in the documents (as well as the number of words in each document) by using the encoder to get the indices associated with each token and then translating the indices to tokens. But first we need to get the \"unpadded\" new articles so that we can get their length."
      ]
    },
    {
      "cell_type": "code",
      "metadata": {
        "colab": {
          "base_uri": "https://localhost:8080/"
        },
        "id": "VNj2HSxNtTNS",
        "scrolled": false,
        "outputId": "d145b882-8465-471f-a7f1-5654605d921f"
      },
      "source": [
        "#register  ag_news_subset so that tfds.load doesn't generate a checksum (mismatch) error\n",
        "!python -m tensorflow_datasets.scripts.download_and_prepare --register_checksums --datasets=ag_news_subset\n",
        "\n",
        "# https://www.tensorflow.org/datasets/splits\n",
        "# The full `train` and `test` splits, interleaved together.\n",
        "ri = tfds.core.ReadInstruction('train') + tfds.core.ReadInstruction('test')\n",
        "dataset_all, info = tfds.load('ag_news_subset', with_info=True,  split=ri, as_supervised=True)"
      ],
      "execution_count": 10,
      "outputs": [
        {
          "output_type": "stream",
          "name": "stdout",
          "text": [
            "2021-11-05 16:54:10.237969: I tensorflow/stream_executor/cuda/cuda_gpu_executor.cc:937] successful NUMA node read from SysFS had negative value (-1), but there must be at least one NUMA node, so returning NUMA node zero\n",
            "2021-11-05 16:54:10.481117: I tensorflow/stream_executor/cuda/cuda_gpu_executor.cc:937] successful NUMA node read from SysFS had negative value (-1), but there must be at least one NUMA node, so returning NUMA node zero\n",
            "2021-11-05 16:54:10.482240: I tensorflow/stream_executor/cuda/cuda_gpu_executor.cc:937] successful NUMA node read from SysFS had negative value (-1), but there must be at least one NUMA node, so returning NUMA node zero\n",
            "I1105 16:54:10.483358 140250940995456 download_and_prepare.py:200] Running download_and_prepare for dataset(s):\n",
            "ag_news_subset\n",
            "2021-11-05 16:54:10.492759: I tensorflow/core/platform/cloud/google_auth_provider.cc:180] Attempting an empty bearer token since no token was retrieved from files, and GCE metadata check was skipped.\n",
            "2021-11-05 16:54:10.537755: I tensorflow/core/platform/cloud/google_auth_provider.cc:180] Attempting an empty bearer token since no token was retrieved from files, and GCE metadata check was skipped.\n",
            "2021-11-05 16:54:10.576885: I tensorflow/core/platform/cloud/google_auth_provider.cc:180] Attempting an empty bearer token since no token was retrieved from files, and GCE metadata check was skipped.\n",
            "I1105 16:54:10.616248 140250940995456 dataset_info.py:434] Load pre-computed DatasetInfo (eg: splits, num examples,...) from GCS: ag_news_subset/1.0.0\n",
            "2021-11-05 16:54:10.625368: I tensorflow/core/platform/cloud/google_auth_provider.cc:180] Attempting an empty bearer token since no token was retrieved from files, and GCE metadata check was skipped.\n",
            "2021-11-05 16:54:10.744543: I tensorflow/core/platform/cloud/google_auth_provider.cc:180] Attempting an empty bearer token since no token was retrieved from files, and GCE metadata check was skipped.\n",
            "I1105 16:54:10.809975 140250940995456 dataset_info.py:361] Load dataset info from /tmp/tmprhewufc2tfds\n",
            "I1105 16:54:10.812041 140250940995456 download_and_prepare.py:138] download_and_prepare for dataset ag_news_subset/1.0.0...\n",
            "I1105 16:54:10.812600 140250940995456 dataset_builder.py:357] Generating dataset ag_news_subset (/root/tensorflow_datasets/ag_news_subset/1.0.0)\n",
            "\u001b[1mDownloading and preparing dataset ag_news_subset/1.0.0 (download: 11.24 MiB, generated: 35.79 MiB, total: 47.03 MiB) to /root/tensorflow_datasets/ag_news_subset/1.0.0...\u001b[0m\n",
            "2021-11-05 16:54:11.002652: I tensorflow/core/platform/cloud/google_auth_provider.cc:180] Attempting an empty bearer token since no token was retrieved from files, and GCE metadata check was skipped.\n",
            "2021-11-05 16:54:11.035550: I tensorflow/core/platform/cloud/google_auth_provider.cc:180] Attempting an empty bearer token since no token was retrieved from files, and GCE metadata check was skipped.\n",
            "Dl Completed...: 0 url [00:00, ? url/s]\n",
            "Dl Size...: 0 MiB [00:00, ? MiB/s]\u001b[A\n",
            "\n",
            "Extraction completed...: 0 file [00:00, ? file/s]\u001b[A\u001b[AI1105 16:54:11.087265 140250940995456 download_manager.py:476] Downloading https://drive.google.com/uc?export=download&id=0Bz8a_Dbh9QhbUDNpeUdjb0wxRms into /root/tensorflow_datasets/downloads/ucexport_download_id_0Bz8a_Dbh9QhbUDNpeUdjb0wxj4g1umFAV8OV-uDwxSJR0LdxO_k1jxMuFWwAfNX9jos.tmp.0ae0588ac41e4be5bb1618e749ca3298...\n",
            "Dl Completed...:   0% 0/1 [00:00<?, ? url/s]\n",
            "Dl Size...: 0 MiB [00:00, ? MiB/s]\u001b[A\n",
            "\n",
            "Dl Completed...:   0% 0/1 [00:15<?, ? url/s]\n",
            "Dl Size...:   0% 0/11 [00:15<?, ? MiB/s]\u001b[A\n",
            "\n",
            "Extraction completed...: 0 file [00:15, ? file/s]\u001b[A\u001b[A\n",
            "Dl Completed...:   0% 0/1 [00:15<?, ? url/s]\n",
            "Dl Size...:   9% 1/11 [00:15<02:36, 15.68s/ MiB]\u001b[A\n",
            "\n",
            "Dl Completed...:   0% 0/1 [00:15<?, ? url/s]\n",
            "Dl Size...:  18% 2/11 [00:15<02:21, 15.68s/ MiB]\u001b[A\n",
            "\n",
            "Dl Completed...:   0% 0/1 [00:15<?, ? url/s]\n",
            "Dl Size...:  27% 3/11 [00:15<02:05, 15.68s/ MiB]\u001b[A\n",
            "\n",
            "Dl Completed...:   0% 0/1 [00:15<?, ? url/s]\n",
            "Dl Size...:  36% 4/11 [00:15<01:49, 15.68s/ MiB]\u001b[A\n",
            "\n",
            "Dl Completed...:   0% 0/1 [00:15<?, ? url/s]\n",
            "Dl Size...:  45% 5/11 [00:15<01:34, 15.68s/ MiB]\u001b[A\n",
            "\n",
            "Dl Completed...:   0% 0/1 [00:15<?, ? url/s]\n",
            "Dl Size...:  55% 6/11 [00:15<01:18, 15.68s/ MiB]\u001b[A\n",
            "\n",
            "Dl Completed...:   0% 0/1 [00:15<?, ? url/s]\n",
            "Dl Size...:  64% 7/11 [00:15<01:02, 15.68s/ MiB]\u001b[A\n",
            "\n",
            "Dl Completed...:   0% 0/1 [00:15<?, ? url/s]\n",
            "Dl Size...:  73% 8/11 [00:15<00:47, 15.68s/ MiB]\u001b[A\n",
            "\n",
            "Extraction completed...: 0 file [00:15, ? file/s]\u001b[A\u001b[A\n",
            "Dl Completed...:   0% 0/1 [00:15<?, ? url/s]\n",
            "Dl Size...:  82% 9/11 [00:15<00:02,  1.27s/ MiB]\u001b[A\n",
            "\n",
            "Dl Completed...:   0% 0/1 [00:15<?, ? url/s]\n",
            "Dl Size...:  91% 10/11 [00:15<00:01,  1.27s/ MiB]\u001b[A\n",
            "\n",
            "Dl Completed...:   0% 0/1 [00:15<?, ? url/s]\n",
            "Dl Size...: 100% 11/11 [00:15<00:00,  1.27s/ MiB]\u001b[A\n",
            "\n",
            "Dl Completed...: 100% 1/1 [00:15<00:00, 15.82s/ url]\n",
            "Dl Size...: 100% 11/11 [00:15<00:00,  1.27s/ MiB]\u001b[A\n",
            "\n",
            "Dl Completed...: 100% 1/1 [00:15<00:00, 15.82s/ url]\n",
            "Dl Size...: 100% 11/11 [00:15<00:00,  1.27s/ MiB]\u001b[A\n",
            "\n",
            "Extraction completed...:   0% 0/1 [00:15<?, ? file/s]\u001b[A\u001b[A\n",
            "\n",
            "Dl Completed...: 100% 1/1 [00:16<00:00, 15.82s/ url]\n",
            "Dl Size...: 100% 11/11 [00:16<00:00,  1.27s/ MiB]\u001b[A\n",
            "\n",
            "Extraction completed...: 100% 1/1 [00:16<00:00, 16.20s/ file]\u001b[A\u001b[A\n",
            "Extraction completed...: 100% 1/1 [00:16<00:00, 16.20s/ file]\n",
            "\n",
            "Dl Size...: 100% 11/11 [00:16<00:00,  1.47s/ MiB]\n",
            "\n",
            "Dl Completed...: 100% 1/1 [00:16<00:00, 16.20s/ url]\n",
            "I1105 16:54:27.286852 140250940995456 dataset_builder.py:970] Generating split train\n",
            "Shuffling and writing examples to /root/tensorflow_datasets/ag_news_subset/1.0.0.incompleteSZRENY/ag_news_subset-train.tfrecord\n",
            " 96% 115752/120000 [00:00<00:00, 331372.97 examples/s]I1105 16:55:01.077436 140250940995456 tfrecords_writer.py:226] Done writing /root/tensorflow_datasets/ag_news_subset/1.0.0.incompleteSZRENY/ag_news_subset-train.tfrecord. Shard lengths: [120000]\n",
            "I1105 16:55:01.097425 140250940995456 dataset_builder.py:970] Generating split test\n",
            "Shuffling and writing examples to /root/tensorflow_datasets/ag_news_subset/1.0.0.incompleteSZRENY/ag_news_subset-test.tfrecord\n",
            "  0% 0/7600 [00:00<?, ? examples/s]I1105 16:55:03.088475 140250940995456 tfrecords_writer.py:226] Done writing /root/tensorflow_datasets/ag_news_subset/1.0.0.incompleteSZRENY/ag_news_subset-test.tfrecord. Shard lengths: [7600]\n",
            "I1105 16:55:03.090006 140250940995456 dataset_builder.py:412] Skipping computing stats for mode ComputeStatsMode.SKIP.\n",
            "\u001b[1mDataset ag_news_subset downloaded and prepared to /root/tensorflow_datasets/ag_news_subset/1.0.0. Subsequent calls will reuse this data.\u001b[0m\n",
            "\u001b[1mname: \"ag_news_subset\"\n",
            "description: \"AG is a collection of more than 1 million news articles.\\nNews articles have been gathered from more than 2000  news sources by ComeToMyHead in more than 1 year of activity.\\nComeToMyHead is an academic news search engine which has been running since July, 2004.\\nThe dataset is provided by the academic comunity for research purposes in data mining (clustering, classification, etc),\\ninformation retrieval (ranking, search, etc), xml, data compression, data streaming,\\nand any other non-commercial activity.\\nFor more information, please refer to the link http://www.di.unipi.it/~gulli/AG_corpus_of_news_articles.html .\\n\\nThe AG\\'s news topic classification dataset is constructed by Xiang Zhang (xiang.zhang@nyu.edu) from the dataset above.\\nIt is used as a text classification benchmark in the following paper:\\nXiang Zhang, Junbo Zhao, Yann LeCun. Character-level Convolutional Networks for Text Classification. Advances in Neural Information Processing Systems 28 (NIPS 2015).\\n\\nThe AG\\'s news topic classification dataset is constructed by choosing 4 largest classes from the original corpus.\\nEach class contains 30,000 training samples and 1,900 testing samples.\\nThe total number of training samples is 120,000 and testing 7,600.\"\n",
            "citation: \"@misc{zhang2015characterlevel,\\n    title={Character-level Convolutional Networks for Text Classification},\\n    author={Xiang Zhang and Junbo Zhao and Yann LeCun},\\n    year={2015},\\n    eprint={1509.01626},\\n    archivePrefix={arXiv},\\n    primaryClass={cs.LG}\\n}\"\n",
            "location {\n",
            "  urls: \"https://arxiv.org/abs/1509.01626\"\n",
            "}\n",
            "splits {\n",
            "  name: \"test\"\n",
            "  shard_lengths: 7600\n",
            "  num_bytes: 2226751\n",
            "}\n",
            "splits {\n",
            "  name: \"train\"\n",
            "  shard_lengths: 120000\n",
            "  num_bytes: 35301386\n",
            "}\n",
            "supervised_keys {\n",
            "  input: \"description\"\n",
            "  output: \"label\"\n",
            "}\n",
            "version: \"1.0.0\"\n",
            "download_size: 11784327\n",
            "\u001b[0m\n"
          ]
        }
      ]
    },
    {
      "cell_type": "markdown",
      "metadata": {
        "id": "Bzs2FWbQIf5m"
      },
      "source": [
        "###  Exploratory Analysis AG News Subset"
      ]
    },
    {
      "cell_type": "markdown",
      "metadata": {
        "id": "m7514-j4I4B-"
      },
      "source": [
        "**Get information about the ag_news_subset dataset. We combined the training and test data for a total of 127,600 news articles.**"
      ]
    },
    {
      "cell_type": "code",
      "metadata": {
        "colab": {
          "base_uri": "https://localhost:8080/"
        },
        "id": "eJNcnZbRtTQ2",
        "outputId": "d7c7f4ff-d384-4dee-9251-8ab7eedb258e"
      },
      "source": [
        "print(info)"
      ],
      "execution_count": 11,
      "outputs": [
        {
          "output_type": "stream",
          "name": "stdout",
          "text": [
            "tfds.core.DatasetInfo(\n",
            "    name='ag_news_subset',\n",
            "    version=1.0.0,\n",
            "    description='AG is a collection of more than 1 million news articles.\n",
            "News articles have been gathered from more than 2000  news sources by ComeToMyHead in more than 1 year of activity.\n",
            "ComeToMyHead is an academic news search engine which has been running since July, 2004.\n",
            "The dataset is provided by the academic comunity for research purposes in data mining (clustering, classification, etc),\n",
            "information retrieval (ranking, search, etc), xml, data compression, data streaming,\n",
            "and any other non-commercial activity.\n",
            "For more information, please refer to the link http://www.di.unipi.it/~gulli/AG_corpus_of_news_articles.html .\n",
            "\n",
            "The AG's news topic classification dataset is constructed by Xiang Zhang (xiang.zhang@nyu.edu) from the dataset above.\n",
            "It is used as a text classification benchmark in the following paper:\n",
            "Xiang Zhang, Junbo Zhao, Yann LeCun. Character-level Convolutional Networks for Text Classification. Advances in Neural Information Processing Systems 28 (NIPS 2015).\n",
            "\n",
            "The AG's news topic classification dataset is constructed by choosing 4 largest classes from the original corpus.\n",
            "Each class contains 30,000 training samples and 1,900 testing samples.\n",
            "The total number of training samples is 120,000 and testing 7,600.',\n",
            "    homepage='https://arxiv.org/abs/1509.01626',\n",
            "    features=FeaturesDict({\n",
            "        'description': Text(shape=(), dtype=tf.string),\n",
            "        'label': ClassLabel(shape=(), dtype=tf.int64, num_classes=4),\n",
            "        'title': Text(shape=(), dtype=tf.string),\n",
            "    }),\n",
            "    total_num_examples=127600,\n",
            "    splits={\n",
            "        'test': 7600,\n",
            "        'train': 120000,\n",
            "    },\n",
            "    supervised_keys=('description', 'label'),\n",
            "    citation=\"\"\"@misc{zhang2015characterlevel,\n",
            "        title={Character-level Convolutional Networks for Text Classification},\n",
            "        author={Xiang Zhang and Junbo Zhao and Yann LeCun},\n",
            "        year={2015},\n",
            "        eprint={1509.01626},\n",
            "        archivePrefix={arXiv},\n",
            "        primaryClass={cs.LG}\n",
            "    }\"\"\",\n",
            "    redistribution_info=,\n",
            ")\n",
            "\n"
          ]
        }
      ]
    },
    {
      "cell_type": "code",
      "metadata": {
        "colab": {
          "base_uri": "https://localhost:8080/",
          "height": 235
        },
        "id": "w6GaSzMRqrIR",
        "outputId": "fd125693-09f4-42ce-fdca-0ec9b068b257"
      },
      "source": [
        "tfds.as_dataframe(dataset_all.take(10),info)"
      ],
      "execution_count": 12,
      "outputs": [
        {
          "output_type": "execute_result",
          "data": {
            "text/html": [
              "<style  type=\"text/css\" >\n",
              "</style><table id=\"T_21426548_3e59_11ec_a4b1_0242ac1c0002\" ><thead>    <tr>        <th class=\"blank level0\" ></th>        <th class=\"col_heading level0 col0\" >description</th>        <th class=\"col_heading level0 col1\" >label</th>    </tr></thead><tbody>\n",
              "                <tr>\n",
              "                        <th id=\"T_21426548_3e59_11ec_a4b1_0242ac1c0002level0_row0\" class=\"row_heading level0 row0\" >0</th>\n",
              "                        <td id=\"T_21426548_3e59_11ec_a4b1_0242ac1c0002row0_col0\" class=\"data row0 col0\" >AMD #39;s new dual-core Opteron chip is designed mainly for corporate computing applications, including databases, Web services, and financial transactions.</td>\n",
              "                        <td id=\"T_21426548_3e59_11ec_a4b1_0242ac1c0002row0_col1\" class=\"data row0 col1\" >3 (Sci/Tech)</td>\n",
              "            </tr>\n",
              "            <tr>\n",
              "                        <th id=\"T_21426548_3e59_11ec_a4b1_0242ac1c0002level0_row1\" class=\"row_heading level0 row1\" >1</th>\n",
              "                        <td id=\"T_21426548_3e59_11ec_a4b1_0242ac1c0002row1_col0\" class=\"data row1 col0\" >Reuters - Major League Baseball\\Monday announced a decision on the appeal filed by Chicago Cubs\\pitcher Kerry Wood regarding a suspension stemming from an\\incident earlier this season.</td>\n",
              "                        <td id=\"T_21426548_3e59_11ec_a4b1_0242ac1c0002row1_col1\" class=\"data row1 col1\" >1 (Sports)</td>\n",
              "            </tr>\n",
              "            <tr>\n",
              "                        <th id=\"T_21426548_3e59_11ec_a4b1_0242ac1c0002level0_row2\" class=\"row_heading level0 row2\" >2</th>\n",
              "                        <td id=\"T_21426548_3e59_11ec_a4b1_0242ac1c0002row2_col0\" class=\"data row2 col0\" >President Bush #39;s quot;revenue-neutral quot; tax reform needs losers to balance its winners, and people claiming the federal deduction for state and local taxes may be in administration planners #39; sights, news reports say.</td>\n",
              "                        <td id=\"T_21426548_3e59_11ec_a4b1_0242ac1c0002row2_col1\" class=\"data row2 col1\" >2 (Business)</td>\n",
              "            </tr>\n",
              "            <tr>\n",
              "                        <th id=\"T_21426548_3e59_11ec_a4b1_0242ac1c0002level0_row3\" class=\"row_heading level0 row3\" >3</th>\n",
              "                        <td id=\"T_21426548_3e59_11ec_a4b1_0242ac1c0002row3_col0\" class=\"data row3 col0\" >Britain will run out of leading scientists unless science education is improved, says Professor Colin Pillinger.</td>\n",
              "                        <td id=\"T_21426548_3e59_11ec_a4b1_0242ac1c0002row3_col1\" class=\"data row3 col1\" >3 (Sci/Tech)</td>\n",
              "            </tr>\n",
              "            <tr>\n",
              "                        <th id=\"T_21426548_3e59_11ec_a4b1_0242ac1c0002level0_row4\" class=\"row_heading level0 row4\" >4</th>\n",
              "                        <td id=\"T_21426548_3e59_11ec_a4b1_0242ac1c0002row4_col0\" class=\"data row4 col0\" >London, England (Sports Network) - England midfielder Steven Gerrard injured his groin late in Thursday #39;s training session, but is hopeful he will be ready for Saturday #39;s World Cup qualifier against Austria.</td>\n",
              "                        <td id=\"T_21426548_3e59_11ec_a4b1_0242ac1c0002row4_col1\" class=\"data row4 col1\" >1 (Sports)</td>\n",
              "            </tr>\n",
              "            <tr>\n",
              "                        <th id=\"T_21426548_3e59_11ec_a4b1_0242ac1c0002level0_row5\" class=\"row_heading level0 row5\" >5</th>\n",
              "                        <td id=\"T_21426548_3e59_11ec_a4b1_0242ac1c0002row5_col0\" class=\"data row5 col0\" >TOKYO - Sony Corp. is banking on the \\$3 billion deal to acquire Hollywood studio Metro-Goldwyn-Mayer Inc...</td>\n",
              "                        <td id=\"T_21426548_3e59_11ec_a4b1_0242ac1c0002row5_col1\" class=\"data row5 col1\" >0 (World)</td>\n",
              "            </tr>\n",
              "            <tr>\n",
              "                        <th id=\"T_21426548_3e59_11ec_a4b1_0242ac1c0002level0_row6\" class=\"row_heading level0 row6\" >6</th>\n",
              "                        <td id=\"T_21426548_3e59_11ec_a4b1_0242ac1c0002row6_col0\" class=\"data row6 col0\" >Giant pandas may well prefer bamboo to laptops, but wireless technology is helping researchers in China in their efforts to protect the engandered animals living in the remote Wolong Nature Reserve.</td>\n",
              "                        <td id=\"T_21426548_3e59_11ec_a4b1_0242ac1c0002row6_col1\" class=\"data row6 col1\" >3 (Sci/Tech)</td>\n",
              "            </tr>\n",
              "            <tr>\n",
              "                        <th id=\"T_21426548_3e59_11ec_a4b1_0242ac1c0002level0_row7\" class=\"row_heading level0 row7\" >7</th>\n",
              "                        <td id=\"T_21426548_3e59_11ec_a4b1_0242ac1c0002row7_col0\" class=\"data row7 col0\" >VILNIUS, Lithuania - Lithuania #39;s main parties formed an alliance to try to keep a Russian-born tycoon and his populist promises out of the government in Sunday #39;s second round of parliamentary elections in this Baltic country.</td>\n",
              "                        <td id=\"T_21426548_3e59_11ec_a4b1_0242ac1c0002row7_col1\" class=\"data row7 col1\" >0 (World)</td>\n",
              "            </tr>\n",
              "            <tr>\n",
              "                        <th id=\"T_21426548_3e59_11ec_a4b1_0242ac1c0002level0_row8\" class=\"row_heading level0 row8\" >8</th>\n",
              "                        <td id=\"T_21426548_3e59_11ec_a4b1_0242ac1c0002row8_col0\" class=\"data row8 col0\" >Witnesses in the trial of a US soldier charged with abusing prisoners at Abu Ghraib have told the court that the CIA sometimes directed abuse and orders were received from military command to toughen interrogations.</td>\n",
              "                        <td id=\"T_21426548_3e59_11ec_a4b1_0242ac1c0002row8_col1\" class=\"data row8 col1\" >0 (World)</td>\n",
              "            </tr>\n",
              "            <tr>\n",
              "                        <th id=\"T_21426548_3e59_11ec_a4b1_0242ac1c0002level0_row9\" class=\"row_heading level0 row9\" >9</th>\n",
              "                        <td id=\"T_21426548_3e59_11ec_a4b1_0242ac1c0002row9_col0\" class=\"data row9 col0\" >Dan Olsen of Ponte Vedra Beach, Fla., shot a 7-under 65 Thursday to take a one-shot lead after two rounds of the PGA Tour qualifying tournament.</td>\n",
              "                        <td id=\"T_21426548_3e59_11ec_a4b1_0242ac1c0002row9_col1\" class=\"data row9 col1\" >1 (Sports)</td>\n",
              "            </tr>\n",
              "    </tbody></table>"
            ],
            "text/plain": [
              "                                         description  label\n",
              "0  b'AMD #39;s new dual-core Opteron chip is desi...      3\n",
              "1  b'Reuters - Major League Baseball\\\\Monday anno...      1\n",
              "2  b'President Bush #39;s  quot;revenue-neutral q...      2\n",
              "3  b'Britain will run out of leading scientists u...      3\n",
              "4  b'London, England (Sports Network) - England m...      1\n",
              "5  b'TOKYO - Sony Corp. is banking on the \\\\$3 bi...      0\n",
              "6  b'Giant pandas may well prefer bamboo to lapto...      3\n",
              "7  b'VILNIUS, Lithuania - Lithuania #39;s main pa...      0\n",
              "8  b'Witnesses in the trial of a US soldier charg...      0\n",
              "9  b'Dan Olsen of Ponte Vedra Beach, Fla., shot a...      1"
            ]
          },
          "metadata": {},
          "execution_count": 12
        }
      ]
    },
    {
      "cell_type": "markdown",
      "metadata": {
        "id": "RoG_cOcMMKgC"
      },
      "source": [
        "### Review Labels (Categories) "
      ]
    },
    {
      "cell_type": "code",
      "metadata": {
        "colab": {
          "base_uri": "https://localhost:8080/"
        },
        "id": "4uBCsL_8tTUU",
        "outputId": "bf647636-c1c0-49fa-bab5-e399f346e270"
      },
      "source": [
        "print(f'There are {info.features[\"label\"].num_classes} classes in the dataset.')\n",
        "print(f'The class names are {info.features[\"label\"].names}')"
      ],
      "execution_count": 13,
      "outputs": [
        {
          "output_type": "stream",
          "name": "stdout",
          "text": [
            "There are 4 classes in the dataset.\n",
            "The class names are ['World', 'Sports', 'Business', 'Sci/Tech']\n"
          ]
        }
      ]
    },
    {
      "cell_type": "code",
      "metadata": {
        "colab": {
          "base_uri": "https://localhost:8080/"
        },
        "id": "fRbULmnCtTXo",
        "outputId": "300157e2-752a-4c8d-c5df-ad89514daea2"
      },
      "source": [
        "# classes dictionary\n",
        "categories =dict(enumerate(info.features[\"label\"].names))\n",
        "categories"
      ],
      "execution_count": 14,
      "outputs": [
        {
          "output_type": "execute_result",
          "data": {
            "text/plain": [
              "{0: 'World', 1: 'Sports', 2: 'Business', 3: 'Sci/Tech'}"
            ]
          },
          "metadata": {},
          "execution_count": 14
        }
      ]
    },
    {
      "cell_type": "markdown",
      "metadata": {
        "id": "xXQzudk9MmOs"
      },
      "source": [
        "The 127,600 news articles are evenly distributed among the 4 categories"
      ]
    },
    {
      "cell_type": "code",
      "metadata": {
        "colab": {
          "base_uri": "https://localhost:8080/"
        },
        "id": "PRtOaULstTbJ",
        "outputId": "0336a8d2-9073-4d3b-85f9-346809d5c247"
      },
      "source": [
        "train_categories = [categories[label] for label in dataset_all.map(lambda text, label: label).as_numpy_iterator()]\n",
        "Counter(train_categories).most_common()"
      ],
      "execution_count": 15,
      "outputs": [
        {
          "output_type": "execute_result",
          "data": {
            "text/plain": [
              "[('Sci/Tech', 31900), ('Sports', 31900), ('Business', 31900), ('World', 31900)]"
            ]
          },
          "metadata": {},
          "execution_count": 15
        }
      ]
    },
    {
      "cell_type": "markdown",
      "metadata": {
        "id": "aEPOPb63RNjv"
      },
      "source": [
        "### Preprocessing Data Create Input Pipeline"
      ]
    },
    {
      "cell_type": "code",
      "metadata": {
        "colab": {
          "base_uri": "https://localhost:8080/"
        },
        "id": "0_tU6cH0ncl0",
        "outputId": "322ae126-7d58-4964-e470-cd8c99bdf026"
      },
      "source": [
        "# register  ag_news_subset so that tfds.load doesn't generate a checksum (mismatch) error\n",
        "!python -m tensorflow_datasets.scripts.download_and_prepare --register_checksums --datasets=ag_news_subset\n",
        "\n",
        "# Example Approaches to Split Data Set\n",
        "# dataset, info = tfds.load('ag_news_subset', with_info=True,  split=['train[:]','test[:1000]', 'test[1000:]'],\n",
        "dataset, info = tfds.load('ag_news_subset', with_info=True,  split=['train[:95%]','train[95%:]', 'test[:]'],\n",
        "# dataset, info = tfds.load('ag_news_subset', with_info=True,  split=['train[:114000]','train[114000:]', 'test[:]'],\n",
        "                          as_supervised=True)\n",
        "train_dataset, validation_dataset, test_dataset = dataset\n",
        "# train_dataset, test_dataset = dataset['train'],dataset['test']"
      ],
      "execution_count": 16,
      "outputs": [
        {
          "output_type": "stream",
          "name": "stdout",
          "text": [
            "2021-11-05 16:55:37.144508: I tensorflow/stream_executor/cuda/cuda_gpu_executor.cc:937] successful NUMA node read from SysFS had negative value (-1), but there must be at least one NUMA node, so returning NUMA node zero\n",
            "2021-11-05 16:55:37.154268: I tensorflow/stream_executor/cuda/cuda_gpu_executor.cc:937] successful NUMA node read from SysFS had negative value (-1), but there must be at least one NUMA node, so returning NUMA node zero\n",
            "2021-11-05 16:55:37.155222: I tensorflow/stream_executor/cuda/cuda_gpu_executor.cc:937] successful NUMA node read from SysFS had negative value (-1), but there must be at least one NUMA node, so returning NUMA node zero\n",
            "I1105 16:55:37.156286 140128418367360 download_and_prepare.py:200] Running download_and_prepare for dataset(s):\n",
            "ag_news_subset\n",
            "I1105 16:55:37.157162 140128418367360 dataset_info.py:361] Load dataset info from /root/tensorflow_datasets/ag_news_subset/1.0.0\n",
            "I1105 16:55:37.158394 140128418367360 download_and_prepare.py:138] download_and_prepare for dataset ag_news_subset/1.0.0...\n",
            "I1105 16:55:37.158591 140128418367360 dataset_builder.py:299] Reusing dataset ag_news_subset (/root/tensorflow_datasets/ag_news_subset/1.0.0)\n",
            "\u001b[1mname: \"ag_news_subset\"\n",
            "description: \"AG is a collection of more than 1 million news articles.\\nNews articles have been gathered from more than 2000  news sources by ComeToMyHead in more than 1 year of activity.\\nComeToMyHead is an academic news search engine which has been running since July, 2004.\\nThe dataset is provided by the academic comunity for research purposes in data mining (clustering, classification, etc),\\ninformation retrieval (ranking, search, etc), xml, data compression, data streaming,\\nand any other non-commercial activity.\\nFor more information, please refer to the link http://www.di.unipi.it/~gulli/AG_corpus_of_news_articles.html .\\n\\nThe AG\\'s news topic classification dataset is constructed by Xiang Zhang (xiang.zhang@nyu.edu) from the dataset above.\\nIt is used as a text classification benchmark in the following paper:\\nXiang Zhang, Junbo Zhao, Yann LeCun. Character-level Convolutional Networks for Text Classification. Advances in Neural Information Processing Systems 28 (NIPS 2015).\\n\\nThe AG\\'s news topic classification dataset is constructed by choosing 4 largest classes from the original corpus.\\nEach class contains 30,000 training samples and 1,900 testing samples.\\nThe total number of training samples is 120,000 and testing 7,600.\"\n",
            "citation: \"@misc{zhang2015characterlevel,\\n    title={Character-level Convolutional Networks for Text Classification},\\n    author={Xiang Zhang and Junbo Zhao and Yann LeCun},\\n    year={2015},\\n    eprint={1509.01626},\\n    archivePrefix={arXiv},\\n    primaryClass={cs.LG}\\n}\"\n",
            "location {\n",
            "  urls: \"https://arxiv.org/abs/1509.01626\"\n",
            "}\n",
            "splits {\n",
            "  name: \"test\"\n",
            "  shard_lengths: 7600\n",
            "  num_bytes: 2226751\n",
            "}\n",
            "splits {\n",
            "  name: \"train\"\n",
            "  shard_lengths: 120000\n",
            "  num_bytes: 35301386\n",
            "}\n",
            "supervised_keys {\n",
            "  input: \"description\"\n",
            "  output: \"label\"\n",
            "}\n",
            "version: \"1.0.0\"\n",
            "download_size: 11784327\n",
            "\u001b[0m\n"
          ]
        }
      ]
    },
    {
      "cell_type": "code",
      "metadata": {
        "id": "bRc-UUujdLD6"
      },
      "source": [
        "####  Dataset Splits (Training, Test, Validation)\n",
        "#### .8934 Training, .0470 Test, .0596 Validation"
      ],
      "execution_count": 17,
      "outputs": []
    },
    {
      "cell_type": "code",
      "metadata": {
        "colab": {
          "base_uri": "https://localhost:8080/"
        },
        "id": "3TXXMh7Hdr47",
        "outputId": "ffe8cfa8-f427-4475-f40e-a9712439bc35"
      },
      "source": [
        "len(train_dataset),len(validation_dataset),len(test_dataset) \n",
        "# len(train_dataset),len(test_dataset) "
      ],
      "execution_count": 18,
      "outputs": [
        {
          "output_type": "execute_result",
          "data": {
            "text/plain": [
              "(114000, 6000, 7600)"
            ]
          },
          "metadata": {},
          "execution_count": 18
        }
      ]
    },
    {
      "cell_type": "markdown",
      "metadata": {
        "id": "e3ISb8oinPnR"
      },
      "source": [
        "### Review Distribution of Categorical Labels for the 114000 training data (news articles)"
      ]
    },
    {
      "cell_type": "code",
      "metadata": {
        "colab": {
          "base_uri": "https://localhost:8080/"
        },
        "id": "Itjr5Erroxv9",
        "outputId": "ffc6ef80-1238-4c84-f3ca-26355be77ffc"
      },
      "source": [
        "from collections import Counter\n",
        "train_categories = [categories[label] for label in train_dataset.map(lambda text, label: label).as_numpy_iterator()]\n",
        "Counter(train_categories).most_common()"
      ],
      "execution_count": 19,
      "outputs": [
        {
          "output_type": "execute_result",
          "data": {
            "text/plain": [
              "[('Business', 28531), ('Sports', 28495), ('World', 28491), ('Sci/Tech', 28483)]"
            ]
          },
          "metadata": {},
          "execution_count": 19
        }
      ]
    },
    {
      "cell_type": "markdown",
      "metadata": {
        "id": "nWA4c2ir7g6p"
      },
      "source": [
        "Review Example with Interger Label(text, label pairs):"
      ]
    },
    {
      "cell_type": "markdown",
      "metadata": {
        "id": "icCNaXSirCnm"
      },
      "source": [
        "Review Example with Interger Label Encoded Classification(text, label pairs):"
      ]
    },
    {
      "cell_type": "code",
      "metadata": {
        "colab": {
          "base_uri": "https://localhost:8080/"
        },
        "id": "g469sP9PYbQT",
        "outputId": "9a6f7111-a5fe-4ec5-c6b7-f4cea0ff883e"
      },
      "source": [
        "for example, label in train_dataset.take(1):\n",
        "  print('text: ', example.numpy())\n",
        "  print('class: ', categories[label.numpy()])"
      ],
      "execution_count": 20,
      "outputs": [
        {
          "output_type": "stream",
          "name": "stdout",
          "text": [
            "text:  b'AMD #39;s new dual-core Opteron chip is designed mainly for corporate computing applications, including databases, Web services, and financial transactions.'\n",
            "class:  Sci/Tech\n"
          ]
        }
      ]
    },
    {
      "cell_type": "markdown",
      "metadata": {
        "id": "z2qVJzcEluH_"
      },
      "source": [
        "#### Preprocessing Shuffle Data for Training and Create Batches of `(text, label)` pairs:"
      ]
    },
    {
      "cell_type": "code",
      "metadata": {
        "id": "dDsCaZCDYZgm"
      },
      "source": [
        "BUFFER_SIZE = 10000\n",
        "BATCH_SIZE = 64"
      ],
      "execution_count": 21,
      "outputs": []
    },
    {
      "cell_type": "code",
      "metadata": {
        "id": "VznrltNOnUc5"
      },
      "source": [
        "train_dataset = train_dataset.shuffle(BUFFER_SIZE).batch(BATCH_SIZE).prefetch(tf.data.experimental.AUTOTUNE)\n",
        "validation_dataset = validation_dataset.shuffle(BUFFER_SIZE).batch(BATCH_SIZE).prefetch(tf.data.experimental.AUTOTUNE)\n",
        "test_dataset = test_dataset.batch(BATCH_SIZE).prefetch(tf.data.experimental.AUTOTUNE)"
      ],
      "execution_count": 22,
      "outputs": []
    },
    {
      "cell_type": "code",
      "metadata": {
        "colab": {
          "base_uri": "https://localhost:8080/"
        },
        "id": "jqkvdcFv41wC",
        "outputId": "5ff5b409-cd58-458f-8cdb-2f6cc921be7f"
      },
      "source": [
        "for example, label in train_dataset.take(2):\n",
        "  print('texts: ', example.numpy()[:3])\n",
        "  print()\n",
        "  print('labels: ', label.numpy()[:3])"
      ],
      "execution_count": 23,
      "outputs": [
        {
          "output_type": "stream",
          "name": "stdout",
          "text": [
            "texts:  [b'Strong growth in UK customer numbers at MMO2 has enabled the mobile operator to raise its UK revenue growth forecast. In a trading update, MMO2 said it now expected UK revenue to grow by 9-12 in the year '\n",
            " b'Controversy has erupted in the open-source world over a report from the Gartner Group that predicts the vast majority of personal computers sold in Asia, Latin America and Eastern Europe that '\n",
            " b'Chris Bosh had 23 points and 11 rebounds to lead the Toronto Raptors to an 86-83 preseason win over Benetton Treviso on Wednesday night.']\n",
            "\n",
            "labels:  [2 3 1]\n",
            "texts:  [b'Despite a strong profit outlook from Ford Motor Co., shares of automotive stocks moved mostly lower Friday on concerns sales for the industry might not be as strong as previously expected.'\n",
            " b'Argentina #39;s David Nalbandian booked his place in the final of the Swiss Open for the third successive year on Saturday. The fourth-seed saw off Olympic gold medal winner Nicolas Massu of Chile 6-3 6-4 in the semi-final.'\n",
            " b'The problem with being in the spotlight dance is a basic one. You had better know how to dance.']\n",
            "\n",
            "labels:  [1 1 1]\n"
          ]
        }
      ]
    },
    {
      "cell_type": "code",
      "metadata": {
        "colab": {
          "base_uri": "https://localhost:8080/"
        },
        "id": "HQ_8Srl7Yi2Y",
        "outputId": "b8c604c4-98f4-4bca-db29-d4ccecf78c7f"
      },
      "source": [
        "for example, label in train_dataset.take(2):\n",
        "  print('texts: ', example.numpy()[:3])\n",
        "  print()\n",
        "  print('labels: ', [categories[n] for n in label.numpy()[:3]])\n",
        "  print()"
      ],
      "execution_count": 24,
      "outputs": [
        {
          "output_type": "stream",
          "name": "stdout",
          "text": [
            "texts:  [b'Holtz replaces John Thompson, who was forced out about two weeks ago after a 3-and-20 record in two seasons with the Pirates. Holtz has spent six years as assistant head coach and quarterbacks coach at South '\n",
            " b'Toys  quot;R quot; Us Inc. swung to a profit in the second quarter from a loss a year ago, buoyed by a reversal of \\\\$200 million in income tax reserves.'\n",
            " b\" BEIJING (Reuters) - China sought Friday to soothe concerns  over a surprise interest rate rise, its first in nearly a  decade and one which is expected to kick off a series of  increases to cool growth in the world's seventh-biggest  economy.\"]\n",
            "\n",
            "labels:  ['Sports', 'Business', 'Business']\n",
            "\n",
            "texts:  [b\"For Simon, a sidewalk mime from Trinidad who does his statue act in various Midtown locations, the difficulty isn't standing for ten hours at a time. It's getting off the stage.\"\n",
            " b'Once harvested almost to extinction in the northeastern U.S., beavers have returned in such huge numbers that they are becoming a nuisance in some areas.'\n",
            " b' JERUSALEM (Reuters) - Jewish settler leaders failed in a  rare meeting with Israeli Prime Minister Ariel Sharon on Sunday  to persuade him to back their proposal to put his planned Gaza  withdrawal to a national referendum.']\n",
            "\n",
            "labels:  ['World', 'Sci/Tech', 'World']\n",
            "\n"
          ]
        }
      ]
    },
    {
      "cell_type": "markdown",
      "metadata": {
        "id": "s5eWCo88voPY"
      },
      "source": [
        "## Create the Text Encoder"
      ]
    },
    {
      "cell_type": "markdown",
      "metadata": {
        "id": "TFevcItw15P_"
      },
      "source": [
        "The raw text loaded by `tfds` needs to be processed before it can be used in a model. The simplest way to process text for training is using the `experimental.preprocessing.TextVectorization` layer. This layer has many capabilities, but this tutorial sticks to the default behavior."
      ]
    },
    {
      "cell_type": "markdown",
      "metadata": {
        "id": "UalGMKAzyRRf"
      },
      "source": [
        "Create the layer, and pass the dataset's text to the layer's `.adapt` method:\n",
        "The processing of each sample contains the following steps:\n",
        "\n",
        "    standardize each sample (usually lowercasing + punctuation stripping)\n",
        "    split each sample into substrings (usually words)\n",
        "    recombine substrings into tokens (usually ngrams)\n",
        "    index tokens (associate a unique int value with each token)\n",
        "    transform each sample using this index, either into a vector of ints or a dense float vector.\n"
      ]
    },
    {
      "cell_type": "markdown",
      "metadata": {
        "id": "BLaLcPcXsY95"
      },
      "source": [
        "The `.adapt` method sets the layer's vocabulary. Here are the first 20 tokens. After the padding and unknown tokens they're sorted by frequency: "
      ]
    },
    {
      "cell_type": "code",
      "metadata": {
        "id": "uC25Lu1Yvuqy"
      },
      "source": [
        "VOCAB_SIZE=1000\n",
        "encoder = tf.keras.layers.experimental.preprocessing.TextVectorization(\n",
        "    max_tokens=VOCAB_SIZE)\n",
        "encoder.adapt(train_dataset.map(lambda text, label: text))"
      ],
      "execution_count": 25,
      "outputs": []
    },
    {
      "cell_type": "code",
      "metadata": {
        "colab": {
          "base_uri": "https://localhost:8080/"
        },
        "id": "s5tP4VcSkTvY",
        "outputId": "8dc34774-bb0c-4e9e-bb83-70be2f017efb"
      },
      "source": [
        "vocab = np.array(encoder.get_vocabulary())\n",
        "len(vocab)"
      ],
      "execution_count": 26,
      "outputs": [
        {
          "output_type": "execute_result",
          "data": {
            "text/plain": [
              "1000"
            ]
          },
          "metadata": {},
          "execution_count": 26
        }
      ]
    },
    {
      "cell_type": "code",
      "metadata": {
        "colab": {
          "base_uri": "https://localhost:8080/"
        },
        "id": "tBoyjjWg0Ac9",
        "outputId": "5083fef7-586f-43f2-f130-d268ba126eb9"
      },
      "source": [
        "vocab = np.array(encoder.get_vocabulary())\n",
        "vocab[:20]"
      ],
      "execution_count": 27,
      "outputs": [
        {
          "output_type": "execute_result",
          "data": {
            "text/plain": [
              "array(['', '[UNK]', 'the', 'a', 'to', 'of', 'in', 'and', 'on', 'for',\n",
              "       'that', '39s', 'with', 'its', 'as', 'at', 'is', 'said', 'by', 'it'],\n",
              "      dtype='<U14')"
            ]
          },
          "metadata": {},
          "execution_count": 27
        }
      ]
    },
    {
      "cell_type": "markdown",
      "metadata": {
        "id": "-rPfbSyoruu3"
      },
      "source": [
        "Here are the 20 least frequent words."
      ]
    },
    {
      "cell_type": "code",
      "metadata": {
        "colab": {
          "base_uri": "https://localhost:8080/"
        },
        "id": "O6tWoBiwrzyX",
        "outputId": "e256efbd-7920-45e5-ed12-4036fa4b9a41"
      },
      "source": [
        "vocab[-20:]"
      ],
      "execution_count": 28,
      "outputs": [
        {
          "output_type": "execute_result",
          "data": {
            "text/plain": [
              "array(['black', 'turn', 'build', 'countrys', 'advanced', 'whose',\n",
              "       'crisis', 'create', '23', 'sources', 'body', 'militant', 'hope',\n",
              "       'event', 'started', 'ready', 'jones', 'lawsuit', 'focus',\n",
              "       'singapore'], dtype='<U14')"
            ]
          },
          "metadata": {},
          "execution_count": 28
        }
      ]
    },
    {
      "cell_type": "markdown",
      "metadata": {
        "id": "mjId5pua3jHQ"
      },
      "source": [
        "Once the vocabulary is set, the layer can encode text into indices. The tensors of indices are 0-padded to the longest sequence in the batch (unless you set a fixed `output_sequence_length`):<br>\n",
        "Default Batch Size = 32"
      ]
    },
    {
      "cell_type": "code",
      "metadata": {
        "colab": {
          "base_uri": "https://localhost:8080/"
        },
        "id": "RGc7C9WiwRWs",
        "outputId": "54f1f4d4-96f9-4de2-caf8-24b56e3004a5"
      },
      "source": [
        "encoded_example = encoder(example)[:3].numpy()\n",
        "encoded_example"
      ],
      "execution_count": 29,
      "outputs": [
        {
          "output_type": "execute_result",
          "data": {
            "text/plain": [
              "array([[  9,   1,   3,   1,   1,  23,   1,  59, 962,  24,   1,   1,   6,\n",
              "          1,   1,   1,   2,   1,   1,   1,   9,   1, 649,  15,   3,  86,\n",
              "         13, 796, 106,   2,   1,   0,   0,   0,   0,   0,   0,   0,   0,\n",
              "          0,   0,   0,   0,   0,   0,   0,   0,   0,   0,   0,   0,   0,\n",
              "          0,   0,   0],\n",
              "       [672,   1, 547,   4,   1,   6,   2,   1,  25,   1,  30,   1,   6,\n",
              "        396,   1,   1,  10,  53,  33,   1,   3,   1,   6,  99,   1,   0,\n",
              "          0,   0,   0,   0,   0,   0,   0,   0,   0,   0,   0,   0,   0,\n",
              "          0,   0,   0,   0,   0,   0,   0,   0,   0,   0,   0,   0,   0,\n",
              "          0,   0,   0],\n",
              "       [  1,  28,   1,   1, 387, 718,   6,   3,   1, 446,  12, 312, 148,\n",
              "         97,   1,   1,   8,  73,   4,   1, 213,   4, 116,  32,   1,   4,\n",
              "        376,  24, 865, 375,   1,   4,   3, 144,   1,   0,   0,   0,   0,\n",
              "          0,   0,   0,   0,   0,   0,   0,   0,   0,   0,   0,   0,   0,\n",
              "          0,   0,   0]])"
            ]
          },
          "metadata": {},
          "execution_count": 29
        }
      ]
    },
    {
      "cell_type": "markdown",
      "metadata": {
        "id": "F5cjz0bS39IN"
      },
      "source": [
        "With the default settings, the process is not completely reversible. There are three main reasons for that:\n",
        "\n",
        "1. The default value for `preprocessing.TextVectorization`'s `standardize` argument is `\"lower_and_strip_punctuation\"`.\n",
        "2. The limited vocabulary size and lack of character-based fallback results in some unknown tokens."
      ]
    },
    {
      "cell_type": "code",
      "metadata": {
        "colab": {
          "base_uri": "https://localhost:8080/"
        },
        "id": "N_tD0QY5wXaK",
        "outputId": "9be3a535-40dc-44a8-eac2-3ae2f4a677f2"
      },
      "source": [
        "for n in range(3):\n",
        "  print(\"Original: \", example[n].numpy())\n",
        "  print(\"Round-trip: \", \" \".join(vocab[encoded_example[n]]))\n",
        "  print()"
      ],
      "execution_count": 30,
      "outputs": [
        {
          "output_type": "stream",
          "name": "stdout",
          "text": [
            "Original:  b\"For Simon, a sidewalk mime from Trinidad who does his statue act in various Midtown locations, the difficulty isn't standing for ten hours at a time. It's getting off the stage.\"\n",
            "Round-trip:  for [UNK] a [UNK] [UNK] from [UNK] who does his [UNK] [UNK] in [UNK] [UNK] [UNK] the [UNK] [UNK] [UNK] for [UNK] hours at a time its getting off the [UNK]                        \n",
            "\n",
            "Original:  b'Once harvested almost to extinction in the northeastern U.S., beavers have returned in such huge numbers that they are becoming a nuisance in some areas.'\n",
            "Round-trip:  once [UNK] almost to [UNK] in the [UNK] us [UNK] have [UNK] in such [UNK] [UNK] that they are [UNK] a [UNK] in some [UNK]                              \n",
            "\n",
            "Original:  b' JERUSALEM (Reuters) - Jewish settler leaders failed in a  rare meeting with Israeli Prime Minister Ariel Sharon on Sunday  to persuade him to back their proposal to put his planned Gaza  withdrawal to a national referendum.'\n",
            "Round-trip:  [UNK] reuters [UNK] [UNK] leaders failed in a [UNK] meeting with israeli prime minister [UNK] [UNK] on sunday to [UNK] him to back their [UNK] to put his planned gaza [UNK] to a national [UNK]                    \n",
            "\n"
          ]
        }
      ]
    },
    {
      "cell_type": "markdown",
      "metadata": {
        "id": "bjUqGVBxGw-t"
      },
      "source": [
        "## Create the model: Single Layer Bidirectional RNN with LTSM (Experiment C1B)"
      ]
    },
    {
      "cell_type": "markdown",
      "metadata": {
        "id": "bgs6nnSTGw-t"
      },
      "source": [
        "Above is a diagram of the model. \n",
        "\n",
        "1. This model can be build as a `tf.keras.Sequential`.\n",
        "\n",
        "1. The first layer is the `encoder`, which converts the text to a sequence of token indices.\n",
        "\n",
        "2. After the encoder is an embedding layer. An embedding layer stores one vector per word. When called, it converts the sequences of word indices to sequences of vectors. These vectors are trainable. After training (on enough data), words with similar meanings often have similar vectors.\n",
        "\n",
        "  This index-lookup is much more efficient than the equivalent operation of passing a one-hot encoded vector through a `tf.keras.layers.Dense` layer.\n",
        "\n",
        "3. A recurrent neural network (RNN) processes sequence input by iterating through the elements. RNNs pass the outputs from one timestep to their input on the next timestep.\n",
        "\n",
        "  The `tf.keras.layers.Bidirectional` wrapper can also be used with an RNN layer. This propagates the input forward and backwards through the RNN layer and then concatenates the final output. \n",
        "\n",
        "  * The main advantage to a bidirectional RNN is that the signal from the beginning of the input doesn't need to be processed all the way through every timestep to affect the output.  \n",
        "\n",
        "  * The main disadvantage of a bidirectional RNN is that you can't efficiently stream predictions as words are being added to the end.\n",
        "\n",
        "1. After the RNN has converted the sequence to a single vector the two `layers.Dense` do some final processing, and convert from this vector representation to a single logit as the classification output. \n"
      ]
    },
    {
      "cell_type": "markdown",
      "metadata": {
        "id": "9EODAFUjNaDC"
      },
      "source": [
        "<div class=\"alert alert-block alert-info\">\n",
        "    <b>tf.keras.layers.Bidirectional</b><br>\n",
        "    https://www.tensorflow.org/api_docs/python/tf/keras/layers/Bidirectional\n",
        "    </div>"
      ]
    },
    {
      "cell_type": "markdown",
      "metadata": {
        "id": "-6Qzwsj5QH0S"
      },
      "source": [
        "<img src=\"https://github.com/djp840/MSDS_458_Public/blob/master/images/BidirectionalRNN.png?raw=1\">"
      ]
    },
    {
      "cell_type": "code",
      "metadata": {
        "id": "LwfoBkmRYcP3"
      },
      "source": [
        "from keras import backend as K\n",
        "K.clear_session()\n",
        "\n",
        "num_classes = 4\n",
        "model = tf.keras.Sequential([\n",
        "                              encoder\n",
        "                              ,tf.keras.layers.Embedding(input_dim=len(encoder.get_vocabulary())\n",
        "                              ,output_dim=64\n",
        "                                # Use masking to handle the variable sequence lengths\n",
        "                              ,mask_zero=True)\n",
        "                              ,tf.keras.layers.Bidirectional(tf.keras.layers.LSTM(64))\n",
        "                              ,tf.keras.layers.Dense(64, activation='relu')\n",
        "                              ,tf.keras.layers.Dense(num_classes,activation='softmax')   # num_classes = 4\n",
        "])"
      ],
      "execution_count": 31,
      "outputs": []
    },
    {
      "cell_type": "markdown",
      "metadata": {
        "id": "dfNGE58PNaDD"
      },
      "source": [
        "<div class=\"alert alert-block alert-success\"> \n",
        "Please note that we choose to Keras sequential model here since all the layers in the model only have single input and produce single output. </div>"
      ]
    },
    {
      "cell_type": "markdown",
      "metadata": {
        "id": "KTqE1NQXNaDD"
      },
      "source": [
        "<div class=\"alert alert-block alert-info\"> \n",
        "<b>tf.keras.Model</b><br>\n",
        "https://www.tensorflow.org/api_docs/python/tf/keras/Model\n",
        "</div>  "
      ]
    },
    {
      "cell_type": "markdown",
      "metadata": {
        "id": "RztlbCugEFaI"
      },
      "source": [
        "## Compile Model: Single Layer Bidirectional RNN with LTSM (Experiment C1B)"
      ]
    },
    {
      "cell_type": "markdown",
      "metadata": {
        "id": "aNazQp3lEDv7"
      },
      "source": [
        "<div class=\"alert alert-block alert-info\">\n",
        "<b>tf.keras.losses.SparseCategoricalCrossentropy</b><br>\n",
        "https://www.tensorflow.org/api_docs/python/tf/keras/losses/SparseCategoricalCrossentropy</div>"
      ]
    },
    {
      "cell_type": "code",
      "metadata": {
        "id": "ZmWbBazIDe_-"
      },
      "source": [
        "model.compile(optimizer=tf.keras.optimizers.Adam(1e-4)\n",
        "              ,loss=tf.keras.losses.SparseCategoricalCrossentropy() # if we set from_logits=True we don not have specify a softmax activation function in the last layer\n",
        "              ,metrics=['accuracy'])"
      ],
      "execution_count": 32,
      "outputs": []
    },
    {
      "cell_type": "markdown",
      "metadata": {
        "id": "QIGmIGkkouUb"
      },
      "source": [
        "Please note that Keras sequential model is used here since all the layers in the model only have single input and produce single output. In case you want to use stateful RNN layer, you might want to build your model with Keras functional API or model subclassing so that you can retrieve and reuse the RNN layer states. Please check [Keras RNN guide](https://www.tensorflow.org/guide/keras/rnn#rnn_state_reuse) for more details."
      ]
    },
    {
      "cell_type": "markdown",
      "metadata": {
        "id": "kF-PsCk1LwjY"
      },
      "source": [
        "The embedding layer [uses masking](../../guide/keras/masking_and_padding) to handle the varying sequence-lengths. All the layers after the `Embedding` support masking:"
      ]
    },
    {
      "cell_type": "code",
      "metadata": {
        "colab": {
          "base_uri": "https://localhost:8080/"
        },
        "id": "87a8-CwfKebw",
        "outputId": "626acf30-960d-45ac-da61-23411f06b65c"
      },
      "source": [
        "print([layer.supports_masking for layer in model.layers])"
      ],
      "execution_count": 33,
      "outputs": [
        {
          "output_type": "stream",
          "name": "stdout",
          "text": [
            "[False, True, True, True, True]\n"
          ]
        }
      ]
    },
    {
      "cell_type": "markdown",
      "metadata": {
        "id": "zIwH3nto596k"
      },
      "source": [
        "## Train the model: Single Layer Bidirectional RNN with LTSM (Experiment C1B)"
      ]
    },
    {
      "cell_type": "markdown",
      "metadata": {
        "id": "7oHB6X8i0u2H"
      },
      "source": [
        "<div class=\"alert alert-block alert-success\">\n",
        "    <b>Module: tf.keras.callbacks</b></div>"
      ]
    },
    {
      "cell_type": "markdown",
      "metadata": {
        "id": "th1k9Dha0vCl"
      },
      "source": [
        "<div class=\"alert alert-block alert-info\">\n",
        "<b>tf.keras.callbacks.EarlyStopping</b><br>\n",
        "https://www.tensorflow.org/api_docs/python/tf/keras/callbacks/EarlyStopping</div>\n",
        "\n",
        "<div class=\"alert alert-block alert-info\">\n",
        "<b>tf.keras.callbacks.ModelCheckpoint</b><br>\n",
        "https://www.tensorflow.org/api_docs/python/tf/keras/callbacks/ModelCheckpoint</div>"
      ]
    },
    {
      "cell_type": "code",
      "metadata": {
        "colab": {
          "base_uri": "https://localhost:8080/"
        },
        "id": "hw86wWS4YgR2",
        "outputId": "cd165e4b-344a-477c-e590-26dc38da17d7"
      },
      "source": [
        "start=datetime.now()\n",
        "\n",
        "history = model.fit(train_dataset\n",
        "                    ,epochs = 200\n",
        "                    ,validation_data=validation_dataset\n",
        "                    ,callbacks=[tf.keras.callbacks.EarlyStopping(monitor='val_accuracy', patience=2)]\n",
        "                    )\n",
        "\n",
        "end=datetime.now()\n",
        "print(\"Experiment C1B time:\", end-start) "
      ],
      "execution_count": 34,
      "outputs": [
        {
          "output_type": "stream",
          "name": "stdout",
          "text": [
            "Epoch 1/200\n",
            "1782/1782 [==============================] - 47s 20ms/step - loss: 0.7771 - accuracy: 0.6914 - val_loss: 0.4956 - val_accuracy: 0.8290\n",
            "Epoch 2/200\n",
            "1782/1782 [==============================] - 33s 18ms/step - loss: 0.4527 - accuracy: 0.8407 - val_loss: 0.4261 - val_accuracy: 0.8498\n",
            "Epoch 3/200\n",
            "1782/1782 [==============================] - 33s 18ms/step - loss: 0.4129 - accuracy: 0.8521 - val_loss: 0.4016 - val_accuracy: 0.8583\n",
            "Epoch 4/200\n",
            "1782/1782 [==============================] - 33s 18ms/step - loss: 0.3976 - accuracy: 0.8569 - val_loss: 0.3954 - val_accuracy: 0.8612\n",
            "Epoch 5/200\n",
            "1782/1782 [==============================] - 32s 18ms/step - loss: 0.3894 - accuracy: 0.8596 - val_loss: 0.3916 - val_accuracy: 0.8600\n",
            "Epoch 6/200\n",
            "1782/1782 [==============================] - 33s 18ms/step - loss: 0.3836 - accuracy: 0.8613 - val_loss: 0.3866 - val_accuracy: 0.8598\n",
            "Experiment C1B time: 0:03:30.989835\n"
          ]
        }
      ]
    },
    {
      "cell_type": "code",
      "metadata": {
        "colab": {
          "base_uri": "https://localhost:8080/"
        },
        "id": "BaNbXi43YgUT",
        "outputId": "2353d81c-07f3-40ce-bd2c-1303a3894750"
      },
      "source": [
        "test_loss, test_acc = model.evaluate(test_dataset)\n",
        "\n",
        "print('Test Loss: {}'.format(test_loss))\n",
        "print('Test Accuracy: {}'.format(test_acc))"
      ],
      "execution_count": 35,
      "outputs": [
        {
          "output_type": "stream",
          "name": "stdout",
          "text": [
            "119/119 [==============================] - 1s 10ms/step - loss: 0.4048 - accuracy: 0.8522\n",
            "Test Loss: 0.40478959679603577\n",
            "Test Accuracy: 0.8522368669509888\n"
          ]
        }
      ]
    },
    {
      "cell_type": "markdown",
      "metadata": {
        "id": "OUZyCyI33fPU"
      },
      "source": [
        "## Plotting Performance Metrics - Single Layer Bidirectional RNN: Single Layer Bidirectional RNN with LTSM (Experiment C1B)"
      ]
    },
    {
      "cell_type": "markdown",
      "metadata": {
        "id": "uFK6utDG3fjX"
      },
      "source": [
        "We use Matplotlib to create 2 plots--displaying the training and validation loss (resp. accuracy) for each (training) epoch side by side."
      ]
    },
    {
      "cell_type": "code",
      "metadata": {
        "colab": {
          "base_uri": "https://localhost:8080/"
        },
        "id": "HzEOTxsc1JTJ",
        "outputId": "e5008b78-beb6-46e5-9484-6f03f6c35204"
      },
      "source": [
        "history_dict = history.history\n",
        "history_dict.keys()"
      ],
      "execution_count": 36,
      "outputs": [
        {
          "output_type": "execute_result",
          "data": {
            "text/plain": [
              "dict_keys(['loss', 'accuracy', 'val_loss', 'val_accuracy'])"
            ]
          },
          "metadata": {},
          "execution_count": 36
        }
      ]
    },
    {
      "cell_type": "code",
      "metadata": {
        "colab": {
          "base_uri": "https://localhost:8080/",
          "height": 232
        },
        "id": "2VV8VwoA1Je1",
        "outputId": "27a9f336-ffe6-4ad9-9f34-ea79d2291ae5"
      },
      "source": [
        "history_df=pd.DataFrame(history_dict)\n",
        "history_df.tail(10).round(3)"
      ],
      "execution_count": 37,
      "outputs": [
        {
          "output_type": "execute_result",
          "data": {
            "text/html": [
              "<div>\n",
              "<style scoped>\n",
              "    .dataframe tbody tr th:only-of-type {\n",
              "        vertical-align: middle;\n",
              "    }\n",
              "\n",
              "    .dataframe tbody tr th {\n",
              "        vertical-align: top;\n",
              "    }\n",
              "\n",
              "    .dataframe thead th {\n",
              "        text-align: right;\n",
              "    }\n",
              "</style>\n",
              "<table border=\"1\" class=\"dataframe\">\n",
              "  <thead>\n",
              "    <tr style=\"text-align: right;\">\n",
              "      <th></th>\n",
              "      <th>loss</th>\n",
              "      <th>accuracy</th>\n",
              "      <th>val_loss</th>\n",
              "      <th>val_accuracy</th>\n",
              "    </tr>\n",
              "  </thead>\n",
              "  <tbody>\n",
              "    <tr>\n",
              "      <th>0</th>\n",
              "      <td>0.777</td>\n",
              "      <td>0.691</td>\n",
              "      <td>0.496</td>\n",
              "      <td>0.829</td>\n",
              "    </tr>\n",
              "    <tr>\n",
              "      <th>1</th>\n",
              "      <td>0.453</td>\n",
              "      <td>0.841</td>\n",
              "      <td>0.426</td>\n",
              "      <td>0.850</td>\n",
              "    </tr>\n",
              "    <tr>\n",
              "      <th>2</th>\n",
              "      <td>0.413</td>\n",
              "      <td>0.852</td>\n",
              "      <td>0.402</td>\n",
              "      <td>0.858</td>\n",
              "    </tr>\n",
              "    <tr>\n",
              "      <th>3</th>\n",
              "      <td>0.398</td>\n",
              "      <td>0.857</td>\n",
              "      <td>0.395</td>\n",
              "      <td>0.861</td>\n",
              "    </tr>\n",
              "    <tr>\n",
              "      <th>4</th>\n",
              "      <td>0.389</td>\n",
              "      <td>0.860</td>\n",
              "      <td>0.392</td>\n",
              "      <td>0.860</td>\n",
              "    </tr>\n",
              "    <tr>\n",
              "      <th>5</th>\n",
              "      <td>0.384</td>\n",
              "      <td>0.861</td>\n",
              "      <td>0.387</td>\n",
              "      <td>0.860</td>\n",
              "    </tr>\n",
              "  </tbody>\n",
              "</table>\n",
              "</div>"
            ],
            "text/plain": [
              "    loss  accuracy  val_loss  val_accuracy\n",
              "0  0.777     0.691     0.496         0.829\n",
              "1  0.453     0.841     0.426         0.850\n",
              "2  0.413     0.852     0.402         0.858\n",
              "3  0.398     0.857     0.395         0.861\n",
              "4  0.389     0.860     0.392         0.860\n",
              "5  0.384     0.861     0.387         0.860"
            ]
          },
          "metadata": {},
          "execution_count": 37
        }
      ]
    },
    {
      "cell_type": "code",
      "metadata": {
        "id": "NvA2u5do1JqA"
      },
      "source": [
        "losses = history.history['loss']\n",
        "accs = history.history['accuracy']\n",
        "val_losses = history.history['val_loss']\n",
        "val_accs = history.history['val_accuracy']\n",
        "epochs = len(losses)"
      ],
      "execution_count": 38,
      "outputs": []
    },
    {
      "cell_type": "code",
      "metadata": {
        "colab": {
          "base_uri": "https://localhost:8080/",
          "height": 264
        },
        "id": "JGoRjq2T1SUp",
        "scrolled": true,
        "outputId": "d9603384-81db-492a-d307-86ac025b85fb"
      },
      "source": [
        "plt.figure(figsize=(16, 4))\n",
        "for i, metrics in enumerate(zip([losses, accs], [val_losses, val_accs], ['Loss', 'Accuracy'])):\n",
        "    plt.subplot(1, 2, i + 1)\n",
        "    plt.plot(range(epochs), metrics[0], label='Training {}'.format(metrics[2]))\n",
        "    plt.plot(range(epochs), metrics[1], label='Validation {}'.format(metrics[2]))\n",
        "    plt.legend()\n",
        "plt.show()"
      ],
      "execution_count": 39,
      "outputs": [
        {
          "output_type": "display_data",
          "data": {
            "image/png": "[encoded data removed]",
            "text/plain": [
              "<Figure size 1152x288 with 2 Axes>"
            ]
          },
          "metadata": {
            "needs_background": "light"
          }
        }
      ]
    },
    {
      "cell_type": "markdown",
      "metadata": {
        "id": "bawulBahPZQq"
      },
      "source": [
        "## Model Architecture Summary Single Layer Bidirectional RNN: Single Layer Bidirectional RNN with LTSM (Experiment C1B)"
      ]
    },
    {
      "cell_type": "code",
      "metadata": {
        "colab": {
          "base_uri": "https://localhost:8080/"
        },
        "id": "KVd7MMCoOjMp",
        "outputId": "fac2452d-87ed-4866-9327-70b441a00b8e"
      },
      "source": [
        "model.summary()"
      ],
      "execution_count": 40,
      "outputs": [
        {
          "output_type": "stream",
          "name": "stdout",
          "text": [
            "Model: \"sequential\"\n",
            "_________________________________________________________________\n",
            "Layer (type)                 Output Shape              Param #   \n",
            "=================================================================\n",
            "text_vectorization (TextVect (None, None)              0         \n",
            "_________________________________________________________________\n",
            "embedding (Embedding)        (None, None, 64)          64000     \n",
            "_________________________________________________________________\n",
            "bidirectional (Bidirectional (None, 128)               66048     \n",
            "_________________________________________________________________\n",
            "dense (Dense)                (None, 64)                8256      \n",
            "_________________________________________________________________\n",
            "dense_1 (Dense)              (None, 4)                 260       \n",
            "=================================================================\n",
            "Total params: 138,564\n",
            "Trainable params: 138,564\n",
            "Non-trainable params: 0\n",
            "_________________________________________________________________\n"
          ]
        }
      ]
    },
    {
      "cell_type": "code",
      "metadata": {
        "colab": {
          "base_uri": "https://localhost:8080/",
          "height": 644
        },
        "id": "2o0oUFPAOjht",
        "outputId": "02bc460a-4524-4318-d047-48e0dd4acd90"
      },
      "source": [
        "keras.utils.plot_model(model, \"BiDirectionalLSTM.png\", show_shapes=True)"
      ],
      "execution_count": 41,
      "outputs": [
        {
          "output_type": "execute_result",
          "data": {
            "image/png": "[encoded data removed]",
            "text/plain": [
              "<IPython.core.display.Image object>"
            ]
          },
          "metadata": {},
          "execution_count": 41
        }
      ]
    },
    {
      "cell_type": "markdown",
      "metadata": {
        "id": "7g1evcaRpTKm"
      },
      "source": [
        "##Create model by stacking two or more layers: Multi Layer Bidirectional RNN with LTSM (Experiment C2B)\n",
        "\n",
        "\n",
        "Keras recurrent layers have two available modes that are controlled by the `return_sequences` constructor argument:\n",
        "\n",
        "* If `False` it returns only the last output for each input sequence (a 2D tensor of shape (batch_size, output_features)). This is the default, used in the previous model.\n",
        "\n",
        "* If `True` the full sequences of successive outputs for each timestep is returned (a 3D tensor of shape `(batch_size, timesteps, output_features)`).\n",
        "\n",
        "Here is what the flow of information looks like with `return_sequences=True`:\n",
        "\n",
        "![layered_bidirectional]?raw=1\""
      ]
    },
    {
      "cell_type": "markdown",
      "metadata": {
        "id": "wbSClCrG1z8l"
      },
      "source": [
        "The interesting thing about using an `RNN` with `return_sequences=True` is that the output still has 3-axes, like the input, so it can be passed to another RNN layer, like this:"
      ]
    },
    {
      "cell_type": "markdown",
      "metadata": {
        "id": "TJTx1dsTRUtW"
      },
      "source": [
        "<img src=\"https://github.com/djp840/MSDS_458_Public/blob/master/images/multilayerBidirectionalLSTM.png?raw=1\">"
      ]
    },
    {
      "cell_type": "code",
      "metadata": {
        "id": "jo1jjO3vn0jo"
      },
      "source": [
        "from keras import backend as K\n",
        "K.clear_session()\n",
        "\n",
        "model2 = tf.keras.Sequential([\n",
        "                              encoder\n",
        "                              ,tf.keras.layers.Embedding(len(encoder.get_vocabulary()), 64, mask_zero=True)\n",
        "                              ,tf.keras.layers.Bidirectional(tf.keras.layers.LSTM(64,  return_sequences=True))\n",
        "                              ,tf.keras.layers.Bidirectional(tf.keras.layers.LSTM(32))\n",
        "                              ,tf.keras.layers.Dense(64, activation='relu')\n",
        "                              ,tf.keras.layers.Dropout(0.5)\n",
        "                              ,tf.keras.layers.Dense(num_classes,activation='softmax')   # not binary since there are num_classes categories\n",
        "])"
      ],
      "execution_count": 42,
      "outputs": []
    },
    {
      "cell_type": "markdown",
      "metadata": {
        "id": "iukhoA9vR7gx"
      },
      "source": [
        "<div class=\"alert alert-block alert-info\">\n",
        "<b>tf.keras.losses.SparseCategoricalCrossentropy</b><br>\n",
        "https://www.tensorflow.org/api_docs/python/tf/keras/losses/SparseCategoricalCrossentropy</div>"
      ]
    },
    {
      "cell_type": "code",
      "metadata": {
        "id": "_zjWuJesR72x"
      },
      "source": [
        "model2.compile(optimizer='adam'\n",
        "              ,loss=tf.keras.losses.SparseCategoricalCrossentropy() # if we set from_logits=True we do not have specify a softmax activation function in the last layer\n",
        "              ,metrics=['accuracy'])"
      ],
      "execution_count": 43,
      "outputs": []
    },
    {
      "cell_type": "code",
      "metadata": {
        "colab": {
          "base_uri": "https://localhost:8080/"
        },
        "id": "LeSE-YjdqAeN",
        "outputId": "31052f9b-5534-4fba-c1ba-00ad5943a9d7"
      },
      "source": [
        "start=datetime.now()\n",
        "\n",
        "history2 = model2.fit(train_dataset\n",
        "                    ,epochs=200\n",
        "                    ,validation_data=validation_dataset\n",
        "                    ,validation_steps=30\n",
        "                    ,callbacks=[tf.keras.callbacks.EarlyStopping(monitor='val_accuracy', patience=2)]\n",
        "                    )\n",
        "\n",
        "end=datetime.now()\n",
        "print(\"Experiment C2B time:\", end-start) "
      ],
      "execution_count": 44,
      "outputs": [
        {
          "output_type": "stream",
          "name": "stdout",
          "text": [
            "Epoch 1/200\n",
            "1782/1782 [==============================] - 77s 34ms/step - loss: 0.5112 - accuracy: 0.8150 - val_loss: 0.4073 - val_accuracy: 0.8651\n",
            "Epoch 2/200\n",
            "1782/1782 [==============================] - 55s 31ms/step - loss: 0.4264 - accuracy: 0.8514 - val_loss: 0.3406 - val_accuracy: 0.8781\n",
            "Epoch 3/200\n",
            "1782/1782 [==============================] - 55s 31ms/step - loss: 0.4015 - accuracy: 0.8581 - val_loss: 0.4161 - val_accuracy: 0.8531\n",
            "Epoch 4/200\n",
            "1782/1782 [==============================] - 55s 31ms/step - loss: 0.3829 - accuracy: 0.8644 - val_loss: 0.3708 - val_accuracy: 0.8641\n",
            "Experiment C2B time: 0:04:02.373360\n"
          ]
        }
      ]
    },
    {
      "cell_type": "code",
      "metadata": {
        "colab": {
          "base_uri": "https://localhost:8080/"
        },
        "id": "_LdwilM1qPM3",
        "outputId": "f5658bdb-031a-4a6d-b090-ed0ae1134c06"
      },
      "source": [
        "test_loss, test_acc = model2.evaluate(test_dataset)\n",
        "\n",
        "print('Test Loss: {}'.format(test_loss))\n",
        "print('Test Accuracy: {}'.format(test_acc))"
      ],
      "execution_count": 45,
      "outputs": [
        {
          "output_type": "stream",
          "name": "stdout",
          "text": [
            "119/119 [==============================] - 2s 13ms/step - loss: 0.3982 - accuracy: 0.8584\n",
            "Test Loss: 0.3982197940349579\n",
            "Test Accuracy: 0.8584210276603699\n"
          ]
        }
      ]
    },
    {
      "cell_type": "markdown",
      "metadata": {
        "id": "x44eh6w-SjPa"
      },
      "source": [
        "## Plotting Performance Metrics - Multi Layer Bidirectional RNN with LTSM (Experiment C2B)"
      ]
    },
    {
      "cell_type": "markdown",
      "metadata": {
        "id": "7YwGAxu3SjbG"
      },
      "source": [
        "We use Matplotlib to create 2 plots--displaying the training and validation loss (resp. accuracy) for each (training) epoch side by side."
      ]
    },
    {
      "cell_type": "code",
      "metadata": {
        "colab": {
          "base_uri": "https://localhost:8080/"
        },
        "id": "l5Wa2bx7Suny",
        "outputId": "324f13b9-61af-4487-9b97-f06cf8ecd6f8"
      },
      "source": [
        "history_dict2 = history2.history\n",
        "history_dict2.keys()"
      ],
      "execution_count": 46,
      "outputs": [
        {
          "output_type": "execute_result",
          "data": {
            "text/plain": [
              "dict_keys(['loss', 'accuracy', 'val_loss', 'val_accuracy'])"
            ]
          },
          "metadata": {},
          "execution_count": 46
        }
      ]
    },
    {
      "cell_type": "code",
      "metadata": {
        "colab": {
          "base_uri": "https://localhost:8080/",
          "height": 171
        },
        "id": "cwzqjLbrSurM",
        "outputId": "3c08951d-c8e2-4840-a65b-368e8ffdd385"
      },
      "source": [
        "history2_df=pd.DataFrame(history_dict2)\n",
        "history2_df.tail().round(3)"
      ],
      "execution_count": 47,
      "outputs": [
        {
          "output_type": "execute_result",
          "data": {
            "text/html": [
              "<div>\n",
              "<style scoped>\n",
              "    .dataframe tbody tr th:only-of-type {\n",
              "        vertical-align: middle;\n",
              "    }\n",
              "\n",
              "    .dataframe tbody tr th {\n",
              "        vertical-align: top;\n",
              "    }\n",
              "\n",
              "    .dataframe thead th {\n",
              "        text-align: right;\n",
              "    }\n",
              "</style>\n",
              "<table border=\"1\" class=\"dataframe\">\n",
              "  <thead>\n",
              "    <tr style=\"text-align: right;\">\n",
              "      <th></th>\n",
              "      <th>loss</th>\n",
              "      <th>accuracy</th>\n",
              "      <th>val_loss</th>\n",
              "      <th>val_accuracy</th>\n",
              "    </tr>\n",
              "  </thead>\n",
              "  <tbody>\n",
              "    <tr>\n",
              "      <th>0</th>\n",
              "      <td>0.511</td>\n",
              "      <td>0.815</td>\n",
              "      <td>0.407</td>\n",
              "      <td>0.865</td>\n",
              "    </tr>\n",
              "    <tr>\n",
              "      <th>1</th>\n",
              "      <td>0.426</td>\n",
              "      <td>0.851</td>\n",
              "      <td>0.341</td>\n",
              "      <td>0.878</td>\n",
              "    </tr>\n",
              "    <tr>\n",
              "      <th>2</th>\n",
              "      <td>0.401</td>\n",
              "      <td>0.858</td>\n",
              "      <td>0.416</td>\n",
              "      <td>0.853</td>\n",
              "    </tr>\n",
              "    <tr>\n",
              "      <th>3</th>\n",
              "      <td>0.383</td>\n",
              "      <td>0.864</td>\n",
              "      <td>0.371</td>\n",
              "      <td>0.864</td>\n",
              "    </tr>\n",
              "  </tbody>\n",
              "</table>\n",
              "</div>"
            ],
            "text/plain": [
              "    loss  accuracy  val_loss  val_accuracy\n",
              "0  0.511     0.815     0.407         0.865\n",
              "1  0.426     0.851     0.341         0.878\n",
              "2  0.401     0.858     0.416         0.853\n",
              "3  0.383     0.864     0.371         0.864"
            ]
          },
          "metadata": {},
          "execution_count": 47
        }
      ]
    },
    {
      "cell_type": "code",
      "metadata": {
        "id": "5CrnwjN7Suu5"
      },
      "source": [
        "losses = history2.history['loss']\n",
        "accs = history2.history['accuracy']\n",
        "val_losses = history2.history['val_loss']\n",
        "val_accs = history2.history['val_accuracy']\n",
        "epochs = len(losses)"
      ],
      "execution_count": 48,
      "outputs": []
    },
    {
      "cell_type": "code",
      "metadata": {
        "colab": {
          "base_uri": "https://localhost:8080/",
          "height": 264
        },
        "id": "Uw20TBZxSuye",
        "outputId": "4e8a3f47-1719-4ec3-fe13-1e840bfddb16"
      },
      "source": [
        "plt.figure(figsize=(16, 4))\n",
        "for i, metrics in enumerate(zip([losses, accs], [val_losses, val_accs], ['Loss', 'Accuracy'])):\n",
        "    plt.subplot(1, 2, i + 1)\n",
        "    plt.plot(range(epochs), metrics[0], label='Training {}'.format(metrics[2]))\n",
        "    plt.plot(range(epochs), metrics[1], label='Validation {}'.format(metrics[2]))\n",
        "    plt.legend()\n",
        "plt.show()"
      ],
      "execution_count": 49,
      "outputs": [
        {
          "output_type": "display_data",
          "data": {
            "image/png": "[encoded data removed]",
            "text/plain": [
              "<Figure size 1152x288 with 2 Axes>"
            ]
          },
          "metadata": {
            "needs_background": "light"
          }
        }
      ]
    },
    {
      "cell_type": "markdown",
      "metadata": {
        "id": "WoWhNEnKyRRv"
      },
      "source": [
        "### Confusion Matrix"
      ]
    },
    {
      "cell_type": "code",
      "metadata": {
        "id": "TaRFsKvJyRRv"
      },
      "source": [
        "preds = model2.predict(test_dataset)"
      ],
      "execution_count": 50,
      "outputs": []
    },
    {
      "cell_type": "code",
      "metadata": {
        "colab": {
          "base_uri": "https://localhost:8080/"
        },
        "id": "38sM3BdNyRRv",
        "outputId": "ffd8b095-3367-4bcf-ecdb-82b4da010c4c"
      },
      "source": [
        "preds.shape"
      ],
      "execution_count": 51,
      "outputs": [
        {
          "output_type": "execute_result",
          "data": {
            "text/plain": [
              "(7600, 4)"
            ]
          },
          "metadata": {},
          "execution_count": 51
        }
      ]
    },
    {
      "cell_type": "code",
      "metadata": {
        "id": "HLEVza9CyRRw"
      },
      "source": [
        "cm = sns.light_palette((260, 75, 60), input=\"husl\", as_cmap=True)"
      ],
      "execution_count": 52,
      "outputs": []
    },
    {
      "cell_type": "code",
      "metadata": {
        "colab": {
          "base_uri": "https://localhost:8080/",
          "height": 171
        },
        "id": "QJ4Zct-xyRRw",
        "outputId": "e3f7ced8-6375-4103-f11f-cd09f9102ce9"
      },
      "source": [
        "df = pd.DataFrame(preds[0:15]\n",
        "                  ,columns = ['World','Sports','Business','Sci/Tech']).T\n",
        "df.style.format(\"{:.2%}\").background_gradient(cmap=cm)"
      ],
      "execution_count": 53,
      "outputs": [
        {
          "output_type": "execute_result",
          "data": {
            "text/html": [
              "<style  type=\"text/css\" >\n",
              "#T_6171216c_3e5a_11ec_a4b1_0242ac1c0002row0_col0,#T_6171216c_3e5a_11ec_a4b1_0242ac1c0002row0_col2,#T_6171216c_3e5a_11ec_a4b1_0242ac1c0002row0_col5,#T_6171216c_3e5a_11ec_a4b1_0242ac1c0002row0_col9,#T_6171216c_3e5a_11ec_a4b1_0242ac1c0002row0_col11,#T_6171216c_3e5a_11ec_a4b1_0242ac1c0002row0_col12,#T_6171216c_3e5a_11ec_a4b1_0242ac1c0002row1_col1,#T_6171216c_3e5a_11ec_a4b1_0242ac1c0002row1_col2,#T_6171216c_3e5a_11ec_a4b1_0242ac1c0002row1_col4,#T_6171216c_3e5a_11ec_a4b1_0242ac1c0002row1_col5,#T_6171216c_3e5a_11ec_a4b1_0242ac1c0002row1_col8,#T_6171216c_3e5a_11ec_a4b1_0242ac1c0002row1_col9,#T_6171216c_3e5a_11ec_a4b1_0242ac1c0002row1_col10,#T_6171216c_3e5a_11ec_a4b1_0242ac1c0002row1_col11,#T_6171216c_3e5a_11ec_a4b1_0242ac1c0002row1_col12,#T_6171216c_3e5a_11ec_a4b1_0242ac1c0002row1_col13,#T_6171216c_3e5a_11ec_a4b1_0242ac1c0002row1_col14,#T_6171216c_3e5a_11ec_a4b1_0242ac1c0002row2_col0,#T_6171216c_3e5a_11ec_a4b1_0242ac1c0002row2_col1,#T_6171216c_3e5a_11ec_a4b1_0242ac1c0002row2_col3,#T_6171216c_3e5a_11ec_a4b1_0242ac1c0002row2_col4,#T_6171216c_3e5a_11ec_a4b1_0242ac1c0002row2_col6,#T_6171216c_3e5a_11ec_a4b1_0242ac1c0002row2_col7,#T_6171216c_3e5a_11ec_a4b1_0242ac1c0002row2_col10,#T_6171216c_3e5a_11ec_a4b1_0242ac1c0002row2_col14,#T_6171216c_3e5a_11ec_a4b1_0242ac1c0002row3_col0,#T_6171216c_3e5a_11ec_a4b1_0242ac1c0002row3_col1,#T_6171216c_3e5a_11ec_a4b1_0242ac1c0002row3_col3,#T_6171216c_3e5a_11ec_a4b1_0242ac1c0002row3_col4,#T_6171216c_3e5a_11ec_a4b1_0242ac1c0002row3_col6,#T_6171216c_3e5a_11ec_a4b1_0242ac1c0002row3_col10,#T_6171216c_3e5a_11ec_a4b1_0242ac1c0002row3_col12,#T_6171216c_3e5a_11ec_a4b1_0242ac1c0002row3_col14{\n",
              "            background-color:  #f0f1f2;\n",
              "            color:  #000000;\n",
              "        }#T_6171216c_3e5a_11ec_a4b1_0242ac1c0002row0_col1,#T_6171216c_3e5a_11ec_a4b1_0242ac1c0002row0_col4,#T_6171216c_3e5a_11ec_a4b1_0242ac1c0002row0_col8,#T_6171216c_3e5a_11ec_a4b1_0242ac1c0002row0_col10,#T_6171216c_3e5a_11ec_a4b1_0242ac1c0002row0_col13,#T_6171216c_3e5a_11ec_a4b1_0242ac1c0002row0_col14,#T_6171216c_3e5a_11ec_a4b1_0242ac1c0002row1_col0,#T_6171216c_3e5a_11ec_a4b1_0242ac1c0002row1_col3,#T_6171216c_3e5a_11ec_a4b1_0242ac1c0002row1_col6,#T_6171216c_3e5a_11ec_a4b1_0242ac1c0002row1_col7,#T_6171216c_3e5a_11ec_a4b1_0242ac1c0002row2_col9,#T_6171216c_3e5a_11ec_a4b1_0242ac1c0002row2_col12,#T_6171216c_3e5a_11ec_a4b1_0242ac1c0002row3_col2,#T_6171216c_3e5a_11ec_a4b1_0242ac1c0002row3_col5,#T_6171216c_3e5a_11ec_a4b1_0242ac1c0002row3_col11{\n",
              "            background-color:  #778ce4;\n",
              "            color:  #000000;\n",
              "        }#T_6171216c_3e5a_11ec_a4b1_0242ac1c0002row0_col3{\n",
              "            background-color:  #f0f0f2;\n",
              "            color:  #000000;\n",
              "        }#T_6171216c_3e5a_11ec_a4b1_0242ac1c0002row0_col6,#T_6171216c_3e5a_11ec_a4b1_0242ac1c0002row3_col7{\n",
              "            background-color:  #eff0f2;\n",
              "            color:  #000000;\n",
              "        }#T_6171216c_3e5a_11ec_a4b1_0242ac1c0002row0_col7,#T_6171216c_3e5a_11ec_a4b1_0242ac1c0002row3_col8{\n",
              "            background-color:  #e0e3f0;\n",
              "            color:  #000000;\n",
              "        }#T_6171216c_3e5a_11ec_a4b1_0242ac1c0002row2_col2{\n",
              "            background-color:  #ecedf2;\n",
              "            color:  #000000;\n",
              "        }#T_6171216c_3e5a_11ec_a4b1_0242ac1c0002row2_col5{\n",
              "            background-color:  #e4e6f1;\n",
              "            color:  #000000;\n",
              "        }#T_6171216c_3e5a_11ec_a4b1_0242ac1c0002row2_col8{\n",
              "            background-color:  #ebecf2;\n",
              "            color:  #000000;\n",
              "        }#T_6171216c_3e5a_11ec_a4b1_0242ac1c0002row2_col11{\n",
              "            background-color:  #efeff2;\n",
              "            color:  #000000;\n",
              "        }#T_6171216c_3e5a_11ec_a4b1_0242ac1c0002row2_col13,#T_6171216c_3e5a_11ec_a4b1_0242ac1c0002row3_col9{\n",
              "            background-color:  #edeef2;\n",
              "            color:  #000000;\n",
              "        }#T_6171216c_3e5a_11ec_a4b1_0242ac1c0002row3_col13{\n",
              "            background-color:  #dbdff0;\n",
              "            color:  #000000;\n",
              "        }</style><table id=\"T_6171216c_3e5a_11ec_a4b1_0242ac1c0002\" class=\"dataframe\"><thead>    <tr>        <th class=\"blank level0\" ></th>        <th class=\"col_heading level0 col0\" >0</th>        <th class=\"col_heading level0 col1\" >1</th>        <th class=\"col_heading level0 col2\" >2</th>        <th class=\"col_heading level0 col3\" >3</th>        <th class=\"col_heading level0 col4\" >4</th>        <th class=\"col_heading level0 col5\" >5</th>        <th class=\"col_heading level0 col6\" >6</th>        <th class=\"col_heading level0 col7\" >7</th>        <th class=\"col_heading level0 col8\" >8</th>        <th class=\"col_heading level0 col9\" >9</th>        <th class=\"col_heading level0 col10\" >10</th>        <th class=\"col_heading level0 col11\" >11</th>        <th class=\"col_heading level0 col12\" >12</th>        <th class=\"col_heading level0 col13\" >13</th>        <th class=\"col_heading level0 col14\" >14</th>    </tr></thead><tbody>\n",
              "                <tr>\n",
              "                        <th id=\"T_6171216c_3e5a_11ec_a4b1_0242ac1c0002level0_row0\" class=\"row_heading level0 row0\" >World</th>\n",
              "                        <td id=\"T_6171216c_3e5a_11ec_a4b1_0242ac1c0002row0_col0\" class=\"data row0 col0\" >0.15%</td>\n",
              "                        <td id=\"T_6171216c_3e5a_11ec_a4b1_0242ac1c0002row0_col1\" class=\"data row0 col1\" >99.88%</td>\n",
              "                        <td id=\"T_6171216c_3e5a_11ec_a4b1_0242ac1c0002row0_col2\" class=\"data row0 col2\" >0.06%</td>\n",
              "                        <td id=\"T_6171216c_3e5a_11ec_a4b1_0242ac1c0002row0_col3\" class=\"data row0 col3\" >0.67%</td>\n",
              "                        <td id=\"T_6171216c_3e5a_11ec_a4b1_0242ac1c0002row0_col4\" class=\"data row0 col4\" >99.93%</td>\n",
              "                        <td id=\"T_6171216c_3e5a_11ec_a4b1_0242ac1c0002row0_col5\" class=\"data row0 col5\" >0.34%</td>\n",
              "                        <td id=\"T_6171216c_3e5a_11ec_a4b1_0242ac1c0002row0_col6\" class=\"data row0 col6\" >1.21%</td>\n",
              "                        <td id=\"T_6171216c_3e5a_11ec_a4b1_0242ac1c0002row0_col7\" class=\"data row0 col7\" >11.82%</td>\n",
              "                        <td id=\"T_6171216c_3e5a_11ec_a4b1_0242ac1c0002row0_col8\" class=\"data row0 col8\" >83.40%</td>\n",
              "                        <td id=\"T_6171216c_3e5a_11ec_a4b1_0242ac1c0002row0_col9\" class=\"data row0 col9\" >0.19%</td>\n",
              "                        <td id=\"T_6171216c_3e5a_11ec_a4b1_0242ac1c0002row0_col10\" class=\"data row0 col10\" >99.77%</td>\n",
              "                        <td id=\"T_6171216c_3e5a_11ec_a4b1_0242ac1c0002row0_col11\" class=\"data row0 col11\" >0.68%</td>\n",
              "                        <td id=\"T_6171216c_3e5a_11ec_a4b1_0242ac1c0002row0_col12\" class=\"data row0 col12\" >0.05%</td>\n",
              "                        <td id=\"T_6171216c_3e5a_11ec_a4b1_0242ac1c0002row0_col13\" class=\"data row0 col13\" >79.76%</td>\n",
              "                        <td id=\"T_6171216c_3e5a_11ec_a4b1_0242ac1c0002row0_col14\" class=\"data row0 col14\" >99.93%</td>\n",
              "            </tr>\n",
              "            <tr>\n",
              "                        <th id=\"T_6171216c_3e5a_11ec_a4b1_0242ac1c0002level0_row1\" class=\"row_heading level0 row1\" >Sports</th>\n",
              "                        <td id=\"T_6171216c_3e5a_11ec_a4b1_0242ac1c0002row1_col0\" class=\"data row1 col0\" >99.85%</td>\n",
              "                        <td id=\"T_6171216c_3e5a_11ec_a4b1_0242ac1c0002row1_col1\" class=\"data row1 col1\" >0.00%</td>\n",
              "                        <td id=\"T_6171216c_3e5a_11ec_a4b1_0242ac1c0002row1_col2\" class=\"data row1 col2\" >0.03%</td>\n",
              "                        <td id=\"T_6171216c_3e5a_11ec_a4b1_0242ac1c0002row1_col3\" class=\"data row1 col3\" >99.31%</td>\n",
              "                        <td id=\"T_6171216c_3e5a_11ec_a4b1_0242ac1c0002row1_col4\" class=\"data row1 col4\" >0.00%</td>\n",
              "                        <td id=\"T_6171216c_3e5a_11ec_a4b1_0242ac1c0002row1_col5\" class=\"data row1 col5\" >0.11%</td>\n",
              "                        <td id=\"T_6171216c_3e5a_11ec_a4b1_0242ac1c0002row1_col6\" class=\"data row1 col6\" >98.63%</td>\n",
              "                        <td id=\"T_6171216c_3e5a_11ec_a4b1_0242ac1c0002row1_col7\" class=\"data row1 col7\" >87.08%</td>\n",
              "                        <td id=\"T_6171216c_3e5a_11ec_a4b1_0242ac1c0002row1_col8\" class=\"data row1 col8\" >0.51%</td>\n",
              "                        <td id=\"T_6171216c_3e5a_11ec_a4b1_0242ac1c0002row1_col9\" class=\"data row1 col9\" >0.01%</td>\n",
              "                        <td id=\"T_6171216c_3e5a_11ec_a4b1_0242ac1c0002row1_col10\" class=\"data row1 col10\" >0.00%</td>\n",
              "                        <td id=\"T_6171216c_3e5a_11ec_a4b1_0242ac1c0002row1_col11\" class=\"data row1 col11\" >0.52%</td>\n",
              "                        <td id=\"T_6171216c_3e5a_11ec_a4b1_0242ac1c0002row1_col12\" class=\"data row1 col12\" >0.00%</td>\n",
              "                        <td id=\"T_6171216c_3e5a_11ec_a4b1_0242ac1c0002row1_col13\" class=\"data row1 col13\" >1.46%</td>\n",
              "                        <td id=\"T_6171216c_3e5a_11ec_a4b1_0242ac1c0002row1_col14\" class=\"data row1 col14\" >0.00%</td>\n",
              "            </tr>\n",
              "            <tr>\n",
              "                        <th id=\"T_6171216c_3e5a_11ec_a4b1_0242ac1c0002level0_row2\" class=\"row_heading level0 row2\" >Business</th>\n",
              "                        <td id=\"T_6171216c_3e5a_11ec_a4b1_0242ac1c0002row2_col0\" class=\"data row2 col0\" >0.00%</td>\n",
              "                        <td id=\"T_6171216c_3e5a_11ec_a4b1_0242ac1c0002row2_col1\" class=\"data row2 col1\" >0.05%</td>\n",
              "                        <td id=\"T_6171216c_3e5a_11ec_a4b1_0242ac1c0002row2_col2\" class=\"data row2 col2\" >3.69%</td>\n",
              "                        <td id=\"T_6171216c_3e5a_11ec_a4b1_0242ac1c0002row2_col3\" class=\"data row2 col3\" >0.01%</td>\n",
              "                        <td id=\"T_6171216c_3e5a_11ec_a4b1_0242ac1c0002row2_col4\" class=\"data row2 col4\" >0.04%</td>\n",
              "                        <td id=\"T_6171216c_3e5a_11ec_a4b1_0242ac1c0002row2_col5\" class=\"data row2 col5\" >9.32%</td>\n",
              "                        <td id=\"T_6171216c_3e5a_11ec_a4b1_0242ac1c0002row2_col6\" class=\"data row2 col6\" >0.07%</td>\n",
              "                        <td id=\"T_6171216c_3e5a_11ec_a4b1_0242ac1c0002row2_col7\" class=\"data row2 col7\" >0.20%</td>\n",
              "                        <td id=\"T_6171216c_3e5a_11ec_a4b1_0242ac1c0002row2_col8\" class=\"data row2 col8\" >4.42%</td>\n",
              "                        <td id=\"T_6171216c_3e5a_11ec_a4b1_0242ac1c0002row2_col9\" class=\"data row2 col9\" >97.24%</td>\n",
              "                        <td id=\"T_6171216c_3e5a_11ec_a4b1_0242ac1c0002row2_col10\" class=\"data row2 col10\" >0.10%</td>\n",
              "                        <td id=\"T_6171216c_3e5a_11ec_a4b1_0242ac1c0002row2_col11\" class=\"data row2 col11\" >1.69%</td>\n",
              "                        <td id=\"T_6171216c_3e5a_11ec_a4b1_0242ac1c0002row2_col12\" class=\"data row2 col12\" >99.87%</td>\n",
              "                        <td id=\"T_6171216c_3e5a_11ec_a4b1_0242ac1c0002row2_col13\" class=\"data row2 col13\" >3.48%</td>\n",
              "                        <td id=\"T_6171216c_3e5a_11ec_a4b1_0242ac1c0002row2_col14\" class=\"data row2 col14\" >0.04%</td>\n",
              "            </tr>\n",
              "            <tr>\n",
              "                        <th id=\"T_6171216c_3e5a_11ec_a4b1_0242ac1c0002level0_row3\" class=\"row_heading level0 row3\" >Sci/Tech</th>\n",
              "                        <td id=\"T_6171216c_3e5a_11ec_a4b1_0242ac1c0002row3_col0\" class=\"data row3 col0\" >0.00%</td>\n",
              "                        <td id=\"T_6171216c_3e5a_11ec_a4b1_0242ac1c0002row3_col1\" class=\"data row3 col1\" >0.07%</td>\n",
              "                        <td id=\"T_6171216c_3e5a_11ec_a4b1_0242ac1c0002row3_col2\" class=\"data row3 col2\" >96.22%</td>\n",
              "                        <td id=\"T_6171216c_3e5a_11ec_a4b1_0242ac1c0002row3_col3\" class=\"data row3 col3\" >0.01%</td>\n",
              "                        <td id=\"T_6171216c_3e5a_11ec_a4b1_0242ac1c0002row3_col4\" class=\"data row3 col4\" >0.03%</td>\n",
              "                        <td id=\"T_6171216c_3e5a_11ec_a4b1_0242ac1c0002row3_col5\" class=\"data row3 col5\" >90.23%</td>\n",
              "                        <td id=\"T_6171216c_3e5a_11ec_a4b1_0242ac1c0002row3_col6\" class=\"data row3 col6\" >0.09%</td>\n",
              "                        <td id=\"T_6171216c_3e5a_11ec_a4b1_0242ac1c0002row3_col7\" class=\"data row3 col7\" >0.91%</td>\n",
              "                        <td id=\"T_6171216c_3e5a_11ec_a4b1_0242ac1c0002row3_col8\" class=\"data row3 col8\" >11.68%</td>\n",
              "                        <td id=\"T_6171216c_3e5a_11ec_a4b1_0242ac1c0002row3_col9\" class=\"data row3 col9\" >2.56%</td>\n",
              "                        <td id=\"T_6171216c_3e5a_11ec_a4b1_0242ac1c0002row3_col10\" class=\"data row3 col10\" >0.13%</td>\n",
              "                        <td id=\"T_6171216c_3e5a_11ec_a4b1_0242ac1c0002row3_col11\" class=\"data row3 col11\" >97.11%</td>\n",
              "                        <td id=\"T_6171216c_3e5a_11ec_a4b1_0242ac1c0002row3_col12\" class=\"data row3 col12\" >0.08%</td>\n",
              "                        <td id=\"T_6171216c_3e5a_11ec_a4b1_0242ac1c0002row3_col13\" class=\"data row3 col13\" >15.30%</td>\n",
              "                        <td id=\"T_6171216c_3e5a_11ec_a4b1_0242ac1c0002row3_col14\" class=\"data row3 col14\" >0.02%</td>\n",
              "            </tr>\n",
              "    </tbody></table>"
            ],
            "text/plain": [
              "<pandas.io.formats.style.Styler at 0x7f2891a4c690>"
            ]
          },
          "metadata": {},
          "execution_count": 53
        }
      ]
    },
    {
      "cell_type": "markdown",
      "metadata": {
        "id": "A3RlxHyPTCrD"
      },
      "source": [
        "#### Model Architecture Summary Multi Layer Bidirectional RNN with LTSM (Experiment C2B)"
      ]
    },
    {
      "cell_type": "code",
      "metadata": {
        "colab": {
          "base_uri": "https://localhost:8080/"
        },
        "id": "idRIHfoySu12",
        "outputId": "b87359d4-8a13-4f85-f6b9-059adacc93a3"
      },
      "source": [
        "model2.summary()"
      ],
      "execution_count": 54,
      "outputs": [
        {
          "output_type": "stream",
          "name": "stdout",
          "text": [
            "Model: \"sequential\"\n",
            "_________________________________________________________________\n",
            "Layer (type)                 Output Shape              Param #   \n",
            "=================================================================\n",
            "text_vectorization (TextVect (None, None)              0         \n",
            "_________________________________________________________________\n",
            "embedding (Embedding)        (None, None, 64)          64000     \n",
            "_________________________________________________________________\n",
            "bidirectional (Bidirectional (None, None, 128)         66048     \n",
            "_________________________________________________________________\n",
            "bidirectional_1 (Bidirection (None, 64)                41216     \n",
            "_________________________________________________________________\n",
            "dense (Dense)                (None, 64)                4160      \n",
            "_________________________________________________________________\n",
            "dropout (Dropout)            (None, 64)                0         \n",
            "_________________________________________________________________\n",
            "dense_1 (Dense)              (None, 4)                 260       \n",
            "=================================================================\n",
            "Total params: 175,684\n",
            "Trainable params: 175,684\n",
            "Non-trainable params: 0\n",
            "_________________________________________________________________\n"
          ]
        }
      ]
    },
    {
      "cell_type": "code",
      "metadata": {
        "id": "o01y6ZMVTF8J",
        "scrolled": false,
        "colab": {
          "base_uri": "https://localhost:8080/",
          "height": 864
        },
        "outputId": "729afcdc-efd8-49d5-8ce1-d0aef22f3706"
      },
      "source": [
        "keras.utils.plot_model(model2, \"2Layer_BiDirectionalLSTM.png\", show_shapes=True)"
      ],
      "execution_count": 55,
      "outputs": [
        {
          "output_type": "execute_result",
          "data": {
            "image/png": "[encoded data removed]",
            "text/plain": [
              "<IPython.core.display.Image object>"
            ]
          },
          "metadata": {},
          "execution_count": 55
        }
      ]
    },
    {
      "cell_type": "markdown",
      "metadata": {
        "id": "9xvpE3BaGw_V"
      },
      "source": [
        "Check out other existing recurrent layers such as [GRU layers](https://www.tensorflow.org/api_docs/python/tf/keras/layers/GRU).\n",
        "\n",
        "If you're interestied in building custom RNNs, see the [Keras RNN Guide](../../guide/keras/rnn.ipynb).\n"
      ]
    },
    {
      "cell_type": "markdown",
      "metadata": {
        "id": "cgloqCxJLEA3"
      },
      "source": [
        "## Create the model : Single Layer Bidirectional RNN GRU (Experiment C3B)"
      ]
    },
    {
      "cell_type": "markdown",
      "metadata": {
        "id": "OO0hIC91LEA3"
      },
      "source": [
        "Above is a diagram of the model. \n",
        "\n",
        "1. This model can be build as a `tf.keras.Sequential`.\n",
        "\n",
        "1. The first layer is the `encoder`, which converts the text to a sequence of token indices.\n",
        "\n",
        "2. After the encoder is an embedding layer. An embedding layer stores one vector per word. When called, it converts the sequences of word indices to sequences of vectors. These vectors are trainable. After training (on enough data), words with similar meanings often have similar vectors.\n",
        "\n",
        "  This index-lookup is much more efficient than the equivalent operation of passing a one-hot encoded vector through a `tf.keras.layers.Dense` layer.\n",
        "\n",
        "3. A recurrent neural network (RNN) processes sequence input by iterating through the elements. RNNs pass the outputs from one timestep to their input on the next timestep.\n",
        "\n",
        "  The `tf.keras.layers.Bidirectional` wrapper can also be used with an RNN layer. This propagates the input forward and backwards through the RNN layer and then concatenates the final output. \n",
        "\n",
        "  * The main advantage to a bidirectional RNN is that the signal from the beginning of the input doesn't need to be processed all the way through every timestep to affect the output.  \n",
        "\n",
        "  * The main disadvantage of a bidirectional RNN is that you can't efficiently stream predictions as words are being added to the end.\n",
        "\n",
        "1. After the RNN has converted the sequence to a single vector the two `layers.Dense` do some final processing, and convert from this vector representation to a single logit as the classification output. \n"
      ]
    },
    {
      "cell_type": "markdown",
      "metadata": {
        "id": "wcQ3HhcfLEA3"
      },
      "source": [
        "<div class=\"alert alert-block alert-info\">\n",
        "    <b>tf.keras.layers.Bidirectional</b><br>\n",
        "    https://www.tensorflow.org/api_docs/python/tf/keras/layers/Bidirectional\n",
        "    </div>"
      ]
    },
    {
      "cell_type": "markdown",
      "metadata": {
        "id": "iAfQhDgRLEA4"
      },
      "source": [
        "<img src=\"https://github.com/djp840/MSDS_458_Public/blob/master/images/BidirectionalRNN.png?raw=1\">"
      ]
    },
    {
      "cell_type": "code",
      "metadata": {
        "id": "NabTfotzLEA4"
      },
      "source": [
        "from keras import backend as K\n",
        "K.clear_session()\n",
        "\n",
        "num_classes = 4\n",
        "model3 = tf.keras.Sequential([\n",
        "                              encoder\n",
        "                              ,tf.keras.layers.Embedding(input_dim=len(encoder.get_vocabulary())\n",
        "                              ,output_dim=64\n",
        "                                # Use masking to handle the variable sequence lengths\n",
        "                              ,mask_zero=True)\n",
        "                              ,tf.keras.layers.Bidirectional(tf.keras.layers.GRU(64))\n",
        "                              ,tf.keras.layers.Dense(64, activation='relu')\n",
        "                              ,tf.keras.layers.Dense(num_classes,activation='softmax')   # num_classes = 4\n",
        "])"
      ],
      "execution_count": 56,
      "outputs": []
    },
    {
      "cell_type": "markdown",
      "metadata": {
        "id": "P52f3bWmLEA4"
      },
      "source": [
        "<div class=\"alert alert-block alert-success\"> \n",
        "Please note that we choose to Keras sequential model here since all the layers in the model only have single input and produce single output. </div>"
      ]
    },
    {
      "cell_type": "markdown",
      "metadata": {
        "id": "7qQ12QL5LEA4"
      },
      "source": [
        "<div class=\"alert alert-block alert-info\"> \n",
        "<b>tf.keras.Model</b><br>\n",
        "https://www.tensorflow.org/api_docs/python/tf/keras/Model\n",
        "</div>  "
      ]
    },
    {
      "cell_type": "markdown",
      "metadata": {
        "id": "CSP4KsHJLEA4"
      },
      "source": [
        "## Compile Model: Single Layer Bidirectional RNN GRU (Experiment C3B)"
      ]
    },
    {
      "cell_type": "markdown",
      "metadata": {
        "id": "p1IuL80fLEA4"
      },
      "source": [
        "<div class=\"alert alert-block alert-info\">\n",
        "<b>tf.keras.losses.SparseCategoricalCrossentropy</b><br>\n",
        "https://www.tensorflow.org/api_docs/python/tf/keras/losses/SparseCategoricalCrossentropy</div>"
      ]
    },
    {
      "cell_type": "code",
      "metadata": {
        "id": "l86MU5TsLEA4"
      },
      "source": [
        "model3.compile(optimizer=tf.keras.optimizers.Adam(1e-4)\n",
        "              ,loss=tf.keras.losses.SparseCategoricalCrossentropy() # if we set from_logits=True we don not have specify a softmax activation function in the last layer\n",
        "              ,metrics=['accuracy'])"
      ],
      "execution_count": 57,
      "outputs": []
    },
    {
      "cell_type": "markdown",
      "metadata": {
        "id": "FdWEp_NcLEA4"
      },
      "source": [
        "Please note that Keras sequential model is used here since all the layers in the model only have single input and produce single output. In case you want to use stateful RNN layer, you might want to build your model with Keras functional API or model subclassing so that you can retrieve and reuse the RNN layer states. Please check [Keras RNN guide](https://www.tensorflow.org/guide/keras/rnn#rnn_state_reuse) for more details."
      ]
    },
    {
      "cell_type": "markdown",
      "metadata": {
        "id": "IjGPi7WYLEA4"
      },
      "source": [
        "The embedding layer [uses masking](../../guide/keras/masking_and_padding) to handle the varying sequence-lengths. All the layers after the `Embedding` support masking:"
      ]
    },
    {
      "cell_type": "code",
      "metadata": {
        "colab": {
          "base_uri": "https://localhost:8080/"
        },
        "id": "rk-aTi18LEA4",
        "outputId": "6400b750-c4cc-4f81-a347-a6b3219c5b3f"
      },
      "source": [
        "print([layer.supports_masking for layer in model3.layers])"
      ],
      "execution_count": 58,
      "outputs": [
        {
          "output_type": "stream",
          "name": "stdout",
          "text": [
            "[False, True, True, True, True]\n"
          ]
        }
      ]
    },
    {
      "cell_type": "markdown",
      "metadata": {
        "id": "iDhsRUb6LEA4"
      },
      "source": [
        "## Train the model: Single Layer Bidirectional RNN GRU (Experiment C3B)"
      ]
    },
    {
      "cell_type": "markdown",
      "metadata": {
        "id": "k7xwudZ9LEA5"
      },
      "source": [
        "<div class=\"alert alert-block alert-success\">\n",
        "    <b>Module: tf.keras.callbacks</b></div>"
      ]
    },
    {
      "cell_type": "markdown",
      "metadata": {
        "id": "RivOyx60LEA5"
      },
      "source": [
        "<div class=\"alert alert-block alert-info\">\n",
        "<b>tf.keras.callbacks.EarlyStopping</b><br>\n",
        "https://www.tensorflow.org/api_docs/python/tf/keras/callbacks/EarlyStopping</div>\n",
        "\n",
        "<div class=\"alert alert-block alert-info\">\n",
        "<b>tf.keras.callbacks.ModelCheckpoint</b><br>\n",
        "https://www.tensorflow.org/api_docs/python/tf/keras/callbacks/ModelCheckpoint</div>"
      ]
    },
    {
      "cell_type": "code",
      "metadata": {
        "colab": {
          "base_uri": "https://localhost:8080/"
        },
        "id": "ZXylRi0OLEA5",
        "outputId": "9edae778-d1ac-4811-a978-ad0192609cb6"
      },
      "source": [
        "start=datetime.now()\n",
        "\n",
        "history3 = model3.fit(train_dataset\n",
        "                    ,epochs = 200\n",
        "                    ,validation_data=validation_dataset\n",
        "                    ,callbacks=[tf.keras.callbacks.EarlyStopping(monitor='val_accuracy', patience=2)]\n",
        "                    )\n",
        "\n",
        "end=datetime.now()\n",
        "print(\"Experiment C3B time:\", end-start) "
      ],
      "execution_count": 59,
      "outputs": [
        {
          "output_type": "stream",
          "name": "stdout",
          "text": [
            "Epoch 1/200\n",
            "1782/1782 [==============================] - 43s 19ms/step - loss: 0.7123 - accuracy: 0.7201 - val_loss: 0.4296 - val_accuracy: 0.8505\n",
            "Epoch 2/200\n",
            "1782/1782 [==============================] - 32s 18ms/step - loss: 0.4180 - accuracy: 0.8507 - val_loss: 0.4103 - val_accuracy: 0.8558\n",
            "Epoch 3/200\n",
            "1782/1782 [==============================] - 32s 18ms/step - loss: 0.3997 - accuracy: 0.8566 - val_loss: 0.3984 - val_accuracy: 0.8597\n",
            "Epoch 4/200\n",
            "1782/1782 [==============================] - 32s 18ms/step - loss: 0.3917 - accuracy: 0.8584 - val_loss: 0.3961 - val_accuracy: 0.8633\n",
            "Epoch 5/200\n",
            "1782/1782 [==============================] - 32s 18ms/step - loss: 0.3868 - accuracy: 0.8603 - val_loss: 0.3904 - val_accuracy: 0.8632\n",
            "Epoch 6/200\n",
            "1782/1782 [==============================] - 32s 18ms/step - loss: 0.3836 - accuracy: 0.8610 - val_loss: 0.3938 - val_accuracy: 0.8593\n",
            "Experiment C3B time: 0:03:21.588314\n"
          ]
        }
      ]
    },
    {
      "cell_type": "code",
      "metadata": {
        "colab": {
          "base_uri": "https://localhost:8080/"
        },
        "id": "ngoHr9_4LEA5",
        "outputId": "5a56d2b1-2dc3-40e0-a7b9-399c809dbab6"
      },
      "source": [
        "test_loss, test_acc = model3.evaluate(test_dataset)\n",
        "\n",
        "print('Test Loss: {}'.format(test_loss))\n",
        "print('Test Accuracy: {}'.format(test_acc))"
      ],
      "execution_count": 60,
      "outputs": [
        {
          "output_type": "stream",
          "name": "stdout",
          "text": [
            "119/119 [==============================] - 1s 8ms/step - loss: 0.4083 - accuracy: 0.8529\n",
            "Test Loss: 0.40829041600227356\n",
            "Test Accuracy: 0.8528947234153748\n"
          ]
        }
      ]
    },
    {
      "cell_type": "markdown",
      "metadata": {
        "id": "d9rCTgh1LEA5"
      },
      "source": [
        "## Plotting Performance Metrics: Single Layer Bidirectional RNN GRU (Experiment C3B)"
      ]
    },
    {
      "cell_type": "markdown",
      "metadata": {
        "id": "jLIpjXZxLEA5"
      },
      "source": [
        "We use Matplotlib to create 2 plots--displaying the training and validation loss (resp. accuracy) for each (training) epoch side by side."
      ]
    },
    {
      "cell_type": "code",
      "metadata": {
        "colab": {
          "base_uri": "https://localhost:8080/"
        },
        "id": "qrUhjowOLEA5",
        "outputId": "15b6ec58-dec4-4270-e6d9-29e716323e1c"
      },
      "source": [
        "history_dict3 = history3.history\n",
        "history_dict3.keys()"
      ],
      "execution_count": 61,
      "outputs": [
        {
          "output_type": "execute_result",
          "data": {
            "text/plain": [
              "dict_keys(['loss', 'accuracy', 'val_loss', 'val_accuracy'])"
            ]
          },
          "metadata": {},
          "execution_count": 61
        }
      ]
    },
    {
      "cell_type": "code",
      "metadata": {
        "colab": {
          "base_uri": "https://localhost:8080/",
          "height": 232
        },
        "id": "oJuCAO1TLEA5",
        "outputId": "0dec15dc-22d7-41e6-caa6-64e4e90db7a6"
      },
      "source": [
        "history3_df=pd.DataFrame(history_dict3)\n",
        "history3_df.tail(10).round(3)"
      ],
      "execution_count": 62,
      "outputs": [
        {
          "output_type": "execute_result",
          "data": {
            "text/html": [
              "<div>\n",
              "<style scoped>\n",
              "    .dataframe tbody tr th:only-of-type {\n",
              "        vertical-align: middle;\n",
              "    }\n",
              "\n",
              "    .dataframe tbody tr th {\n",
              "        vertical-align: top;\n",
              "    }\n",
              "\n",
              "    .dataframe thead th {\n",
              "        text-align: right;\n",
              "    }\n",
              "</style>\n",
              "<table border=\"1\" class=\"dataframe\">\n",
              "  <thead>\n",
              "    <tr style=\"text-align: right;\">\n",
              "      <th></th>\n",
              "      <th>loss</th>\n",
              "      <th>accuracy</th>\n",
              "      <th>val_loss</th>\n",
              "      <th>val_accuracy</th>\n",
              "    </tr>\n",
              "  </thead>\n",
              "  <tbody>\n",
              "    <tr>\n",
              "      <th>0</th>\n",
              "      <td>0.712</td>\n",
              "      <td>0.720</td>\n",
              "      <td>0.430</td>\n",
              "      <td>0.850</td>\n",
              "    </tr>\n",
              "    <tr>\n",
              "      <th>1</th>\n",
              "      <td>0.418</td>\n",
              "      <td>0.851</td>\n",
              "      <td>0.410</td>\n",
              "      <td>0.856</td>\n",
              "    </tr>\n",
              "    <tr>\n",
              "      <th>2</th>\n",
              "      <td>0.400</td>\n",
              "      <td>0.857</td>\n",
              "      <td>0.398</td>\n",
              "      <td>0.860</td>\n",
              "    </tr>\n",
              "    <tr>\n",
              "      <th>3</th>\n",
              "      <td>0.392</td>\n",
              "      <td>0.858</td>\n",
              "      <td>0.396</td>\n",
              "      <td>0.863</td>\n",
              "    </tr>\n",
              "    <tr>\n",
              "      <th>4</th>\n",
              "      <td>0.387</td>\n",
              "      <td>0.860</td>\n",
              "      <td>0.390</td>\n",
              "      <td>0.863</td>\n",
              "    </tr>\n",
              "    <tr>\n",
              "      <th>5</th>\n",
              "      <td>0.384</td>\n",
              "      <td>0.861</td>\n",
              "      <td>0.394</td>\n",
              "      <td>0.859</td>\n",
              "    </tr>\n",
              "  </tbody>\n",
              "</table>\n",
              "</div>"
            ],
            "text/plain": [
              "    loss  accuracy  val_loss  val_accuracy\n",
              "0  0.712     0.720     0.430         0.850\n",
              "1  0.418     0.851     0.410         0.856\n",
              "2  0.400     0.857     0.398         0.860\n",
              "3  0.392     0.858     0.396         0.863\n",
              "4  0.387     0.860     0.390         0.863\n",
              "5  0.384     0.861     0.394         0.859"
            ]
          },
          "metadata": {},
          "execution_count": 62
        }
      ]
    },
    {
      "cell_type": "code",
      "metadata": {
        "id": "55znvR0lLEA5"
      },
      "source": [
        "losses = history3.history['loss']\n",
        "accs = history3.history['accuracy']\n",
        "val_losses = history3.history['val_loss']\n",
        "val_accs = history3.history['val_accuracy']\n",
        "epochs = len(losses)"
      ],
      "execution_count": 63,
      "outputs": []
    },
    {
      "cell_type": "code",
      "metadata": {
        "colab": {
          "base_uri": "https://localhost:8080/",
          "height": 264
        },
        "scrolled": true,
        "id": "kmrjTVdGLEA5",
        "outputId": "ae2e999a-098d-4772-e803-9995408ee035"
      },
      "source": [
        "plt.figure(figsize=(16, 4))\n",
        "for i, metrics in enumerate(zip([losses, accs], [val_losses, val_accs], ['Loss', 'Accuracy'])):\n",
        "    plt.subplot(1, 2, i + 1)\n",
        "    plt.plot(range(epochs), metrics[0], label='Training {}'.format(metrics[2]))\n",
        "    plt.plot(range(epochs), metrics[1], label='Validation {}'.format(metrics[2]))\n",
        "    plt.legend()\n",
        "plt.show()"
      ],
      "execution_count": 64,
      "outputs": [
        {
          "output_type": "display_data",
          "data": {
            "image/png": "[encoded data removed]",
            "text/plain": [
              "<Figure size 1152x288 with 2 Axes>"
            ]
          },
          "metadata": {
            "needs_background": "light"
          }
        }
      ]
    },
    {
      "cell_type": "markdown",
      "metadata": {
        "id": "Y_5sB3SrLEA6"
      },
      "source": [
        "## Model Architecture Summary: Single Layer Bidirectional RNN GRU (Experiment C3B)"
      ]
    },
    {
      "cell_type": "code",
      "metadata": {
        "colab": {
          "base_uri": "https://localhost:8080/"
        },
        "id": "qeq1b37VLEA6",
        "outputId": "36e4b739-cdcd-4f59-e782-587d33428042"
      },
      "source": [
        "model3.summary()"
      ],
      "execution_count": 65,
      "outputs": [
        {
          "output_type": "stream",
          "name": "stdout",
          "text": [
            "Model: \"sequential\"\n",
            "_________________________________________________________________\n",
            "Layer (type)                 Output Shape              Param #   \n",
            "=================================================================\n",
            "text_vectorization (TextVect (None, None)              0         \n",
            "_________________________________________________________________\n",
            "embedding (Embedding)        (None, None, 64)          64000     \n",
            "_________________________________________________________________\n",
            "bidirectional (Bidirectional (None, 128)               49920     \n",
            "_________________________________________________________________\n",
            "dense (Dense)                (None, 64)                8256      \n",
            "_________________________________________________________________\n",
            "dense_1 (Dense)              (None, 4)                 260       \n",
            "=================================================================\n",
            "Total params: 122,436\n",
            "Trainable params: 122,436\n",
            "Non-trainable params: 0\n",
            "_________________________________________________________________\n"
          ]
        }
      ]
    },
    {
      "cell_type": "code",
      "metadata": {
        "colab": {
          "base_uri": "https://localhost:8080/",
          "height": 644
        },
        "id": "qEHqMCZDLEA6",
        "outputId": "7d4645df-35ed-4d83-f40b-f9151463c66d"
      },
      "source": [
        "keras.utils.plot_model(model3, \"BiDirectionalGRU.png\", show_shapes=True)"
      ],
      "execution_count": 66,
      "outputs": [
        {
          "output_type": "execute_result",
          "data": {
            "image/png": "[encoded data removed]",
            "text/plain": [
              "<IPython.core.display.Image object>"
            ]
          },
          "metadata": {},
          "execution_count": 66
        }
      ]
    },
    {
      "cell_type": "markdown",
      "metadata": {
        "id": "zDFpoELqTWzq"
      },
      "source": [
        "##Create model: Multi Layer Bidirectional RNN with GRU (Experiment C4B)\n",
        "\n",
        "\n",
        "Keras recurrent layers have two available modes that are controlled by the `return_sequences` constructor argument:\n",
        "\n",
        "* If `False` it returns only the last output for each input sequence (a 2D tensor of shape (batch_size, output_features)). This is the default, used in the previous model.\n",
        "\n",
        "* If `True` the full sequences of successive outputs for each timestep is returned (a 3D tensor of shape `(batch_size, timesteps, output_features)`).\n",
        "\n",
        "Here is what the flow of information looks like with `return_sequences=True`:\n",
        "\n",
        "![layered_bidirectional]?raw=1\""
      ]
    },
    {
      "cell_type": "markdown",
      "metadata": {
        "id": "gqzIXWmlTWzq"
      },
      "source": [
        "The interesting thing about using an `RNN` with `return_sequences=True` is that the output still has 3-axes, like the input, so it can be passed to another RNN layer, like this:"
      ]
    },
    {
      "cell_type": "markdown",
      "metadata": {
        "id": "IuZjvAv9TWzr"
      },
      "source": [
        "<img src=\"https://github.com/djp840/MSDS_458_Public/blob/master/images/multilayerBidirectionalLSTM.png?raw=1\">"
      ]
    },
    {
      "cell_type": "code",
      "metadata": {
        "id": "ybPnRGynTWzr"
      },
      "source": [
        "from keras import backend as K\n",
        "K.clear_session()\n",
        "\n",
        "model4 = tf.keras.Sequential([\n",
        "                              encoder\n",
        "                              ,tf.keras.layers.Embedding(len(encoder.get_vocabulary()), 64, mask_zero=True)\n",
        "                              ,tf.keras.layers.Bidirectional(tf.keras.layers.GRU(64,  return_sequences=True))\n",
        "                              ,tf.keras.layers.Bidirectional(tf.keras.layers.GRU(32))\n",
        "                              ,tf.keras.layers.Dense(64, activation='relu')\n",
        "                              ,tf.keras.layers.Dropout(0.5)\n",
        "                              ,tf.keras.layers.Dense(num_classes,activation='softmax')   # not binary since there are num_classes categories\n",
        "])"
      ],
      "execution_count": 67,
      "outputs": []
    },
    {
      "cell_type": "markdown",
      "metadata": {
        "id": "h4Zkm-QnTWzr"
      },
      "source": [
        "<div class=\"alert alert-block alert-info\">\n",
        "<b>tf.keras.losses.SparseCategoricalCrossentropy</b><br>\n",
        "https://www.tensorflow.org/api_docs/python/tf/keras/losses/SparseCategoricalCrossentropy</div>"
      ]
    },
    {
      "cell_type": "code",
      "metadata": {
        "id": "YBO4yxiITWzr"
      },
      "source": [
        "model4.compile(optimizer='adam'\n",
        "              ,loss=tf.keras.losses.SparseCategoricalCrossentropy() # if we set from_logits=True we do not have specify a softmax activation function in the last layer\n",
        "              ,metrics=['accuracy'])"
      ],
      "execution_count": 68,
      "outputs": []
    },
    {
      "cell_type": "code",
      "metadata": {
        "colab": {
          "base_uri": "https://localhost:8080/"
        },
        "id": "iAoQirL1TWzr",
        "outputId": "bc654941-4ac4-4acc-8774-74d0acbfe435"
      },
      "source": [
        "start=datetime.now()\n",
        "\n",
        "history4 = model4.fit(train_dataset\n",
        "                    ,epochs=200\n",
        "                    ,validation_data=validation_dataset\n",
        "                    ,validation_steps=30\n",
        "                    ,callbacks=[tf.keras.callbacks.EarlyStopping(monitor='val_accuracy', patience=2)]\n",
        "                    )\n",
        "\n",
        "end=datetime.now()\n",
        "print(\"Experiment C4B time:\", end-start) "
      ],
      "execution_count": 69,
      "outputs": [
        {
          "output_type": "stream",
          "name": "stdout",
          "text": [
            "Epoch 1/200\n",
            "1782/1782 [==============================] - 75s 33ms/step - loss: 0.5185 - accuracy: 0.8110 - val_loss: 0.3855 - val_accuracy: 0.8687\n",
            "Epoch 2/200\n",
            "1782/1782 [==============================] - 53s 30ms/step - loss: 0.4251 - accuracy: 0.8509 - val_loss: 0.4164 - val_accuracy: 0.8464\n",
            "Epoch 3/200\n",
            "1782/1782 [==============================] - 53s 29ms/step - loss: 0.4033 - accuracy: 0.8578 - val_loss: 0.3940 - val_accuracy: 0.8620\n",
            "Experiment C4B time: 0:03:00.443453\n"
          ]
        }
      ]
    },
    {
      "cell_type": "code",
      "metadata": {
        "colab": {
          "base_uri": "https://localhost:8080/"
        },
        "id": "heTV0r9TTWzr",
        "outputId": "ca6583de-21ab-49f6-ab6a-90c5bd9b3495"
      },
      "source": [
        "test_loss, test_acc = model4.evaluate(test_dataset)\n",
        "\n",
        "print('Test Loss: {}'.format(test_loss))\n",
        "print('Test Accuracy: {}'.format(test_acc))"
      ],
      "execution_count": 70,
      "outputs": [
        {
          "output_type": "stream",
          "name": "stdout",
          "text": [
            "119/119 [==============================] - 2s 12ms/step - loss: 0.4045 - accuracy: 0.8533\n",
            "Test Loss: 0.4045478403568268\n",
            "Test Accuracy: 0.8532894849777222\n"
          ]
        }
      ]
    },
    {
      "cell_type": "markdown",
      "metadata": {
        "id": "Z6EBvMIQTWzr"
      },
      "source": [
        "## Plotting Performance Metrics: Multi Layer Bidirectional RNN with GRU (Experiment C4B)"
      ]
    },
    {
      "cell_type": "markdown",
      "metadata": {
        "id": "rEf-IHXITWzr"
      },
      "source": [
        "We use Matplotlib to create 2 plots--displaying the training and validation loss (resp. accuracy) for each (training) epoch side by side."
      ]
    },
    {
      "cell_type": "code",
      "metadata": {
        "colab": {
          "base_uri": "https://localhost:8080/"
        },
        "id": "Keygz02fTWzr",
        "outputId": "50d9d0fc-ea32-4c4d-d83c-bec1f1438e93"
      },
      "source": [
        "history_dict4 = history4.history\n",
        "history_dict4.keys()"
      ],
      "execution_count": 71,
      "outputs": [
        {
          "output_type": "execute_result",
          "data": {
            "text/plain": [
              "dict_keys(['loss', 'accuracy', 'val_loss', 'val_accuracy'])"
            ]
          },
          "metadata": {},
          "execution_count": 71
        }
      ]
    },
    {
      "cell_type": "code",
      "metadata": {
        "colab": {
          "base_uri": "https://localhost:8080/",
          "height": 141
        },
        "id": "vdWBoYlOTWzr",
        "outputId": "b2a958d5-3b9d-4414-af54-ce1fedf38797"
      },
      "source": [
        "history4_df=pd.DataFrame(history_dict4)\n",
        "history4_df.tail().round(3)"
      ],
      "execution_count": 72,
      "outputs": [
        {
          "output_type": "execute_result",
          "data": {
            "text/html": [
              "<div>\n",
              "<style scoped>\n",
              "    .dataframe tbody tr th:only-of-type {\n",
              "        vertical-align: middle;\n",
              "    }\n",
              "\n",
              "    .dataframe tbody tr th {\n",
              "        vertical-align: top;\n",
              "    }\n",
              "\n",
              "    .dataframe thead th {\n",
              "        text-align: right;\n",
              "    }\n",
              "</style>\n",
              "<table border=\"1\" class=\"dataframe\">\n",
              "  <thead>\n",
              "    <tr style=\"text-align: right;\">\n",
              "      <th></th>\n",
              "      <th>loss</th>\n",
              "      <th>accuracy</th>\n",
              "      <th>val_loss</th>\n",
              "      <th>val_accuracy</th>\n",
              "    </tr>\n",
              "  </thead>\n",
              "  <tbody>\n",
              "    <tr>\n",
              "      <th>0</th>\n",
              "      <td>0.519</td>\n",
              "      <td>0.811</td>\n",
              "      <td>0.386</td>\n",
              "      <td>0.869</td>\n",
              "    </tr>\n",
              "    <tr>\n",
              "      <th>1</th>\n",
              "      <td>0.425</td>\n",
              "      <td>0.851</td>\n",
              "      <td>0.416</td>\n",
              "      <td>0.846</td>\n",
              "    </tr>\n",
              "    <tr>\n",
              "      <th>2</th>\n",
              "      <td>0.403</td>\n",
              "      <td>0.858</td>\n",
              "      <td>0.394</td>\n",
              "      <td>0.862</td>\n",
              "    </tr>\n",
              "  </tbody>\n",
              "</table>\n",
              "</div>"
            ],
            "text/plain": [
              "    loss  accuracy  val_loss  val_accuracy\n",
              "0  0.519     0.811     0.386         0.869\n",
              "1  0.425     0.851     0.416         0.846\n",
              "2  0.403     0.858     0.394         0.862"
            ]
          },
          "metadata": {},
          "execution_count": 72
        }
      ]
    },
    {
      "cell_type": "code",
      "metadata": {
        "id": "opqlQ8CDTWzs"
      },
      "source": [
        "losses = history4.history['loss']\n",
        "accs = history4.history['accuracy']\n",
        "val_losses = history4.history['val_loss']\n",
        "val_accs = history4.history['val_accuracy']\n",
        "epochs = len(losses)"
      ],
      "execution_count": 73,
      "outputs": []
    },
    {
      "cell_type": "code",
      "metadata": {
        "colab": {
          "base_uri": "https://localhost:8080/",
          "height": 264
        },
        "id": "ODSkjSeCTWzs",
        "outputId": "4f6b6323-fe51-45a5-86ec-f8d5c7d6a8cb"
      },
      "source": [
        "plt.figure(figsize=(16, 4))\n",
        "for i, metrics in enumerate(zip([losses, accs], [val_losses, val_accs], ['Loss', 'Accuracy'])):\n",
        "    plt.subplot(1, 2, i + 1)\n",
        "    plt.plot(range(epochs), metrics[0], label='Training {}'.format(metrics[2]))\n",
        "    plt.plot(range(epochs), metrics[1], label='Validation {}'.format(metrics[2]))\n",
        "    plt.legend()\n",
        "plt.show()"
      ],
      "execution_count": 74,
      "outputs": [
        {
          "output_type": "display_data",
          "data": {
            "image/png": "[encoded data removed]",
            "text/plain": [
              "<Figure size 1152x288 with 2 Axes>"
            ]
          },
          "metadata": {
            "needs_background": "light"
          }
        }
      ]
    },
    {
      "cell_type": "markdown",
      "metadata": {
        "id": "4cHhTSePTWzs"
      },
      "source": [
        "### Confusion Matrix"
      ]
    },
    {
      "cell_type": "code",
      "metadata": {
        "id": "SBf8F-nPTWzs"
      },
      "source": [
        "preds = model4.predict(test_dataset)"
      ],
      "execution_count": 75,
      "outputs": []
    },
    {
      "cell_type": "code",
      "metadata": {
        "colab": {
          "base_uri": "https://localhost:8080/"
        },
        "id": "-cCQDTI8TWzs",
        "outputId": "53dee107-4a96-44e4-d551-4f72705d8d75"
      },
      "source": [
        "preds.shape"
      ],
      "execution_count": 76,
      "outputs": [
        {
          "output_type": "execute_result",
          "data": {
            "text/plain": [
              "(7600, 4)"
            ]
          },
          "metadata": {},
          "execution_count": 76
        }
      ]
    },
    {
      "cell_type": "code",
      "metadata": {
        "id": "2Scf-nKATWzs"
      },
      "source": [
        "cm = sns.light_palette((260, 75, 60), input=\"husl\", as_cmap=True)"
      ],
      "execution_count": 77,
      "outputs": []
    },
    {
      "cell_type": "code",
      "metadata": {
        "colab": {
          "base_uri": "https://localhost:8080/",
          "height": 171
        },
        "id": "yxPgFuDfTWzs",
        "outputId": "6cd176a9-a749-4142-a64a-c72dce5d1460"
      },
      "source": [
        "df = pd.DataFrame(preds[0:15]\n",
        "                  ,columns = ['World','Sports','Business','Sci/Tech']).T\n",
        "df.style.format(\"{:.2%}\").background_gradient(cmap=cm)"
      ],
      "execution_count": 78,
      "outputs": [
        {
          "output_type": "execute_result",
          "data": {
            "text/html": [
              "<style  type=\"text/css\" >\n",
              "#T_4f46e1d8_3e5b_11ec_a4b1_0242ac1c0002row0_col0,#T_4f46e1d8_3e5b_11ec_a4b1_0242ac1c0002row0_col2,#T_4f46e1d8_3e5b_11ec_a4b1_0242ac1c0002row0_col5,#T_4f46e1d8_3e5b_11ec_a4b1_0242ac1c0002row0_col11,#T_4f46e1d8_3e5b_11ec_a4b1_0242ac1c0002row0_col12,#T_4f46e1d8_3e5b_11ec_a4b1_0242ac1c0002row1_col1,#T_4f46e1d8_3e5b_11ec_a4b1_0242ac1c0002row1_col2,#T_4f46e1d8_3e5b_11ec_a4b1_0242ac1c0002row1_col4,#T_4f46e1d8_3e5b_11ec_a4b1_0242ac1c0002row1_col5,#T_4f46e1d8_3e5b_11ec_a4b1_0242ac1c0002row1_col8,#T_4f46e1d8_3e5b_11ec_a4b1_0242ac1c0002row1_col9,#T_4f46e1d8_3e5b_11ec_a4b1_0242ac1c0002row1_col10,#T_4f46e1d8_3e5b_11ec_a4b1_0242ac1c0002row1_col11,#T_4f46e1d8_3e5b_11ec_a4b1_0242ac1c0002row1_col12,#T_4f46e1d8_3e5b_11ec_a4b1_0242ac1c0002row1_col13,#T_4f46e1d8_3e5b_11ec_a4b1_0242ac1c0002row1_col14,#T_4f46e1d8_3e5b_11ec_a4b1_0242ac1c0002row2_col0,#T_4f46e1d8_3e5b_11ec_a4b1_0242ac1c0002row2_col1,#T_4f46e1d8_3e5b_11ec_a4b1_0242ac1c0002row2_col3,#T_4f46e1d8_3e5b_11ec_a4b1_0242ac1c0002row2_col4,#T_4f46e1d8_3e5b_11ec_a4b1_0242ac1c0002row2_col6,#T_4f46e1d8_3e5b_11ec_a4b1_0242ac1c0002row2_col7,#T_4f46e1d8_3e5b_11ec_a4b1_0242ac1c0002row2_col10,#T_4f46e1d8_3e5b_11ec_a4b1_0242ac1c0002row2_col14,#T_4f46e1d8_3e5b_11ec_a4b1_0242ac1c0002row3_col0,#T_4f46e1d8_3e5b_11ec_a4b1_0242ac1c0002row3_col1,#T_4f46e1d8_3e5b_11ec_a4b1_0242ac1c0002row3_col3,#T_4f46e1d8_3e5b_11ec_a4b1_0242ac1c0002row3_col4,#T_4f46e1d8_3e5b_11ec_a4b1_0242ac1c0002row3_col6,#T_4f46e1d8_3e5b_11ec_a4b1_0242ac1c0002row3_col10,#T_4f46e1d8_3e5b_11ec_a4b1_0242ac1c0002row3_col14{\n",
              "            background-color:  #f0f1f2;\n",
              "            color:  #000000;\n",
              "        }#T_4f46e1d8_3e5b_11ec_a4b1_0242ac1c0002row0_col1,#T_4f46e1d8_3e5b_11ec_a4b1_0242ac1c0002row0_col4,#T_4f46e1d8_3e5b_11ec_a4b1_0242ac1c0002row0_col8,#T_4f46e1d8_3e5b_11ec_a4b1_0242ac1c0002row0_col10,#T_4f46e1d8_3e5b_11ec_a4b1_0242ac1c0002row0_col13,#T_4f46e1d8_3e5b_11ec_a4b1_0242ac1c0002row0_col14,#T_4f46e1d8_3e5b_11ec_a4b1_0242ac1c0002row1_col0,#T_4f46e1d8_3e5b_11ec_a4b1_0242ac1c0002row1_col3,#T_4f46e1d8_3e5b_11ec_a4b1_0242ac1c0002row1_col6,#T_4f46e1d8_3e5b_11ec_a4b1_0242ac1c0002row1_col7,#T_4f46e1d8_3e5b_11ec_a4b1_0242ac1c0002row2_col9,#T_4f46e1d8_3e5b_11ec_a4b1_0242ac1c0002row2_col12,#T_4f46e1d8_3e5b_11ec_a4b1_0242ac1c0002row3_col2,#T_4f46e1d8_3e5b_11ec_a4b1_0242ac1c0002row3_col5,#T_4f46e1d8_3e5b_11ec_a4b1_0242ac1c0002row3_col11{\n",
              "            background-color:  #778ce4;\n",
              "            color:  #000000;\n",
              "        }#T_4f46e1d8_3e5b_11ec_a4b1_0242ac1c0002row0_col3,#T_4f46e1d8_3e5b_11ec_a4b1_0242ac1c0002row0_col6,#T_4f46e1d8_3e5b_11ec_a4b1_0242ac1c0002row3_col12{\n",
              "            background-color:  #f0f0f2;\n",
              "            color:  #000000;\n",
              "        }#T_4f46e1d8_3e5b_11ec_a4b1_0242ac1c0002row0_col7{\n",
              "            background-color:  #e6e8f1;\n",
              "            color:  #000000;\n",
              "        }#T_4f46e1d8_3e5b_11ec_a4b1_0242ac1c0002row0_col9{\n",
              "            background-color:  #eeeff2;\n",
              "            color:  #000000;\n",
              "        }#T_4f46e1d8_3e5b_11ec_a4b1_0242ac1c0002row2_col2{\n",
              "            background-color:  #ebecf2;\n",
              "            color:  #000000;\n",
              "        }#T_4f46e1d8_3e5b_11ec_a4b1_0242ac1c0002row2_col5{\n",
              "            background-color:  #d9ddef;\n",
              "            color:  #000000;\n",
              "        }#T_4f46e1d8_3e5b_11ec_a4b1_0242ac1c0002row2_col8,#T_4f46e1d8_3e5b_11ec_a4b1_0242ac1c0002row3_col7{\n",
              "            background-color:  #edeef2;\n",
              "            color:  #000000;\n",
              "        }#T_4f46e1d8_3e5b_11ec_a4b1_0242ac1c0002row2_col11{\n",
              "            background-color:  #efeff2;\n",
              "            color:  #000000;\n",
              "        }#T_4f46e1d8_3e5b_11ec_a4b1_0242ac1c0002row2_col13{\n",
              "            background-color:  #ebedf2;\n",
              "            color:  #000000;\n",
              "        }#T_4f46e1d8_3e5b_11ec_a4b1_0242ac1c0002row3_col8{\n",
              "            background-color:  #e4e7f1;\n",
              "            color:  #000000;\n",
              "        }#T_4f46e1d8_3e5b_11ec_a4b1_0242ac1c0002row3_col9{\n",
              "            background-color:  #e9ebf1;\n",
              "            color:  #000000;\n",
              "        }#T_4f46e1d8_3e5b_11ec_a4b1_0242ac1c0002row3_col13{\n",
              "            background-color:  #e1e3f0;\n",
              "            color:  #000000;\n",
              "        }</style><table id=\"T_4f46e1d8_3e5b_11ec_a4b1_0242ac1c0002\" class=\"dataframe\"><thead>    <tr>        <th class=\"blank level0\" ></th>        <th class=\"col_heading level0 col0\" >0</th>        <th class=\"col_heading level0 col1\" >1</th>        <th class=\"col_heading level0 col2\" >2</th>        <th class=\"col_heading level0 col3\" >3</th>        <th class=\"col_heading level0 col4\" >4</th>        <th class=\"col_heading level0 col5\" >5</th>        <th class=\"col_heading level0 col6\" >6</th>        <th class=\"col_heading level0 col7\" >7</th>        <th class=\"col_heading level0 col8\" >8</th>        <th class=\"col_heading level0 col9\" >9</th>        <th class=\"col_heading level0 col10\" >10</th>        <th class=\"col_heading level0 col11\" >11</th>        <th class=\"col_heading level0 col12\" >12</th>        <th class=\"col_heading level0 col13\" >13</th>        <th class=\"col_heading level0 col14\" >14</th>    </tr></thead><tbody>\n",
              "                <tr>\n",
              "                        <th id=\"T_4f46e1d8_3e5b_11ec_a4b1_0242ac1c0002level0_row0\" class=\"row_heading level0 row0\" >World</th>\n",
              "                        <td id=\"T_4f46e1d8_3e5b_11ec_a4b1_0242ac1c0002row0_col0\" class=\"data row0 col0\" >0.08%</td>\n",
              "                        <td id=\"T_4f46e1d8_3e5b_11ec_a4b1_0242ac1c0002row0_col1\" class=\"data row0 col1\" >99.79%</td>\n",
              "                        <td id=\"T_4f46e1d8_3e5b_11ec_a4b1_0242ac1c0002row0_col2\" class=\"data row0 col2\" >0.05%</td>\n",
              "                        <td id=\"T_4f46e1d8_3e5b_11ec_a4b1_0242ac1c0002row0_col3\" class=\"data row0 col3\" >0.66%</td>\n",
              "                        <td id=\"T_4f46e1d8_3e5b_11ec_a4b1_0242ac1c0002row0_col4\" class=\"data row0 col4\" >99.80%</td>\n",
              "                        <td id=\"T_4f46e1d8_3e5b_11ec_a4b1_0242ac1c0002row0_col5\" class=\"data row0 col5\" >0.33%</td>\n",
              "                        <td id=\"T_4f46e1d8_3e5b_11ec_a4b1_0242ac1c0002row0_col6\" class=\"data row0 col6\" >0.55%</td>\n",
              "                        <td id=\"T_4f46e1d8_3e5b_11ec_a4b1_0242ac1c0002row0_col7\" class=\"data row0 col7\" >8.05%</td>\n",
              "                        <td id=\"T_4f46e1d8_3e5b_11ec_a4b1_0242ac1c0002row0_col8\" class=\"data row0 col8\" >86.39%</td>\n",
              "                        <td id=\"T_4f46e1d8_3e5b_11ec_a4b1_0242ac1c0002row0_col9\" class=\"data row0 col9\" >2.03%</td>\n",
              "                        <td id=\"T_4f46e1d8_3e5b_11ec_a4b1_0242ac1c0002row0_col10\" class=\"data row0 col10\" >99.84%</td>\n",
              "                        <td id=\"T_4f46e1d8_3e5b_11ec_a4b1_0242ac1c0002row0_col11\" class=\"data row0 col11\" >0.12%</td>\n",
              "                        <td id=\"T_4f46e1d8_3e5b_11ec_a4b1_0242ac1c0002row0_col12\" class=\"data row0 col12\" >0.36%</td>\n",
              "                        <td id=\"T_4f46e1d8_3e5b_11ec_a4b1_0242ac1c0002row0_col13\" class=\"data row0 col13\" >74.82%</td>\n",
              "                        <td id=\"T_4f46e1d8_3e5b_11ec_a4b1_0242ac1c0002row0_col14\" class=\"data row0 col14\" >99.90%</td>\n",
              "            </tr>\n",
              "            <tr>\n",
              "                        <th id=\"T_4f46e1d8_3e5b_11ec_a4b1_0242ac1c0002level0_row1\" class=\"row_heading level0 row1\" >Sports</th>\n",
              "                        <td id=\"T_4f46e1d8_3e5b_11ec_a4b1_0242ac1c0002row1_col0\" class=\"data row1 col0\" >99.88%</td>\n",
              "                        <td id=\"T_4f46e1d8_3e5b_11ec_a4b1_0242ac1c0002row1_col1\" class=\"data row1 col1\" >0.00%</td>\n",
              "                        <td id=\"T_4f46e1d8_3e5b_11ec_a4b1_0242ac1c0002row1_col2\" class=\"data row1 col2\" >0.00%</td>\n",
              "                        <td id=\"T_4f46e1d8_3e5b_11ec_a4b1_0242ac1c0002row1_col3\" class=\"data row1 col3\" >99.26%</td>\n",
              "                        <td id=\"T_4f46e1d8_3e5b_11ec_a4b1_0242ac1c0002row1_col4\" class=\"data row1 col4\" >0.01%</td>\n",
              "                        <td id=\"T_4f46e1d8_3e5b_11ec_a4b1_0242ac1c0002row1_col5\" class=\"data row1 col5\" >0.07%</td>\n",
              "                        <td id=\"T_4f46e1d8_3e5b_11ec_a4b1_0242ac1c0002row1_col6\" class=\"data row1 col6\" >99.32%</td>\n",
              "                        <td id=\"T_4f46e1d8_3e5b_11ec_a4b1_0242ac1c0002row1_col7\" class=\"data row1 col7\" >88.11%</td>\n",
              "                        <td id=\"T_4f46e1d8_3e5b_11ec_a4b1_0242ac1c0002row1_col8\" class=\"data row1 col8\" >0.98%</td>\n",
              "                        <td id=\"T_4f46e1d8_3e5b_11ec_a4b1_0242ac1c0002row1_col9\" class=\"data row1 col9\" >0.03%</td>\n",
              "                        <td id=\"T_4f46e1d8_3e5b_11ec_a4b1_0242ac1c0002row1_col10\" class=\"data row1 col10\" >0.01%</td>\n",
              "                        <td id=\"T_4f46e1d8_3e5b_11ec_a4b1_0242ac1c0002row1_col11\" class=\"data row1 col11\" >0.05%</td>\n",
              "                        <td id=\"T_4f46e1d8_3e5b_11ec_a4b1_0242ac1c0002row1_col12\" class=\"data row1 col12\" >0.00%</td>\n",
              "                        <td id=\"T_4f46e1d8_3e5b_11ec_a4b1_0242ac1c0002row1_col13\" class=\"data row1 col13\" >4.40%</td>\n",
              "                        <td id=\"T_4f46e1d8_3e5b_11ec_a4b1_0242ac1c0002row1_col14\" class=\"data row1 col14\" >0.00%</td>\n",
              "            </tr>\n",
              "            <tr>\n",
              "                        <th id=\"T_4f46e1d8_3e5b_11ec_a4b1_0242ac1c0002level0_row2\" class=\"row_heading level0 row2\" >Business</th>\n",
              "                        <td id=\"T_4f46e1d8_3e5b_11ec_a4b1_0242ac1c0002row2_col0\" class=\"data row2 col0\" >0.03%</td>\n",
              "                        <td id=\"T_4f46e1d8_3e5b_11ec_a4b1_0242ac1c0002row2_col1\" class=\"data row2 col1\" >0.18%</td>\n",
              "                        <td id=\"T_4f46e1d8_3e5b_11ec_a4b1_0242ac1c0002row2_col2\" class=\"data row2 col2\" >4.31%</td>\n",
              "                        <td id=\"T_4f46e1d8_3e5b_11ec_a4b1_0242ac1c0002row2_col3\" class=\"data row2 col3\" >0.04%</td>\n",
              "                        <td id=\"T_4f46e1d8_3e5b_11ec_a4b1_0242ac1c0002row2_col4\" class=\"data row2 col4\" >0.14%</td>\n",
              "                        <td id=\"T_4f46e1d8_3e5b_11ec_a4b1_0242ac1c0002row2_col5\" class=\"data row2 col5\" >16.13%</td>\n",
              "                        <td id=\"T_4f46e1d8_3e5b_11ec_a4b1_0242ac1c0002row2_col6\" class=\"data row2 col6\" >0.05%</td>\n",
              "                        <td id=\"T_4f46e1d8_3e5b_11ec_a4b1_0242ac1c0002row2_col7\" class=\"data row2 col7\" >0.59%</td>\n",
              "                        <td id=\"T_4f46e1d8_3e5b_11ec_a4b1_0242ac1c0002row2_col8\" class=\"data row2 col8\" >3.21%</td>\n",
              "                        <td id=\"T_4f46e1d8_3e5b_11ec_a4b1_0242ac1c0002row2_col9\" class=\"data row2 col9\" >92.17%</td>\n",
              "                        <td id=\"T_4f46e1d8_3e5b_11ec_a4b1_0242ac1c0002row2_col10\" class=\"data row2 col10\" >0.14%</td>\n",
              "                        <td id=\"T_4f46e1d8_3e5b_11ec_a4b1_0242ac1c0002row2_col11\" class=\"data row2 col11\" >1.45%</td>\n",
              "                        <td id=\"T_4f46e1d8_3e5b_11ec_a4b1_0242ac1c0002row2_col12\" class=\"data row2 col12\" >99.11%</td>\n",
              "                        <td id=\"T_4f46e1d8_3e5b_11ec_a4b1_0242ac1c0002row2_col13\" class=\"data row2 col13\" >7.24%</td>\n",
              "                        <td id=\"T_4f46e1d8_3e5b_11ec_a4b1_0242ac1c0002row2_col14\" class=\"data row2 col14\" >0.09%</td>\n",
              "            </tr>\n",
              "            <tr>\n",
              "                        <th id=\"T_4f46e1d8_3e5b_11ec_a4b1_0242ac1c0002level0_row3\" class=\"row_heading level0 row3\" >Sci/Tech</th>\n",
              "                        <td id=\"T_4f46e1d8_3e5b_11ec_a4b1_0242ac1c0002row3_col0\" class=\"data row3 col0\" >0.01%</td>\n",
              "                        <td id=\"T_4f46e1d8_3e5b_11ec_a4b1_0242ac1c0002row3_col1\" class=\"data row3 col1\" >0.03%</td>\n",
              "                        <td id=\"T_4f46e1d8_3e5b_11ec_a4b1_0242ac1c0002row3_col2\" class=\"data row3 col2\" >95.63%</td>\n",
              "                        <td id=\"T_4f46e1d8_3e5b_11ec_a4b1_0242ac1c0002row3_col3\" class=\"data row3 col3\" >0.04%</td>\n",
              "                        <td id=\"T_4f46e1d8_3e5b_11ec_a4b1_0242ac1c0002row3_col4\" class=\"data row3 col4\" >0.05%</td>\n",
              "                        <td id=\"T_4f46e1d8_3e5b_11ec_a4b1_0242ac1c0002row3_col5\" class=\"data row3 col5\" >83.47%</td>\n",
              "                        <td id=\"T_4f46e1d8_3e5b_11ec_a4b1_0242ac1c0002row3_col6\" class=\"data row3 col6\" >0.07%</td>\n",
              "                        <td id=\"T_4f46e1d8_3e5b_11ec_a4b1_0242ac1c0002row3_col7\" class=\"data row3 col7\" >3.25%</td>\n",
              "                        <td id=\"T_4f46e1d8_3e5b_11ec_a4b1_0242ac1c0002row3_col8\" class=\"data row3 col8\" >9.42%</td>\n",
              "                        <td id=\"T_4f46e1d8_3e5b_11ec_a4b1_0242ac1c0002row3_col9\" class=\"data row3 col9\" >5.76%</td>\n",
              "                        <td id=\"T_4f46e1d8_3e5b_11ec_a4b1_0242ac1c0002row3_col10\" class=\"data row3 col10\" >0.01%</td>\n",
              "                        <td id=\"T_4f46e1d8_3e5b_11ec_a4b1_0242ac1c0002row3_col11\" class=\"data row3 col11\" >98.38%</td>\n",
              "                        <td id=\"T_4f46e1d8_3e5b_11ec_a4b1_0242ac1c0002row3_col12\" class=\"data row3 col12\" >0.52%</td>\n",
              "                        <td id=\"T_4f46e1d8_3e5b_11ec_a4b1_0242ac1c0002row3_col13\" class=\"data row3 col13\" >13.53%</td>\n",
              "                        <td id=\"T_4f46e1d8_3e5b_11ec_a4b1_0242ac1c0002row3_col14\" class=\"data row3 col14\" >0.01%</td>\n",
              "            </tr>\n",
              "    </tbody></table>"
            ],
            "text/plain": [
              "<pandas.io.formats.style.Styler at 0x7f284965fcd0>"
            ]
          },
          "metadata": {},
          "execution_count": 78
        }
      ]
    },
    {
      "cell_type": "markdown",
      "metadata": {
        "id": "EuEEtGkrTWzs"
      },
      "source": [
        "#### Model Architecture Summary: Multi Layer Bidirectional RNN with GRU (Experiment C4B)"
      ]
    },
    {
      "cell_type": "code",
      "metadata": {
        "colab": {
          "base_uri": "https://localhost:8080/"
        },
        "id": "f-2fJ9E0TWzs",
        "outputId": "ed84e421-67f6-4e7d-c84a-9235e535e6e9"
      },
      "source": [
        "model4.summary()"
      ],
      "execution_count": 79,
      "outputs": [
        {
          "output_type": "stream",
          "name": "stdout",
          "text": [
            "Model: \"sequential\"\n",
            "_________________________________________________________________\n",
            "Layer (type)                 Output Shape              Param #   \n",
            "=================================================================\n",
            "text_vectorization (TextVect (None, None)              0         \n",
            "_________________________________________________________________\n",
            "embedding (Embedding)        (None, None, 64)          64000     \n",
            "_________________________________________________________________\n",
            "bidirectional (Bidirectional (None, None, 128)         49920     \n",
            "_________________________________________________________________\n",
            "bidirectional_1 (Bidirection (None, 64)                31104     \n",
            "_________________________________________________________________\n",
            "dense (Dense)                (None, 64)                4160      \n",
            "_________________________________________________________________\n",
            "dropout (Dropout)            (None, 64)                0         \n",
            "_________________________________________________________________\n",
            "dense_1 (Dense)              (None, 4)                 260       \n",
            "=================================================================\n",
            "Total params: 149,444\n",
            "Trainable params: 149,444\n",
            "Non-trainable params: 0\n",
            "_________________________________________________________________\n"
          ]
        }
      ]
    },
    {
      "cell_type": "code",
      "metadata": {
        "scrolled": false,
        "colab": {
          "base_uri": "https://localhost:8080/",
          "height": 864
        },
        "id": "bvHX9rboTWzs",
        "outputId": "b0b7a924-0385-4111-989c-f0d414118bf1"
      },
      "source": [
        "keras.utils.plot_model(model4, \"2Layer_BiDirectionalGRU.png\", show_shapes=True)"
      ],
      "execution_count": 80,
      "outputs": [
        {
          "output_type": "execute_result",
          "data": {
            "image/png": "[encoded data removed]",
            "text/plain": [
              "<IPython.core.display.Image object>"
            ]
          },
          "metadata": {},
          "execution_count": 80
        }
      ]
    },
    {
      "cell_type": "markdown",
      "metadata": {
        "id": "o8PCUbEvTWzt"
      },
      "source": [
        "Check out other existing recurrent layers such as [GRU layers](https://www.tensorflow.org/api_docs/python/tf/keras/layers/GRU).\n",
        "\n",
        "If you're interestied in building custom RNNs, see the [Keras RNN Guide](../../guide/keras/rnn.ipynb).\n"
      ]
    }
  ]
}